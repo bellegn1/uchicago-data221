{
 "cells": [
  {
   "cell_type": "code",
   "execution_count": 27,
   "metadata": {},
   "outputs": [],
   "source": [
    "import numpy as np\n",
    "import pandas as pd\n",
    "import matplotlib.pyplot as plt\n",
    "import nltk\n",
    "from gensim.models import KeyedVectors\n"
   ]
  },
  {
   "cell_type": "code",
   "execution_count": 4,
   "metadata": {},
   "outputs": [
    {
     "name": "stdout",
     "output_type": "stream",
     "text": [
      "['fasttext-wiki-news-subwords-300', 'conceptnet-numberbatch-17-06-300', 'word2vec-ruscorpora-300', 'word2vec-google-news-300', 'glove-wiki-gigaword-50', 'glove-wiki-gigaword-100', 'glove-wiki-gigaword-200', 'glove-wiki-gigaword-300', 'glove-twitter-25', 'glove-twitter-50', 'glove-twitter-100', 'glove-twitter-200', '__testing_word2vec-matrix-synopsis']\n"
     ]
    },
    {
     "data": {
      "text/plain": [
       "['fasttext-wiki-news-subwords-300',\n",
       " 'conceptnet-numberbatch-17-06-300',\n",
       " 'word2vec-ruscorpora-300',\n",
       " 'word2vec-google-news-300',\n",
       " 'glove-wiki-gigaword-50',\n",
       " 'glove-wiki-gigaword-100',\n",
       " 'glove-wiki-gigaword-200',\n",
       " 'glove-wiki-gigaword-300',\n",
       " 'glove-twitter-25',\n",
       " 'glove-twitter-50',\n",
       " 'glove-twitter-100',\n",
       " 'glove-twitter-200',\n",
       " '__testing_word2vec-matrix-synopsis']"
      ]
     },
     "execution_count": 4,
     "metadata": {},
     "output_type": "execute_result"
    }
   ],
   "source": [
    "# https://radimrehurek.com/gensim/auto_examples/tutorials/run_word2vec.html\n",
    "import gensim.downloader\n",
    "# Show all available models in gensim-data\n",
    "print(list(gensim.downloader.info()['models'].keys()))\n"
   ]
  },
  {
   "cell_type": "code",
   "execution_count": 6,
   "metadata": {},
   "outputs": [
    {
     "name": "stdout",
     "output_type": "stream",
     "text": [
      "[==================================================] 100.0% 1662.8/1662.8MB downloaded\n"
     ]
    }
   ],
   "source": [
    "wv = gensim.downloader.load('word2vec-google-news-300')"
   ]
  },
  {
   "cell_type": "code",
   "execution_count": 8,
   "metadata": {},
   "outputs": [
    {
     "name": "stdout",
     "output_type": "stream",
     "text": [
      "[('mushrooms', 0.7716438174247742), ('chanterelle', 0.6103289127349854), ('wild_mushrooms', 0.6075051426887512), ('oyster_mushrooms', 0.5885806083679199), ('morels', 0.584884762763977)]\n"
     ]
    }
   ],
   "source": [
    "# Okay, this demo has wv.most_similar.. which takes a \"positive\" and a \"negative\" list of words\n",
    "# https://tedboy.github.io/nlps/generated/generated/gensim.models.Word2Vec.most_similar.html\n",
    "print(wv.most_similar(positive=['mushroom'], topn=5))"
   ]
  },
  {
   "cell_type": "code",
   "execution_count": 9,
   "metadata": {},
   "outputs": [
    {
     "name": "stdout",
     "output_type": "stream",
     "text": [
      "[('frustration', 0.6751393675804138), ('disappointments', 0.6434152126312256), ('dismay', 0.6363516449928284), ('disapointment', 0.6301339864730835), ('dissapointment', 0.6219700574874878)]\n"
     ]
    }
   ],
   "source": [
    "print(wv.most_similar(positive=['disappointment'], topn=5))"
   ]
  },
  {
   "cell_type": "code",
   "execution_count": 10,
   "metadata": {},
   "outputs": [
    {
     "name": "stdout",
     "output_type": "stream",
     "text": [
      "car\n"
     ]
    }
   ],
   "source": [
    "# Okay, Cookie, which one of these things is not like the others?\n",
    "print(wv.doesnt_match(['fire', 'water', 'land', 'sea', 'air', 'car']))"
   ]
  },
  {
   "cell_type": "code",
   "execution_count": 11,
   "metadata": {},
   "outputs": [],
   "source": [
    "# https://radimrehurek.com/gensim/models/word2vec.html\n",
    "from gensim.models import KeyedVectors"
   ]
  },
  {
   "cell_type": "code",
   "execution_count": 15,
   "metadata": {},
   "outputs": [
    {
     "data": {
      "text/plain": [
       "array([ 1.07421875e-01, -2.01171875e-01,  1.23046875e-01,  2.11914062e-01,\n",
       "       -9.13085938e-02,  2.16796875e-01, -1.31835938e-01,  8.30078125e-02,\n",
       "        2.02148438e-01,  4.78515625e-02,  3.66210938e-02, -2.45361328e-02,\n",
       "        2.39257812e-02, -1.60156250e-01, -2.61230469e-02,  9.71679688e-02,\n",
       "       -6.34765625e-02,  1.84570312e-01,  1.70898438e-01, -1.63085938e-01,\n",
       "       -1.09375000e-01,  1.49414062e-01, -4.65393066e-04,  9.61914062e-02,\n",
       "        1.68945312e-01,  2.60925293e-03,  8.93554688e-02,  6.49414062e-02,\n",
       "        3.56445312e-02, -6.93359375e-02, -1.46484375e-01, -1.21093750e-01,\n",
       "       -2.27539062e-01,  2.45361328e-02, -1.24511719e-01, -3.18359375e-01,\n",
       "       -2.20703125e-01,  1.30859375e-01,  3.66210938e-02, -3.63769531e-02,\n",
       "       -1.13281250e-01,  1.95312500e-01,  9.76562500e-02,  1.26953125e-01,\n",
       "        6.59179688e-02,  6.93359375e-02,  1.02539062e-02,  1.75781250e-01,\n",
       "       -1.68945312e-01,  1.21307373e-03, -2.98828125e-01, -1.15234375e-01,\n",
       "        5.66406250e-02, -1.77734375e-01, -2.08984375e-01,  1.76757812e-01,\n",
       "        2.38037109e-02, -2.57812500e-01, -4.46777344e-02,  1.88476562e-01,\n",
       "        5.51757812e-02,  5.02929688e-02, -1.06933594e-01,  1.89453125e-01,\n",
       "       -1.16210938e-01,  8.49609375e-02, -1.71875000e-01,  2.45117188e-01,\n",
       "       -1.73828125e-01, -8.30078125e-03,  4.56542969e-02, -1.61132812e-02,\n",
       "        1.86523438e-01, -6.05468750e-02, -4.17480469e-02,  1.82617188e-01,\n",
       "        2.20703125e-01, -1.22558594e-01, -2.55126953e-02, -3.08593750e-01,\n",
       "        9.13085938e-02,  1.60156250e-01,  1.70898438e-01,  1.19628906e-01,\n",
       "        7.08007812e-02, -2.64892578e-02, -3.08837891e-02,  4.06250000e-01,\n",
       "       -1.01562500e-01,  5.71289062e-02, -7.26318359e-03, -9.17968750e-02,\n",
       "       -1.50390625e-01, -2.55859375e-01,  2.16796875e-01, -3.63769531e-02,\n",
       "        2.24609375e-01,  8.00781250e-02,  1.56250000e-01,  5.27343750e-02,\n",
       "        1.50390625e-01, -1.14746094e-01, -8.64257812e-02,  1.19140625e-01,\n",
       "       -7.17773438e-02,  2.73437500e-01, -1.64062500e-01,  7.29370117e-03,\n",
       "        4.21875000e-01, -1.12792969e-01, -1.35742188e-01, -1.31835938e-01,\n",
       "       -1.37695312e-01, -7.66601562e-02,  6.25000000e-02,  4.98046875e-02,\n",
       "       -1.91406250e-01, -6.03027344e-02,  2.27539062e-01,  5.88378906e-02,\n",
       "       -3.24218750e-01,  5.41992188e-02, -1.35742188e-01,  8.17871094e-03,\n",
       "       -5.24902344e-02, -1.74713135e-03, -9.81445312e-02, -2.86865234e-02,\n",
       "        3.61328125e-02,  2.15820312e-01,  5.98144531e-02, -3.08593750e-01,\n",
       "       -2.27539062e-01,  2.61718750e-01,  9.86328125e-02, -5.07812500e-02,\n",
       "        1.78222656e-02,  1.31835938e-01, -5.35156250e-01, -1.81640625e-01,\n",
       "        1.38671875e-01, -3.10546875e-01, -9.71679688e-02,  1.31835938e-01,\n",
       "       -1.16210938e-01,  7.03125000e-02,  2.85156250e-01,  3.51562500e-02,\n",
       "       -1.01562500e-01, -3.75976562e-02,  1.41601562e-01,  1.42578125e-01,\n",
       "       -5.68847656e-02,  2.65625000e-01, -2.09960938e-01,  9.64355469e-03,\n",
       "       -6.68945312e-02, -4.83398438e-02, -6.10351562e-02,  2.45117188e-01,\n",
       "       -9.66796875e-02,  1.78222656e-02, -1.27929688e-01, -4.78515625e-02,\n",
       "       -7.26318359e-03,  1.79687500e-01,  2.78320312e-02, -2.10937500e-01,\n",
       "       -1.43554688e-01, -1.27929688e-01,  1.73339844e-02, -3.60107422e-03,\n",
       "       -2.04101562e-01,  3.63159180e-03, -1.19628906e-01, -6.15234375e-02,\n",
       "        5.93261719e-02, -3.23486328e-03, -1.70898438e-01, -3.14941406e-02,\n",
       "       -8.88671875e-02, -2.89062500e-01,  3.44238281e-02, -1.87500000e-01,\n",
       "        2.94921875e-01,  1.58203125e-01, -1.19628906e-01,  7.61718750e-02,\n",
       "        6.39648438e-02, -4.68750000e-02, -6.83593750e-02,  1.21459961e-02,\n",
       "       -1.44531250e-01,  4.54101562e-02,  3.68652344e-02,  3.88671875e-01,\n",
       "        1.45507812e-01, -2.55859375e-01, -4.46777344e-02, -1.33789062e-01,\n",
       "       -1.38671875e-01,  6.59179688e-02,  1.37695312e-01,  1.14746094e-01,\n",
       "        2.03125000e-01, -4.78515625e-02,  1.80664062e-02, -8.54492188e-02,\n",
       "       -2.48046875e-01, -3.39843750e-01, -2.83203125e-02,  1.05468750e-01,\n",
       "       -2.14843750e-01, -8.74023438e-02,  7.12890625e-02,  1.87500000e-01,\n",
       "       -1.12304688e-01,  2.73437500e-01, -3.26171875e-01, -1.77734375e-01,\n",
       "       -4.24804688e-02, -2.69531250e-01,  6.64062500e-02, -6.88476562e-02,\n",
       "       -1.99218750e-01, -7.03125000e-02, -2.43164062e-01, -3.66210938e-02,\n",
       "       -7.37304688e-02, -1.77734375e-01,  9.17968750e-02, -1.25000000e-01,\n",
       "       -1.65039062e-01, -3.57421875e-01, -2.85156250e-01, -1.66992188e-01,\n",
       "        1.97265625e-01, -1.53320312e-01,  2.31933594e-02,  2.06054688e-01,\n",
       "        1.80664062e-01, -2.74658203e-02, -1.92382812e-01, -9.61914062e-02,\n",
       "       -1.06811523e-02, -4.73632812e-02,  6.54296875e-02, -1.25732422e-02,\n",
       "        1.78222656e-02, -8.00781250e-02, -2.59765625e-01,  9.37500000e-02,\n",
       "       -7.81250000e-02,  4.68750000e-02, -2.22167969e-02,  1.86767578e-02,\n",
       "        3.11279297e-02,  1.04980469e-02, -1.69921875e-01,  2.58789062e-02,\n",
       "       -3.41796875e-02, -1.44042969e-02, -5.46875000e-02, -8.78906250e-02,\n",
       "        1.96838379e-03,  2.23632812e-01, -1.36718750e-01,  1.75781250e-01,\n",
       "       -1.63085938e-01,  1.87500000e-01,  3.44238281e-02, -5.63964844e-02,\n",
       "       -2.27689743e-05,  4.27246094e-02,  5.81054688e-02, -1.07910156e-01,\n",
       "       -3.88183594e-02, -2.69531250e-01,  3.34472656e-02,  9.81445312e-02,\n",
       "        5.63964844e-02,  2.23632812e-01, -5.49316406e-02,  1.46484375e-01,\n",
       "        5.93261719e-02, -2.19726562e-01,  6.39648438e-02,  1.66015625e-02,\n",
       "        4.56542969e-02,  3.26171875e-01, -3.80859375e-01,  1.70898438e-01,\n",
       "        5.66406250e-02, -1.04492188e-01,  1.38671875e-01, -1.57226562e-01,\n",
       "        3.23486328e-03, -4.80957031e-02, -2.48046875e-01, -6.20117188e-02],\n",
       "      dtype=float32)"
      ]
     },
     "execution_count": 15,
     "metadata": {},
     "output_type": "execute_result"
    }
   ],
   "source": [
    "vector = wv['computer']  # Get word2vec number for a word \n",
    "vector"
   ]
  },
  {
   "cell_type": "code",
   "execution_count": 18,
   "metadata": {},
   "outputs": [
    {
     "data": {
      "text/plain": [
       "(array([ 1.,  0.,  0.,  0.,  1.,  1.,  4.,  6.,  6.,  7., 10., 17., 18.,\n",
       "        22., 21., 29., 19., 29., 31., 14., 10., 12., 18., 12.,  3.,  4.,\n",
       "         1.,  1.,  1.,  2.]),\n",
       " array([-0.53515625, -0.5032552 , -0.47135416, -0.43945312, -0.4075521 ,\n",
       "        -0.37565103, -0.34375   , -0.31184897, -0.2799479 , -0.24804688,\n",
       "        -0.21614583, -0.1842448 , -0.15234375, -0.12044271, -0.08854166,\n",
       "        -0.05664062, -0.02473958,  0.00716146,  0.0390625 ,  0.07096354,\n",
       "         0.10286459,  0.13476562,  0.16666667,  0.1985677 ,  0.23046875,\n",
       "         0.26236978,  0.29427084,  0.32617188,  0.3580729 ,  0.38997397,\n",
       "         0.421875  ], dtype=float32),\n",
       " <BarContainer object of 30 artists>)"
      ]
     },
     "execution_count": 18,
     "metadata": {},
     "output_type": "execute_result"
    },
    {
     "data": {
      "image/png": "[encoded data removed]",
      "text/plain": [
       "<Figure size 432x288 with 1 Axes>"
      ]
     },
     "metadata": {
      "needs_background": "light"
     },
     "output_type": "display_data"
    }
   ],
   "source": [
    "plt.hist(vector, bins=30)"
   ]
  },
  {
   "cell_type": "code",
   "execution_count": 20,
   "metadata": {},
   "outputs": [],
   "source": [
    "spam =pd.read_csv(\"../data/spam.csv\", encoding=\"latin-1\")\n",
    "spamclean = []\n",
    "for line in open(\"../data/spam.csv\", encoding=\"latin-1\"):\n",
    "        a = line.find(\",\")\n",
    "        spamclean.append((line[0:a], line[a+1:]))\n",
    "spam = pd.DataFrame(spamclean)\n",
    "spam = spam.drop(labels=0, axis=0)  #only do this once\n",
    "spam =spam.rename({0: \"label\", 1:\"text\"}, axis=1)"
   ]
  },
  {
   "cell_type": "code",
   "execution_count": 103,
   "metadata": {},
   "outputs": [],
   "source": [
    "Y2 = spam.loc[:,\"label\"] == \"spam\" \n",
    "Xtext = spam.loc[:,\"text\"]"
   ]
  },
  {
   "cell_type": "code",
   "execution_count": 104,
   "metadata": {},
   "outputs": [],
   "source": [
    "Y = np.array(Y2)"
   ]
  },
  {
   "cell_type": "code",
   "execution_count": 24,
   "metadata": {},
   "outputs": [
    {
     "data": {
      "text/plain": [
       "'\"Go until jurong point, crazy.. Available only in bugis n great world la e buffet... Cine there got amore wat...\",,,\\n'"
      ]
     },
     "execution_count": 24,
     "metadata": {},
     "output_type": "execute_result"
    }
   ],
   "source": [
    "Xtext.iloc[0]"
   ]
  },
  {
   "cell_type": "code",
   "execution_count": 29,
   "metadata": {},
   "outputs": [],
   "source": [
    "def string_to_vec(s):\n",
    "    tok1 = nltk.word_tokenize(s)\n",
    "    print(dir(tok1))\n"
   ]
  },
  {
   "cell_type": "code",
   "execution_count": 30,
   "metadata": {},
   "outputs": [
    {
     "name": "stdout",
     "output_type": "stream",
     "text": [
      "['__add__', '__class__', '__contains__', '__delattr__', '__delitem__', '__dir__', '__doc__', '__eq__', '__format__', '__ge__', '__getattribute__', '__getitem__', '__gt__', '__hash__', '__iadd__', '__imul__', '__init__', '__init_subclass__', '__iter__', '__le__', '__len__', '__lt__', '__mul__', '__ne__', '__new__', '__reduce__', '__reduce_ex__', '__repr__', '__reversed__', '__rmul__', '__setattr__', '__setitem__', '__sizeof__', '__str__', '__subclasshook__', 'append', 'clear', 'copy', 'count', 'extend', 'index', 'insert', 'pop', 'remove', 'reverse', 'sort']\n"
     ]
    }
   ],
   "source": [
    "string_to_vec(Xtext.iloc[0])"
   ]
  },
  {
   "cell_type": "code",
   "execution_count": 31,
   "metadata": {},
   "outputs": [],
   "source": [
    "tokens =nltk.word_tokenize(Xtext.iloc[0])"
   ]
  },
  {
   "cell_type": "code",
   "execution_count": 33,
   "metadata": {},
   "outputs": [
    {
     "name": "stdout",
     "output_type": "stream",
     "text": [
      "``\n",
      "Go\n",
      "until\n",
      "jurong\n",
      "point\n",
      ",\n",
      "crazy\n",
      "..\n",
      "Available\n",
      "only\n",
      "in\n",
      "bugis\n",
      "n\n",
      "great\n",
      "world\n",
      "la\n",
      "e\n",
      "buffet\n",
      "...\n",
      "Cine\n",
      "there\n",
      "got\n",
      "amore\n",
      "wat\n",
      "...\n",
      "''\n",
      ",\n",
      ",\n",
      ",\n"
     ]
    }
   ],
   "source": [
    "for t in tokens:\n",
    "    print(t)"
   ]
  },
  {
   "cell_type": "code",
   "execution_count": 34,
   "metadata": {},
   "outputs": [
    {
     "name": "stdout",
     "output_type": "stream",
     "text": [
      "['__add__', '__class__', '__contains__', '__delattr__', '__dir__', '__doc__', '__eq__', '__format__', '__ge__', '__getattribute__', '__getitem__', '__getnewargs__', '__gt__', '__hash__', '__init__', '__init_subclass__', '__iter__', '__le__', '__len__', '__lt__', '__mod__', '__mul__', '__ne__', '__new__', '__reduce__', '__reduce_ex__', '__repr__', '__rmod__', '__rmul__', '__setattr__', '__sizeof__', '__str__', '__subclasshook__', 'capitalize', 'casefold', 'center', 'count', 'encode', 'endswith', 'expandtabs', 'find', 'format', 'format_map', 'index', 'isalnum', 'isalpha', 'isascii', 'isdecimal', 'isdigit', 'isidentifier', 'islower', 'isnumeric', 'isprintable', 'isspace', 'istitle', 'isupper', 'join', 'ljust', 'lower', 'lstrip', 'maketrans', 'partition', 'replace', 'rfind', 'rindex', 'rjust', 'rpartition', 'rsplit', 'rstrip', 'split', 'splitlines', 'startswith', 'strip', 'swapcase', 'title', 'translate', 'upper', 'zfill']\n"
     ]
    }
   ],
   "source": [
    "for t in tokens:\n",
    "    print(dir(t))\n",
    "    break"
   ]
  },
  {
   "cell_type": "code",
   "execution_count": 38,
   "metadata": {},
   "outputs": [],
   "source": [
    "def string_to_vec(s):\n",
    "    N=300\n",
    "    t = np.zeros(300)\n",
    "    tok1 = nltk.word_tokenize(s)\n",
    "    for token in tok1:\n",
    "        c = wv[token]\n",
    "        t = t+c\n",
    "        print(t)"
   ]
  },
  {
   "cell_type": "code",
   "execution_count": 40,
   "metadata": {},
   "outputs": [
    {
     "name": "stdout",
     "output_type": "stream",
     "text": [
      "[-1.24511719e-01 -2.01416016e-02 -2.04101562e-01 -1.25000000e-01\n",
      " -1.68945312e-01 -1.20117188e-01  6.29882812e-02 -1.13281250e-01\n",
      "  2.47070312e-01  1.30859375e-01  3.00292969e-02 -1.04003906e-01\n",
      "  3.20434570e-03 -1.91406250e-01 -5.23437500e-01  2.15820312e-01\n",
      " -2.14843750e-01  4.63867188e-02  1.36718750e-01 -2.09960938e-01\n",
      "  2.23632812e-01  3.39355469e-02  1.17187500e-01  8.25195312e-02\n",
      "  1.31835938e-01 -4.00390625e-02 -1.59179688e-01 -1.78710938e-01\n",
      "  2.09960938e-01  4.34570312e-02  3.27148438e-02  2.94921875e-01\n",
      "  2.81250000e-01  7.72094727e-03  2.59765625e-01  3.10546875e-01\n",
      "  6.68945312e-02  1.68945312e-01 -4.24804688e-02  8.00781250e-02\n",
      " -8.05664062e-02 -2.08984375e-01 -2.30712891e-02 -1.12304688e-01\n",
      "  2.11914062e-01 -7.76367188e-02 -2.28515625e-01 -5.66406250e-01\n",
      "  3.58886719e-02  4.58984375e-02 -4.49218750e-01  1.47460938e-01\n",
      "  1.30859375e-01 -5.90820312e-02 -1.30859375e-01 -6.68945312e-02\n",
      " -4.73632812e-02 -1.07910156e-01  1.83593750e-01 -8.54492188e-03\n",
      " -2.07031250e-01 -4.85839844e-02 -1.49414062e-01  8.54492188e-02\n",
      "  2.00271606e-04  1.80664062e-01 -1.85546875e-01  5.29785156e-02\n",
      "  2.89062500e-01  1.39648438e-01  3.88671875e-01 -6.34765625e-02\n",
      "  1.46484375e-02 -2.83203125e-01 -2.63671875e-01  8.59375000e-02\n",
      "  2.67578125e-01  1.90429688e-01  2.17773438e-01  4.57763672e-03\n",
      "  3.12500000e-01 -2.01171875e-01 -1.22070312e-01 -1.60156250e-01\n",
      " -2.45117188e-01  5.34667969e-02  2.08007812e-01 -6.64062500e-02\n",
      "  3.32031250e-01  5.12695312e-03 -9.61914062e-02 -6.49414062e-02\n",
      " -2.65625000e-01 -1.62109375e-01 -6.64062500e-02  1.09863281e-01\n",
      "  2.73437500e-01 -1.31225586e-02  5.41992188e-02 -1.73828125e-01\n",
      " -1.48437500e-01 -2.00195312e-01  7.22656250e-02  7.51953125e-02\n",
      " -2.34375000e-01 -2.85644531e-02  4.14062500e-01  8.05664062e-02\n",
      " -1.90429688e-02 -9.71679688e-02 -7.12890625e-02 -1.89453125e-01\n",
      " -6.83593750e-02  1.23046875e-01  9.42382812e-02  2.53906250e-01\n",
      " -1.59179688e-01 -1.04980469e-01  3.29589844e-02  6.29882812e-02\n",
      " -1.74522400e-04  5.12695312e-02 -1.23535156e-01 -2.60925293e-03\n",
      "  3.39843750e-01  1.48437500e-01  3.14453125e-01 -1.21582031e-01\n",
      " -2.19726562e-01  5.73730469e-03 -2.50000000e-01 -3.20312500e-01\n",
      " -1.66015625e-01  7.08007812e-02 -5.22460938e-02  3.84765625e-01\n",
      " -2.26562500e-01 -8.49609375e-02 -4.46777344e-02 -6.54296875e-02\n",
      " -1.46484375e-01  1.49414062e-01  2.66113281e-02 -2.19726562e-01\n",
      "  2.69531250e-01  1.77734375e-01 -2.82287598e-03 -1.33789062e-01\n",
      "  2.00195312e-01  3.41796875e-03  1.56250000e-01 -1.12304688e-01\n",
      " -1.22558594e-01  1.78710938e-01 -2.00195312e-01  2.29492188e-02\n",
      " -1.64062500e-01  9.86328125e-02 -3.41796875e-01  3.93066406e-02\n",
      " -1.29882812e-01 -1.47460938e-01  1.61132812e-01 -2.42919922e-02\n",
      "  7.42187500e-02 -1.10839844e-01 -1.30859375e-01 -8.10546875e-02\n",
      " -1.64062500e-01  2.91015625e-01  1.09863281e-01  8.05664062e-02\n",
      " -1.47460938e-01  2.46093750e-01 -2.23632812e-01 -2.31933594e-02\n",
      "  3.30078125e-01  2.78320312e-02  1.62109375e-01 -8.88671875e-02\n",
      " -1.75781250e-01 -2.29492188e-01 -8.49609375e-02  2.21679688e-01\n",
      "  6.17675781e-02 -2.43164062e-01  2.77099609e-02  1.03027344e-01\n",
      "  1.08398438e-01  2.22656250e-01  1.18164062e-01  2.61718750e-01\n",
      " -5.12695312e-03  1.49414062e-01 -6.64062500e-02 -1.30859375e-01\n",
      " -2.11914062e-01  3.17382812e-02 -2.42187500e-01 -8.74023438e-02\n",
      " -1.56250000e-01  3.41796875e-02 -1.54296875e-01 -9.39941406e-03\n",
      "  6.93359375e-02  1.53320312e-01 -1.66992188e-01  9.42382812e-02\n",
      "  9.76562500e-02  3.57421875e-01  5.37109375e-02 -2.30468750e-01\n",
      " -3.90625000e-01 -1.26953125e-01  9.96093750e-02  5.73730469e-02\n",
      " -2.57812500e-01 -2.94921875e-01  1.28784180e-02  2.02636719e-02\n",
      "  6.39648438e-02 -9.13085938e-02  1.24511719e-01 -4.07714844e-02\n",
      "  9.66796875e-02 -2.22167969e-02  2.98828125e-01 -1.56250000e-01\n",
      "  5.78613281e-02 -2.44140625e-01  1.95312500e-02 -6.15234375e-02\n",
      " -1.22070312e-01  1.33056641e-02  2.71484375e-01 -1.00097656e-01\n",
      "  3.68652344e-02  2.56347656e-02  1.05468750e-01 -1.37695312e-01\n",
      " -5.29785156e-02  3.19824219e-02  1.25000000e-01 -3.94531250e-01\n",
      "  3.36914062e-02  1.04370117e-02  1.05957031e-01 -6.59179688e-02\n",
      "  1.37695312e-01 -3.28125000e-01 -3.14453125e-01  2.67578125e-01\n",
      "  9.22851562e-02  7.61718750e-02 -1.55273438e-01  3.90625000e-02\n",
      "  1.61132812e-01  1.22070312e-01 -2.59765625e-01 -3.10546875e-01\n",
      "  1.56250000e-02  1.58203125e-01 -8.83789062e-02  3.05175781e-02\n",
      "  4.63867188e-02  3.71093750e-01 -9.57031250e-02 -1.12304688e-01\n",
      " -1.06933594e-01 -1.64062500e-01 -3.32031250e-01 -3.93066406e-02\n",
      "  1.14257812e-01  2.89306641e-02  3.33984375e-01 -2.18750000e-01\n",
      " -5.29785156e-02 -2.22656250e-01 -2.87109375e-01  8.15429688e-02\n",
      "  7.86132812e-02  1.11328125e-01  2.36328125e-01  5.59082031e-02\n",
      "  1.03759766e-02  1.72851562e-01 -1.09863281e-01  2.00195312e-01\n",
      "  5.61523438e-02 -4.88281250e-01 -2.16796875e-01  6.49414062e-02\n",
      " -8.00781250e-02  6.12792969e-02  2.01171875e-01 -3.29589844e-02\n",
      "  2.61718750e-01 -3.36914062e-02 -3.24707031e-02  2.71484375e-01]\n"
     ]
    }
   ],
   "source": [
    "string_to_vec(\"hat\")"
   ]
  },
  {
   "cell_type": "code",
   "execution_count": 41,
   "metadata": {},
   "outputs": [
    {
     "name": "stdout",
     "output_type": "stream",
     "text": [
      "[-1.24511719e-01 -2.01416016e-02 -2.04101562e-01 -1.25000000e-01\n",
      " -1.68945312e-01 -1.20117188e-01  6.29882812e-02 -1.13281250e-01\n",
      "  2.47070312e-01  1.30859375e-01  3.00292969e-02 -1.04003906e-01\n",
      "  3.20434570e-03 -1.91406250e-01 -5.23437500e-01  2.15820312e-01\n",
      " -2.14843750e-01  4.63867188e-02  1.36718750e-01 -2.09960938e-01\n",
      "  2.23632812e-01  3.39355469e-02  1.17187500e-01  8.25195312e-02\n",
      "  1.31835938e-01 -4.00390625e-02 -1.59179688e-01 -1.78710938e-01\n",
      "  2.09960938e-01  4.34570312e-02  3.27148438e-02  2.94921875e-01\n",
      "  2.81250000e-01  7.72094727e-03  2.59765625e-01  3.10546875e-01\n",
      "  6.68945312e-02  1.68945312e-01 -4.24804688e-02  8.00781250e-02\n",
      " -8.05664062e-02 -2.08984375e-01 -2.30712891e-02 -1.12304688e-01\n",
      "  2.11914062e-01 -7.76367188e-02 -2.28515625e-01 -5.66406250e-01\n",
      "  3.58886719e-02  4.58984375e-02 -4.49218750e-01  1.47460938e-01\n",
      "  1.30859375e-01 -5.90820312e-02 -1.30859375e-01 -6.68945312e-02\n",
      " -4.73632812e-02 -1.07910156e-01  1.83593750e-01 -8.54492188e-03\n",
      " -2.07031250e-01 -4.85839844e-02 -1.49414062e-01  8.54492188e-02\n",
      "  2.00271606e-04  1.80664062e-01 -1.85546875e-01  5.29785156e-02\n",
      "  2.89062500e-01  1.39648438e-01  3.88671875e-01 -6.34765625e-02\n",
      "  1.46484375e-02 -2.83203125e-01 -2.63671875e-01  8.59375000e-02\n",
      "  2.67578125e-01  1.90429688e-01  2.17773438e-01  4.57763672e-03\n",
      "  3.12500000e-01 -2.01171875e-01 -1.22070312e-01 -1.60156250e-01\n",
      " -2.45117188e-01  5.34667969e-02  2.08007812e-01 -6.64062500e-02\n",
      "  3.32031250e-01  5.12695312e-03 -9.61914062e-02 -6.49414062e-02\n",
      " -2.65625000e-01 -1.62109375e-01 -6.64062500e-02  1.09863281e-01\n",
      "  2.73437500e-01 -1.31225586e-02  5.41992188e-02 -1.73828125e-01\n",
      " -1.48437500e-01 -2.00195312e-01  7.22656250e-02  7.51953125e-02\n",
      " -2.34375000e-01 -2.85644531e-02  4.14062500e-01  8.05664062e-02\n",
      " -1.90429688e-02 -9.71679688e-02 -7.12890625e-02 -1.89453125e-01\n",
      " -6.83593750e-02  1.23046875e-01  9.42382812e-02  2.53906250e-01\n",
      " -1.59179688e-01 -1.04980469e-01  3.29589844e-02  6.29882812e-02\n",
      " -1.74522400e-04  5.12695312e-02 -1.23535156e-01 -2.60925293e-03\n",
      "  3.39843750e-01  1.48437500e-01  3.14453125e-01 -1.21582031e-01\n",
      " -2.19726562e-01  5.73730469e-03 -2.50000000e-01 -3.20312500e-01\n",
      " -1.66015625e-01  7.08007812e-02 -5.22460938e-02  3.84765625e-01\n",
      " -2.26562500e-01 -8.49609375e-02 -4.46777344e-02 -6.54296875e-02\n",
      " -1.46484375e-01  1.49414062e-01  2.66113281e-02 -2.19726562e-01\n",
      "  2.69531250e-01  1.77734375e-01 -2.82287598e-03 -1.33789062e-01\n",
      "  2.00195312e-01  3.41796875e-03  1.56250000e-01 -1.12304688e-01\n",
      " -1.22558594e-01  1.78710938e-01 -2.00195312e-01  2.29492188e-02\n",
      " -1.64062500e-01  9.86328125e-02 -3.41796875e-01  3.93066406e-02\n",
      " -1.29882812e-01 -1.47460938e-01  1.61132812e-01 -2.42919922e-02\n",
      "  7.42187500e-02 -1.10839844e-01 -1.30859375e-01 -8.10546875e-02\n",
      " -1.64062500e-01  2.91015625e-01  1.09863281e-01  8.05664062e-02\n",
      " -1.47460938e-01  2.46093750e-01 -2.23632812e-01 -2.31933594e-02\n",
      "  3.30078125e-01  2.78320312e-02  1.62109375e-01 -8.88671875e-02\n",
      " -1.75781250e-01 -2.29492188e-01 -8.49609375e-02  2.21679688e-01\n",
      "  6.17675781e-02 -2.43164062e-01  2.77099609e-02  1.03027344e-01\n",
      "  1.08398438e-01  2.22656250e-01  1.18164062e-01  2.61718750e-01\n",
      " -5.12695312e-03  1.49414062e-01 -6.64062500e-02 -1.30859375e-01\n",
      " -2.11914062e-01  3.17382812e-02 -2.42187500e-01 -8.74023438e-02\n",
      " -1.56250000e-01  3.41796875e-02 -1.54296875e-01 -9.39941406e-03\n",
      "  6.93359375e-02  1.53320312e-01 -1.66992188e-01  9.42382812e-02\n",
      "  9.76562500e-02  3.57421875e-01  5.37109375e-02 -2.30468750e-01\n",
      " -3.90625000e-01 -1.26953125e-01  9.96093750e-02  5.73730469e-02\n",
      " -2.57812500e-01 -2.94921875e-01  1.28784180e-02  2.02636719e-02\n",
      "  6.39648438e-02 -9.13085938e-02  1.24511719e-01 -4.07714844e-02\n",
      "  9.66796875e-02 -2.22167969e-02  2.98828125e-01 -1.56250000e-01\n",
      "  5.78613281e-02 -2.44140625e-01  1.95312500e-02 -6.15234375e-02\n",
      " -1.22070312e-01  1.33056641e-02  2.71484375e-01 -1.00097656e-01\n",
      "  3.68652344e-02  2.56347656e-02  1.05468750e-01 -1.37695312e-01\n",
      " -5.29785156e-02  3.19824219e-02  1.25000000e-01 -3.94531250e-01\n",
      "  3.36914062e-02  1.04370117e-02  1.05957031e-01 -6.59179688e-02\n",
      "  1.37695312e-01 -3.28125000e-01 -3.14453125e-01  2.67578125e-01\n",
      "  9.22851562e-02  7.61718750e-02 -1.55273438e-01  3.90625000e-02\n",
      "  1.61132812e-01  1.22070312e-01 -2.59765625e-01 -3.10546875e-01\n",
      "  1.56250000e-02  1.58203125e-01 -8.83789062e-02  3.05175781e-02\n",
      "  4.63867188e-02  3.71093750e-01 -9.57031250e-02 -1.12304688e-01\n",
      " -1.06933594e-01 -1.64062500e-01 -3.32031250e-01 -3.93066406e-02\n",
      "  1.14257812e-01  2.89306641e-02  3.33984375e-01 -2.18750000e-01\n",
      " -5.29785156e-02 -2.22656250e-01 -2.87109375e-01  8.15429688e-02\n",
      "  7.86132812e-02  1.11328125e-01  2.36328125e-01  5.59082031e-02\n",
      "  1.03759766e-02  1.72851562e-01 -1.09863281e-01  2.00195312e-01\n",
      "  5.61523438e-02 -4.88281250e-01 -2.16796875e-01  6.49414062e-02\n",
      " -8.00781250e-02  6.12792969e-02  2.01171875e-01 -3.29589844e-02\n",
      "  2.61718750e-01 -3.36914062e-02 -3.24707031e-02  2.71484375e-01]\n",
      "[-0.22070312 -0.05773926 -0.53808594  0.00878906 -0.07373047 -0.20507812\n",
      "  0.01489258 -0.13562012  0.32226562  0.19287109 -0.02148438 -0.41455078\n",
      " -0.07540894 -0.39941406 -0.54309082  0.14794922 -0.22723389  0.0279541\n",
      "  0.01416016 -0.02539062  0.46386719  0.0346489  -0.08105469  0.07873535\n",
      "  0.20703125 -0.19433594 -0.05126953 -0.14575195  0.19030762  0.18505859\n",
      " -0.17529297  0.21337891  0.17431641 -0.11825562  0.22119141  0.10449219\n",
      "  0.01025391  0.33984375 -0.35498047  0.14257812  0.16162109 -0.3671875\n",
      "  0.1361084  -0.33496094  0.3671875   0.02490234 -0.33886719 -0.35253906\n",
      "  0.06176758  0.11816406 -0.54052734  0.13995361  0.10046387 -0.06884766\n",
      " -0.21679688 -0.11791992  0.32177734 -0.27490234  0.08251953  0.09838867\n",
      " -0.5        -0.13891602 -0.12023926  0.27392578 -0.09843254  0.05175781\n",
      " -0.22680664 -0.12573242  0.50195312  0.23339844  0.56640625  0.08203125\n",
      "  0.26464844 -0.41503906 -0.5234375   0.05761719  0.29614258  0.19580078\n",
      "  0.375      -0.04766846  0.16699219 -0.30566406 -0.30078125 -0.16876221\n",
      " -0.13867188 -0.10571289  0.25268555 -0.28125     0.40087891  0.11254883\n",
      " -0.01757812  0.15771484 -0.2097168  -0.33105469 -0.12036133  0.11621094\n",
      "  0.20263672  0.0269165  -0.14013672  0.1953125   0.01074219 -0.33105469\n",
      "  0.36132812 -0.01953125 -0.36914062 -0.1809082   0.40032959  0.04296875\n",
      " -0.04541016 -0.34912109 -0.14648438 -0.04394531 -0.20800781  0.07446289\n",
      "  0.30517578  0.59960938 -0.31152344 -0.15258789  0.07666016  0.20947266\n",
      " -0.13591671  0.09960938 -0.20947266  0.0974884   0.16308594  0.09375\n",
      "  0.11132812  0.24951172 -0.10888672 -0.17883301 -0.18310547 -0.43847656\n",
      " -0.29882812  0.046875    0.21923828  0.52148438 -0.22337341 -0.17871094\n",
      "  0.00390625 -0.09692383 -0.09570312  0.14871216  0.04418945 -0.20361328\n",
      "  0.31884766 -0.02929688  0.13291931 -0.07836914  0.24560547  0.14013672\n",
      "  0.45507812  0.13183594 -0.37841797  0.57714844 -0.2040863   0.08056641\n",
      " -0.32421875  0.15893555 -0.28100586  0.08959961 -0.49707031 -0.20703125\n",
      "  0.32617188 -0.11706543  0.07836914 -0.30712891  0.13867188  0.00830078\n",
      " -0.49414062  0.27282715 -0.21240234  0.08563232 -0.15203857  0.35400391\n",
      " -0.46386719 -0.07568359  0.44824219 -0.18505859 -0.015625    0.20800781\n",
      " -0.48242188 -0.07617188 -0.09985352  0.35058594  0.26098633 -0.33007812\n",
      " -0.03918457  0.27197266 -0.07910156  0.65234375  0.05908203  0.18212891\n",
      " -0.04150391  0.20874023 -0.203125   -0.09326172 -0.20681763 -0.09521484\n",
      " -0.67773438 -0.11376953 -0.36035156 -0.09667969 -0.49414062  0.11462402\n",
      "  0.26367188  0.07714844  0.0234375   0.18603516  0.02636719  0.58398438\n",
      "  0.05741882 -0.04003906 -0.65429688  0.13085938 -0.24023438  0.07177734\n",
      " -0.32714844 -0.27282715 -0.43048096  0.13549805 -0.21533203 -0.09979248\n",
      "  0.0793457   0.16821289 -0.12402344 -0.03302002  0.34472656 -0.27050781\n",
      " -0.01391602 -0.60351562  0.13623047 -0.28808594 -0.19091797 -0.13903809\n",
      "  0.28735352  0.20263672 -0.04858398 -0.09057617  0.25488281 -0.34179688\n",
      "  0.07202148 -0.17407227  0.28320312 -0.56542969  0.18603516 -0.00189209\n",
      " -0.10205078 -0.08050537  0.39160156 -0.41552734 -0.45996094  0.19384766\n",
      "  0.36181641  0.24121094 -0.16790771  0.0426178  -0.14160156 -0.08398438\n",
      " -0.51953125 -0.55078125 -0.17089844  0.34277344 -0.29345703 -0.02587891\n",
      "  0.06945801  0.54296875 -0.0078125  -0.10430908 -0.15209961 -0.32519531\n",
      " -0.4765625  -0.0769043   0.07202148 -0.2142334   0.34637451  0.18164062\n",
      "  0.03833008 -0.59765625 -0.31884766  0.16259766 -0.01367188 -0.02636719\n",
      "  0.26647949  0.12866211 -0.06677246  0.30664062 -0.04541016  0.10009766\n",
      "  0.05130005 -0.57568359 -0.26391602  0.05224609 -0.14086914  0.3347168\n",
      "  0.38671875 -0.24584961  0.45898438 -0.11962891 -0.2980957   0.17089844]\n"
     ]
    }
   ],
   "source": [
    "string_to_vec(\"hat box\")"
   ]
  },
  {
   "cell_type": "code",
   "execution_count": 43,
   "metadata": {},
   "outputs": [],
   "source": [
    "def string_to_vec(s):\n",
    "    N=300\n",
    "    t = np.zeros(300)\n",
    "    tok1 = nltk.word_tokenize(s)\n",
    "    for token in tok1:\n",
    "        c = wv[token]\n",
    "        t = t+c\n",
    "        #print(t)\n",
    "    return(t / len(tok1))"
   ]
  },
  {
   "cell_type": "code",
   "execution_count": 45,
   "metadata": {},
   "outputs": [],
   "source": [
    "# TESTS\n",
    "h1 = string_to_vec(\"hat box\")\n",
    "h2 = string_to_vec(\"box hat\")"
   ]
  },
  {
   "cell_type": "code",
   "execution_count": 46,
   "metadata": {},
   "outputs": [
    {
     "data": {
      "text/plain": [
       "(array([-0.11035156, -0.02886963, -0.26904297,  0.00439453, -0.03686523,\n",
       "        -0.10253906,  0.00744629, -0.06781006,  0.16113281,  0.09643555]),\n",
       " array([-0.11035156, -0.02886963, -0.26904297,  0.00439453, -0.03686523,\n",
       "        -0.10253906,  0.00744629, -0.06781006,  0.16113281,  0.09643555]))"
      ]
     },
     "execution_count": 46,
     "metadata": {},
     "output_type": "execute_result"
    }
   ],
   "source": [
    "h1[0:10], h2[0:10]"
   ]
  },
  {
   "cell_type": "code",
   "execution_count": 47,
   "metadata": {},
   "outputs": [
    {
     "ename": "KeyError",
     "evalue": "\"Key 'glibberfobble' not present\"",
     "output_type": "error",
     "traceback": [
      "\u001b[0;31m---------------------------------------------------------------------------\u001b[0m",
      "\u001b[0;31mKeyError\u001b[0m                                  Traceback (most recent call last)",
      "\u001b[0;32m<ipython-input-47-337cbfc204a3>\u001b[0m in \u001b[0;36m<module>\u001b[0;34m\u001b[0m\n\u001b[1;32m      1\u001b[0m \u001b[0;31m# MORE TESTS\u001b[0m\u001b[0;34m\u001b[0m\u001b[0;34m\u001b[0m\u001b[0;34m\u001b[0m\u001b[0m\n\u001b[0;32m----> 2\u001b[0;31m \u001b[0mh1\u001b[0m \u001b[0;34m=\u001b[0m \u001b[0mstring_to_vec\u001b[0m\u001b[0;34m(\u001b[0m\u001b[0;34m\"glibberfobble in the wind\"\u001b[0m\u001b[0;34m)\u001b[0m\u001b[0;34m\u001b[0m\u001b[0;34m\u001b[0m\u001b[0m\n\u001b[0m",
      "\u001b[0;32m<ipython-input-43-3d033f1e86e4>\u001b[0m in \u001b[0;36mstring_to_vec\u001b[0;34m(s)\u001b[0m\n\u001b[1;32m      4\u001b[0m     \u001b[0mtok1\u001b[0m \u001b[0;34m=\u001b[0m \u001b[0mnltk\u001b[0m\u001b[0;34m.\u001b[0m\u001b[0mword_tokenize\u001b[0m\u001b[0;34m(\u001b[0m\u001b[0ms\u001b[0m\u001b[0;34m)\u001b[0m\u001b[0;34m\u001b[0m\u001b[0;34m\u001b[0m\u001b[0m\n\u001b[1;32m      5\u001b[0m     \u001b[0;32mfor\u001b[0m \u001b[0mtoken\u001b[0m \u001b[0;32min\u001b[0m \u001b[0mtok1\u001b[0m\u001b[0;34m:\u001b[0m\u001b[0;34m\u001b[0m\u001b[0;34m\u001b[0m\u001b[0m\n\u001b[0;32m----> 6\u001b[0;31m         \u001b[0mc\u001b[0m \u001b[0;34m=\u001b[0m \u001b[0mwv\u001b[0m\u001b[0;34m[\u001b[0m\u001b[0mtoken\u001b[0m\u001b[0;34m]\u001b[0m\u001b[0;34m\u001b[0m\u001b[0;34m\u001b[0m\u001b[0m\n\u001b[0m\u001b[1;32m      7\u001b[0m         \u001b[0mt\u001b[0m \u001b[0;34m=\u001b[0m \u001b[0mt\u001b[0m\u001b[0;34m+\u001b[0m\u001b[0mc\u001b[0m\u001b[0;34m\u001b[0m\u001b[0;34m\u001b[0m\u001b[0m\n\u001b[1;32m      8\u001b[0m         \u001b[0;31m#print(t)\u001b[0m\u001b[0;34m\u001b[0m\u001b[0;34m\u001b[0m\u001b[0;34m\u001b[0m\u001b[0m\n",
      "\u001b[0;32m/Applications/anaconda3/lib/python3.8/site-packages/gensim/models/keyedvectors.py\u001b[0m in \u001b[0;36m__getitem__\u001b[0;34m(self, key_or_keys)\u001b[0m\n\u001b[1;32m    393\u001b[0m         \"\"\"\n\u001b[1;32m    394\u001b[0m         \u001b[0;32mif\u001b[0m \u001b[0misinstance\u001b[0m\u001b[0;34m(\u001b[0m\u001b[0mkey_or_keys\u001b[0m\u001b[0;34m,\u001b[0m \u001b[0m_KEY_TYPES\u001b[0m\u001b[0;34m)\u001b[0m\u001b[0;34m:\u001b[0m\u001b[0;34m\u001b[0m\u001b[0;34m\u001b[0m\u001b[0m\n\u001b[0;32m--> 395\u001b[0;31m             \u001b[0;32mreturn\u001b[0m \u001b[0mself\u001b[0m\u001b[0;34m.\u001b[0m\u001b[0mget_vector\u001b[0m\u001b[0;34m(\u001b[0m\u001b[0mkey_or_keys\u001b[0m\u001b[0;34m)\u001b[0m\u001b[0;34m\u001b[0m\u001b[0;34m\u001b[0m\u001b[0m\n\u001b[0m\u001b[1;32m    396\u001b[0m \u001b[0;34m\u001b[0m\u001b[0m\n\u001b[1;32m    397\u001b[0m         \u001b[0;32mreturn\u001b[0m \u001b[0mvstack\u001b[0m\u001b[0;34m(\u001b[0m\u001b[0;34m[\u001b[0m\u001b[0mself\u001b[0m\u001b[0;34m.\u001b[0m\u001b[0mget_vector\u001b[0m\u001b[0;34m(\u001b[0m\u001b[0mkey\u001b[0m\u001b[0;34m)\u001b[0m \u001b[0;32mfor\u001b[0m \u001b[0mkey\u001b[0m \u001b[0;32min\u001b[0m \u001b[0mkey_or_keys\u001b[0m\u001b[0;34m]\u001b[0m\u001b[0;34m)\u001b[0m\u001b[0;34m\u001b[0m\u001b[0;34m\u001b[0m\u001b[0m\n",
      "\u001b[0;32m/Applications/anaconda3/lib/python3.8/site-packages/gensim/models/keyedvectors.py\u001b[0m in \u001b[0;36mget_vector\u001b[0;34m(self, key, norm)\u001b[0m\n\u001b[1;32m    436\u001b[0m \u001b[0;34m\u001b[0m\u001b[0m\n\u001b[1;32m    437\u001b[0m         \"\"\"\n\u001b[0;32m--> 438\u001b[0;31m         \u001b[0mindex\u001b[0m \u001b[0;34m=\u001b[0m \u001b[0mself\u001b[0m\u001b[0;34m.\u001b[0m\u001b[0mget_index\u001b[0m\u001b[0;34m(\u001b[0m\u001b[0mkey\u001b[0m\u001b[0;34m)\u001b[0m\u001b[0;34m\u001b[0m\u001b[0;34m\u001b[0m\u001b[0m\n\u001b[0m\u001b[1;32m    439\u001b[0m         \u001b[0;32mif\u001b[0m \u001b[0mnorm\u001b[0m\u001b[0;34m:\u001b[0m\u001b[0;34m\u001b[0m\u001b[0;34m\u001b[0m\u001b[0m\n\u001b[1;32m    440\u001b[0m             \u001b[0mself\u001b[0m\u001b[0;34m.\u001b[0m\u001b[0mfill_norms\u001b[0m\u001b[0;34m(\u001b[0m\u001b[0;34m)\u001b[0m\u001b[0;34m\u001b[0m\u001b[0;34m\u001b[0m\u001b[0m\n",
      "\u001b[0;32m/Applications/anaconda3/lib/python3.8/site-packages/gensim/models/keyedvectors.py\u001b[0m in \u001b[0;36mget_index\u001b[0;34m(self, key, default)\u001b[0m\n\u001b[1;32m    410\u001b[0m             \u001b[0;32mreturn\u001b[0m \u001b[0mdefault\u001b[0m\u001b[0;34m\u001b[0m\u001b[0;34m\u001b[0m\u001b[0m\n\u001b[1;32m    411\u001b[0m         \u001b[0;32melse\u001b[0m\u001b[0;34m:\u001b[0m\u001b[0;34m\u001b[0m\u001b[0;34m\u001b[0m\u001b[0m\n\u001b[0;32m--> 412\u001b[0;31m             \u001b[0;32mraise\u001b[0m \u001b[0mKeyError\u001b[0m\u001b[0;34m(\u001b[0m\u001b[0;34mf\"Key '{key}' not present\"\u001b[0m\u001b[0;34m)\u001b[0m\u001b[0;34m\u001b[0m\u001b[0;34m\u001b[0m\u001b[0m\n\u001b[0m\u001b[1;32m    413\u001b[0m \u001b[0;34m\u001b[0m\u001b[0m\n\u001b[1;32m    414\u001b[0m     \u001b[0;32mdef\u001b[0m \u001b[0mget_vector\u001b[0m\u001b[0;34m(\u001b[0m\u001b[0mself\u001b[0m\u001b[0;34m,\u001b[0m \u001b[0mkey\u001b[0m\u001b[0;34m,\u001b[0m \u001b[0mnorm\u001b[0m\u001b[0;34m=\u001b[0m\u001b[0;32mFalse\u001b[0m\u001b[0;34m)\u001b[0m\u001b[0;34m:\u001b[0m\u001b[0;34m\u001b[0m\u001b[0;34m\u001b[0m\u001b[0m\n",
      "\u001b[0;31mKeyError\u001b[0m: \"Key 'glibberfobble' not present\""
     ]
    }
   ],
   "source": [
    "# MORE TESTS\n",
    "h1 = string_to_vec(\"glibberfobble in the wind\")"
   ]
  },
  {
   "cell_type": "code",
   "execution_count": 50,
   "metadata": {},
   "outputs": [],
   "source": [
    "def string_to_vec(s):\n",
    "    N=300\n",
    "    n=0\n",
    "    t = np.zeros(300)\n",
    "    tok1 = nltk.word_tokenize(s)\n",
    "    for token in tok1:\n",
    "        try:\n",
    "            c = wv[token]\n",
    "            t = t+c\n",
    "            n = n+1\n",
    "        except KeyError:\n",
    "            pass\n",
    "    return(t / n)"
   ]
  },
  {
   "cell_type": "code",
   "execution_count": 52,
   "metadata": {},
   "outputs": [
    {
     "data": {
      "text/plain": [
       "array([ 6.03027344e-02,  7.64160156e-02,  3.77197266e-02, -7.20214844e-02,\n",
       "        6.02213542e-03, -1.61783854e-01, -8.38216146e-02, -9.73714193e-02,\n",
       "        3.80045573e-02,  1.44490560e-01, -9.56217448e-02, -1.23779297e-01,\n",
       "       -8.65275065e-02, -1.82291667e-02, -4.06901042e-02, -1.28580729e-02,\n",
       "       -9.86735026e-03,  7.70670573e-02,  1.04980469e-01, -8.24788411e-02,\n",
       "       -1.78629557e-02,  9.19596354e-02, -9.32210286e-02,  4.65977987e-02,\n",
       "        7.92032878e-02,  1.66015625e-02, -1.03347778e-01,  6.32731120e-02,\n",
       "        3.46628825e-02,  5.32226562e-02, -1.71712240e-02,  1.78629557e-02,\n",
       "       -1.05834961e-01,  3.70788574e-02, -7.84301758e-03,  1.66219076e-02,\n",
       "       -1.07584635e-01, -3.41796875e-03,  1.08072917e-01,  1.49414062e-01,\n",
       "        1.47542318e-01, -7.35677083e-02, -3.31217448e-02, -4.73429362e-02,\n",
       "       -2.70792643e-02, -3.34828695e-02, -4.56949870e-02, -8.70361328e-02,\n",
       "       -2.16471354e-02,  1.11165365e-01,  7.28352865e-02,  5.23071289e-02,\n",
       "        3.31827799e-02,  3.39355469e-02, -5.57047526e-02,  3.24834188e-02,\n",
       "        3.95100911e-02, -3.92252604e-02,  5.31209310e-02, -7.41373698e-02,\n",
       "       -9.44010417e-02, -3.34472656e-02, -3.73535156e-02, -2.01171875e-01,\n",
       "        2.97037760e-03, -1.76188151e-02, -2.75878906e-02,  1.54296875e-01,\n",
       "       -7.30082194e-02,  1.04980469e-01,  3.65804036e-02, -7.47070312e-02,\n",
       "        8.32112630e-02, -8.70768229e-03, -9.76969401e-02, -4.51660156e-03,\n",
       "        1.16861979e-01,  8.83382161e-02, -7.88167318e-02,  4.81770833e-02,\n",
       "        1.41540527e-01, -9.47672526e-02, -2.05078125e-02, -6.18489583e-02,\n",
       "       -3.82486979e-03, -7.03226725e-02, -4.19718424e-02,  1.11490885e-01,\n",
       "       -5.08626302e-02,  2.15047201e-02, -5.63151042e-02,  5.41178385e-02,\n",
       "        1.05183919e-02, -6.51041667e-02, -5.02522786e-02,  2.76285807e-02,\n",
       "        5.05879720e-02, -1.07014974e-01, -8.89078776e-03, -7.47172038e-02,\n",
       "        4.38073476e-02, -7.10449219e-02, -7.75146484e-03,  1.31327311e-02,\n",
       "       -7.74536133e-02, -9.52148438e-03, -7.71077474e-02,  3.31827799e-02,\n",
       "        1.43432617e-02, -9.45638021e-02, -2.63264974e-02,  4.71191406e-02,\n",
       "       -8.40657552e-02, -1.80562337e-02, -2.82796224e-02,  7.81250000e-02,\n",
       "        2.02799479e-01,  6.99869792e-02,  3.74348958e-03,  7.13704427e-02,\n",
       "       -1.56992594e-01, -7.73925781e-02, -1.04817708e-01,  3.87268066e-02,\n",
       "       -5.95906576e-02,  1.73339844e-02, -2.21354167e-02, -9.14713542e-02,\n",
       "       -1.21541341e-01,  8.01595052e-02,  2.59806315e-02, -1.11328125e-01,\n",
       "       -9.96500651e-02, -4.14225260e-02,  1.95312500e-02,  4.88281250e-03,\n",
       "       -2.02128092e-02, -1.24348958e-01, -9.76562500e-02,  4.20735677e-02,\n",
       "        8.13802083e-02, -7.20418294e-02, -3.98559570e-02,  2.00195312e-02,\n",
       "        1.62150065e-02,  9.65983073e-02, -1.17797852e-02, -5.45247396e-02,\n",
       "       -6.10656738e-02, -1.82291667e-02,  2.18607585e-02, -9.45129395e-02,\n",
       "        6.31510417e-02,  5.24902344e-02, -5.99772135e-02, -7.77180990e-03,\n",
       "        1.00748698e-01, -1.83166504e-01,  6.33138021e-02,  5.79427083e-02,\n",
       "       -7.43815104e-02, -6.31103516e-02, -1.81172689e-02,  6.11979167e-02,\n",
       "       -3.07210286e-02,  8.54492188e-02,  2.80761719e-02,  4.24702962e-02,\n",
       "        7.94881185e-02, -1.21419271e-01, -1.44694010e-01,  3.33658854e-03,\n",
       "       -8.76057943e-02, -1.50716146e-01, -9.91872152e-02, -1.30289714e-01,\n",
       "        4.12597656e-02, -1.10270182e-02,  2.32747396e-02, -4.78159587e-02,\n",
       "       -5.08219401e-02, -1.25239054e-01, -4.54101562e-02,  6.33138021e-02,\n",
       "       -8.95182292e-02, -6.62841797e-02,  7.64592489e-02,  7.60091146e-02,\n",
       "        1.21419271e-01,  5.28971354e-02,  3.88183594e-02,  1.34643555e-01,\n",
       "        5.33854167e-02,  2.21150716e-02, -3.24707031e-02,  1.20646159e-01,\n",
       "       -6.44938151e-02, -7.67720540e-02, -3.00292969e-02, -1.60807292e-01,\n",
       "        7.45442708e-02,  7.91829427e-02,  2.17081706e-02, -6.19913737e-02,\n",
       "       -3.07210286e-03,  9.94466146e-02, -6.38834635e-03,  3.34879557e-02,\n",
       "        3.09956868e-02,  5.96516927e-02, -1.10758464e-01, -1.12711589e-02,\n",
       "        1.93277995e-04,  1.57368978e-02, -9.63541667e-02, -6.76320394e-02,\n",
       "        1.62760417e-04, -4.38639323e-02, -1.07177734e-01, -5.45247396e-02,\n",
       "        1.32975260e-01, -1.86767578e-02,  2.02229818e-02, -1.03678385e-01,\n",
       "       -3.12500000e-02, -5.65592448e-02,  8.75447591e-02,  1.24837240e-01,\n",
       "        8.39843750e-02,  1.03759766e-03, -1.47094727e-01, -3.58072917e-03,\n",
       "        2.50651042e-02,  2.27864583e-03, -7.50096639e-02,  3.96525065e-02,\n",
       "       -6.09537760e-02, -1.06272380e-01,  1.47786458e-01,  1.99279785e-02,\n",
       "       -2.18200684e-02, -5.91634115e-02,  7.42187500e-02, -8.08105469e-02,\n",
       "        3.00699870e-02, -1.49739583e-01,  4.76888021e-02,  1.52587891e-03,\n",
       "        6.38834635e-03, -1.46484375e-03,  3.60005697e-02,  1.09659831e-02,\n",
       "        6.93359375e-02,  3.62752279e-02,  8.72599284e-02, -8.58561198e-02,\n",
       "        9.43196615e-02,  4.93977865e-02, -1.42333984e-01, -4.48608398e-02,\n",
       "       -4.73022461e-03,  7.94270833e-02, -7.77994792e-02,  4.05273438e-02,\n",
       "        1.25325521e-01,  1.55436198e-01, -2.74759928e-02, -1.07421875e-02,\n",
       "        1.83105469e-02,  3.19824219e-02, -3.17382812e-02,  3.53190104e-02,\n",
       "        5.64371745e-02,  2.53906250e-02,  3.23486328e-02, -7.70263672e-02,\n",
       "       -1.70206706e-01, -7.51139323e-02, -2.34781901e-02,  3.52376302e-02,\n",
       "        8.11360677e-02, -7.36846924e-02,  1.53401693e-02,  3.01106771e-02,\n",
       "       -5.81410726e-02,  3.38948568e-02, -9.92838542e-02, -3.12906901e-02,\n",
       "       -4.53287760e-02,  1.99381510e-03, -4.80143229e-02,  8.27229818e-02,\n",
       "       -7.54597982e-02,  2.36002604e-03,  2.38444010e-02,  8.09529622e-02,\n",
       "        1.11897786e-02,  7.38932292e-02,  4.81974284e-02, -4.38569387e-02])"
      ]
     },
     "execution_count": 52,
     "metadata": {},
     "output_type": "execute_result"
    }
   ],
   "source": [
    "h1 = string_to_vec(\"glibberfobble in the wind\")\n",
    "h1"
   ]
  },
  {
   "cell_type": "code",
   "execution_count": 79,
   "metadata": {},
   "outputs": [],
   "source": [
    "X2 = Xtext.apply(string_to_vec)"
   ]
  },
  {
   "cell_type": "code",
   "execution_count": 77,
   "metadata": {},
   "outputs": [
    {
     "data": {
      "text/plain": [
       "(5574,)"
      ]
     },
     "execution_count": 77,
     "metadata": {},
     "output_type": "execute_result"
    }
   ],
   "source": [
    "X2.shape"
   ]
  },
  {
   "cell_type": "code",
   "execution_count": null,
   "metadata": {},
   "outputs": [],
   "source": [
    "# Series of arrays..."
   ]
  },
  {
   "cell_type": "code",
   "execution_count": 80,
   "metadata": {},
   "outputs": [],
   "source": [
    "X = np.stack(X2.values)"
   ]
  },
  {
   "cell_type": "code",
   "execution_count": 126,
   "metadata": {},
   "outputs": [
    {
     "data": {
      "text/plain": [
       "5574"
      ]
     },
     "execution_count": 126,
     "metadata": {},
     "output_type": "execute_result"
    }
   ],
   "source": [
    "from numpy.random import permutation\n",
    "scramble = permutation(len(X))\n",
    "len(X)"
   ]
  },
  {
   "cell_type": "code",
   "execution_count": 127,
   "metadata": {},
   "outputs": [
    {
     "data": {
      "text/plain": [
       "(5574, 300)"
      ]
     },
     "execution_count": 127,
     "metadata": {},
     "output_type": "execute_result"
    }
   ],
   "source": [
    "X.shape"
   ]
  },
  {
   "cell_type": "code",
   "execution_count": 128,
   "metadata": {},
   "outputs": [],
   "source": [
    "Xtrain = X[scramble[0:4000],:]\n",
    "Ytrain = Y[scramble[0:4000]]\n",
    "Xtest =  X[scramble[4000:],:]\n",
    "Ytest =  Y[scramble[4000:]]"
   ]
  },
  {
   "cell_type": "code",
   "execution_count": null,
   "metadata": {},
   "outputs": [],
   "source": []
  },
  {
   "cell_type": "code",
   "execution_count": 81,
   "metadata": {},
   "outputs": [
    {
     "data": {
      "text/plain": [
       "(5574, 300)"
      ]
     },
     "execution_count": 81,
     "metadata": {},
     "output_type": "execute_result"
    }
   ],
   "source": [
    "X.shape"
   ]
  },
  {
   "cell_type": "code",
   "execution_count": 113,
   "metadata": {},
   "outputs": [],
   "source": [
    "from sklearn.linear_model import LogisticRegressionCV, LogisticRegression\n"
   ]
  },
  {
   "cell_type": "code",
   "execution_count": 90,
   "metadata": {},
   "outputs": [
    {
     "data": {
      "text/plain": [
       "4800"
      ]
     },
     "execution_count": 90,
     "metadata": {},
     "output_type": "execute_result"
    }
   ],
   "source": [
    "np.isnan(X).sum()"
   ]
  },
  {
   "cell_type": "code",
   "execution_count": 91,
   "metadata": {},
   "outputs": [],
   "source": [
    "X[np.isnan(X)] = 0"
   ]
  },
  {
   "cell_type": "code",
   "execution_count": 92,
   "metadata": {},
   "outputs": [
    {
     "data": {
      "text/plain": [
       "0"
      ]
     },
     "execution_count": 92,
     "metadata": {},
     "output_type": "execute_result"
    }
   ],
   "source": [
    "np.isnan(X).sum()"
   ]
  },
  {
   "cell_type": "code",
   "execution_count": 115,
   "metadata": {},
   "outputs": [
    {
     "ename": "AttributeError",
     "evalue": "'str' object has no attribute 'decode'",
     "output_type": "error",
     "traceback": [
      "\u001b[0;31m---------------------------------------------------------------------------\u001b[0m",
      "\u001b[0;31mAttributeError\u001b[0m                            Traceback (most recent call last)",
      "\u001b[0;32m<ipython-input-115-dc4326d40fbf>\u001b[0m in \u001b[0;36m<module>\u001b[0;34m\u001b[0m\n\u001b[1;32m      1\u001b[0m \u001b[0mmodel\u001b[0m \u001b[0;34m=\u001b[0m \u001b[0mLogisticRegression\u001b[0m\u001b[0;34m(\u001b[0m\u001b[0;34m)\u001b[0m\u001b[0;34m.\u001b[0m\u001b[0mfit\u001b[0m\u001b[0;34m(\u001b[0m\u001b[0mX\u001b[0m\u001b[0;34m,\u001b[0m \u001b[0mY\u001b[0m\u001b[0;34m*\u001b[0m\u001b[0;36m1.0\u001b[0m\u001b[0;34m)\u001b[0m\u001b[0;34m\u001b[0m\u001b[0;34m\u001b[0m\u001b[0m\n\u001b[0;32m----> 2\u001b[0;31m \u001b[0mmodelcv\u001b[0m \u001b[0;34m=\u001b[0m \u001b[0mLogisticRegressionCV\u001b[0m\u001b[0;34m(\u001b[0m\u001b[0;34m)\u001b[0m\u001b[0;34m.\u001b[0m\u001b[0mfit\u001b[0m\u001b[0;34m(\u001b[0m\u001b[0mX\u001b[0m\u001b[0;34m,\u001b[0m \u001b[0mY\u001b[0m\u001b[0;34m*\u001b[0m\u001b[0;36m1.0\u001b[0m\u001b[0;34m)\u001b[0m\u001b[0;34m\u001b[0m\u001b[0;34m\u001b[0m\u001b[0m\n\u001b[0m",
      "\u001b[0;32m/Applications/anaconda3/lib/python3.8/site-packages/sklearn/linear_model/_logistic.py\u001b[0m in \u001b[0;36mfit\u001b[0;34m(self, X, y, sample_weight)\u001b[0m\n\u001b[1;32m   1883\u001b[0m             \u001b[0mprefer\u001b[0m \u001b[0;34m=\u001b[0m \u001b[0;34m'processes'\u001b[0m\u001b[0;34m\u001b[0m\u001b[0;34m\u001b[0m\u001b[0m\n\u001b[1;32m   1884\u001b[0m \u001b[0;34m\u001b[0m\u001b[0m\n\u001b[0;32m-> 1885\u001b[0;31m         fold_coefs_ = Parallel(n_jobs=self.n_jobs, verbose=self.verbose,\n\u001b[0m\u001b[1;32m   1886\u001b[0m                                \u001b[0;34m**\u001b[0m\u001b[0m_joblib_parallel_args\u001b[0m\u001b[0;34m(\u001b[0m\u001b[0mprefer\u001b[0m\u001b[0;34m=\u001b[0m\u001b[0mprefer\u001b[0m\u001b[0;34m)\u001b[0m\u001b[0;34m)\u001b[0m\u001b[0;34m(\u001b[0m\u001b[0;34m\u001b[0m\u001b[0;34m\u001b[0m\u001b[0m\n\u001b[1;32m   1887\u001b[0m             path_func(X, y, train, test, pos_class=label, Cs=self.Cs,\n",
      "\u001b[0;32m/Applications/anaconda3/lib/python3.8/site-packages/joblib/parallel.py\u001b[0m in \u001b[0;36m__call__\u001b[0;34m(self, iterable)\u001b[0m\n\u001b[1;32m   1046\u001b[0m             \u001b[0;31m# remaining jobs.\u001b[0m\u001b[0;34m\u001b[0m\u001b[0;34m\u001b[0m\u001b[0;34m\u001b[0m\u001b[0m\n\u001b[1;32m   1047\u001b[0m             \u001b[0mself\u001b[0m\u001b[0;34m.\u001b[0m\u001b[0m_iterating\u001b[0m \u001b[0;34m=\u001b[0m \u001b[0;32mFalse\u001b[0m\u001b[0;34m\u001b[0m\u001b[0;34m\u001b[0m\u001b[0m\n\u001b[0;32m-> 1048\u001b[0;31m             \u001b[0;32mif\u001b[0m \u001b[0mself\u001b[0m\u001b[0;34m.\u001b[0m\u001b[0mdispatch_one_batch\u001b[0m\u001b[0;34m(\u001b[0m\u001b[0miterator\u001b[0m\u001b[0;34m)\u001b[0m\u001b[0;34m:\u001b[0m\u001b[0;34m\u001b[0m\u001b[0;34m\u001b[0m\u001b[0m\n\u001b[0m\u001b[1;32m   1049\u001b[0m                 \u001b[0mself\u001b[0m\u001b[0;34m.\u001b[0m\u001b[0m_iterating\u001b[0m \u001b[0;34m=\u001b[0m \u001b[0mself\u001b[0m\u001b[0;34m.\u001b[0m\u001b[0m_original_iterator\u001b[0m \u001b[0;32mis\u001b[0m \u001b[0;32mnot\u001b[0m \u001b[0;32mNone\u001b[0m\u001b[0;34m\u001b[0m\u001b[0;34m\u001b[0m\u001b[0m\n\u001b[1;32m   1050\u001b[0m \u001b[0;34m\u001b[0m\u001b[0m\n",
      "\u001b[0;32m/Applications/anaconda3/lib/python3.8/site-packages/joblib/parallel.py\u001b[0m in \u001b[0;36mdispatch_one_batch\u001b[0;34m(self, iterator)\u001b[0m\n\u001b[1;32m    864\u001b[0m                 \u001b[0;32mreturn\u001b[0m \u001b[0;32mFalse\u001b[0m\u001b[0;34m\u001b[0m\u001b[0;34m\u001b[0m\u001b[0m\n\u001b[1;32m    865\u001b[0m             \u001b[0;32melse\u001b[0m\u001b[0;34m:\u001b[0m\u001b[0;34m\u001b[0m\u001b[0;34m\u001b[0m\u001b[0m\n\u001b[0;32m--> 866\u001b[0;31m                 \u001b[0mself\u001b[0m\u001b[0;34m.\u001b[0m\u001b[0m_dispatch\u001b[0m\u001b[0;34m(\u001b[0m\u001b[0mtasks\u001b[0m\u001b[0;34m)\u001b[0m\u001b[0;34m\u001b[0m\u001b[0;34m\u001b[0m\u001b[0m\n\u001b[0m\u001b[1;32m    867\u001b[0m                 \u001b[0;32mreturn\u001b[0m \u001b[0;32mTrue\u001b[0m\u001b[0;34m\u001b[0m\u001b[0;34m\u001b[0m\u001b[0m\n\u001b[1;32m    868\u001b[0m \u001b[0;34m\u001b[0m\u001b[0m\n",
      "\u001b[0;32m/Applications/anaconda3/lib/python3.8/site-packages/joblib/parallel.py\u001b[0m in \u001b[0;36m_dispatch\u001b[0;34m(self, batch)\u001b[0m\n\u001b[1;32m    782\u001b[0m         \u001b[0;32mwith\u001b[0m \u001b[0mself\u001b[0m\u001b[0;34m.\u001b[0m\u001b[0m_lock\u001b[0m\u001b[0;34m:\u001b[0m\u001b[0;34m\u001b[0m\u001b[0;34m\u001b[0m\u001b[0m\n\u001b[1;32m    783\u001b[0m             \u001b[0mjob_idx\u001b[0m \u001b[0;34m=\u001b[0m \u001b[0mlen\u001b[0m\u001b[0;34m(\u001b[0m\u001b[0mself\u001b[0m\u001b[0;34m.\u001b[0m\u001b[0m_jobs\u001b[0m\u001b[0;34m)\u001b[0m\u001b[0;34m\u001b[0m\u001b[0;34m\u001b[0m\u001b[0m\n\u001b[0;32m--> 784\u001b[0;31m             \u001b[0mjob\u001b[0m \u001b[0;34m=\u001b[0m \u001b[0mself\u001b[0m\u001b[0;34m.\u001b[0m\u001b[0m_backend\u001b[0m\u001b[0;34m.\u001b[0m\u001b[0mapply_async\u001b[0m\u001b[0;34m(\u001b[0m\u001b[0mbatch\u001b[0m\u001b[0;34m,\u001b[0m \u001b[0mcallback\u001b[0m\u001b[0;34m=\u001b[0m\u001b[0mcb\u001b[0m\u001b[0;34m)\u001b[0m\u001b[0;34m\u001b[0m\u001b[0;34m\u001b[0m\u001b[0m\n\u001b[0m\u001b[1;32m    785\u001b[0m             \u001b[0;31m# A job can complete so quickly than its callback is\u001b[0m\u001b[0;34m\u001b[0m\u001b[0;34m\u001b[0m\u001b[0;34m\u001b[0m\u001b[0m\n\u001b[1;32m    786\u001b[0m             \u001b[0;31m# called before we get here, causing self._jobs to\u001b[0m\u001b[0;34m\u001b[0m\u001b[0;34m\u001b[0m\u001b[0;34m\u001b[0m\u001b[0m\n",
      "\u001b[0;32m/Applications/anaconda3/lib/python3.8/site-packages/joblib/_parallel_backends.py\u001b[0m in \u001b[0;36mapply_async\u001b[0;34m(self, func, callback)\u001b[0m\n\u001b[1;32m    206\u001b[0m     \u001b[0;32mdef\u001b[0m \u001b[0mapply_async\u001b[0m\u001b[0;34m(\u001b[0m\u001b[0mself\u001b[0m\u001b[0;34m,\u001b[0m \u001b[0mfunc\u001b[0m\u001b[0;34m,\u001b[0m \u001b[0mcallback\u001b[0m\u001b[0;34m=\u001b[0m\u001b[0;32mNone\u001b[0m\u001b[0;34m)\u001b[0m\u001b[0;34m:\u001b[0m\u001b[0;34m\u001b[0m\u001b[0;34m\u001b[0m\u001b[0m\n\u001b[1;32m    207\u001b[0m         \u001b[0;34m\"\"\"Schedule a func to be run\"\"\"\u001b[0m\u001b[0;34m\u001b[0m\u001b[0;34m\u001b[0m\u001b[0m\n\u001b[0;32m--> 208\u001b[0;31m         \u001b[0mresult\u001b[0m \u001b[0;34m=\u001b[0m \u001b[0mImmediateResult\u001b[0m\u001b[0;34m(\u001b[0m\u001b[0mfunc\u001b[0m\u001b[0;34m)\u001b[0m\u001b[0;34m\u001b[0m\u001b[0;34m\u001b[0m\u001b[0m\n\u001b[0m\u001b[1;32m    209\u001b[0m         \u001b[0;32mif\u001b[0m \u001b[0mcallback\u001b[0m\u001b[0;34m:\u001b[0m\u001b[0;34m\u001b[0m\u001b[0;34m\u001b[0m\u001b[0m\n\u001b[1;32m    210\u001b[0m             \u001b[0mcallback\u001b[0m\u001b[0;34m(\u001b[0m\u001b[0mresult\u001b[0m\u001b[0;34m)\u001b[0m\u001b[0;34m\u001b[0m\u001b[0;34m\u001b[0m\u001b[0m\n",
      "\u001b[0;32m/Applications/anaconda3/lib/python3.8/site-packages/joblib/_parallel_backends.py\u001b[0m in \u001b[0;36m__init__\u001b[0;34m(self, batch)\u001b[0m\n\u001b[1;32m    570\u001b[0m         \u001b[0;31m# Don't delay the application, to avoid keeping the input\u001b[0m\u001b[0;34m\u001b[0m\u001b[0;34m\u001b[0m\u001b[0;34m\u001b[0m\u001b[0m\n\u001b[1;32m    571\u001b[0m         \u001b[0;31m# arguments in memory\u001b[0m\u001b[0;34m\u001b[0m\u001b[0;34m\u001b[0m\u001b[0;34m\u001b[0m\u001b[0m\n\u001b[0;32m--> 572\u001b[0;31m         \u001b[0mself\u001b[0m\u001b[0;34m.\u001b[0m\u001b[0mresults\u001b[0m \u001b[0;34m=\u001b[0m \u001b[0mbatch\u001b[0m\u001b[0;34m(\u001b[0m\u001b[0;34m)\u001b[0m\u001b[0;34m\u001b[0m\u001b[0;34m\u001b[0m\u001b[0m\n\u001b[0m\u001b[1;32m    573\u001b[0m \u001b[0;34m\u001b[0m\u001b[0m\n\u001b[1;32m    574\u001b[0m     \u001b[0;32mdef\u001b[0m \u001b[0mget\u001b[0m\u001b[0;34m(\u001b[0m\u001b[0mself\u001b[0m\u001b[0;34m)\u001b[0m\u001b[0;34m:\u001b[0m\u001b[0;34m\u001b[0m\u001b[0;34m\u001b[0m\u001b[0m\n",
      "\u001b[0;32m/Applications/anaconda3/lib/python3.8/site-packages/joblib/parallel.py\u001b[0m in \u001b[0;36m__call__\u001b[0;34m(self)\u001b[0m\n\u001b[1;32m    260\u001b[0m         \u001b[0;31m# change the default number of processes to -1\u001b[0m\u001b[0;34m\u001b[0m\u001b[0;34m\u001b[0m\u001b[0;34m\u001b[0m\u001b[0m\n\u001b[1;32m    261\u001b[0m         \u001b[0;32mwith\u001b[0m \u001b[0mparallel_backend\u001b[0m\u001b[0;34m(\u001b[0m\u001b[0mself\u001b[0m\u001b[0;34m.\u001b[0m\u001b[0m_backend\u001b[0m\u001b[0;34m,\u001b[0m \u001b[0mn_jobs\u001b[0m\u001b[0;34m=\u001b[0m\u001b[0mself\u001b[0m\u001b[0;34m.\u001b[0m\u001b[0m_n_jobs\u001b[0m\u001b[0;34m)\u001b[0m\u001b[0;34m:\u001b[0m\u001b[0;34m\u001b[0m\u001b[0;34m\u001b[0m\u001b[0m\n\u001b[0;32m--> 262\u001b[0;31m             return [func(*args, **kwargs)\n\u001b[0m\u001b[1;32m    263\u001b[0m                     for func, args, kwargs in self.items]\n\u001b[1;32m    264\u001b[0m \u001b[0;34m\u001b[0m\u001b[0m\n",
      "\u001b[0;32m/Applications/anaconda3/lib/python3.8/site-packages/joblib/parallel.py\u001b[0m in \u001b[0;36m<listcomp>\u001b[0;34m(.0)\u001b[0m\n\u001b[1;32m    260\u001b[0m         \u001b[0;31m# change the default number of processes to -1\u001b[0m\u001b[0;34m\u001b[0m\u001b[0;34m\u001b[0m\u001b[0;34m\u001b[0m\u001b[0m\n\u001b[1;32m    261\u001b[0m         \u001b[0;32mwith\u001b[0m \u001b[0mparallel_backend\u001b[0m\u001b[0;34m(\u001b[0m\u001b[0mself\u001b[0m\u001b[0;34m.\u001b[0m\u001b[0m_backend\u001b[0m\u001b[0;34m,\u001b[0m \u001b[0mn_jobs\u001b[0m\u001b[0;34m=\u001b[0m\u001b[0mself\u001b[0m\u001b[0;34m.\u001b[0m\u001b[0m_n_jobs\u001b[0m\u001b[0;34m)\u001b[0m\u001b[0;34m:\u001b[0m\u001b[0;34m\u001b[0m\u001b[0;34m\u001b[0m\u001b[0m\n\u001b[0;32m--> 262\u001b[0;31m             return [func(*args, **kwargs)\n\u001b[0m\u001b[1;32m    263\u001b[0m                     for func, args, kwargs in self.items]\n\u001b[1;32m    264\u001b[0m \u001b[0;34m\u001b[0m\u001b[0m\n",
      "\u001b[0;32m/Applications/anaconda3/lib/python3.8/site-packages/sklearn/linear_model/_logistic.py\u001b[0m in \u001b[0;36m_log_reg_scoring_path\u001b[0;34m(X, y, train, test, pos_class, Cs, scoring, fit_intercept, max_iter, tol, class_weight, verbose, solver, penalty, dual, intercept_scaling, multi_class, random_state, max_squared_sum, sample_weight, l1_ratio)\u001b[0m\n\u001b[1;32m    963\u001b[0m         \u001b[0msample_weight\u001b[0m \u001b[0;34m=\u001b[0m \u001b[0msample_weight\u001b[0m\u001b[0;34m[\u001b[0m\u001b[0mtrain\u001b[0m\u001b[0;34m]\u001b[0m\u001b[0;34m\u001b[0m\u001b[0;34m\u001b[0m\u001b[0m\n\u001b[1;32m    964\u001b[0m \u001b[0;34m\u001b[0m\u001b[0m\n\u001b[0;32m--> 965\u001b[0;31m     coefs, Cs, n_iter = _logistic_regression_path(\n\u001b[0m\u001b[1;32m    966\u001b[0m         \u001b[0mX_train\u001b[0m\u001b[0;34m,\u001b[0m \u001b[0my_train\u001b[0m\u001b[0;34m,\u001b[0m \u001b[0mCs\u001b[0m\u001b[0;34m=\u001b[0m\u001b[0mCs\u001b[0m\u001b[0;34m,\u001b[0m \u001b[0ml1_ratio\u001b[0m\u001b[0;34m=\u001b[0m\u001b[0ml1_ratio\u001b[0m\u001b[0;34m,\u001b[0m\u001b[0;34m\u001b[0m\u001b[0;34m\u001b[0m\u001b[0m\n\u001b[1;32m    967\u001b[0m         \u001b[0mfit_intercept\u001b[0m\u001b[0;34m=\u001b[0m\u001b[0mfit_intercept\u001b[0m\u001b[0;34m,\u001b[0m \u001b[0msolver\u001b[0m\u001b[0;34m=\u001b[0m\u001b[0msolver\u001b[0m\u001b[0;34m,\u001b[0m \u001b[0mmax_iter\u001b[0m\u001b[0;34m=\u001b[0m\u001b[0mmax_iter\u001b[0m\u001b[0;34m,\u001b[0m\u001b[0;34m\u001b[0m\u001b[0;34m\u001b[0m\u001b[0m\n",
      "\u001b[0;32m/Applications/anaconda3/lib/python3.8/site-packages/sklearn/linear_model/_logistic.py\u001b[0m in \u001b[0;36m_logistic_regression_path\u001b[0;34m(X, y, pos_class, Cs, fit_intercept, max_iter, tol, verbose, solver, coef, class_weight, dual, penalty, intercept_scaling, multi_class, random_state, check_input, max_squared_sum, sample_weight, l1_ratio)\u001b[0m\n\u001b[1;32m    760\u001b[0m                 \u001b[0moptions\u001b[0m\u001b[0;34m=\u001b[0m\u001b[0;34m{\u001b[0m\u001b[0;34m\"iprint\"\u001b[0m\u001b[0;34m:\u001b[0m \u001b[0miprint\u001b[0m\u001b[0;34m,\u001b[0m \u001b[0;34m\"gtol\"\u001b[0m\u001b[0;34m:\u001b[0m \u001b[0mtol\u001b[0m\u001b[0;34m,\u001b[0m \u001b[0;34m\"maxiter\"\u001b[0m\u001b[0;34m:\u001b[0m \u001b[0mmax_iter\u001b[0m\u001b[0;34m}\u001b[0m\u001b[0;34m\u001b[0m\u001b[0;34m\u001b[0m\u001b[0m\n\u001b[1;32m    761\u001b[0m             )\n\u001b[0;32m--> 762\u001b[0;31m             n_iter_i = _check_optimize_result(\n\u001b[0m\u001b[1;32m    763\u001b[0m                 \u001b[0msolver\u001b[0m\u001b[0;34m,\u001b[0m \u001b[0mopt_res\u001b[0m\u001b[0;34m,\u001b[0m \u001b[0mmax_iter\u001b[0m\u001b[0;34m,\u001b[0m\u001b[0;34m\u001b[0m\u001b[0;34m\u001b[0m\u001b[0m\n\u001b[1;32m    764\u001b[0m                 extra_warning_msg=_LOGISTIC_SOLVER_CONVERGENCE_MSG)\n",
      "\u001b[0;32m/Applications/anaconda3/lib/python3.8/site-packages/sklearn/utils/optimize.py\u001b[0m in \u001b[0;36m_check_optimize_result\u001b[0;34m(solver, result, max_iter, extra_warning_msg)\u001b[0m\n\u001b[1;32m    241\u001b[0m                 \u001b[0;34m\"    https://scikit-learn.org/stable/modules/\"\u001b[0m\u001b[0;34m\u001b[0m\u001b[0;34m\u001b[0m\u001b[0m\n\u001b[1;32m    242\u001b[0m                 \u001b[0;34m\"preprocessing.html\"\u001b[0m\u001b[0;34m\u001b[0m\u001b[0;34m\u001b[0m\u001b[0m\n\u001b[0;32m--> 243\u001b[0;31m             ).format(solver, result.status, result.message.decode(\"latin1\"))\n\u001b[0m\u001b[1;32m    244\u001b[0m             \u001b[0;32mif\u001b[0m \u001b[0mextra_warning_msg\u001b[0m \u001b[0;32mis\u001b[0m \u001b[0;32mnot\u001b[0m \u001b[0;32mNone\u001b[0m\u001b[0;34m:\u001b[0m\u001b[0;34m\u001b[0m\u001b[0;34m\u001b[0m\u001b[0m\n\u001b[1;32m    245\u001b[0m                 \u001b[0mwarning_msg\u001b[0m \u001b[0;34m+=\u001b[0m \u001b[0;34m\"\\n\"\u001b[0m \u001b[0;34m+\u001b[0m \u001b[0mextra_warning_msg\u001b[0m\u001b[0;34m\u001b[0m\u001b[0;34m\u001b[0m\u001b[0m\n",
      "\u001b[0;31mAttributeError\u001b[0m: 'str' object has no attribute 'decode'"
     ]
    }
   ],
   "source": [
    "model = LogisticRegression().fit(X, Y*1.0)\n"
   ]
  },
  {
   "cell_type": "code",
   "execution_count": null,
   "metadata": {},
   "outputs": [],
   "source": [
    "# modelcv = LogisticRegressionCV().fit(X, Y*1.0) \n",
    "# AttributeError: 'str' object has no attribute 'decode' \n",
    "#  f**ing unicode error in scipy?"
   ]
  },
  {
   "cell_type": "code",
   "execution_count": 117,
   "metadata": {},
   "outputs": [],
   "source": [
    "Ypred =model.predict(X)"
   ]
  },
  {
   "cell_type": "code",
   "execution_count": 119,
   "metadata": {},
   "outputs": [
    {
     "data": {
      "text/plain": [
       "0.9705776820954432"
      ]
     },
     "execution_count": 119,
     "metadata": {},
     "output_type": "execute_result"
    }
   ],
   "source": [
    "model.score(X,Y)"
   ]
  },
  {
   "cell_type": "code",
   "execution_count": 94,
   "metadata": {},
   "outputs": [
    {
     "data": {
      "text/plain": [
       "pandas.core.series.Series"
      ]
     },
     "execution_count": 94,
     "metadata": {},
     "output_type": "execute_result"
    }
   ],
   "source": [
    "type(Y)"
   ]
  },
  {
   "cell_type": "code",
   "execution_count": 111,
   "metadata": {},
   "outputs": [
    {
     "data": {
      "text/plain": [
       "(numpy.ndarray, dtype('float64'))"
      ]
     },
     "execution_count": 111,
     "metadata": {},
     "output_type": "execute_result"
    }
   ],
   "source": [
    "type(X), X.dtype"
   ]
  },
  {
   "cell_type": "code",
   "execution_count": 98,
   "metadata": {},
   "outputs": [
    {
     "data": {
      "text/plain": [
       "pandas.core.series.Series"
      ]
     },
     "execution_count": 98,
     "metadata": {},
     "output_type": "execute_result"
    }
   ],
   "source": [
    "type(Y)"
   ]
  },
  {
   "cell_type": "code",
   "execution_count": 101,
   "metadata": {},
   "outputs": [
    {
     "ename": "AttributeError",
     "evalue": "'Series' object has no attribute 'as_numeric'",
     "output_type": "error",
     "traceback": [
      "\u001b[0;31m---------------------------------------------------------------------------\u001b[0m",
      "\u001b[0;31mAttributeError\u001b[0m                            Traceback (most recent call last)",
      "\u001b[0;32m<ipython-input-101-3edcbf9f00e7>\u001b[0m in \u001b[0;36m<module>\u001b[0;34m\u001b[0m\n\u001b[0;32m----> 1\u001b[0;31m \u001b[0mY\u001b[0m\u001b[0;34m.\u001b[0m\u001b[0mas_numeric\u001b[0m\u001b[0;34m(\u001b[0m\u001b[0;34m)\u001b[0m\u001b[0;34m\u001b[0m\u001b[0;34m\u001b[0m\u001b[0m\n\u001b[0m",
      "\u001b[0;32m/Applications/anaconda3/lib/python3.8/site-packages/pandas/core/generic.py\u001b[0m in \u001b[0;36m__getattr__\u001b[0;34m(self, name)\u001b[0m\n\u001b[1;32m   5137\u001b[0m             \u001b[0;32mif\u001b[0m \u001b[0mself\u001b[0m\u001b[0;34m.\u001b[0m\u001b[0m_info_axis\u001b[0m\u001b[0;34m.\u001b[0m\u001b[0m_can_hold_identifiers_and_holds_name\u001b[0m\u001b[0;34m(\u001b[0m\u001b[0mname\u001b[0m\u001b[0;34m)\u001b[0m\u001b[0;34m:\u001b[0m\u001b[0;34m\u001b[0m\u001b[0;34m\u001b[0m\u001b[0m\n\u001b[1;32m   5138\u001b[0m                 \u001b[0;32mreturn\u001b[0m \u001b[0mself\u001b[0m\u001b[0;34m[\u001b[0m\u001b[0mname\u001b[0m\u001b[0;34m]\u001b[0m\u001b[0;34m\u001b[0m\u001b[0;34m\u001b[0m\u001b[0m\n\u001b[0;32m-> 5139\u001b[0;31m             \u001b[0;32mreturn\u001b[0m \u001b[0mobject\u001b[0m\u001b[0;34m.\u001b[0m\u001b[0m__getattribute__\u001b[0m\u001b[0;34m(\u001b[0m\u001b[0mself\u001b[0m\u001b[0;34m,\u001b[0m \u001b[0mname\u001b[0m\u001b[0;34m)\u001b[0m\u001b[0;34m\u001b[0m\u001b[0;34m\u001b[0m\u001b[0m\n\u001b[0m\u001b[1;32m   5140\u001b[0m \u001b[0;34m\u001b[0m\u001b[0m\n\u001b[1;32m   5141\u001b[0m     \u001b[0;32mdef\u001b[0m \u001b[0m__setattr__\u001b[0m\u001b[0;34m(\u001b[0m\u001b[0mself\u001b[0m\u001b[0;34m,\u001b[0m \u001b[0mname\u001b[0m\u001b[0;34m:\u001b[0m \u001b[0mstr\u001b[0m\u001b[0;34m,\u001b[0m \u001b[0mvalue\u001b[0m\u001b[0;34m)\u001b[0m \u001b[0;34m->\u001b[0m \u001b[0;32mNone\u001b[0m\u001b[0;34m:\u001b[0m\u001b[0;34m\u001b[0m\u001b[0;34m\u001b[0m\u001b[0m\n",
      "\u001b[0;31mAttributeError\u001b[0m: 'Series' object has no attribute 'as_numeric'"
     ]
    }
   ],
   "source": [
    "Y.as_numeric"
   ]
  },
  {
   "cell_type": "code",
   "execution_count": 70,
   "metadata": {},
   "outputs": [
    {
     "ename": "ValueError",
     "evalue": "setting an array element with a sequence.",
     "output_type": "error",
     "traceback": [
      "\u001b[0;31m---------------------------------------------------------------------------\u001b[0m",
      "\u001b[0;31mTypeError\u001b[0m                                 Traceback (most recent call last)",
      "\u001b[0;31mTypeError\u001b[0m: only size-1 arrays can be converted to Python scalars",
      "\nThe above exception was the direct cause of the following exception:\n",
      "\u001b[0;31mValueError\u001b[0m                                Traceback (most recent call last)",
      "\u001b[0;32m<ipython-input-70-e59513fa497a>\u001b[0m in \u001b[0;36m<module>\u001b[0;34m\u001b[0m\n\u001b[0;32m----> 1\u001b[0;31m \u001b[0mmodel\u001b[0m \u001b[0;34m=\u001b[0m \u001b[0mLogisticRegressionCV\u001b[0m\u001b[0;34m(\u001b[0m\u001b[0;34m)\u001b[0m\u001b[0;34m.\u001b[0m\u001b[0mfit\u001b[0m\u001b[0;34m(\u001b[0m\u001b[0mX\u001b[0m\u001b[0;34m,\u001b[0m \u001b[0mY\u001b[0m\u001b[0;34m.\u001b[0m\u001b[0mto_numpy\u001b[0m\u001b[0;34m(\u001b[0m\u001b[0;34m)\u001b[0m\u001b[0;34m)\u001b[0m\u001b[0;34m\u001b[0m\u001b[0;34m\u001b[0m\u001b[0m\n\u001b[0m",
      "\u001b[0;32m/Applications/anaconda3/lib/python3.8/site-packages/sklearn/linear_model/_logistic.py\u001b[0m in \u001b[0;36mfit\u001b[0;34m(self, X, y, sample_weight)\u001b[0m\n\u001b[1;32m   1815\u001b[0m             )\n\u001b[1;32m   1816\u001b[0m \u001b[0;34m\u001b[0m\u001b[0m\n\u001b[0;32m-> 1817\u001b[0;31m         X, y = self._validate_data(X, y, accept_sparse='csr', dtype=np.float64,\n\u001b[0m\u001b[1;32m   1818\u001b[0m                                    \u001b[0morder\u001b[0m\u001b[0;34m=\u001b[0m\u001b[0;34m\"C\"\u001b[0m\u001b[0;34m,\u001b[0m\u001b[0;34m\u001b[0m\u001b[0;34m\u001b[0m\u001b[0m\n\u001b[1;32m   1819\u001b[0m                                    accept_large_sparse=solver != 'liblinear')\n",
      "\u001b[0;32m/Applications/anaconda3/lib/python3.8/site-packages/sklearn/base.py\u001b[0m in \u001b[0;36m_validate_data\u001b[0;34m(self, X, y, reset, validate_separately, **check_params)\u001b[0m\n\u001b[1;32m    430\u001b[0m                 \u001b[0my\u001b[0m \u001b[0;34m=\u001b[0m \u001b[0mcheck_array\u001b[0m\u001b[0;34m(\u001b[0m\u001b[0my\u001b[0m\u001b[0;34m,\u001b[0m \u001b[0;34m**\u001b[0m\u001b[0mcheck_y_params\u001b[0m\u001b[0;34m)\u001b[0m\u001b[0;34m\u001b[0m\u001b[0;34m\u001b[0m\u001b[0m\n\u001b[1;32m    431\u001b[0m             \u001b[0;32melse\u001b[0m\u001b[0;34m:\u001b[0m\u001b[0;34m\u001b[0m\u001b[0;34m\u001b[0m\u001b[0m\n\u001b[0;32m--> 432\u001b[0;31m                 \u001b[0mX\u001b[0m\u001b[0;34m,\u001b[0m \u001b[0my\u001b[0m \u001b[0;34m=\u001b[0m \u001b[0mcheck_X_y\u001b[0m\u001b[0;34m(\u001b[0m\u001b[0mX\u001b[0m\u001b[0;34m,\u001b[0m \u001b[0my\u001b[0m\u001b[0;34m,\u001b[0m \u001b[0;34m**\u001b[0m\u001b[0mcheck_params\u001b[0m\u001b[0;34m)\u001b[0m\u001b[0;34m\u001b[0m\u001b[0;34m\u001b[0m\u001b[0m\n\u001b[0m\u001b[1;32m    433\u001b[0m             \u001b[0mout\u001b[0m \u001b[0;34m=\u001b[0m \u001b[0mX\u001b[0m\u001b[0;34m,\u001b[0m \u001b[0my\u001b[0m\u001b[0;34m\u001b[0m\u001b[0;34m\u001b[0m\u001b[0m\n\u001b[1;32m    434\u001b[0m \u001b[0;34m\u001b[0m\u001b[0m\n",
      "\u001b[0;32m/Applications/anaconda3/lib/python3.8/site-packages/sklearn/utils/validation.py\u001b[0m in \u001b[0;36minner_f\u001b[0;34m(*args, **kwargs)\u001b[0m\n\u001b[1;32m     70\u001b[0m                           FutureWarning)\n\u001b[1;32m     71\u001b[0m         \u001b[0mkwargs\u001b[0m\u001b[0;34m.\u001b[0m\u001b[0mupdate\u001b[0m\u001b[0;34m(\u001b[0m\u001b[0;34m{\u001b[0m\u001b[0mk\u001b[0m\u001b[0;34m:\u001b[0m \u001b[0marg\u001b[0m \u001b[0;32mfor\u001b[0m \u001b[0mk\u001b[0m\u001b[0;34m,\u001b[0m \u001b[0marg\u001b[0m \u001b[0;32min\u001b[0m \u001b[0mzip\u001b[0m\u001b[0;34m(\u001b[0m\u001b[0msig\u001b[0m\u001b[0;34m.\u001b[0m\u001b[0mparameters\u001b[0m\u001b[0;34m,\u001b[0m \u001b[0margs\u001b[0m\u001b[0;34m)\u001b[0m\u001b[0;34m}\u001b[0m\u001b[0;34m)\u001b[0m\u001b[0;34m\u001b[0m\u001b[0;34m\u001b[0m\u001b[0m\n\u001b[0;32m---> 72\u001b[0;31m         \u001b[0;32mreturn\u001b[0m \u001b[0mf\u001b[0m\u001b[0;34m(\u001b[0m\u001b[0;34m**\u001b[0m\u001b[0mkwargs\u001b[0m\u001b[0;34m)\u001b[0m\u001b[0;34m\u001b[0m\u001b[0;34m\u001b[0m\u001b[0m\n\u001b[0m\u001b[1;32m     73\u001b[0m     \u001b[0;32mreturn\u001b[0m \u001b[0minner_f\u001b[0m\u001b[0;34m\u001b[0m\u001b[0;34m\u001b[0m\u001b[0m\n\u001b[1;32m     74\u001b[0m \u001b[0;34m\u001b[0m\u001b[0m\n",
      "\u001b[0;32m/Applications/anaconda3/lib/python3.8/site-packages/sklearn/utils/validation.py\u001b[0m in \u001b[0;36mcheck_X_y\u001b[0;34m(X, y, accept_sparse, accept_large_sparse, dtype, order, copy, force_all_finite, ensure_2d, allow_nd, multi_output, ensure_min_samples, ensure_min_features, y_numeric, estimator)\u001b[0m\n\u001b[1;32m    793\u001b[0m         \u001b[0;32mraise\u001b[0m \u001b[0mValueError\u001b[0m\u001b[0;34m(\u001b[0m\u001b[0;34m\"y cannot be None\"\u001b[0m\u001b[0;34m)\u001b[0m\u001b[0;34m\u001b[0m\u001b[0;34m\u001b[0m\u001b[0m\n\u001b[1;32m    794\u001b[0m \u001b[0;34m\u001b[0m\u001b[0m\n\u001b[0;32m--> 795\u001b[0;31m     X = check_array(X, accept_sparse=accept_sparse,\n\u001b[0m\u001b[1;32m    796\u001b[0m                     \u001b[0maccept_large_sparse\u001b[0m\u001b[0;34m=\u001b[0m\u001b[0maccept_large_sparse\u001b[0m\u001b[0;34m,\u001b[0m\u001b[0;34m\u001b[0m\u001b[0;34m\u001b[0m\u001b[0m\n\u001b[1;32m    797\u001b[0m                     \u001b[0mdtype\u001b[0m\u001b[0;34m=\u001b[0m\u001b[0mdtype\u001b[0m\u001b[0;34m,\u001b[0m \u001b[0morder\u001b[0m\u001b[0;34m=\u001b[0m\u001b[0morder\u001b[0m\u001b[0;34m,\u001b[0m \u001b[0mcopy\u001b[0m\u001b[0;34m=\u001b[0m\u001b[0mcopy\u001b[0m\u001b[0;34m,\u001b[0m\u001b[0;34m\u001b[0m\u001b[0;34m\u001b[0m\u001b[0m\n",
      "\u001b[0;32m/Applications/anaconda3/lib/python3.8/site-packages/sklearn/utils/validation.py\u001b[0m in \u001b[0;36minner_f\u001b[0;34m(*args, **kwargs)\u001b[0m\n\u001b[1;32m     70\u001b[0m                           FutureWarning)\n\u001b[1;32m     71\u001b[0m         \u001b[0mkwargs\u001b[0m\u001b[0;34m.\u001b[0m\u001b[0mupdate\u001b[0m\u001b[0;34m(\u001b[0m\u001b[0;34m{\u001b[0m\u001b[0mk\u001b[0m\u001b[0;34m:\u001b[0m \u001b[0marg\u001b[0m \u001b[0;32mfor\u001b[0m \u001b[0mk\u001b[0m\u001b[0;34m,\u001b[0m \u001b[0marg\u001b[0m \u001b[0;32min\u001b[0m \u001b[0mzip\u001b[0m\u001b[0;34m(\u001b[0m\u001b[0msig\u001b[0m\u001b[0;34m.\u001b[0m\u001b[0mparameters\u001b[0m\u001b[0;34m,\u001b[0m \u001b[0margs\u001b[0m\u001b[0;34m)\u001b[0m\u001b[0;34m}\u001b[0m\u001b[0;34m)\u001b[0m\u001b[0;34m\u001b[0m\u001b[0;34m\u001b[0m\u001b[0m\n\u001b[0;32m---> 72\u001b[0;31m         \u001b[0;32mreturn\u001b[0m \u001b[0mf\u001b[0m\u001b[0;34m(\u001b[0m\u001b[0;34m**\u001b[0m\u001b[0mkwargs\u001b[0m\u001b[0;34m)\u001b[0m\u001b[0;34m\u001b[0m\u001b[0;34m\u001b[0m\u001b[0m\n\u001b[0m\u001b[1;32m     73\u001b[0m     \u001b[0;32mreturn\u001b[0m \u001b[0minner_f\u001b[0m\u001b[0;34m\u001b[0m\u001b[0;34m\u001b[0m\u001b[0m\n\u001b[1;32m     74\u001b[0m \u001b[0;34m\u001b[0m\u001b[0m\n",
      "\u001b[0;32m/Applications/anaconda3/lib/python3.8/site-packages/sklearn/utils/validation.py\u001b[0m in \u001b[0;36mcheck_array\u001b[0;34m(array, accept_sparse, accept_large_sparse, dtype, order, copy, force_all_finite, ensure_2d, allow_nd, ensure_min_samples, ensure_min_features, estimator)\u001b[0m\n\u001b[1;32m    596\u001b[0m                     \u001b[0marray\u001b[0m \u001b[0;34m=\u001b[0m \u001b[0marray\u001b[0m\u001b[0;34m.\u001b[0m\u001b[0mastype\u001b[0m\u001b[0;34m(\u001b[0m\u001b[0mdtype\u001b[0m\u001b[0;34m,\u001b[0m \u001b[0mcasting\u001b[0m\u001b[0;34m=\u001b[0m\u001b[0;34m\"unsafe\"\u001b[0m\u001b[0;34m,\u001b[0m \u001b[0mcopy\u001b[0m\u001b[0;34m=\u001b[0m\u001b[0;32mFalse\u001b[0m\u001b[0;34m)\u001b[0m\u001b[0;34m\u001b[0m\u001b[0;34m\u001b[0m\u001b[0m\n\u001b[1;32m    597\u001b[0m                 \u001b[0;32melse\u001b[0m\u001b[0;34m:\u001b[0m\u001b[0;34m\u001b[0m\u001b[0;34m\u001b[0m\u001b[0m\n\u001b[0;32m--> 598\u001b[0;31m                     \u001b[0marray\u001b[0m \u001b[0;34m=\u001b[0m \u001b[0mnp\u001b[0m\u001b[0;34m.\u001b[0m\u001b[0masarray\u001b[0m\u001b[0;34m(\u001b[0m\u001b[0marray\u001b[0m\u001b[0;34m,\u001b[0m \u001b[0morder\u001b[0m\u001b[0;34m=\u001b[0m\u001b[0morder\u001b[0m\u001b[0;34m,\u001b[0m \u001b[0mdtype\u001b[0m\u001b[0;34m=\u001b[0m\u001b[0mdtype\u001b[0m\u001b[0;34m)\u001b[0m\u001b[0;34m\u001b[0m\u001b[0;34m\u001b[0m\u001b[0m\n\u001b[0m\u001b[1;32m    599\u001b[0m             \u001b[0;32mexcept\u001b[0m \u001b[0mComplexWarning\u001b[0m\u001b[0;34m:\u001b[0m\u001b[0;34m\u001b[0m\u001b[0;34m\u001b[0m\u001b[0m\n\u001b[1;32m    600\u001b[0m                 raise ValueError(\"Complex data not supported\\n\"\n",
      "\u001b[0;31mValueError\u001b[0m: setting an array element with a sequence."
     ]
    }
   ],
   "source": [
    "model = LogisticRegressionCV().fit(X, Y.to_numpy())"
   ]
  },
  {
   "cell_type": "code",
   "execution_count": 71,
   "metadata": {},
   "outputs": [
    {
     "data": {
      "text/plain": [
       "((5574,), (5574,))"
      ]
     },
     "execution_count": 71,
     "metadata": {},
     "output_type": "execute_result"
    }
   ],
   "source": [
    "X.shape, Y.shape"
   ]
  },
  {
   "cell_type": "code",
   "execution_count": 129,
   "metadata": {},
   "outputs": [],
   "source": [
    "goodmodel = LogisticRegression().fit(Xtrain, Ytrain*1.0)\n"
   ]
  },
  {
   "cell_type": "code",
   "execution_count": 130,
   "metadata": {},
   "outputs": [
    {
     "data": {
      "text/plain": [
       "0.9650571791613723"
      ]
     },
     "execution_count": 130,
     "metadata": {},
     "output_type": "execute_result"
    }
   ],
   "source": [
    "goodmodel.score(Xtest, Ytest)"
   ]
  },
  {
   "cell_type": "code",
   "execution_count": null,
   "metadata": {},
   "outputs": [],
   "source": []
  },
  {
   "cell_type": "code",
   "execution_count": null,
   "metadata": {},
   "outputs": [],
   "source": [
    "from sklearn.svm import SVC\n"
   ]
  },
  {
   "cell_type": "code",
   "execution_count": 132,
   "metadata": {},
   "outputs": [],
   "source": [
    "svc = SVC().fit(Xtrain, Ytrain)"
   ]
  },
  {
   "cell_type": "code",
   "execution_count": 133,
   "metadata": {},
   "outputs": [
    {
     "data": {
      "text/plain": [
       "0.9853875476493011"
      ]
     },
     "execution_count": 133,
     "metadata": {},
     "output_type": "execute_result"
    }
   ],
   "source": [
    "svc.score(Xtest, Ytest)"
   ]
  },
  {
   "cell_type": "code",
   "execution_count": null,
   "metadata": {},
   "outputs": [],
   "source": []
  }
 ],
 "metadata": {
  "kernelspec": {
   "display_name": "Python 3 (ipykernel)",
   "language": "python",
   "name": "python3"
  },
  "language_info": {
   "codemirror_mode": {
    "name": "ipython",
    "version": 3
   },
   "file_extension": ".py",
   "mimetype": "text/x-python",
   "name": "python",
   "nbconvert_exporter": "python",
   "pygments_lexer": "ipython3",
   "version": "3.9.12"
  }
 },
 "nbformat": 4,
 "nbformat_minor": 4
}
