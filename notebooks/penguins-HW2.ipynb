{
 "cells": [
  {
   "cell_type": "code",
   "execution_count": null,
   "metadata": {},
   "outputs": [],
   "source": [
    "import matplotlib.pyplot as plt\n",
    "import numpy as np\n",
    "import pandas as pd\n",
    "import scipy.stats\n",
    "\n",
    "# This is an exploration of the Palmer Station penguins dataset \n",
    "# https://allisonhorst.github.io/palmerpenguins/\n",
    "# Horst AM, Hill AP, Gorman KB (2020). palmerpenguins: Palmer Archipelago (Antarctica) penguin data. R package version 0.1.0. https://allisonhorst.github.io/palmerpenguins/. doi: 10.5281/zenodo.3960218.\n",
    "# https://en.wikipedia.org/wiki/Pygoscelis\n",
    "\n",
    "# Three hundred brush-tailed penguins were briefly captured\n",
    "# and subjected to humiliating beak, flipper, and weight measurements \n",
    "# so that data science students don't have to look at Ronald Fisher's \n",
    "# iris dataset."
   ]
  },
  {
   "cell_type": "code",
   "execution_count": null,
   "metadata": {},
   "outputs": [],
   "source": []
  },
  {
   "cell_type": "code",
   "execution_count": null,
   "metadata": {},
   "outputs": [],
   "source": [
    "# There is a mirror of this dataset in vega-datasets.\n",
    "# see if I'm allowed to download it by curl...\n",
    "# curl https://raw.githubusercontent.com/vega/vega-datasets/next/data/penguins.json\n",
    "!curl -OL https://raw.githubusercontent.com/vega/vega-datasets/next/data/penguins.json "
   ]
  },
  {
   "cell_type": "code",
   "execution_count": null,
   "metadata": {},
   "outputs": [],
   "source": [
    "# That line may not work for you; if not, try\n",
    "import urllib.request\n",
    "\n",
    "req = urllib.request.Request('https://raw.githubusercontent.com/vega/vega-datasets/next/data/penguins.json')\n",
    "with urllib.request.urlopen(req) as response:\n",
    "   data = response.read().decode(\"utf8\")\n",
    "data[0:300]"
   ]
  },
  {
   "cell_type": "code",
   "execution_count": null,
   "metadata": {},
   "outputs": [],
   "source": [
    "data_pd = pd.read_json(data)"
   ]
  },
  {
   "cell_type": "code",
   "execution_count": null,
   "metadata": {},
   "outputs": [],
   "source": [
    "# Check that the download was data and not a webpage with an error...\n",
    "!head penguins.json"
   ]
  },
  {
   "cell_type": "code",
   "execution_count": null,
   "metadata": {},
   "outputs": [],
   "source": [
    "penguins = pd.read_json(\"penguins.json\")"
   ]
  },
  {
   "cell_type": "code",
   "execution_count": null,
   "metadata": {},
   "outputs": [],
   "source": [
    "penguins = pd.read_json(data)"
   ]
  },
  {
   "cell_type": "code",
   "execution_count": null,
   "metadata": {},
   "outputs": [],
   "source": [
    "g = penguins.iloc[np.random.permutation(len(penguins))]\n",
    "len(penguins) * .25\n"
   ]
  },
  {
   "cell_type": "code",
   "execution_count": null,
   "metadata": {},
   "outputs": [],
   "source": [
    "penguins_train = g[87:]\n",
    "penguins_test  = g[:87]\n",
    "penguins_train.to_csv( \"penguins_train.csv\")\n",
    "penguins_test.to_csv( \"penguins_test.csv\")\n",
    "penguins = penguins_train\n",
    "# There is a mistake in this cell that makes it not do what it \n",
    "# was intended.  "
   ]
  },
  {
   "cell_type": "code",
   "execution_count": null,
   "metadata": {},
   "outputs": [],
   "source": [
    "# Read in the two sets once they are fixed an in a file:\n",
    "penguins_train=pd.read_csv( \"penguins_train.csv\")\n",
    "penguins_test = pd.read_csv( \"penguins_test.csv\")\n",
    "penguins = penguins_train\n"
   ]
  },
  {
   "cell_type": "code",
   "execution_count": null,
   "metadata": {},
   "outputs": [],
   "source": [
    "# How many penguins?\n",
    "penguins.Species.value_counts(), len(penguins)"
   ]
  },
  {
   "cell_type": "code",
   "execution_count": null,
   "metadata": {},
   "outputs": [],
   "source": [
    "penguins.head()"
   ]
  },
  {
   "cell_type": "code",
   "execution_count": null,
   "metadata": {},
   "outputs": [],
   "source": [
    "penguins.describe()"
   ]
  },
  {
   "cell_type": "code",
   "execution_count": null,
   "metadata": {},
   "outputs": [],
   "source": [
    "penguins.Sex.value_counts()"
   ]
  },
  {
   "cell_type": "code",
   "execution_count": null,
   "metadata": {},
   "outputs": [],
   "source": [
    "# Dictionary for painting the dots high-contrast colors\n",
    "colors = { \"Adelie\" : \"green\", \"Gentoo\": \"blue\", \"Chinstrap\": \"red\"}"
   ]
  },
  {
   "cell_type": "code",
   "execution_count": null,
   "metadata": {},
   "outputs": [],
   "source": [
    "plt.scatter(penguins[\"Beak Depth (mm)\"], penguins[\"Body Mass (g)\"] , color = penguins.Species.map(colors)  )\n",
    "# Had to look up how to make a legend for this kind of data\n",
    "# https://matplotlib.org/stable/gallery/text_labels_and_annotations/custom_legends.html\n",
    "from matplotlib.patches import Patch\n",
    "legend_elements = [Patch(facecolor=c[1], edgecolor='k', label=c[0]) for c in colors.items()]\n",
    "plt.legend(handles=legend_elements)\n",
    "plt.xlabel(\"Beak Depth(mm)\"); plt.ylabel(\"Body mass (g)\")"
   ]
  },
  {
   "cell_type": "code",
   "execution_count": null,
   "metadata": {},
   "outputs": [],
   "source": [
    "penguins.plot( \"Beak Depth (mm)\", \"Body Mass (g)\" ,\n",
    "              kind=\"scatter\", color = penguins.Species.map(colors)  )"
   ]
  },
  {
   "cell_type": "code",
   "execution_count": null,
   "metadata": {},
   "outputs": [],
   "source": [
    "# ONE-HOT ENCODING\n",
    "\n",
    "penguins[\"SP1\"] = penguins.Species == \"Adelie\"\n",
    "penguins[\"SP2\"] = penguins.Species == \"Gentoo\"\n",
    "penguins[\"SP3\"] = penguins.Species == \"Chinstrap\"\n",
    "penguins_test[\"SP1\"]= penguins.Species == \"Adelie\"\n",
    "penguins_test[\"SP2\"]= penguins.Species == \"Gentoo\"\n",
    "penguins_test[\"SP3\"]= penguins.Species == \"Chinstrap\"\n"
   ]
  },
  {
   "cell_type": "code",
   "execution_count": null,
   "metadata": {},
   "outputs": [],
   "source": [
    "penguins[\"SP1\"].sum(), penguins[\"SP2\"].sum(), penguins[\"SP3\"].sum()"
   ]
  },
  {
   "cell_type": "code",
   "execution_count": null,
   "metadata": {},
   "outputs": [],
   "source": [
    "len(penguins)\n",
    "115+ 95+ 47"
   ]
  },
  {
   "cell_type": "code",
   "execution_count": null,
   "metadata": {},
   "outputs": [],
   "source": [
    "penguins[[\"Flipper Length (mm)\", \"Beak Length (mm)\"]].plot(\"Flipper Length (mm)\", \"Beak Length (mm)\", kind=\"scatter\", color = penguins.Species.map(colors))\n",
    "plt.savefig(\"PENGUIN.png\", dpi=300, bbox_inches=\"tight\")"
   ]
  },
  {
   "cell_type": "code",
   "execution_count": null,
   "metadata": {},
   "outputs": [],
   "source": [
    "penguins[[\"Beak Depth (mm)\", \"Body Mass (g)\"]].values.shape, penguins.SP2.values[:, np.newaxis].shape"
   ]
  },
  {
   "cell_type": "code",
   "execution_count": null,
   "metadata": {},
   "outputs": [],
   "source": [
    "# How do I get this in the right shape?\n",
    "penguins.SP2.values[:, np.newaxis].shape"
   ]
  },
  {
   "cell_type": "code",
   "execution_count": null,
   "metadata": {},
   "outputs": [],
   "source": [
    "from sklearn.linear_model import LinearRegression"
   ]
  },
  {
   "cell_type": "code",
   "execution_count": null,
   "metadata": {},
   "outputs": [],
   "source": [
    "#reg = LinearRegression().fit(penguins[[\"Beak Depth (mm)\", \"Body Mass (g)\"]].values, penguins.SP2.values)"
   ]
  },
  {
   "cell_type": "markdown",
   "metadata": {},
   "source": [
    "ValueError: Input X contains NaN."
   ]
  },
  {
   "cell_type": "code",
   "execution_count": null,
   "metadata": {},
   "outputs": [],
   "source": []
  },
  {
   "cell_type": "code",
   "execution_count": null,
   "metadata": {},
   "outputs": [],
   "source": [
    "# Ok, ok, I'll clean up my dataframe.. sorry, scipy.."
   ]
  },
  {
   "cell_type": "code",
   "execution_count": null,
   "metadata": {},
   "outputs": [],
   "source": [
    "penguinclean = penguins[np.isfinite( penguins[\"Beak Depth (mm)\"]) & \n",
    "                        np.isfinite( penguins[\"Body Mass (g)\"]) &\n",
    "                        np.isfinite( penguins[\"Flipper Length (mm)\"]) & \n",
    "                        np.isfinite( penguins[\"Beak Length (mm)\"])]"
   ]
  },
  {
   "cell_type": "code",
   "execution_count": null,
   "metadata": {},
   "outputs": [],
   "source": [
    "penguinclean.isnull().any()"
   ]
  },
  {
   "cell_type": "code",
   "execution_count": null,
   "metadata": {},
   "outputs": [],
   "source": [
    "penguins_train = penguins_train[np.isfinite( penguins_train[\"Beak Depth (mm)\"]) & \n",
    "                        np.isfinite( penguins_train[\"Body Mass (g)\"]) &\n",
    "                        np.isfinite( penguins_train[\"Flipper Length (mm)\"]) & \n",
    "                        np.isfinite( penguins_train[\"Beak Length (mm)\"])]"
   ]
  },
  {
   "cell_type": "code",
   "execution_count": null,
   "metadata": {},
   "outputs": [],
   "source": [
    "penguins_test = penguins_test[np.isfinite( penguins_test[\"Beak Depth (mm)\"]) & \n",
    "                              np.isfinite( penguins_test[\"Body Mass (g)\"]) &\n",
    "                              np.isfinite( penguins_test[\"Flipper Length (mm)\"]) & \n",
    "                              np.isfinite( penguins_test[\"Beak Length (mm)\"])]"
   ]
  },
  {
   "cell_type": "code",
   "execution_count": null,
   "metadata": {},
   "outputs": [],
   "source": [
    "penguins_train.isnull().any(), len(penguins_test)"
   ]
  },
  {
   "cell_type": "code",
   "execution_count": null,
   "metadata": {},
   "outputs": [],
   "source": [
    "penguins_test.isnull().any(), len(penguins_test)"
   ]
  },
  {
   "cell_type": "code",
   "execution_count": null,
   "metadata": {},
   "outputs": [],
   "source": [
    "# run linear regression... this with just two columns for X against an \n",
    "# indicator variable for species 2\n",
    "reg = LinearRegression().fit(penguinclean[[\"Beak Depth (mm)\", \"Body Mass (g)\"]].values, penguinclean.SP2.values)"
   ]
  },
  {
   "cell_type": "code",
   "execution_count": null,
   "metadata": {},
   "outputs": [],
   "source": [
    "dir(reg)"
   ]
  },
  {
   "cell_type": "code",
   "execution_count": null,
   "metadata": {},
   "outputs": [],
   "source": [
    "reg.coef_, reg.intercept_"
   ]
  },
  {
   "cell_type": "code",
   "execution_count": null,
   "metadata": {},
   "outputs": [],
   "source": [
    "# Let us see if I can build the linear classifier out of the \n",
    "# coefficients in reg... \n",
    "X = penguinclean[[\"Beak Depth (mm)\", \"Body Mass (g)\"]].values\n",
    "Y = penguinclean.SP2\n",
    "YHAT = np.dot(X, reg.coef_ ) + reg.intercept_"
   ]
  },
  {
   "cell_type": "code",
   "execution_count": null,
   "metadata": {},
   "outputs": [],
   "source": [
    "# My linear-leastsquares-fit coefficients were \n",
    "#  (array([-0.13720996,  0.00033089]), 1.3226593522496826)\n",
    "# That's b0, b1, and C...\n",
    "# yhat = b0 * X[:,0] + b1* X[:,1] + C \n",
    "# high school algebra... the boundary is x1div = (0.5 - c) / b1 - b0 /b1 * x0\n",
    "\n",
    "x0div = np.arange(14,24)\n",
    "x1div = (0.67 - reg.intercept_)/ reg.coef_[1] - reg.coef_[0] / reg.coef_[1] * x0div"
   ]
  },
  {
   "cell_type": "code",
   "execution_count": null,
   "metadata": {},
   "outputs": [],
   "source": [
    "plt.scatter(X[:,0], X[:,1], color=penguinclean.Species.map(colors) )\n",
    "plt.legend(handles=legend_elements)\n",
    "\n",
    "plt.plot(x0div, x1div)"
   ]
  },
  {
   "cell_type": "code",
   "execution_count": null,
   "metadata": {},
   "outputs": [],
   "source": [
    "plt.scatter(penguins[\"Beak Depth (mm)\"], penguins[\"Body Mass (g)\"] , color = penguins.Species.map(colors)  )\n",
    "plt.legend(handles=legend_elements)\n",
    "plt.plot(x0div, x1div)"
   ]
  },
  {
   "cell_type": "code",
   "execution_count": null,
   "metadata": {},
   "outputs": [],
   "source": [
    "# \"Shooting fish in a barrel.\"\n",
    "\n",
    "# We took two features, performed linear regression, and \n",
    "# used the coefficients to build a linear classifier.\n",
    "\n",
    "# Gentoo is easy to tell apart from the other two species of brush-tailed penguin.\n"
   ]
  },
  {
   "cell_type": "code",
   "execution_count": null,
   "metadata": {},
   "outputs": [],
   "source": [
    "# Other dimensions will be informative about the difference between\n",
    "# the red and the green birds:\n",
    "plt.scatter(penguins[\"Beak Length (mm)\"], penguins[\"Flipper Length (mm)\"] , color = penguins.Species.map(colors)  )\n",
    "plt.legend(handles=legend_elements)\n",
    "# I can glance at this graph and guess at the locations of the\n",
    "# lines that would separate each of the three species from the\n",
    "# rest, but I will need a little more theory to do three-way classificaiton. "
   ]
  },
  {
   "cell_type": "code",
   "execution_count": null,
   "metadata": {},
   "outputs": [],
   "source": [
    "# Now I'm going to go after a harder problem; Adelie penguins with all four X\n",
    "reg4_1 = LinearRegression().fit(penguins_train[[\"Beak Depth (mm)\", \"Body Mass (g)\", \"Beak Length (mm)\", \"Flipper Length (mm)\"]].values, penguins_train.SP1.values)"
   ]
  },
  {
   "cell_type": "code",
   "execution_count": null,
   "metadata": {},
   "outputs": [],
   "source": [
    "reg4_1.coef_, reg4_1.intercept_"
   ]
  },
  {
   "cell_type": "code",
   "execution_count": null,
   "metadata": {},
   "outputs": [],
   "source": [
    "print([\"Beak Depth (mm)\", \"Body Mass (g)\", \"Beak Length (mm)\", \"Flipper Length (mm)\"])\n",
    "reg4_1.coef_, reg4_1.intercept_"
   ]
  },
  {
   "cell_type": "code",
   "execution_count": null,
   "metadata": {},
   "outputs": [],
   "source": [
    "# Can I interpret these coefficients?  I can interpret their signs, of course..\n",
    "# Three of the measurements are in mm, one is in g, and they have different\n",
    "# relevant scales.\n"
   ]
  },
  {
   "cell_type": "code",
   "execution_count": null,
   "metadata": {},
   "outputs": [],
   "source": [
    "penguins_train.std()"
   ]
  },
  {
   "cell_type": "code",
   "execution_count": null,
   "metadata": {},
   "outputs": [],
   "source": [
    "# Let's set put the standard deviations of each column of X into an array:\n",
    "feature_std = np.array([1.964146, 826.402823,  5.046194,  13.464290 ])\n",
    "# If I arranged the columns correctly, this product \n",
    "print([\"Beak Depth (mm)\", \"Body Mass (g)\", \"Beak Length (mm)\", \"Flipper Length (mm)\"])\n",
    "\n",
    "reg4_1.coef_ * feature_std\n",
    "\n"
   ]
  },
  {
   "cell_type": "code",
   "execution_count": null,
   "metadata": {},
   "outputs": [],
   "source": [
    "# tells us a little more about which fields had more weight.  \n",
    "# Flipper length and Body mass aren't as weighted as two \n",
    "# beak measurements."
   ]
  },
  {
   "cell_type": "code",
   "execution_count": null,
   "metadata": {},
   "outputs": [],
   "source": []
  },
  {
   "cell_type": "code",
   "execution_count": null,
   "metadata": {},
   "outputs": [],
   "source": [
    "SP1PREDICT_train= np.dot( penguins_train[[\"Beak Depth (mm)\", \"Body Mass (g)\", 'Beak Length (mm)', \"Flipper Length (mm)\"]].values,reg4_1.coef_) + reg4_1.intercept_"
   ]
  },
  {
   "cell_type": "code",
   "execution_count": null,
   "metadata": {},
   "outputs": [],
   "source": [
    "penguins_train[\"SP1PREDICT\"] = SP1PREDICT_train > 0.5\n",
    "penguins_train[\"SP1LINEAR\"] = SP1PREDICT_train "
   ]
  },
  {
   "cell_type": "code",
   "execution_count": null,
   "metadata": {},
   "outputs": [],
   "source": [
    "SP1PREDICT_test= np.dot( penguins_test[[\"Beak Depth (mm)\", \"Body Mass (g)\", 'Beak Length (mm)', \"Flipper Length (mm)\"]].values,reg4_1.coef_) + reg4_1.intercept_"
   ]
  },
  {
   "cell_type": "code",
   "execution_count": null,
   "metadata": {},
   "outputs": [],
   "source": [
    "penguins_test[\"SP1PREDICT\"] = SP1PREDICT_test > 0.5\n",
    "penguins_test[\"SP1LINEAR\"] = SP1PREDICT_test "
   ]
  },
  {
   "cell_type": "code",
   "execution_count": null,
   "metadata": {},
   "outputs": [],
   "source": [
    "penguins_train.groupby([\"SP1PREDICT\", \"SP1\"]).SP1PREDICT.count()"
   ]
  },
  {
   "cell_type": "code",
   "execution_count": null,
   "metadata": {},
   "outputs": [],
   "source": [
    "len(penguins_train)"
   ]
  },
  {
   "cell_type": "code",
   "execution_count": null,
   "metadata": {},
   "outputs": [],
   "source": [
    "# On the training data, which is cheating,  \n",
    "# Out of 256 penguins, the four-dimensional linear classifier got 252 right\n",
    "# and 4 wrong on the \"is-it-an-Adelie\""
   ]
  },
  {
   "cell_type": "code",
   "execution_count": null,
   "metadata": {},
   "outputs": [],
   "source": [
    "penguins_test.groupby([\"SP1PREDICT\", \"SP1\"]).SP1PREDICT.count()"
   ]
  },
  {
   "cell_type": "code",
   "execution_count": null,
   "metadata": {},
   "outputs": [],
   "source": [
    "penguins_test.head()"
   ]
  },
  {
   "cell_type": "code",
   "execution_count": null,
   "metadata": {},
   "outputs": [],
   "source": [
    "# Since the scores for a binary classifier are in one dimension, \n",
    "# I can histogram them\n",
    "\n",
    "plt.hist(SP1PREDICT_train, bins=50)"
   ]
  },
  {
   "cell_type": "code",
   "execution_count": null,
   "metadata": {},
   "outputs": [],
   "source": [
    "plt.hist(SP1PREDICT_test, bins=50)"
   ]
  },
  {
   "cell_type": "code",
   "execution_count": null,
   "metadata": {},
   "outputs": [],
   "source": [
    "plt.hist(SP1PREDICT_test, bins=10)"
   ]
  },
  {
   "cell_type": "code",
   "execution_count": null,
   "metadata": {},
   "outputs": [],
   "source": [
    "# And they are nicely bimodal.\n",
    "#  SP1PREDICT_train= np.dot( penguins_train[[\"Beak Depth (mm)\", \"Body Mass (g)\", 'Beak Length (mm)', \"Flipper Length (mm)\"]].values,reg2.coef_) + reg2.intercept_\n",
    "\n",
    "def penguinspredict(x):\n",
    "  #  SP1PREDICTION= np.dot( x[[\"Beak Depth (mm)\", \"Body Mass (g)\", 'Beak Length (mm)', \"Flipper Length (mm)\"]].values,reg4_1.coef_) + reg4_1.intercept_\n",
    "    SP1PREDICTION= np.dot( x,reg4_1.coef_) + reg4_1.intercept_\n",
    "\n",
    "    return(SP1PREDICTION > 0.5)\n"
   ]
  },
  {
   "cell_type": "code",
   "execution_count": null,
   "metadata": {},
   "outputs": [],
   "source": [
    "# TEST IT (that penguinspredict does something)\n",
    "penguinspredict(penguins_train[[\"Beak Depth (mm)\", \"Body Mass (g)\", 'Beak Length (mm)', \"Flipper Length (mm)\"]].values)"
   ]
  },
  {
   "cell_type": "code",
   "execution_count": null,
   "metadata": {},
   "outputs": [],
   "source": []
  },
  {
   "cell_type": "code",
   "execution_count": null,
   "metadata": {},
   "outputs": [],
   "source": [
    "mean0 = penguins_train[\"Beak Depth (mm)\"].mean()\n",
    "mean1 = penguins_train[\"Body Mass (g)\"].mean() \n",
    "mean2 = penguins_train['Beak Length (mm)'].mean()\n",
    "mean3 = penguins_train[\"Flipper Length (mm)\"].mean()\n"
   ]
  },
  {
   "cell_type": "code",
   "execution_count": null,
   "metadata": {},
   "outputs": [],
   "source": [
    "xgrid = np.arange(170, 230,2) # range for flipper length\n",
    "ygrid = np.arange(30,59,1)  # range for beak length\n",
    "xax, yax = np.meshgrid(xgrid, ygrid, indexing=\"ij\")\n",
    "z = np.zeros(xax.shape)\n",
    "print(xax.shape, yax.shape, z.shape)\n",
    "for i in range(len(xgrid)):\n",
    "    for j in range(len(ygrid)):\n",
    "        x = np.array([mean0, mean1, ygrid[j], xgrid[i]])\n",
    "       # print(x)\n",
    "        z[i,j]= penguinspredict(x)\n"
   ]
  },
  {
   "cell_type": "code",
   "execution_count": null,
   "metadata": {},
   "outputs": [],
   "source": [
    "colorsnum = { 0 : \"green\", 1: \"blue\", 2: \"red\"}\n",
    "c = [colorsnum[i] for i in z.reshape(-1)]\n",
    "plt.scatter(yax,xax, color=c, alpha=0.3)\n",
    "\n",
    "plt.scatter(penguins[\"Beak Length (mm)\"], penguins[\"Flipper Length (mm)\"] , color = penguins.Species.map(colors)  )\n",
    "plt.legend(handles=legend_elements)\n",
    "plt.xlabel(\"Beak Length (mm)\")\n",
    "plt.ylabel( \"Flipper Length (mm)\")"
   ]
  },
  {
   "cell_type": "code",
   "execution_count": null,
   "metadata": {},
   "outputs": [],
   "source": [
    "# This is a contour-like plot of the boundary between \"is-it-Adelie\" and not Adelie.\n",
    "# For the *one* dimensional classifier "
   ]
  },
  {
   "cell_type": "markdown",
   "metadata": {},
   "source": [
    "##   Let's try to do HW2 with sklearn.LogisticRegression..."
   ]
  },
  {
   "cell_type": "code",
   "execution_count": null,
   "metadata": {},
   "outputs": [],
   "source": []
  },
  {
   "cell_type": "code",
   "execution_count": 135,
   "metadata": {},
   "outputs": [
    {
     "data": {
      "text/html": [
       "<div>\n",
       "<style scoped>\n",
       "    .dataframe tbody tr th:only-of-type {\n",
       "        vertical-align: middle;\n",
       "    }\n",
       "\n",
       "    .dataframe tbody tr th {\n",
       "        vertical-align: top;\n",
       "    }\n",
       "\n",
       "    .dataframe thead th {\n",
       "        text-align: right;\n",
       "    }\n",
       "</style>\n",
       "<table border=\"1\" class=\"dataframe\">\n",
       "  <thead>\n",
       "    <tr style=\"text-align: right;\">\n",
       "      <th></th>\n",
       "      <th>Unnamed: 0</th>\n",
       "      <th>Species</th>\n",
       "      <th>Island</th>\n",
       "      <th>Beak Length (mm)</th>\n",
       "      <th>Beak Depth (mm)</th>\n",
       "      <th>Flipper Length (mm)</th>\n",
       "      <th>Body Mass (g)</th>\n",
       "      <th>Sex</th>\n",
       "      <th>SP1</th>\n",
       "      <th>SP2</th>\n",
       "      <th>SP3</th>\n",
       "      <th>SP1PREDICT</th>\n",
       "      <th>SP1LINEAR</th>\n",
       "    </tr>\n",
       "  </thead>\n",
       "  <tbody>\n",
       "    <tr>\n",
       "      <th>0</th>\n",
       "      <td>194</td>\n",
       "      <td>Chinstrap</td>\n",
       "      <td>Dream</td>\n",
       "      <td>50.9</td>\n",
       "      <td>19.1</td>\n",
       "      <td>196.0</td>\n",
       "      <td>3550.0</td>\n",
       "      <td>MALE</td>\n",
       "      <td>False</td>\n",
       "      <td>False</td>\n",
       "      <td>True</td>\n",
       "      <td>False</td>\n",
       "      <td>0.083466</td>\n",
       "    </tr>\n",
       "    <tr>\n",
       "      <th>1</th>\n",
       "      <td>295</td>\n",
       "      <td>Gentoo</td>\n",
       "      <td>Biscoe</td>\n",
       "      <td>48.6</td>\n",
       "      <td>16.0</td>\n",
       "      <td>230.0</td>\n",
       "      <td>5800.0</td>\n",
       "      <td>MALE</td>\n",
       "      <td>False</td>\n",
       "      <td>True</td>\n",
       "      <td>False</td>\n",
       "      <td>False</td>\n",
       "      <td>0.075181</td>\n",
       "    </tr>\n",
       "    <tr>\n",
       "      <th>2</th>\n",
       "      <td>263</td>\n",
       "      <td>Gentoo</td>\n",
       "      <td>Biscoe</td>\n",
       "      <td>49.6</td>\n",
       "      <td>15.0</td>\n",
       "      <td>216.0</td>\n",
       "      <td>4750.0</td>\n",
       "      <td>MALE</td>\n",
       "      <td>False</td>\n",
       "      <td>True</td>\n",
       "      <td>False</td>\n",
       "      <td>False</td>\n",
       "      <td>-0.160671</td>\n",
       "    </tr>\n",
       "    <tr>\n",
       "      <th>3</th>\n",
       "      <td>158</td>\n",
       "      <td>Chinstrap</td>\n",
       "      <td>Dream</td>\n",
       "      <td>46.1</td>\n",
       "      <td>18.2</td>\n",
       "      <td>178.0</td>\n",
       "      <td>3250.0</td>\n",
       "      <td>FEMALE</td>\n",
       "      <td>False</td>\n",
       "      <td>False</td>\n",
       "      <td>True</td>\n",
       "      <td>False</td>\n",
       "      <td>0.397042</td>\n",
       "    </tr>\n",
       "    <tr>\n",
       "      <th>4</th>\n",
       "      <td>292</td>\n",
       "      <td>Gentoo</td>\n",
       "      <td>Biscoe</td>\n",
       "      <td>48.2</td>\n",
       "      <td>15.6</td>\n",
       "      <td>221.0</td>\n",
       "      <td>5100.0</td>\n",
       "      <td>MALE</td>\n",
       "      <td>False</td>\n",
       "      <td>True</td>\n",
       "      <td>False</td>\n",
       "      <td>False</td>\n",
       "      <td>0.015667</td>\n",
       "    </tr>\n",
       "    <tr>\n",
       "      <th>...</th>\n",
       "      <td>...</td>\n",
       "      <td>...</td>\n",
       "      <td>...</td>\n",
       "      <td>...</td>\n",
       "      <td>...</td>\n",
       "      <td>...</td>\n",
       "      <td>...</td>\n",
       "      <td>...</td>\n",
       "      <td>...</td>\n",
       "      <td>...</td>\n",
       "      <td>...</td>\n",
       "      <td>...</td>\n",
       "      <td>...</td>\n",
       "    </tr>\n",
       "    <tr>\n",
       "      <th>252</th>\n",
       "      <td>214</td>\n",
       "      <td>Chinstrap</td>\n",
       "      <td>Dream</td>\n",
       "      <td>45.7</td>\n",
       "      <td>17.0</td>\n",
       "      <td>195.0</td>\n",
       "      <td>3650.0</td>\n",
       "      <td>FEMALE</td>\n",
       "      <td>False</td>\n",
       "      <td>False</td>\n",
       "      <td>True</td>\n",
       "      <td>False</td>\n",
       "      <td>0.266289</td>\n",
       "    </tr>\n",
       "    <tr>\n",
       "      <th>253</th>\n",
       "      <td>20</td>\n",
       "      <td>Adelie</td>\n",
       "      <td>Biscoe</td>\n",
       "      <td>37.8</td>\n",
       "      <td>18.3</td>\n",
       "      <td>174.0</td>\n",
       "      <td>3400.0</td>\n",
       "      <td>FEMALE</td>\n",
       "      <td>True</td>\n",
       "      <td>False</td>\n",
       "      <td>False</td>\n",
       "      <td>True</td>\n",
       "      <td>1.031446</td>\n",
       "    </tr>\n",
       "    <tr>\n",
       "      <th>254</th>\n",
       "      <td>212</td>\n",
       "      <td>Chinstrap</td>\n",
       "      <td>Dream</td>\n",
       "      <td>51.9</td>\n",
       "      <td>19.5</td>\n",
       "      <td>206.0</td>\n",
       "      <td>3950.0</td>\n",
       "      <td>MALE</td>\n",
       "      <td>False</td>\n",
       "      <td>False</td>\n",
       "      <td>True</td>\n",
       "      <td>False</td>\n",
       "      <td>0.050500</td>\n",
       "    </tr>\n",
       "    <tr>\n",
       "      <th>255</th>\n",
       "      <td>61</td>\n",
       "      <td>Adelie</td>\n",
       "      <td>Biscoe</td>\n",
       "      <td>41.3</td>\n",
       "      <td>21.1</td>\n",
       "      <td>195.0</td>\n",
       "      <td>4400.0</td>\n",
       "      <td>MALE</td>\n",
       "      <td>True</td>\n",
       "      <td>False</td>\n",
       "      <td>False</td>\n",
       "      <td>True</td>\n",
       "      <td>1.075490</td>\n",
       "    </tr>\n",
       "    <tr>\n",
       "      <th>256</th>\n",
       "      <td>82</td>\n",
       "      <td>Adelie</td>\n",
       "      <td>Torgersen</td>\n",
       "      <td>36.7</td>\n",
       "      <td>18.8</td>\n",
       "      <td>187.0</td>\n",
       "      <td>3800.0</td>\n",
       "      <td>FEMALE</td>\n",
       "      <td>True</td>\n",
       "      <td>False</td>\n",
       "      <td>False</td>\n",
       "      <td>True</td>\n",
       "      <td>1.136036</td>\n",
       "    </tr>\n",
       "  </tbody>\n",
       "</table>\n",
       "<p>255 rows × 13 columns</p>\n",
       "</div>"
      ],
      "text/plain": [
       "     Unnamed: 0    Species     Island  Beak Length (mm)  Beak Depth (mm)  \\\n",
       "0           194  Chinstrap      Dream              50.9             19.1   \n",
       "1           295     Gentoo     Biscoe              48.6             16.0   \n",
       "2           263     Gentoo     Biscoe              49.6             15.0   \n",
       "3           158  Chinstrap      Dream              46.1             18.2   \n",
       "4           292     Gentoo     Biscoe              48.2             15.6   \n",
       "..          ...        ...        ...               ...              ...   \n",
       "252         214  Chinstrap      Dream              45.7             17.0   \n",
       "253          20     Adelie     Biscoe              37.8             18.3   \n",
       "254         212  Chinstrap      Dream              51.9             19.5   \n",
       "255          61     Adelie     Biscoe              41.3             21.1   \n",
       "256          82     Adelie  Torgersen              36.7             18.8   \n",
       "\n",
       "     Flipper Length (mm)  Body Mass (g)     Sex    SP1    SP2    SP3  \\\n",
       "0                  196.0         3550.0    MALE  False  False   True   \n",
       "1                  230.0         5800.0    MALE  False   True  False   \n",
       "2                  216.0         4750.0    MALE  False   True  False   \n",
       "3                  178.0         3250.0  FEMALE  False  False   True   \n",
       "4                  221.0         5100.0    MALE  False   True  False   \n",
       "..                   ...            ...     ...    ...    ...    ...   \n",
       "252                195.0         3650.0  FEMALE  False  False   True   \n",
       "253                174.0         3400.0  FEMALE   True  False  False   \n",
       "254                206.0         3950.0    MALE  False  False   True   \n",
       "255                195.0         4400.0    MALE   True  False  False   \n",
       "256                187.0         3800.0  FEMALE   True  False  False   \n",
       "\n",
       "     SP1PREDICT  SP1LINEAR  \n",
       "0         False   0.083466  \n",
       "1         False   0.075181  \n",
       "2         False  -0.160671  \n",
       "3         False   0.397042  \n",
       "4         False   0.015667  \n",
       "..          ...        ...  \n",
       "252       False   0.266289  \n",
       "253        True   1.031446  \n",
       "254       False   0.050500  \n",
       "255        True   1.075490  \n",
       "256        True   1.136036  \n",
       "\n",
       "[255 rows x 13 columns]"
      ]
     },
     "execution_count": 135,
     "metadata": {},
     "output_type": "execute_result"
    }
   ],
   "source": [
    "penguins_train"
   ]
  },
  {
   "cell_type": "code",
   "execution_count": 136,
   "metadata": {},
   "outputs": [],
   "source": [
    "X4 = penguins_train.dropna()[[\"Beak Depth (mm)\", \"Body Mass (g)\", 'Beak Length (mm)', \"Flipper Length (mm)\"]]\n",
    "Y4 = penguins_train.dropna().Sex "
   ]
  },
  {
   "cell_type": "code",
   "execution_count": 137,
   "metadata": {},
   "outputs": [],
   "source": [
    "from sklearn.linear_model import LogisticRegression\n",
    "fit4sex = LogisticRegression().fit(X4, Y4)"
   ]
  },
  {
   "cell_type": "code",
   "execution_count": 138,
   "metadata": {},
   "outputs": [
    {
     "data": {
      "text/plain": [
       "(array([[-0.01635048,  0.00125618, -0.0244624 , -0.03436507],\n",
       "        [-0.40947577, -0.00358774, -0.06954419,  0.13195433],\n",
       "        [ 0.42582625,  0.00233156,  0.09400659, -0.09758926]]),\n",
       " array([-0.00056779,  0.00225905, -0.00169126]))"
      ]
     },
     "execution_count": 138,
     "metadata": {},
     "output_type": "execute_result"
    }
   ],
   "source": [
    "fit4sex.coef_, fit4sex.intercept_"
   ]
  },
  {
   "cell_type": "code",
   "execution_count": null,
   "metadata": {},
   "outputs": [],
   "source": [
    "# WHAT IS THIS  ? ?"
   ]
  },
  {
   "cell_type": "code",
   "execution_count": 139,
   "metadata": {},
   "outputs": [
    {
     "data": {
      "text/plain": [
       "MALE      133\n",
       "FEMALE    116\n",
       ".           1\n",
       "Name: Sex, dtype: int64"
      ]
     },
     "execution_count": 139,
     "metadata": {},
     "output_type": "execute_result"
    }
   ],
   "source": [
    "penguins_train.Sex.value_counts()"
   ]
  },
  {
   "cell_type": "code",
   "execution_count": null,
   "metadata": {},
   "outputs": [],
   "source": [
    "# <rant>  sklearn.linear_model.LogisticRegression\n",
    "# does not have the same input type as LinearRegression\n",
    "# or most of the rest of the sklearn ML models... \n",
    "# LogisticRegression takes a 1d vector of FACTORS for y</rant>\n"
   ]
  },
  {
   "cell_type": "code",
   "execution_count": 140,
   "metadata": {},
   "outputs": [
    {
     "data": {
      "text/plain": [
       "array(['.', 'FEMALE', 'MALE'], dtype=object)"
      ]
     },
     "execution_count": 140,
     "metadata": {},
     "output_type": "execute_result"
    }
   ],
   "source": [
    "fit4sex.classes_"
   ]
  },
  {
   "cell_type": "code",
   "execution_count": 141,
   "metadata": {},
   "outputs": [
    {
     "data": {
      "text/html": [
       "<div>\n",
       "<style scoped>\n",
       "    .dataframe tbody tr th:only-of-type {\n",
       "        vertical-align: middle;\n",
       "    }\n",
       "\n",
       "    .dataframe tbody tr th {\n",
       "        vertical-align: top;\n",
       "    }\n",
       "\n",
       "    .dataframe thead th {\n",
       "        text-align: right;\n",
       "    }\n",
       "</style>\n",
       "<table border=\"1\" class=\"dataframe\">\n",
       "  <thead>\n",
       "    <tr style=\"text-align: right;\">\n",
       "      <th></th>\n",
       "      <th>Sex</th>\n",
       "      <th>Beak Length (mm)</th>\n",
       "      <th>Beak Depth (mm)</th>\n",
       "      <th>Flipper Length (mm)</th>\n",
       "      <th>Body Mass (g)</th>\n",
       "      <th>Sex</th>\n",
       "      <th>Sex</th>\n",
       "      <th>Sex</th>\n",
       "      <th>Sex</th>\n",
       "      <th>Sex</th>\n",
       "      <th>Beak Length (mm)</th>\n",
       "      <th>Beak Depth (mm)</th>\n",
       "      <th>Flipper Length (mm)</th>\n",
       "      <th>Body Mass (g)</th>\n",
       "      <th>Sex</th>\n",
       "    </tr>\n",
       "  </thead>\n",
       "  <tbody>\n",
       "    <tr>\n",
       "      <th>26</th>\n",
       "      <td>NaN</td>\n",
       "      <td>47.3</td>\n",
       "      <td>13.8</td>\n",
       "      <td>216.0</td>\n",
       "      <td>4725.0</td>\n",
       "      <td>NaN</td>\n",
       "      <td>NaN</td>\n",
       "      <td>NaN</td>\n",
       "      <td>NaN</td>\n",
       "      <td>NaN</td>\n",
       "      <td>47.3</td>\n",
       "      <td>13.8</td>\n",
       "      <td>216.0</td>\n",
       "      <td>4725.0</td>\n",
       "      <td>NaN</td>\n",
       "    </tr>\n",
       "    <tr>\n",
       "      <th>67</th>\n",
       "      <td>NaN</td>\n",
       "      <td>NaN</td>\n",
       "      <td>NaN</td>\n",
       "      <td>NaN</td>\n",
       "      <td>NaN</td>\n",
       "      <td>NaN</td>\n",
       "      <td>NaN</td>\n",
       "      <td>NaN</td>\n",
       "      <td>NaN</td>\n",
       "      <td>NaN</td>\n",
       "      <td>NaN</td>\n",
       "      <td>NaN</td>\n",
       "      <td>NaN</td>\n",
       "      <td>NaN</td>\n",
       "      <td>NaN</td>\n",
       "    </tr>\n",
       "    <tr>\n",
       "      <th>67</th>\n",
       "      <td>NaN</td>\n",
       "      <td>NaN</td>\n",
       "      <td>NaN</td>\n",
       "      <td>NaN</td>\n",
       "      <td>NaN</td>\n",
       "      <td>NaN</td>\n",
       "      <td>NaN</td>\n",
       "      <td>NaN</td>\n",
       "      <td>NaN</td>\n",
       "      <td>NaN</td>\n",
       "      <td>NaN</td>\n",
       "      <td>NaN</td>\n",
       "      <td>NaN</td>\n",
       "      <td>NaN</td>\n",
       "      <td>NaN</td>\n",
       "    </tr>\n",
       "    <tr>\n",
       "      <th>67</th>\n",
       "      <td>NaN</td>\n",
       "      <td>NaN</td>\n",
       "      <td>NaN</td>\n",
       "      <td>NaN</td>\n",
       "      <td>NaN</td>\n",
       "      <td>NaN</td>\n",
       "      <td>NaN</td>\n",
       "      <td>NaN</td>\n",
       "      <td>NaN</td>\n",
       "      <td>NaN</td>\n",
       "      <td>NaN</td>\n",
       "      <td>NaN</td>\n",
       "      <td>NaN</td>\n",
       "      <td>NaN</td>\n",
       "      <td>NaN</td>\n",
       "    </tr>\n",
       "    <tr>\n",
       "      <th>67</th>\n",
       "      <td>NaN</td>\n",
       "      <td>NaN</td>\n",
       "      <td>NaN</td>\n",
       "      <td>NaN</td>\n",
       "      <td>NaN</td>\n",
       "      <td>NaN</td>\n",
       "      <td>NaN</td>\n",
       "      <td>NaN</td>\n",
       "      <td>NaN</td>\n",
       "      <td>NaN</td>\n",
       "      <td>NaN</td>\n",
       "      <td>NaN</td>\n",
       "      <td>NaN</td>\n",
       "      <td>NaN</td>\n",
       "      <td>NaN</td>\n",
       "    </tr>\n",
       "    <tr>\n",
       "      <th>67</th>\n",
       "      <td>NaN</td>\n",
       "      <td>NaN</td>\n",
       "      <td>NaN</td>\n",
       "      <td>NaN</td>\n",
       "      <td>NaN</td>\n",
       "      <td>NaN</td>\n",
       "      <td>NaN</td>\n",
       "      <td>NaN</td>\n",
       "      <td>NaN</td>\n",
       "      <td>NaN</td>\n",
       "      <td>NaN</td>\n",
       "      <td>NaN</td>\n",
       "      <td>NaN</td>\n",
       "      <td>NaN</td>\n",
       "      <td>NaN</td>\n",
       "    </tr>\n",
       "    <tr>\n",
       "      <th>140</th>\n",
       "      <td>NaN</td>\n",
       "      <td>37.8</td>\n",
       "      <td>17.3</td>\n",
       "      <td>180.0</td>\n",
       "      <td>3700.0</td>\n",
       "      <td>NaN</td>\n",
       "      <td>NaN</td>\n",
       "      <td>NaN</td>\n",
       "      <td>NaN</td>\n",
       "      <td>NaN</td>\n",
       "      <td>37.8</td>\n",
       "      <td>17.3</td>\n",
       "      <td>180.0</td>\n",
       "      <td>3700.0</td>\n",
       "      <td>NaN</td>\n",
       "    </tr>\n",
       "    <tr>\n",
       "      <th>164</th>\n",
       "      <td>NaN</td>\n",
       "      <td>37.8</td>\n",
       "      <td>17.1</td>\n",
       "      <td>186.0</td>\n",
       "      <td>3300.0</td>\n",
       "      <td>NaN</td>\n",
       "      <td>NaN</td>\n",
       "      <td>NaN</td>\n",
       "      <td>NaN</td>\n",
       "      <td>NaN</td>\n",
       "      <td>37.8</td>\n",
       "      <td>17.1</td>\n",
       "      <td>186.0</td>\n",
       "      <td>3300.0</td>\n",
       "      <td>NaN</td>\n",
       "    </tr>\n",
       "    <tr>\n",
       "      <th>170</th>\n",
       "      <td>NaN</td>\n",
       "      <td>46.2</td>\n",
       "      <td>14.4</td>\n",
       "      <td>214.0</td>\n",
       "      <td>4650.0</td>\n",
       "      <td>NaN</td>\n",
       "      <td>NaN</td>\n",
       "      <td>NaN</td>\n",
       "      <td>NaN</td>\n",
       "      <td>NaN</td>\n",
       "      <td>46.2</td>\n",
       "      <td>14.4</td>\n",
       "      <td>214.0</td>\n",
       "      <td>4650.0</td>\n",
       "      <td>NaN</td>\n",
       "    </tr>\n",
       "    <tr>\n",
       "      <th>190</th>\n",
       "      <td>NaN</td>\n",
       "      <td>42.0</td>\n",
       "      <td>20.2</td>\n",
       "      <td>190.0</td>\n",
       "      <td>4250.0</td>\n",
       "      <td>NaN</td>\n",
       "      <td>NaN</td>\n",
       "      <td>NaN</td>\n",
       "      <td>NaN</td>\n",
       "      <td>NaN</td>\n",
       "      <td>42.0</td>\n",
       "      <td>20.2</td>\n",
       "      <td>190.0</td>\n",
       "      <td>4250.0</td>\n",
       "      <td>NaN</td>\n",
       "    </tr>\n",
       "    <tr>\n",
       "      <th>213</th>\n",
       "      <td>NaN</td>\n",
       "      <td>NaN</td>\n",
       "      <td>NaN</td>\n",
       "      <td>NaN</td>\n",
       "      <td>NaN</td>\n",
       "      <td>NaN</td>\n",
       "      <td>NaN</td>\n",
       "      <td>NaN</td>\n",
       "      <td>NaN</td>\n",
       "      <td>NaN</td>\n",
       "      <td>NaN</td>\n",
       "      <td>NaN</td>\n",
       "      <td>NaN</td>\n",
       "      <td>NaN</td>\n",
       "      <td>NaN</td>\n",
       "    </tr>\n",
       "    <tr>\n",
       "      <th>213</th>\n",
       "      <td>NaN</td>\n",
       "      <td>NaN</td>\n",
       "      <td>NaN</td>\n",
       "      <td>NaN</td>\n",
       "      <td>NaN</td>\n",
       "      <td>NaN</td>\n",
       "      <td>NaN</td>\n",
       "      <td>NaN</td>\n",
       "      <td>NaN</td>\n",
       "      <td>NaN</td>\n",
       "      <td>NaN</td>\n",
       "      <td>NaN</td>\n",
       "      <td>NaN</td>\n",
       "      <td>NaN</td>\n",
       "      <td>NaN</td>\n",
       "    </tr>\n",
       "    <tr>\n",
       "      <th>213</th>\n",
       "      <td>NaN</td>\n",
       "      <td>NaN</td>\n",
       "      <td>NaN</td>\n",
       "      <td>NaN</td>\n",
       "      <td>NaN</td>\n",
       "      <td>NaN</td>\n",
       "      <td>NaN</td>\n",
       "      <td>NaN</td>\n",
       "      <td>NaN</td>\n",
       "      <td>NaN</td>\n",
       "      <td>NaN</td>\n",
       "      <td>NaN</td>\n",
       "      <td>NaN</td>\n",
       "      <td>NaN</td>\n",
       "      <td>NaN</td>\n",
       "    </tr>\n",
       "    <tr>\n",
       "      <th>213</th>\n",
       "      <td>NaN</td>\n",
       "      <td>NaN</td>\n",
       "      <td>NaN</td>\n",
       "      <td>NaN</td>\n",
       "      <td>NaN</td>\n",
       "      <td>NaN</td>\n",
       "      <td>NaN</td>\n",
       "      <td>NaN</td>\n",
       "      <td>NaN</td>\n",
       "      <td>NaN</td>\n",
       "      <td>NaN</td>\n",
       "      <td>NaN</td>\n",
       "      <td>NaN</td>\n",
       "      <td>NaN</td>\n",
       "      <td>NaN</td>\n",
       "    </tr>\n",
       "    <tr>\n",
       "      <th>213</th>\n",
       "      <td>NaN</td>\n",
       "      <td>NaN</td>\n",
       "      <td>NaN</td>\n",
       "      <td>NaN</td>\n",
       "      <td>NaN</td>\n",
       "      <td>NaN</td>\n",
       "      <td>NaN</td>\n",
       "      <td>NaN</td>\n",
       "      <td>NaN</td>\n",
       "      <td>NaN</td>\n",
       "      <td>NaN</td>\n",
       "      <td>NaN</td>\n",
       "      <td>NaN</td>\n",
       "      <td>NaN</td>\n",
       "      <td>NaN</td>\n",
       "    </tr>\n",
       "  </tbody>\n",
       "</table>\n",
       "</div>"
      ],
      "text/plain": [
       "     Sex  Beak Length (mm)  Beak Depth (mm)  Flipper Length (mm)  \\\n",
       "26   NaN              47.3             13.8                216.0   \n",
       "67   NaN               NaN              NaN                  NaN   \n",
       "67   NaN               NaN              NaN                  NaN   \n",
       "67   NaN               NaN              NaN                  NaN   \n",
       "67   NaN               NaN              NaN                  NaN   \n",
       "67   NaN               NaN              NaN                  NaN   \n",
       "140  NaN              37.8             17.3                180.0   \n",
       "164  NaN              37.8             17.1                186.0   \n",
       "170  NaN              46.2             14.4                214.0   \n",
       "190  NaN              42.0             20.2                190.0   \n",
       "213  NaN               NaN              NaN                  NaN   \n",
       "213  NaN               NaN              NaN                  NaN   \n",
       "213  NaN               NaN              NaN                  NaN   \n",
       "213  NaN               NaN              NaN                  NaN   \n",
       "213  NaN               NaN              NaN                  NaN   \n",
       "\n",
       "     Body Mass (g)  Sex  Sex  Sex  Sex  Sex  Beak Length (mm)  \\\n",
       "26          4725.0  NaN  NaN  NaN  NaN  NaN              47.3   \n",
       "67             NaN  NaN  NaN  NaN  NaN  NaN               NaN   \n",
       "67             NaN  NaN  NaN  NaN  NaN  NaN               NaN   \n",
       "67             NaN  NaN  NaN  NaN  NaN  NaN               NaN   \n",
       "67             NaN  NaN  NaN  NaN  NaN  NaN               NaN   \n",
       "67             NaN  NaN  NaN  NaN  NaN  NaN               NaN   \n",
       "140         3700.0  NaN  NaN  NaN  NaN  NaN              37.8   \n",
       "164         3300.0  NaN  NaN  NaN  NaN  NaN              37.8   \n",
       "170         4650.0  NaN  NaN  NaN  NaN  NaN              46.2   \n",
       "190         4250.0  NaN  NaN  NaN  NaN  NaN              42.0   \n",
       "213            NaN  NaN  NaN  NaN  NaN  NaN               NaN   \n",
       "213            NaN  NaN  NaN  NaN  NaN  NaN               NaN   \n",
       "213            NaN  NaN  NaN  NaN  NaN  NaN               NaN   \n",
       "213            NaN  NaN  NaN  NaN  NaN  NaN               NaN   \n",
       "213            NaN  NaN  NaN  NaN  NaN  NaN               NaN   \n",
       "\n",
       "     Beak Depth (mm)  Flipper Length (mm)  Body Mass (g)  Sex  \n",
       "26              13.8                216.0         4725.0  NaN  \n",
       "67               NaN                  NaN            NaN  NaN  \n",
       "67               NaN                  NaN            NaN  NaN  \n",
       "67               NaN                  NaN            NaN  NaN  \n",
       "67               NaN                  NaN            NaN  NaN  \n",
       "67               NaN                  NaN            NaN  NaN  \n",
       "140             17.3                180.0         3700.0  NaN  \n",
       "164             17.1                186.0         3300.0  NaN  \n",
       "170             14.4                214.0         4650.0  NaN  \n",
       "190             20.2                190.0         4250.0  NaN  \n",
       "213              NaN                  NaN            NaN  NaN  \n",
       "213              NaN                  NaN            NaN  NaN  \n",
       "213              NaN                  NaN            NaN  NaN  \n",
       "213              NaN                  NaN            NaN  NaN  \n",
       "213              NaN                  NaN            NaN  NaN  "
      ]
     },
     "execution_count": 141,
     "metadata": {},
     "output_type": "execute_result"
    }
   ],
   "source": [
    "penguins.iloc[np.where(penguins.isnull())]"
   ]
  },
  {
   "cell_type": "code",
   "execution_count": 142,
   "metadata": {},
   "outputs": [
    {
     "data": {
      "text/html": [
       "<div>\n",
       "<style scoped>\n",
       "    .dataframe tbody tr th:only-of-type {\n",
       "        vertical-align: middle;\n",
       "    }\n",
       "\n",
       "    .dataframe tbody tr th {\n",
       "        vertical-align: top;\n",
       "    }\n",
       "\n",
       "    .dataframe thead th {\n",
       "        text-align: right;\n",
       "    }\n",
       "</style>\n",
       "<table border=\"1\" class=\"dataframe\">\n",
       "  <thead>\n",
       "    <tr style=\"text-align: right;\">\n",
       "      <th></th>\n",
       "      <th>Unnamed: 0</th>\n",
       "      <th>Species</th>\n",
       "      <th>Island</th>\n",
       "      <th>Beak Length (mm)</th>\n",
       "      <th>Beak Depth (mm)</th>\n",
       "      <th>Flipper Length (mm)</th>\n",
       "      <th>Body Mass (g)</th>\n",
       "      <th>Sex</th>\n",
       "      <th>SP1</th>\n",
       "      <th>SP2</th>\n",
       "      <th>SP3</th>\n",
       "    </tr>\n",
       "  </thead>\n",
       "  <tbody>\n",
       "    <tr>\n",
       "      <th>20</th>\n",
       "      <td>336</td>\n",
       "      <td>Gentoo</td>\n",
       "      <td>Biscoe</td>\n",
       "      <td>44.5</td>\n",
       "      <td>15.7</td>\n",
       "      <td>217.0</td>\n",
       "      <td>4875.0</td>\n",
       "      <td>.</td>\n",
       "      <td>False</td>\n",
       "      <td>True</td>\n",
       "      <td>False</td>\n",
       "    </tr>\n",
       "  </tbody>\n",
       "</table>\n",
       "</div>"
      ],
      "text/plain": [
       "    Unnamed: 0 Species  Island  Beak Length (mm)  Beak Depth (mm)  \\\n",
       "20         336  Gentoo  Biscoe              44.5             15.7   \n",
       "\n",
       "    Flipper Length (mm)  Body Mass (g) Sex    SP1   SP2    SP3  \n",
       "20                217.0         4875.0   .  False  True  False  "
      ]
     },
     "execution_count": 142,
     "metadata": {},
     "output_type": "execute_result"
    }
   ],
   "source": [
    "penguins.query(\"Sex == '.'\")"
   ]
  },
  {
   "cell_type": "code",
   "execution_count": 143,
   "metadata": {},
   "outputs": [],
   "source": [
    "unknownpenguin = penguins.query(\"Sex == '.'\")[[\"Beak Depth (mm)\", \"Body Mass (g)\", 'Beak Length (mm)', \"Flipper Length (mm)\"]] \n"
   ]
  },
  {
   "cell_type": "code",
   "execution_count": 144,
   "metadata": {},
   "outputs": [
    {
     "data": {
      "text/plain": [
       "array(['FEMALE'], dtype=object)"
      ]
     },
     "execution_count": 144,
     "metadata": {},
     "output_type": "execute_result"
    }
   ],
   "source": [
    "fit4sex.predict(unknownpenguin)"
   ]
  },
  {
   "cell_type": "code",
   "execution_count": 145,
   "metadata": {},
   "outputs": [
    {
     "data": {
      "text/plain": [
       "(array([[0.00856516, 0.63239252, 0.35904232]]),\n",
       " array(['.', 'FEMALE', 'MALE'], dtype=object))"
      ]
     },
     "execution_count": 145,
     "metadata": {},
     "output_type": "execute_result"
    }
   ],
   "source": [
    "fit4sex.predict_proba(unknownpenguin), fit4sex.classes_"
   ]
  },
  {
   "cell_type": "code",
   "execution_count": 146,
   "metadata": {},
   "outputs": [],
   "source": [
    "predictsex = fit4sex.predict(X4TEST)"
   ]
  },
  {
   "cell_type": "code",
   "execution_count": 147,
   "metadata": {},
   "outputs": [
    {
     "data": {
      "text/plain": [
       "array([[35,  5],\n",
       "       [14, 30]])"
      ]
     },
     "execution_count": 147,
     "metadata": {},
     "output_type": "execute_result"
    }
   ],
   "source": [
    "confusion_matrix(predictsex, penguins_test.dropna().Sex)"
   ]
  },
  {
   "cell_type": "code",
   "execution_count": 148,
   "metadata": {},
   "outputs": [],
   "source": [
    "X4 = penguins_train.dropna()[[\"Beak Depth (mm)\", \"Body Mass (g)\", 'Beak Length (mm)', \"Flipper Length (mm)\"]]\n",
    "YSPECIES = penguins_train.dropna().Species\n",
    "X4TEST = penguins_test.dropna()[[\"Beak Depth (mm)\", \"Body Mass (g)\", 'Beak Length (mm)', \"Flipper Length (mm)\"]]\n",
    "YSPECIESTEST = penguins_test.dropna().Species"
   ]
  },
  {
   "cell_type": "code",
   "execution_count": 149,
   "metadata": {},
   "outputs": [
    {
     "data": {
      "text/plain": [
       "Adelie       116\n",
       "Gentoo        90\n",
       "Chinstrap     44\n",
       "Name: Species, dtype: int64"
      ]
     },
     "execution_count": 149,
     "metadata": {},
     "output_type": "execute_result"
    }
   ],
   "source": [
    "YSPECIES.value_counts()"
   ]
  },
  {
   "cell_type": "code",
   "execution_count": 150,
   "metadata": {},
   "outputs": [
    {
     "name": "stderr",
     "output_type": "stream",
     "text": [
      "/Users/wltrimbl/miniconda3/envs/scipy/lib/python3.10/site-packages/sklearn/linear_model/_logistic.py:458: ConvergenceWarning: lbfgs failed to converge (status=1):\n",
      "STOP: TOTAL NO. of ITERATIONS REACHED LIMIT.\n",
      "\n",
      "Increase the number of iterations (max_iter) or scale the data as shown in:\n",
      "    https://scikit-learn.org/stable/modules/preprocessing.html\n",
      "Please also refer to the documentation for alternative solver options:\n",
      "    https://scikit-learn.org/stable/modules/linear_model.html#logistic-regression\n",
      "  n_iter_i = _check_optimize_result(\n"
     ]
    }
   ],
   "source": [
    "fit4species = LogisticRegression().fit(X4, YSPECIES)"
   ]
  },
  {
   "cell_type": "code",
   "execution_count": 151,
   "metadata": {},
   "outputs": [],
   "source": [
    "fit4species = LogisticRegression(max_iter=500).fit(X4, YSPECIES)"
   ]
  },
  {
   "cell_type": "code",
   "execution_count": 152,
   "metadata": {},
   "outputs": [
    {
     "data": {
      "text/plain": [
       "(array([[ 1.59735843e+00,  7.50346433e-04, -9.28392716e-01,\n",
       "          5.52903533e-02],\n",
       "        [-3.03853668e-01, -4.77906015e-03,  9.83345061e-01,\n",
       "         -9.41261560e-02],\n",
       "        [-1.29350476e+00,  4.02871371e-03, -5.49523449e-02,\n",
       "          3.88358027e-02]]),\n",
       " array([ 0.09054777, -0.0618506 , -0.02869717]),\n",
       " array(['Adelie', 'Chinstrap', 'Gentoo'], dtype=object))"
      ]
     },
     "execution_count": 152,
     "metadata": {},
     "output_type": "execute_result"
    }
   ],
   "source": [
    "fit4species.coef_, fit4species.intercept_, fit4species.classes_"
   ]
  },
  {
   "cell_type": "code",
   "execution_count": 153,
   "metadata": {},
   "outputs": [
    {
     "data": {
      "text/plain": [
       "array(['Adelie', 'Adelie', 'Gentoo', 'Chinstrap', 'Adelie', 'Adelie',\n",
       "       'Adelie', 'Adelie', 'Chinstrap', 'Chinstrap', 'Chinstrap',\n",
       "       'Gentoo', 'Gentoo', 'Adelie', 'Adelie', 'Gentoo', 'Gentoo',\n",
       "       'Gentoo', 'Chinstrap', 'Adelie', 'Gentoo', 'Chinstrap',\n",
       "       'Chinstrap', 'Chinstrap', 'Adelie', 'Chinstrap', 'Chinstrap',\n",
       "       'Gentoo', 'Chinstrap', 'Gentoo', 'Adelie', 'Chinstrap', 'Gentoo',\n",
       "       'Gentoo', 'Chinstrap', 'Adelie', 'Gentoo', 'Chinstrap',\n",
       "       'Chinstrap', 'Chinstrap', 'Adelie', 'Gentoo', 'Adelie',\n",
       "       'Chinstrap', 'Gentoo', 'Adelie', 'Gentoo', 'Gentoo', 'Adelie',\n",
       "       'Adelie', 'Adelie', 'Gentoo', 'Chinstrap', 'Chinstrap', 'Gentoo',\n",
       "       'Adelie', 'Adelie', 'Gentoo', 'Gentoo', 'Chinstrap', 'Adelie',\n",
       "       'Gentoo', 'Adelie', 'Gentoo', 'Gentoo', 'Adelie', 'Adelie',\n",
       "       'Chinstrap', 'Adelie', 'Adelie', 'Gentoo', 'Adelie', 'Gentoo',\n",
       "       'Adelie', 'Adelie', 'Chinstrap', 'Gentoo', 'Adelie', 'Chinstrap',\n",
       "       'Chinstrap', 'Gentoo', 'Gentoo', 'Gentoo', 'Gentoo'], dtype=object)"
      ]
     },
     "execution_count": 153,
     "metadata": {},
     "output_type": "execute_result"
    }
   ],
   "source": [
    "# And the sklearn API has .predict() methods for almost everything:\n",
    "predictions = fit4species.predict(X4TEST)\n",
    "predictions"
   ]
  },
  {
   "cell_type": "code",
   "execution_count": 154,
   "metadata": {},
   "outputs": [],
   "source": [
    "from sklearn.metrics import confusion_matrix\n",
    "# Confusion_matrix takes one-hot encoding... but \n",
    "# LogisticRegression.predict() produces effing labels."
   ]
  },
  {
   "cell_type": "code",
   "execution_count": null,
   "metadata": {},
   "outputs": [],
   "source": [
    "Y_onehot = pd.get_dummies(YSPECIES)\n",
    "Ytest_onehot = pd.get_dummies(YSPECIESTEST)\n",
    "predictions_onehot = pd.get_dummies(predictions)"
   ]
  },
  {
   "cell_type": "code",
   "execution_count": null,
   "metadata": {},
   "outputs": [],
   "source": [
    "predictions_onehot"
   ]
  },
  {
   "cell_type": "code",
   "execution_count": null,
   "metadata": {},
   "outputs": [],
   "source": [
    "confusion_matrix(predictions_onehot, Ytest_onehot)"
   ]
  },
  {
   "cell_type": "raw",
   "metadata": {},
   "source": [
    "ValueError: multilabel-indicator is not supported"
   ]
  },
  {
   "cell_type": "code",
   "execution_count": null,
   "metadata": {},
   "outputs": [],
   "source": [
    "predictions_onehot.head()"
   ]
  },
  {
   "cell_type": "code",
   "execution_count": null,
   "metadata": {},
   "outputs": [],
   "source": []
  },
  {
   "cell_type": "code",
   "execution_count": 155,
   "metadata": {},
   "outputs": [],
   "source": [
    "fit4species = LogisticRegression(max_iter=500, \n",
    "                multi_class=\"multinomial\").fit(X4, YSPECIES)"
   ]
  },
  {
   "cell_type": "code",
   "execution_count": 156,
   "metadata": {},
   "outputs": [
    {
     "data": {
      "text/html": [
       "<div>\n",
       "<style scoped>\n",
       "    .dataframe tbody tr th:only-of-type {\n",
       "        vertical-align: middle;\n",
       "    }\n",
       "\n",
       "    .dataframe tbody tr th {\n",
       "        vertical-align: top;\n",
       "    }\n",
       "\n",
       "    .dataframe thead th {\n",
       "        text-align: right;\n",
       "    }\n",
       "</style>\n",
       "<table border=\"1\" class=\"dataframe\">\n",
       "  <thead>\n",
       "    <tr style=\"text-align: right;\">\n",
       "      <th></th>\n",
       "      <th>Adelie</th>\n",
       "      <th>Chinstrap</th>\n",
       "      <th>Gentoo</th>\n",
       "    </tr>\n",
       "  </thead>\n",
       "  <tbody>\n",
       "    <tr>\n",
       "      <th>0</th>\n",
       "      <td>1</td>\n",
       "      <td>0</td>\n",
       "      <td>0</td>\n",
       "    </tr>\n",
       "    <tr>\n",
       "      <th>1</th>\n",
       "      <td>1</td>\n",
       "      <td>0</td>\n",
       "      <td>0</td>\n",
       "    </tr>\n",
       "    <tr>\n",
       "      <th>2</th>\n",
       "      <td>0</td>\n",
       "      <td>0</td>\n",
       "      <td>1</td>\n",
       "    </tr>\n",
       "    <tr>\n",
       "      <th>3</th>\n",
       "      <td>0</td>\n",
       "      <td>1</td>\n",
       "      <td>0</td>\n",
       "    </tr>\n",
       "    <tr>\n",
       "      <th>4</th>\n",
       "      <td>1</td>\n",
       "      <td>0</td>\n",
       "      <td>0</td>\n",
       "    </tr>\n",
       "    <tr>\n",
       "      <th>...</th>\n",
       "      <td>...</td>\n",
       "      <td>...</td>\n",
       "      <td>...</td>\n",
       "    </tr>\n",
       "    <tr>\n",
       "      <th>79</th>\n",
       "      <td>0</td>\n",
       "      <td>1</td>\n",
       "      <td>0</td>\n",
       "    </tr>\n",
       "    <tr>\n",
       "      <th>80</th>\n",
       "      <td>0</td>\n",
       "      <td>0</td>\n",
       "      <td>1</td>\n",
       "    </tr>\n",
       "    <tr>\n",
       "      <th>81</th>\n",
       "      <td>0</td>\n",
       "      <td>0</td>\n",
       "      <td>1</td>\n",
       "    </tr>\n",
       "    <tr>\n",
       "      <th>82</th>\n",
       "      <td>0</td>\n",
       "      <td>0</td>\n",
       "      <td>1</td>\n",
       "    </tr>\n",
       "    <tr>\n",
       "      <th>83</th>\n",
       "      <td>0</td>\n",
       "      <td>0</td>\n",
       "      <td>1</td>\n",
       "    </tr>\n",
       "  </tbody>\n",
       "</table>\n",
       "<p>84 rows × 3 columns</p>\n",
       "</div>"
      ],
      "text/plain": [
       "    Adelie  Chinstrap  Gentoo\n",
       "0        1          0       0\n",
       "1        1          0       0\n",
       "2        0          0       1\n",
       "3        0          1       0\n",
       "4        1          0       0\n",
       "..     ...        ...     ...\n",
       "79       0          1       0\n",
       "80       0          0       1\n",
       "81       0          0       1\n",
       "82       0          0       1\n",
       "83       0          0       1\n",
       "\n",
       "[84 rows x 3 columns]"
      ]
     },
     "execution_count": 156,
     "metadata": {},
     "output_type": "execute_result"
    }
   ],
   "source": [
    "predictions = fit4species.predict(X4TEST)\n",
    "predictions_onehot = pd.get_dummies(predictions)\n",
    "predictions_onehot"
   ]
  },
  {
   "cell_type": "markdown",
   "metadata": {},
   "source": [
    "confusion_matrix(predictions_onehot, Ytest_onehot)"
   ]
  },
  {
   "cell_type": "code",
   "execution_count": null,
   "metadata": {},
   "outputs": [],
   "source": [
    "ValueError: multilabel-indicator is not supported"
   ]
  },
  {
   "cell_type": "code",
   "execution_count": null,
   "metadata": {},
   "outputs": [],
   "source": [
    "predictions_onehot.sum(axis=1).value_counts()"
   ]
  },
  {
   "cell_type": "code",
   "execution_count": null,
   "metadata": {},
   "outputs": [],
   "source": [
    "Ytest_onehot.sum(axis=1).value_counts()"
   ]
  },
  {
   "cell_type": "code",
   "execution_count": null,
   "metadata": {},
   "outputs": [],
   "source": [
    "# Somebody didn't rtfm earlier...\n",
    "# https://stackoverflow.com/questions/46953967/multilabel-indicator-is-not-supported-for-confusion-matrix\n",
    "# Input to class must be labels, not one-hot-encoding.\n"
   ]
  },
  {
   "cell_type": "code",
   "execution_count": 157,
   "metadata": {},
   "outputs": [
    {
     "data": {
      "text/plain": [
       "array([[30,  0,  0],\n",
       "       [ 0, 24,  0],\n",
       "       [ 0,  0, 30]])"
      ]
     },
     "execution_count": 157,
     "metadata": {},
     "output_type": "execute_result"
    }
   ],
   "source": [
    "confusion_matrix(YSPECIESTEST, predictions)"
   ]
  },
  {
   "cell_type": "code",
   "execution_count": null,
   "metadata": {},
   "outputs": [],
   "source": [
    "# Perfect..  Pros / cons of perfect classification ? ?\n"
   ]
  },
  {
   "cell_type": "code",
   "execution_count": null,
   "metadata": {},
   "outputs": [],
   "source": [
    "Ytest_onehot"
   ]
  },
  {
   "cell_type": "code",
   "execution_count": 158,
   "metadata": {},
   "outputs": [
    {
     "data": {
      "text/plain": [
       "array([0, 0, 2, 1, 0, 0, 0, 0, 1, 1, 1, 2, 2, 0, 0, 2, 2, 2, 1, 0, 2, 1,\n",
       "       1, 1, 0, 1, 1, 2, 1, 2, 0, 1, 2, 2, 1, 0, 2, 1, 1, 1, 0, 2, 0, 1,\n",
       "       2, 0, 2, 2, 0, 0, 0, 2, 1, 1, 2, 0, 0, 2, 2, 1, 0, 2, 0, 2, 2, 0,\n",
       "       0, 1, 0, 0, 2, 0, 2, 0, 0, 1, 2, 0, 1, 1, 2, 2, 2, 2])"
      ]
     },
     "execution_count": 158,
     "metadata": {},
     "output_type": "execute_result"
    }
   ],
   "source": [
    "# FYI if I want to go back from one-hot-encoding to labels:\n",
    "Ytest_onehot.values.argmax(axis=1)\n"
   ]
  },
  {
   "cell_type": "code",
   "execution_count": null,
   "metadata": {},
   "outputs": [],
   "source": []
  },
  {
   "cell_type": "code",
   "execution_count": null,
   "metadata": {},
   "outputs": [],
   "source": []
  }
 ],
 "metadata": {
  "kernelspec": {
   "display_name": "scipy",
   "language": "python",
   "name": "scipy"
  },
  "language_info": {
   "codemirror_mode": {
    "name": "ipython",
    "version": 3
   },
   "file_extension": ".py",
   "mimetype": "text/x-python",
   "name": "python",
   "nbconvert_exporter": "python",
   "pygments_lexer": "ipython3",
   "version": "3.10.10"
  }
 },
 "nbformat": 4,
 "nbformat_minor": 4
}
