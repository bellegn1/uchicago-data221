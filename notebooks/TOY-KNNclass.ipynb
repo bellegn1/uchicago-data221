{
 "cells": [
  {
   "cell_type": "code",
   "execution_count": null,
   "metadata": {},
   "outputs": [],
   "source": [
    "import matplotlib.pyplot as plt\n",
    "import numpy as np\n",
    "import pandas as pd\n",
    "import scipy.stats\n",
    "from sklearn.neighbors import KNeighborsClassifier"
   ]
  },
  {
   "cell_type": "code",
   "execution_count": null,
   "metadata": {},
   "outputs": [],
   "source": [
    "n = 5\n",
    "C1 = scipy.stats.norm.rvs(loc = (0.4,0), size=(n,2))\n",
    "C1L = np.ones((n,1)) * 1\n",
    "C2 = scipy.stats.norm.rvs(loc = (-0.4,0), size=(n,2))\n",
    "C2L = np.ones((n,1)) * 2\n",
    "C = np.hstack( [ np.vstack([C1, C2]), np.vstack([C1L, C2L]) ] )\n",
    "X = C[:,0:2]\n",
    "Y = C[:,2]"
   ]
  },
  {
   "cell_type": "code",
   "execution_count": null,
   "metadata": {},
   "outputs": [],
   "source": [
    "C.shape"
   ]
  },
  {
   "cell_type": "code",
   "execution_count": null,
   "metadata": {},
   "outputs": [],
   "source": [
    "C[0:3]"
   ]
  },
  {
   "cell_type": "code",
   "execution_count": null,
   "metadata": {},
   "outputs": [],
   "source": [
    "plt.hist(Y)"
   ]
  },
  {
   "cell_type": "code",
   "execution_count": null,
   "metadata": {},
   "outputs": [],
   "source": [
    "plt.scatter(C[:,0], C[:,1], c=C[:,2])"
   ]
  },
  {
   "cell_type": "code",
   "execution_count": null,
   "metadata": {},
   "outputs": [],
   "source": []
  },
  {
   "cell_type": "code",
   "execution_count": null,
   "metadata": {},
   "outputs": [],
   "source": [
    "fit3 = KNeighborsClassifier(n_neighbors=3).fit(X, Y)  # default n=5"
   ]
  },
  {
   "cell_type": "code",
   "execution_count": null,
   "metadata": {},
   "outputs": [],
   "source": [
    "dir(fit3)"
   ]
  },
  {
   "cell_type": "code",
   "execution_count": null,
   "metadata": {},
   "outputs": [],
   "source": [
    "fit3.predict(X), Y"
   ]
  },
  {
   "cell_type": "code",
   "execution_count": null,
   "metadata": {},
   "outputs": [],
   "source": [
    "%%time \n",
    "# Slightly higher-resolution grid with 40,000 points: \n",
    "xgrid = np.linspace(-3, 3,200) # range for flipper length\n",
    "ygrid = np.linspace(-3,3,200)  # range for beak length\n",
    "xax, yax = np.meshgrid(xgrid, ygrid, indexing=\"ij\")\n",
    "z = np.zeros(xax.shape)\n",
    "print(xax.shape, yax.shape, z.shape)\n",
    "for i in range(len(xgrid)):\n",
    "    for j in range(len(ygrid)):\n",
    "        x = np.array([xgrid[i], ygrid[j]])\n",
    "       # print(x)\n",
    "        z[i,j]= fit3.predict(x[np.newaxis,:])"
   ]
  },
  {
   "cell_type": "code",
   "execution_count": null,
   "metadata": {},
   "outputs": [],
   "source": [
    "z[0]  # These are rows in the rectangular grid, so it's ok if \n",
    "# all the values are the same at first..."
   ]
  },
  {
   "cell_type": "code",
   "execution_count": null,
   "metadata": {},
   "outputs": [],
   "source": [
    "z.shape"
   ]
  },
  {
   "cell_type": "code",
   "execution_count": null,
   "metadata": {},
   "outputs": [],
   "source": [
    "c = [colorsnum[i] for i in z.reshape(-1)]\n",
    "len(c)"
   ]
  },
  {
   "cell_type": "code",
   "execution_count": null,
   "metadata": {},
   "outputs": [],
   "source": [
    "colorsnum = { 2 : \"blue\", 1: \"orange\"} \n",
    "c = [colorsnum[i] for i in z.reshape(-1)]\n",
    "plt.scatter(xax,yax, color=c, alpha=0.3, s=0.1)\n",
    "plt.scatter(X[:,0], X[:,1], c = Y )\n"
   ]
  },
  {
   "cell_type": "code",
   "execution_count": null,
   "metadata": {},
   "outputs": [],
   "source": [
    "from scipy.spatial import Voronoi, voronoi_plot_2d\n",
    "points = X[:,0:2]\n",
    "vor = Voronoi(points)\n",
    "fig = voronoi_plot_2d(vor)\n",
    "plt.show(fig)"
   ]
  },
  {
   "cell_type": "code",
   "execution_count": null,
   "metadata": {},
   "outputs": [],
   "source": [
    "colorsnum = { 2 : \"blue\", 1: \"orange\"} \n",
    "c = [colorsnum[i] for i in z.reshape(-1)]\n",
    "vor = Voronoi(points)\n",
    "voronoi_plot_2d(vor, line_colors='orange',\n",
    "                line_width=2, line_alpha=0.6, show_vertices=False)\n",
    "\n",
    "plt.scatter(xax,yax, color=c, alpha=0.3, s=0.1)\n",
    "plt.scatter(X[:,0], X[:,1], c = Y )\n"
   ]
  },
  {
   "cell_type": "code",
   "execution_count": null,
   "metadata": {},
   "outputs": [],
   "source": [
    "fit1 = KNeighborsClassifier(n_neighbors=1).fit(X, Y)  # default n=5"
   ]
  },
  {
   "cell_type": "code",
   "execution_count": null,
   "metadata": {},
   "outputs": [],
   "source": [
    "%%time \n",
    "# Slightly higher-resolution grid with 40,000 points: \n",
    "xgrid = np.linspace(-3, 3,200) # range for flipper length\n",
    "ygrid = np.linspace(-3,3,200)  # range for beak length\n",
    "xax, yax = np.meshgrid(xgrid, ygrid, indexing=\"ij\")\n",
    "z = np.zeros(xax.shape)\n",
    "print(xax.shape, yax.shape, z.shape)\n",
    "for i in range(len(xgrid)):\n",
    "    for j in range(len(ygrid)):\n",
    "        x = np.array([xgrid[i], ygrid[j]])\n",
    "       # print(x)\n",
    "        z[i,j]= fit1.predict(x[np.newaxis,:])"
   ]
  },
  {
   "cell_type": "code",
   "execution_count": null,
   "metadata": {},
   "outputs": [],
   "source": [
    "colorsnum = { 2 : \"blue\", 1: \"orange\"} \n",
    "c = [colorsnum[i] for i in z.reshape(-1)]\n",
    "vor = Voronoi(points)\n",
    "voronoi_plot_2d(vor, line_colors='orange',\n",
    "                line_width=2, line_alpha=0.6, show_vertices=False)\n",
    "\n",
    "plt.scatter(xax,yax, color=c, alpha=0.3, s=0.1)\n",
    "plt.scatter(X[:,0], X[:,1], c = Y )"
   ]
  },
  {
   "cell_type": "code",
   "execution_count": null,
   "metadata": {},
   "outputs": [],
   "source": []
  },
  {
   "cell_type": "code",
   "execution_count": null,
   "metadata": {},
   "outputs": [],
   "source": [
    "# Hmm.  Why don't the cells match.. ? ?? "
   ]
  },
  {
   "cell_type": "code",
   "execution_count": null,
   "metadata": {},
   "outputs": [],
   "source": [
    "fit1 = KNeighborsClassifier(n_neighbors=1).fit(X, Y)  # default n=5"
   ]
  },
  {
   "cell_type": "code",
   "execution_count": null,
   "metadata": {},
   "outputs": [],
   "source": [
    "%%time \n",
    "# Slightly higher-resolution grid with 40,000 points: \n",
    "xgrid = np.linspace(-3, 3,200) # range for flipper length\n",
    "ygrid = np.linspace(-3,3,200)  # range for beak length\n",
    "xax, yax = np.meshgrid(xgrid, ygrid, indexing=\"ij\")\n",
    "z = np.zeros(xax.shape)\n",
    "print(xax.shape, yax.shape, z.shape)\n",
    "for i in range(len(xgrid)):\n",
    "    for j in range(len(ygrid)):\n",
    "        x = np.array([xgrid[i], ygrid[j]])\n",
    "       # print(x)\n",
    "        z[i,j]= fit1.predict(x[np.newaxis,:])"
   ]
  },
  {
   "cell_type": "code",
   "execution_count": null,
   "metadata": {},
   "outputs": [],
   "source": [
    "colorsnum = { 2 : \"blue\", 1: \"orange\"} \n",
    "c = [colorsnum[i] for i in z.reshape(-1)]\n",
    "vor = Voronoi(points)\n",
    "voronoi_plot_2d(vor, line_colors='orange',\n",
    "                line_width=2, line_alpha=0.6, show_vertices=False)\n",
    "\n",
    "plt.scatter(xax,yax, color=c, alpha=0.3, s=0.1)\n",
    "plt.scatter(X[:,0], X[:,1], c = Y )"
   ]
  },
  {
   "cell_type": "code",
   "execution_count": null,
   "metadata": {},
   "outputs": [],
   "source": [
    "n = 100\n",
    "C1 = scipy.stats.norm.rvs(loc = (0.4,0), size=(n,2))\n",
    "C1L = np.ones((n,1)) * 1\n",
    "C2 = scipy.stats.norm.rvs(loc = (-0.4,0), size=(n,2))\n",
    "C2L = np.ones((n,1)) * 2\n",
    "C = np.hstack( [ np.vstack([C1, C2]), np.vstack([C1L, C2L]) ] )\n",
    "X = C[:,0:2]\n",
    "Y = C[:,2]"
   ]
  },
  {
   "cell_type": "code",
   "execution_count": null,
   "metadata": {},
   "outputs": [],
   "source": [
    "fit5big = KNeighborsClassifier(n_neighbors=5).fit(X, Y)  # default n=5"
   ]
  },
  {
   "cell_type": "code",
   "execution_count": null,
   "metadata": {},
   "outputs": [],
   "source": [
    "%%time \n",
    "# Slightly higher-resolution grid with 40,000 points: \n",
    "xgrid = np.linspace(-3, 3,100) # range for flipper length\n",
    "ygrid = np.linspace(-3,3,100)  # range for beak length\n",
    "xax, yax = np.meshgrid(xgrid, ygrid, indexing=\"ij\")\n",
    "z = np.zeros(xax.shape)\n",
    "print(xax.shape, yax.shape, z.shape)\n",
    "for i in range(len(xgrid)):\n",
    "    for j in range(len(ygrid)):\n",
    "        x = np.array([xgrid[i], ygrid[j]])\n",
    "       # print(x)\n",
    "        z[i,j]= fit5big.predict(x[np.newaxis,:])"
   ]
  },
  {
   "cell_type": "code",
   "execution_count": null,
   "metadata": {},
   "outputs": [],
   "source": [
    "colorsnum = { 2 : \"blue\", 1: \"orange\"} \n",
    "c = [colorsnum[i] for i in z.reshape(-1)]\n",
    "\n",
    "plt.scatter(xax,yax, color=c, alpha=0.3, s=0.1)\n",
    "plt.scatter(X[:,0], X[:,1], c = Y )"
   ]
  },
  {
   "cell_type": "code",
   "execution_count": null,
   "metadata": {},
   "outputs": [],
   "source": [
    "plt.scatter(xax,yax, color=c, alpha=0.9, s=1, marker=\"s\")\n"
   ]
  },
  {
   "cell_type": "code",
   "execution_count": null,
   "metadata": {},
   "outputs": [],
   "source": [
    "# This looks like a map of some fantastic location."
   ]
  }
 ],
 "metadata": {
  "kernelspec": {
   "display_name": "Python 3 (ipykernel)",
   "language": "python",
   "name": "python3"
  },
  "language_info": {
   "codemirror_mode": {
    "name": "ipython",
    "version": 3
   },
   "file_extension": ".py",
   "mimetype": "text/x-python",
   "name": "python",
   "nbconvert_exporter": "python",
   "pygments_lexer": "ipython3",
   "version": "3.9.16"
  }
 },
 "nbformat": 4,
 "nbformat_minor": 4
}
