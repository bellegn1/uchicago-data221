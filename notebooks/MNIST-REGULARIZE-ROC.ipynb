{
 "cells": [
  {
   "cell_type": "code",
   "execution_count": null,
   "metadata": {},
   "outputs": [],
   "source": [
    "import pandas as pd\n",
    "import numpy as np\n",
    "import matplotlib.pyplot as plt\n",
    "\n",
    "from keras.datasets import mnist\n",
    "(images, labels), (testX, testY) = mnist.load_data()\n",
    "\n",
    "images = np.array(images).astype(\"float\").reshape(-1,784) / 255\n",
    "labels = np.array(labels)\n",
    "X = images\n",
    "Y = labels\n",
    "testX = np.array(testX).astype(\"float\").reshape(-1, 784) / 255\n",
    "testY= np.array(testY)\n",
    "\n",
    "testX.shape, testY.shape, X.shape, Y.shape"
   ]
  },
  {
   "cell_type": "code",
   "execution_count": null,
   "metadata": {},
   "outputs": [],
   "source": [
    "# MNIST Digits(or at least pointers to URLs that allow the MNIST data to be loaded)\n",
    "# is built into tensorflow.  \n",
    "# Q: HOW DO I INSTALL TENSORFLOW? \n",
    "# A: Create a new python environment so the install doesn't break \n",
    "# other python package installs that you may care about more.\n",
    "\n",
    "# https://docs.anaconda.com/anaconda/user-guide/tasks/tensorflow/\n",
    "\n",
    "conda create -n tf tensorflow # Create new environment\n",
    "conda activate tf             # Temporarily switch python to use new environment\n",
    "\n"
   ]
  },
  {
   "cell_type": "code",
   "execution_count": null,
   "metadata": {},
   "outputs": [],
   "source": [
    "# You can find dozens of websites, blogs, and github repositories that \n",
    "# do something or other with this dataset.\n",
    "\n",
    "# One of the first things that they do is change the data type and \n",
    "# manipulate the range: \n",
    "images = np.array(images).astype(\"float\") / 255\n",
    "labels = np.array(labels)\n",
    "X=images\n",
    "Y=labels\n",
    "testX = np.array(testX).astype(\"float\") / 255\n",
    "testY= np.array(testY)"
   ]
  },
  {
   "cell_type": "code",
   "execution_count": null,
   "metadata": {},
   "outputs": [],
   "source": [
    "digits = labels"
   ]
  },
  {
   "cell_type": "raw",
   "metadata": {},
   "source": []
  },
  {
   "cell_type": "code",
   "execution_count": null,
   "metadata": {},
   "outputs": [],
   "source": [
    "digits[0:20]"
   ]
  },
  {
   "cell_type": "code",
   "execution_count": null,
   "metadata": {},
   "outputs": [],
   "source": [
    "digits = np.array(images)"
   ]
  },
  {
   "cell_type": "code",
   "execution_count": null,
   "metadata": {},
   "outputs": [],
   "source": [
    "digits.shape"
   ]
  },
  {
   "cell_type": "code",
   "execution_count": null,
   "metadata": {},
   "outputs": [],
   "source": [
    "p = np.reshape(digits, newshape=( 60000, 28,28))"
   ]
  },
  {
   "cell_type": "code",
   "execution_count": null,
   "metadata": {},
   "outputs": [],
   "source": [
    "p.shape"
   ]
  },
  {
   "cell_type": "code",
   "execution_count": null,
   "metadata": {},
   "outputs": [],
   "source": [
    "plt.imshow(p[4,::])"
   ]
  },
  {
   "cell_type": "code",
   "execution_count": null,
   "metadata": {},
   "outputs": [],
   "source": [
    "plt.subplot(221)\n",
    "plt.imshow(p[0,::])\n",
    "plt.subplot(222)\n",
    "plt.imshow(p[1,::])\n",
    "plt.subplot(223)\n",
    "plt.imshow(p[2,::])\n",
    "plt.subplot(224)\n",
    "plt.imshow(p[3,::])\n",
    "plt.savefig(\"MNIST.png\", dpi=300, bbox_inches=\"tight\")"
   ]
  },
  {
   "cell_type": "code",
   "execution_count": null,
   "metadata": {},
   "outputs": [],
   "source": [
    "X.shape, Y.shape"
   ]
  },
  {
   "cell_type": "code",
   "execution_count": null,
   "metadata": {},
   "outputs": [],
   "source": [
    "from sklearn.linear_model import LogisticRegression\n",
    "lr = LogisticRegression(max_iter=500)\n",
    "lr.fit(X, Y)\n",
    "lr.score(testX, testY)"
   ]
  },
  {
   "cell_type": "code",
   "execution_count": null,
   "metadata": {},
   "outputs": [],
   "source": [
    "lr"
   ]
  },
  {
   "cell_type": "code",
   "execution_count": null,
   "metadata": {},
   "outputs": [],
   "source": [
    "lr.coef_.shape"
   ]
  },
  {
   "cell_type": "code",
   "execution_count": null,
   "metadata": {},
   "outputs": [],
   "source": [
    "lr.predict_log_proba(testX.reshape((-1,784)))"
   ]
  },
  {
   "cell_type": "code",
   "execution_count": null,
   "metadata": {},
   "outputs": [],
   "source": [
    "def optim0(image):\n",
    "    #print(type(image))\n",
    "    #print(image.shape)\n",
    "    g=lr.predict_log_proba(X[0,:]+image[np.newaxis,:])\n",
    "    return(g[0][0])"
   ]
  },
  {
   "cell_type": "code",
   "execution_count": null,
   "metadata": {},
   "outputs": [],
   "source": [
    "from scipy.optimize import minimize\n",
    "\n",
    "init = np.random.random((28,28))\n",
    "init.shape"
   ]
  },
  {
   "cell_type": "code",
   "execution_count": null,
   "metadata": {},
   "outputs": [],
   "source": [
    "init_flat = init.reshape((1,-1))[0]\n",
    "init_flat.shape"
   ]
  },
  {
   "cell_type": "code",
   "execution_count": null,
   "metadata": {},
   "outputs": [],
   "source": [
    "type(init_flat), init_flat.shape"
   ]
  },
  {
   "cell_type": "code",
   "execution_count": null,
   "metadata": {},
   "outputs": [],
   "source": [
    "optim0(init_flat)"
   ]
  },
  {
   "cell_type": "code",
   "execution_count": null,
   "metadata": {},
   "outputs": [],
   "source": [
    "t = minimize(optim0, init_flat)\n",
    "\n",
    "t"
   ]
  },
  {
   "cell_type": "code",
   "execution_count": null,
   "metadata": {},
   "outputs": [],
   "source": [
    "init0 = np.zeros((28,28)).reshape(-1,1)[0]\n",
    "optim0(init0)"
   ]
  },
  {
   "cell_type": "code",
   "execution_count": null,
   "metadata": {},
   "outputs": [],
   "source": [
    "t = minimize(optim0, init0)\n"
   ]
  },
  {
   "cell_type": "code",
   "execution_count": null,
   "metadata": {},
   "outputs": [],
   "source": [
    "t"
   ]
  },
  {
   "cell_type": "code",
   "execution_count": null,
   "metadata": {},
   "outputs": [],
   "source": [
    "plt.imshow(t.x.reshape((28,28)))"
   ]
  },
  {
   "cell_type": "code",
   "execution_count": null,
   "metadata": {},
   "outputs": [],
   "source": [
    "X[0,:]\n",
    "lr.predict(X[0,:].reshape(1,-1))"
   ]
  },
  {
   "cell_type": "code",
   "execution_count": null,
   "metadata": {},
   "outputs": [],
   "source": [
    "lr.predict((t.x+X[0,:]).reshape(1,-1))"
   ]
  },
  {
   "cell_type": "code",
   "execution_count": null,
   "metadata": {},
   "outputs": [],
   "source": []
  },
  {
   "cell_type": "code",
   "execution_count": null,
   "metadata": {},
   "outputs": [],
   "source": []
  },
  {
   "cell_type": "code",
   "execution_count": null,
   "metadata": {},
   "outputs": [],
   "source": []
  },
  {
   "cell_type": "code",
   "execution_count": null,
   "metadata": {},
   "outputs": [],
   "source": [
    "crange = np.exp(np.arange( - 9, 9, 2))\n",
    "fits = []\n",
    "for c in crange:\n",
    "    print(c)\n",
    "    fits.append(LogisticRegression(C=c, max_iter=100, penalty=\"l2\", solver=\"liblinear\").fit(X, Y))\n",
    "accuracy = [f.score(testX, testY) for f in fits]"
   ]
  },
  {
   "cell_type": "code",
   "execution_count": null,
   "metadata": {},
   "outputs": [],
   "source": [
    "# Let us compare a highly regularized set of linear regression \n",
    "# coefficients with a almost-unregularized set.\n",
    "\n",
    "plt.subplot(1,2,1)\n",
    "plt.imshow(fits[0].coef_[9,:].reshape((28,28)))\n",
    "plt.subplot(1,2,2)\n",
    "plt.imshow(fits[-1].coef_[9,:].reshape((28,28)))\n"
   ]
  },
  {
   "cell_type": "code",
   "execution_count": null,
   "metadata": {},
   "outputs": [],
   "source": [
    "# Maybe a diverging colormap would help us here?\n",
    "\n",
    "plt.subplot(1,2,1)\n",
    "plt.imshow(fits[1].coef_[0,:].reshape((28,28)), cmap=\"RdYlGn\")\n",
    "plt.subplot(1,2,2)\n",
    "plt.imshow(fits[-1].coef_[0,:].reshape((28,28)), cmap=\"RdYlGn\")"
   ]
  },
  {
   "cell_type": "code",
   "execution_count": null,
   "metadata": {},
   "outputs": [],
   "source": [
    "plt.plot(crange, accuracy)\n",
    "plt.semilogx()"
   ]
  },
  {
   "cell_type": "code",
   "execution_count": null,
   "metadata": {},
   "outputs": [],
   "source": [
    "#  https://scikit-learn.org/stable/modules/generated/sklearn.model_selection.cross_val_score.html\n",
    "\n",
    "from sklearn.model_selection import cross_val_score\n",
    "# cross_val_score(<model>, x, y, cv=<fold>) \n"
   ]
  },
  {
   "cell_type": "code",
   "execution_count": null,
   "metadata": {},
   "outputs": [],
   "source": [
    "accuracy_cv = [cross_val_score(f, testX, testY) for f in fits]"
   ]
  },
  {
   "cell_type": "code",
   "execution_count": null,
   "metadata": {},
   "outputs": [],
   "source": [
    "accuracy_cv"
   ]
  },
  {
   "cell_type": "code",
   "execution_count": null,
   "metadata": {},
   "outputs": [],
   "source": [
    "accuracy.shape\n"
   ]
  },
  {
   "cell_type": "code",
   "execution_count": null,
   "metadata": {},
   "outputs": [],
   "source": [
    "np.array(accuracy_cv).shape"
   ]
  },
  {
   "cell_type": "code",
   "execution_count": null,
   "metadata": {},
   "outputs": [],
   "source": []
  },
  {
   "cell_type": "code",
   "execution_count": null,
   "metadata": {},
   "outputs": [],
   "source": [
    "plt.plot(crange, np.array(accuracy_cv).mean(axis=1), label=\"Cross-validated\")\n",
    "plt.plot(crange, accuracy, label=\"Training\")\n",
    "\n",
    "plt.xlabel(\"Regularization parameter\")\n",
    "plt.ylabel(\"Digit accuracy\")\n",
    "plt.semilogx()"
   ]
  },
  {
   "cell_type": "code",
   "execution_count": null,
   "metadata": {},
   "outputs": [],
   "source": []
  },
  {
   "cell_type": "code",
   "execution_count": null,
   "metadata": {},
   "outputs": [],
   "source": []
  },
  {
   "cell_type": "code",
   "execution_count": null,
   "metadata": {},
   "outputs": [],
   "source": []
  },
  {
   "cell_type": "code",
   "execution_count": null,
   "metadata": {},
   "outputs": [],
   "source": []
  },
  {
   "cell_type": "code",
   "execution_count": null,
   "metadata": {},
   "outputs": [],
   "source": [
    "# What about L1 regularization?  This will effectively throw\n",
    "# out pixels that have too little influence on the result.\n",
    "crange2 = np.power(10.0, np.arange( - 5, 5, 1))\n",
    "fits_l1 = []\n",
    "for c in crange2:\n",
    "    print(c)\n",
    "    fits_l1.append(LogisticRegression(C=c, max_iter=100, penalty=\"l1\", solver=\"liblinear\").fit(X, Y))\n",
    "accuracy_l1 = [f.score(testX, testY) for f in fits_l1]\n"
   ]
  },
  {
   "cell_type": "code",
   "execution_count": null,
   "metadata": {},
   "outputs": [],
   "source": [
    "# The regularized parameters should be closer to 0...\n",
    "plt.hist(fits_l1[-1].coef_[1,:], bins=30)\n",
    "plt.hist(fits_l1[0].coef_[1,:], bins=30)"
   ]
  },
  {
   "cell_type": "code",
   "execution_count": null,
   "metadata": {},
   "outputs": [],
   "source": [
    "plt.plot(crange2, accuracy_l1, label=\"l1\")\n",
    "plt.plot(crange, accuracy, label=\"l2\")\n",
    "plt.semilogx()\n",
    "plt.ylim((0.8, 0.95))\n",
    "plt.legend()\n",
    "plt.xlabel(\"Regularization parameter c\")\n",
    "plt.ylabel(\"Accuracy on holdout set\")"
   ]
  },
  {
   "cell_type": "code",
   "execution_count": null,
   "metadata": {},
   "outputs": [],
   "source": [
    "fits=fits_l1\n",
    "for i in range(len(fits)):\n",
    "    plt.subplot(1, len(fits), i+1)\n",
    "    plt.imshow(fits_l1[i].coef_[1,:].reshape((28,28)), cmap=\"RdYlGn\")\n",
    "   # plt.title(\"C = {:d}\".format(crange2))\n",
    "    plt.axis(\"off\")"
   ]
  },
  {
   "cell_type": "code",
   "execution_count": null,
   "metadata": {},
   "outputs": [],
   "source": [
    "plt.subplot(1,3,1)\n",
    "plt.imshow(fits_l1[5].coef_[8,:].reshape((28,28)), cmap=\"RdYlGn\")\n",
    "plt.subplot(1,3,2)\n",
    "plt.imshow(fits_l1[7].coef_[8,:].reshape((28,28)), cmap=\"RdYlGn\")\n",
    "plt.subplot(1,3,3)\n",
    "l=0.03\n",
    "plt.imshow(np.maximum(-l, np.minimum(l, fits_l1[6].coef_[8,:].reshape((28,28)))), cmap=\"RdYlGn\")"
   ]
  },
  {
   "cell_type": "code",
   "execution_count": null,
   "metadata": {},
   "outputs": [],
   "source": [
    "from sklearn.decomposition import TruncatedSVD"
   ]
  },
  {
   "cell_type": "code",
   "execution_count": null,
   "metadata": {},
   "outputs": [],
   "source": [
    "svd = TruncatedSVD( 50).fit(X)"
   ]
  },
  {
   "cell_type": "code",
   "execution_count": null,
   "metadata": {},
   "outputs": [],
   "source": [
    "svd.explained_variance_ratio_"
   ]
  },
  {
   "cell_type": "code",
   "execution_count": null,
   "metadata": {},
   "outputs": [],
   "source": [
    "plt.plot(svd.explained_variance_ratio_, 'o')"
   ]
  },
  {
   "cell_type": "code",
   "execution_count": null,
   "metadata": {},
   "outputs": [],
   "source": [
    "svd.components_.shape"
   ]
  },
  {
   "cell_type": "code",
   "execution_count": null,
   "metadata": {},
   "outputs": [],
   "source": [
    "p, a =plt.subplots(1, len(fits))\n",
    "for i in range(25):\n",
    "    plt.subplot(5,5 , i+1)\n",
    "    plt.imshow(svd.components_[i].reshape((28,28)))\n",
    "    plt.axis(\"off\")"
   ]
  },
  {
   "cell_type": "code",
   "execution_count": null,
   "metadata": {},
   "outputs": [],
   "source": [
    "from sklearn import preprocessing\n",
    "scaler = preprocessing.StandardScaler().fit(X)\n",
    "svdreg = TruncatedSVD( 50).fit(scaler.transform(X))"
   ]
  },
  {
   "cell_type": "code",
   "execution_count": null,
   "metadata": {},
   "outputs": [],
   "source": [
    "plt.plot(svdreg.explained_variance_ratio_, 'o')"
   ]
  },
  {
   "cell_type": "code",
   "execution_count": null,
   "metadata": {},
   "outputs": [],
   "source": [
    "for i in range(25):\n",
    "    plt.subplot(5,5 , i+1)\n",
    "    plt.imshow(svdreg.components_[i].reshape((28,28)))\n",
    "    plt.axis(\"off\")"
   ]
  },
  {
   "cell_type": "code",
   "execution_count": null,
   "metadata": {},
   "outputs": [],
   "source": [
    "# Keep in mind, these are from the variance of the data--no labels\n",
    "# were used in constructing these vectors.\n",
    "# And, this procedure is linear in the data; no regularization \n",
    "# was applied, just averaging."
   ]
  },
  {
   "cell_type": "code",
   "execution_count": null,
   "metadata": {},
   "outputs": [],
   "source": [
    "# Now we can project X onto the PCA components; we do \n",
    "# this by matrix multiplication"
   ]
  },
  {
   "cell_type": "code",
   "execution_count": null,
   "metadata": {},
   "outputs": [],
   "source": [
    "svd.components_.shape"
   ]
  },
  {
   "cell_type": "code",
   "execution_count": null,
   "metadata": {},
   "outputs": [],
   "source": [
    "PC = np.dot( X, svd.components_.T)"
   ]
  },
  {
   "cell_type": "code",
   "execution_count": null,
   "metadata": {},
   "outputs": [],
   "source": [
    "PC.shape"
   ]
  },
  {
   "cell_type": "code",
   "execution_count": null,
   "metadata": {},
   "outputs": [],
   "source": [
    "\n"
   ]
  },
  {
   "cell_type": "code",
   "execution_count": null,
   "metadata": {},
   "outputs": [],
   "source": [
    "h = {0: \"black\", 1:\"brown\", 2:\"red\", 3:\"orange\", 4:\"yellow\",\n",
    "    5:\"green\", 6:\"blue\", 7:\"purple\", 8:\"grey\", 9:\"white\"}\n",
    "colorlabels = []\n",
    "for i,l in enumerate(Y):\n",
    "    colorlabels.append(h[l])\n"
   ]
  },
  {
   "cell_type": "code",
   "execution_count": null,
   "metadata": {},
   "outputs": [],
   "source": [
    "plt.scatter(PC[0:1000,0], PC[0:1000,1] , c= colorlabels[0:1000])"
   ]
  },
  {
   "cell_type": "code",
   "execution_count": null,
   "metadata": {},
   "outputs": [],
   "source": [
    "# Calculate average digits\n",
    "avgdigit =[]\n",
    "stddigit =[]\n",
    "for i in range(10):\n",
    "    avgdigit.append(images[np.where(labels==i)].mean(axis=0).reshape((28,28)))\n",
    "    stddigit.append(images[np.where(labels==i)].std(axis=0).reshape((28,28)))\n",
    "avgdigit=np.array(avgdigit)\n",
    "avgdigit.shape"
   ]
  },
  {
   "cell_type": "code",
   "execution_count": null,
   "metadata": {},
   "outputs": [],
   "source": [
    "avgdigit_reshape = avgdigit.reshape((10, -1))"
   ]
  },
  {
   "cell_type": "code",
   "execution_count": null,
   "metadata": {},
   "outputs": [],
   "source": [
    "svd_avg = TruncatedSVD(9).fit(scaler.transform(avgdigit_reshape))"
   ]
  },
  {
   "cell_type": "code",
   "execution_count": null,
   "metadata": {},
   "outputs": [],
   "source": [
    "svd_avg.components_.shape"
   ]
  },
  {
   "cell_type": "code",
   "execution_count": null,
   "metadata": {},
   "outputs": [],
   "source": [
    "PC = np.dot(svd_avg.components_, X.T).T"
   ]
  },
  {
   "cell_type": "code",
   "execution_count": null,
   "metadata": {},
   "outputs": [],
   "source": [
    "plt.scatter(PC[0:1000,0], PC[0:1000,1] , c= colorlabels[0:1000])"
   ]
  },
  {
   "cell_type": "code",
   "execution_count": null,
   "metadata": {},
   "outputs": [],
   "source": [
    "plt.scatter(PC[0:1000,2], PC[0:1000,3] , c= colorlabels[0:1000])"
   ]
  },
  {
   "cell_type": "code",
   "execution_count": null,
   "metadata": {},
   "outputs": [],
   "source": [
    "plt.scatter(PC[0:1000,4], PC[0:1000,5] , c= colorlabels[0:1000])"
   ]
  },
  {
   "cell_type": "code",
   "execution_count": null,
   "metadata": {},
   "outputs": [],
   "source": []
  },
  {
   "cell_type": "code",
   "execution_count": null,
   "metadata": {},
   "outputs": [],
   "source": []
  },
  {
   "cell_type": "code",
   "execution_count": null,
   "metadata": {},
   "outputs": [],
   "source": []
  },
  {
   "cell_type": "code",
   "execution_count": null,
   "metadata": {},
   "outputs": [],
   "source": []
  },
  {
   "cell_type": "code",
   "execution_count": null,
   "metadata": {},
   "outputs": [],
   "source": []
  },
  {
   "cell_type": "code",
   "execution_count": null,
   "metadata": {},
   "outputs": [],
   "source": []
  },
  {
   "cell_type": "code",
   "execution_count": null,
   "metadata": {},
   "outputs": [],
   "source": []
  },
  {
   "cell_type": "code",
   "execution_count": null,
   "metadata": {},
   "outputs": [],
   "source": []
  },
  {
   "cell_type": "code",
   "execution_count": null,
   "metadata": {},
   "outputs": [],
   "source": []
  },
  {
   "cell_type": "code",
   "execution_count": null,
   "metadata": {},
   "outputs": [],
   "source": []
  },
  {
   "cell_type": "code",
   "execution_count": null,
   "metadata": {},
   "outputs": [],
   "source": []
  },
  {
   "cell_type": "code",
   "execution_count": null,
   "metadata": {},
   "outputs": [],
   "source": []
  },
  {
   "cell_type": "code",
   "execution_count": null,
   "metadata": {},
   "outputs": [],
   "source": []
  },
  {
   "cell_type": "code",
   "execution_count": null,
   "metadata": {},
   "outputs": [],
   "source": []
  },
  {
   "cell_type": "code",
   "execution_count": null,
   "metadata": {},
   "outputs": [],
   "source": []
  },
  {
   "cell_type": "code",
   "execution_count": null,
   "metadata": {},
   "outputs": [],
   "source": []
  }
 ],
 "metadata": {
  "kernelspec": {
   "display_name": "Python (tf)",
   "language": "python",
   "name": "tf"
  },
  "language_info": {
   "codemirror_mode": {
    "name": "ipython",
    "version": 3
   },
   "file_extension": ".py",
   "mimetype": "text/x-python",
   "name": "python",
   "nbconvert_exporter": "python",
   "pygments_lexer": "ipython3",
   "version": "3.10.9"
  }
 },
 "nbformat": 4,
 "nbformat_minor": 4
}
