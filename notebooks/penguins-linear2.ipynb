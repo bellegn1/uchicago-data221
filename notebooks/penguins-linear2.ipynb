{
 "cells": [
  {
   "cell_type": "code",
   "execution_count": null,
   "metadata": {},
   "outputs": [],
   "source": [
    "import matplotlib.pyplot as plt\n",
    "import numpy as np\n",
    "import pandas as pd\n",
    "import scipy.stats\n",
    "\n",
    "# This is an exploration of the Palmer Station penguins dataset \n",
    "# https://allisonhorst.github.io/palmerpenguins/\n",
    "# Horst AM, Hill AP, Gorman KB (2020). palmerpenguins: Palmer Archipelago (Antarctica) penguin data. R package version 0.1.0. https://allisonhorst.github.io/palmerpenguins/. doi: 10.5281/zenodo.3960218.\n",
    "# https://en.wikipedia.org/wiki/Pygoscelis\n",
    "\n",
    "# Three hundred brush-tailed penguins were briefly captured\n",
    "# and subjected to humiliating beak, flipper, and weight measurements \n",
    "# so that data science students don't have to look at Ronald Fisher's \n",
    "# iris dataset."
   ]
  },
  {
   "cell_type": "code",
   "execution_count": null,
   "metadata": {},
   "outputs": [],
   "source": [
    "# There is a mirror of this dataset in vega-datasets.\n",
    "# see if I'm allowed to download it by curl...\n",
    "# curl https://raw.githubusercontent.com/vega/vega-datasets/next/data/penguins.json\n",
    "!curl -OL https://raw.githubusercontent.com/vega/vega-datasets/next/data/penguins.json "
   ]
  },
  {
   "cell_type": "code",
   "execution_count": null,
   "metadata": {},
   "outputs": [],
   "source": [
    "# Check that the download was data and not a webpage with an error...\n",
    "!head penguins.json"
   ]
  },
  {
   "cell_type": "code",
   "execution_count": null,
   "metadata": {},
   "outputs": [],
   "source": [
    "penguins = pd.read_json(\"../data/penguins.json\")"
   ]
  },
  {
   "cell_type": "code",
   "execution_count": null,
   "metadata": {},
   "outputs": [],
   "source": []
  },
  {
   "cell_type": "code",
   "execution_count": null,
   "metadata": {},
   "outputs": [],
   "source": [
    "g = penguins.iloc[np.random.permutation(len(penguins))]\n",
    "len(penguins) * .25  # take one quarter of the penguins as a holdout set\n"
   ]
  },
  {
   "cell_type": "code",
   "execution_count": null,
   "metadata": {},
   "outputs": [],
   "source": [
    "penguins_train = g[87:]\n",
    "penguins_test  = g[:87]\n",
    "penguins_train.to_csv( \"penguins_train.csv\")\n",
    "penguins_test.to_csv( \"penguins_test.csv\")\n",
    "penguins = penguins_train\n",
    "# There is a mistake in this cell that makes it not do what it was intended.  "
   ]
  },
  {
   "cell_type": "code",
   "execution_count": null,
   "metadata": {},
   "outputs": [],
   "source": [
    "# Further, there is a suboptimality in assigning penguins to penguins_train this early."
   ]
  },
  {
   "cell_type": "code",
   "execution_count": null,
   "metadata": {},
   "outputs": [],
   "source": [
    "g"
   ]
  },
  {
   "cell_type": "code",
   "execution_count": null,
   "metadata": {},
   "outputs": [],
   "source": [
    "plt.plot(g.index)"
   ]
  },
  {
   "cell_type": "code",
   "execution_count": null,
   "metadata": {},
   "outputs": [],
   "source": [
    "# How many penguins?\n",
    "penguins.Species.value_counts(), len(penguins)"
   ]
  },
  {
   "cell_type": "code",
   "execution_count": null,
   "metadata": {},
   "outputs": [],
   "source": [
    "# Dictionary for painting the dots high-contrast colors\n",
    "colors = { \"Adelie\" : \"green\", \"Gentoo\": \"blue\", \"Chinstrap\": \"red\"}\n",
    "colors2 = { \"Adelie\" : \"lightgreen\", \"Gentoo\": \"lightblue\", \"Chinstrap\": \"pink\"}"
   ]
  },
  {
   "cell_type": "code",
   "execution_count": null,
   "metadata": {},
   "outputs": [],
   "source": [
    "plt.scatter(penguins[\"Beak Depth (mm)\"], penguins[\"Body Mass (g)\"] , color = penguins.Species.map(colors)  )\n",
    "# Had to look up how to make a legend for this kind of data\n",
    "# https://matplotlib.org/stable/gallery/text_labels_and_annotations/custom_legends.html\n",
    "from matplotlib.patches import Patch\n",
    "legend_elements = [Patch(facecolor=c[1], edgecolor='k', label=c[0]) for c in colors.items()]\n",
    "plt.legend(handles=legend_elements)"
   ]
  },
  {
   "cell_type": "code",
   "execution_count": null,
   "metadata": {},
   "outputs": [],
   "source": []
  },
  {
   "cell_type": "code",
   "execution_count": null,
   "metadata": {},
   "outputs": [],
   "source": [
    "penguins.plot( \"Beak Depth (mm)\", \"Body Mass (g)\" , kind=\"scatter\", color = penguins.Species.map(colors)  )"
   ]
  },
  {
   "cell_type": "code",
   "execution_count": null,
   "metadata": {},
   "outputs": [],
   "source": [
    "# Turning a column with k \"factors\" into k columns with numbers... jargon for this is?\n",
    "penguins[\"SP1\"] = penguins.Species == \"Adelie\"\n",
    "penguins[\"SP2\"] = penguins.Species == \"Gentoo\"\n",
    "penguins[\"SP3\"] = penguins.Species == \"Chinstrap\"\n",
    "penguins_test[\"SP1\"]= penguins_test.Species == \"Adelie\"\n",
    "penguins_test[\"SP2\"]= penguins_test.Species == \"Gentoo\"\n",
    "penguins_test[\"SP3\"]= penguins_test.Species == \"Chinstrap\"\n"
   ]
  },
  {
   "cell_type": "code",
   "execution_count": null,
   "metadata": {},
   "outputs": [],
   "source": [
    "penguins[\"SP1\"].sum(), penguins[\"SP2\"].sum(), penguins[\"SP3\"].sum()"
   ]
  },
  {
   "cell_type": "code",
   "execution_count": null,
   "metadata": {},
   "outputs": [],
   "source": [
    "len(penguins)"
   ]
  },
  {
   "cell_type": "code",
   "execution_count": null,
   "metadata": {},
   "outputs": [],
   "source": [
    "penguins.describe()"
   ]
  },
  {
   "cell_type": "code",
   "execution_count": null,
   "metadata": {},
   "outputs": [],
   "source": [
    "# Hey, where are my SP1, SP2, and SP3 indicator columns?  And Sex isn't a number yet..."
   ]
  },
  {
   "cell_type": "code",
   "execution_count": null,
   "metadata": {},
   "outputs": [],
   "source": [
    "penguins[[\"Flipper Length (mm)\", \"Beak Length (mm)\"]].plot(\"Flipper Length (mm)\", \"Beak Length (mm)\", kind=\"scatter\", color = penguins.Species.map(colors))\n",
    "plt.savefig(\"PENGUIN.png\", dpi=300, bbox_inches=\"tight\")"
   ]
  },
  {
   "cell_type": "code",
   "execution_count": null,
   "metadata": {},
   "outputs": [],
   "source": [
    "penguins[[\"Beak Depth (mm)\", \"Body Mass (g)\"]].values.shape, penguins.SP2.values[:, np.newaxis].shape"
   ]
  },
  {
   "cell_type": "code",
   "execution_count": null,
   "metadata": {},
   "outputs": [],
   "source": [
    "# How do I get this in the right shape?\n",
    "penguins.SP2.values[:, np.newaxis].shape"
   ]
  },
  {
   "cell_type": "code",
   "execution_count": null,
   "metadata": {},
   "outputs": [],
   "source": [
    "from sklearn.linear_model import LinearRegression"
   ]
  },
  {
   "cell_type": "code",
   "execution_count": null,
   "metadata": {},
   "outputs": [],
   "source": [
    "# reg = LinearRegression().fit(penguins[[\"Beak Depth (mm)\", \"Body Mass (g)\"]].values, penguins.SP2.values)"
   ]
  },
  {
   "cell_type": "raw",
   "metadata": {},
   "source": [
    "ValueError: Input contains NaN, infinity or a value too large for dtype('float64')."
   ]
  },
  {
   "cell_type": "code",
   "execution_count": null,
   "metadata": {},
   "outputs": [],
   "source": [
    "# Ok, ok, I'll clean up my dataframe.. sorry, scipy.."
   ]
  },
  {
   "cell_type": "code",
   "execution_count": null,
   "metadata": {},
   "outputs": [],
   "source": [
    "penguinclean = penguins[np.isfinite( penguins[\"Beak Depth (mm)\"]) & \n",
    "                        np.isfinite( penguins[\"Body Mass (g)\"]) &\n",
    "                        np.isfinite( penguins[\"Flipper Length (mm)\"]) & \n",
    "                        np.isfinite( penguins[\"Beak Length (mm)\"]) ] #  & \n",
    "                      #  np.isfinite( penguins[\"Sex\"]) ]"
   ]
  },
  {
   "cell_type": "code",
   "execution_count": null,
   "metadata": {},
   "outputs": [],
   "source": [
    "penguinclean.isnull().any()"
   ]
  },
  {
   "cell_type": "code",
   "execution_count": null,
   "metadata": {},
   "outputs": [],
   "source": [
    "penguinclean = penguinclean.dropna()"
   ]
  },
  {
   "cell_type": "code",
   "execution_count": null,
   "metadata": {},
   "outputs": [],
   "source": [
    "penguinclean.isnull().any(), len(penguinclean)"
   ]
  },
  {
   "cell_type": "code",
   "execution_count": null,
   "metadata": {},
   "outputs": [],
   "source": [
    "penguins_train = penguins_train[np.isfinite( penguins_train[\"Beak Depth (mm)\"]) & \n",
    "                        np.isfinite( penguins_train[\"Body Mass (g)\"]) &\n",
    "                        np.isfinite( penguins_train[\"Flipper Length (mm)\"]) & \n",
    "                        np.isfinite( penguins_train[\"Beak Length (mm)\"])]\n",
    "penguins_train =penguins_train.dropna()"
   ]
  },
  {
   "cell_type": "code",
   "execution_count": null,
   "metadata": {},
   "outputs": [],
   "source": [
    "penguins_test = penguins_test[np.isfinite( penguins_test[\"Beak Depth (mm)\"]) & \n",
    "                              np.isfinite( penguins_test[\"Body Mass (g)\"]) &\n",
    "                              np.isfinite( penguins_test[\"Flipper Length (mm)\"]) & \n",
    "                              np.isfinite( penguins_test[\"Beak Length (mm)\"])]\n",
    "penguis_test = penguins_test.dropna()"
   ]
  },
  {
   "cell_type": "code",
   "execution_count": null,
   "metadata": {},
   "outputs": [],
   "source": [
    "penguins_train.isnull().any(), len(penguins_test)"
   ]
  },
  {
   "cell_type": "code",
   "execution_count": null,
   "metadata": {},
   "outputs": [],
   "source": [
    "penguins_test.isnull().any(), len(penguins_test)"
   ]
  },
  {
   "cell_type": "code",
   "execution_count": null,
   "metadata": {},
   "outputs": [],
   "source": [
    "penguins_test.iloc[np.where(penguins_test.isnull())]"
   ]
  },
  {
   "cell_type": "code",
   "execution_count": null,
   "metadata": {},
   "outputs": [],
   "source": [
    "penguins_test.iloc[np.where(penguins_test.isnull())].index"
   ]
  },
  {
   "cell_type": "code",
   "execution_count": null,
   "metadata": {},
   "outputs": [],
   "source": [
    "penguins_test.drop(penguins_test.iloc[np.where(penguins_test.isnull())].index, axis=0)"
   ]
  },
  {
   "cell_type": "code",
   "execution_count": null,
   "metadata": {},
   "outputs": [],
   "source": [
    "# Finally, get rid of the None values...\n",
    "penguins_test = penguins_test.drop(penguins_test.iloc[np.where(penguins_test.isnull())].index, axis=0) "
   ]
  },
  {
   "cell_type": "code",
   "execution_count": null,
   "metadata": {},
   "outputs": [],
   "source": [
    "# And confirm that everything is healthy: \n",
    "penguins_test.isnull().any(), len(penguins_test)"
   ]
  },
  {
   "cell_type": "code",
   "execution_count": null,
   "metadata": {},
   "outputs": [],
   "source": [
    "# run linear regression... this with just two columns for X\n",
    "reg = LinearRegression().fit(penguinclean[[\"Beak Depth (mm)\", \"Body Mass (g)\"]].values, penguinclean.SP2.values)"
   ]
  },
  {
   "cell_type": "code",
   "execution_count": null,
   "metadata": {},
   "outputs": [],
   "source": [
    "dir(reg)"
   ]
  },
  {
   "cell_type": "code",
   "execution_count": null,
   "metadata": {},
   "outputs": [],
   "source": [
    "reg.coef_, reg.intercept_"
   ]
  },
  {
   "cell_type": "code",
   "execution_count": null,
   "metadata": {},
   "outputs": [],
   "source": [
    "# Let us see if I can build the linear classifier out of the \n",
    "# coefficients in reg... \n",
    "X = penguinclean[[\"Beak Depth (mm)\", \"Body Mass (g)\"]].values\n",
    "Y = penguinclean.SP2\n",
    "YHAT = np.dot(X, reg.coef_ ) + reg.intercept_"
   ]
  },
  {
   "cell_type": "code",
   "execution_count": null,
   "metadata": {},
   "outputs": [],
   "source": [
    "X.shape"
   ]
  },
  {
   "cell_type": "code",
   "execution_count": null,
   "metadata": {},
   "outputs": [],
   "source": [
    "plt.figure(figsize=(12,6))\n",
    "plt.subplot(121)\n",
    "plt.scatter(X[:,0], YHAT, color=penguinclean.Species.map(colors) )\n",
    "plt.xlabel(\"Beak Depth (mm)\")\n",
    "plt.ylabel(\"Gentoo linear predictor\")\n",
    "\n",
    "plt.subplot(122)\n",
    "plt.scatter(X[:,1], YHAT, color=penguinclean.Species.map(colors) )\n",
    "plt.xlabel(\"Body Mass (g))\")\n",
    "plt.ylabel(\"Gentoo linear predictor\")\n",
    "plt.legend(handles=legend_elements)\n"
   ]
  },
  {
   "cell_type": "code",
   "execution_count": null,
   "metadata": {},
   "outputs": [],
   "source": [
    "# My linear-leastsquares-fit coefficients were \n",
    "#  (array([-0.13720996,  0.00033089]), 1.3226593522496826)\n",
    "# That's b0, b1, and C...\n",
    "# yhat = b0 * X[:,0] + b1* X[:,1] + C \n",
    "# high school algebra... the boundary is x1div = (0.5 - c) / b1 - b0 /b1 * x0\n",
    "\n",
    "x0div = np.arange(14,24)\n",
    "x1div = (0.5 - reg.intercept_)/ reg.coef_[1] - reg.coef_[0] / reg.coef_[1] * x0div"
   ]
  },
  {
   "cell_type": "code",
   "execution_count": null,
   "metadata": {},
   "outputs": [],
   "source": [
    "plt.scatter(X[:,0], X[:,1], color=penguinclean.Species.map(colors) )\n",
    "plt.legend(handles=legend_elements)\n",
    "\n",
    "plt.plot(x0div, x1div)"
   ]
  },
  {
   "cell_type": "code",
   "execution_count": null,
   "metadata": {},
   "outputs": [],
   "source": [
    "plt.scatter(penguins[\"Beak Depth (mm)\"], penguins[\"Body Mass (g)\"] , color = penguins.Species.map(colors)  )\n",
    "plt.legend(handles=legend_elements)\n",
    "plt.plot(x0div, x1div)"
   ]
  },
  {
   "cell_type": "code",
   "execution_count": null,
   "metadata": {},
   "outputs": [],
   "source": [
    "# \"Shooting fish in a barrel.\"\n",
    "\n",
    "# We took two features, performed linear regression, and \n",
    "# used the coefficients to build a linear classifier.\n",
    "\n",
    "# Gentoo is easy to tell apart from the other two species of brush-tailed penguin.\n"
   ]
  },
  {
   "cell_type": "code",
   "execution_count": null,
   "metadata": {},
   "outputs": [],
   "source": [
    "# Other dimensions will be informative about the difference between\n",
    "# the red and the green birds:\n",
    "plt.scatter(penguins[\"Beak Length (mm)\"], penguins[\"Flipper Length (mm)\"] , color = penguins.Species.map(colors)  )\n",
    "plt.legend(handles=legend_elements)\n",
    "# I can glance at this graph and guess at the locations of the\n",
    "# lines that would separate each of the three species from the\n",
    "# rest, but I will need a little ore theory to do three-way classificaiton. "
   ]
  },
  {
   "cell_type": "code",
   "execution_count": null,
   "metadata": {},
   "outputs": [],
   "source": [
    "# Now I'm going to go after a harder problem; Adelie penguins with all four X\n",
    "reg4_1 = LinearRegression().fit(penguins_train[[\"Beak Depth (mm)\", \"Body Mass (g)\", \"Beak Length (mm)\", \"Flipper Length (mm)\"]].values, penguins_train.SP1.values)"
   ]
  },
  {
   "cell_type": "code",
   "execution_count": null,
   "metadata": {},
   "outputs": [],
   "source": [
    "reg4_1.coef_, reg4_1.intercept_"
   ]
  },
  {
   "cell_type": "code",
   "execution_count": null,
   "metadata": {},
   "outputs": [],
   "source": [
    "print([\"Beak Depth (mm)\", \"Body Mass (g)\", \"Beak Length (mm)\", \"Flipper Length (mm)\"])\n",
    "reg4_1.coef_, reg4_1.intercept_"
   ]
  },
  {
   "cell_type": "code",
   "execution_count": null,
   "metadata": {},
   "outputs": [],
   "source": [
    "# Can I interpret these coefficients?  I can interpret their signs, of course..\n",
    "# Three of the measurements are in mm, one is in g, and they have different\n",
    "# relevant scales.\n"
   ]
  },
  {
   "cell_type": "code",
   "execution_count": null,
   "metadata": {},
   "outputs": [],
   "source": [
    "penguins_train.std()"
   ]
  },
  {
   "cell_type": "code",
   "execution_count": null,
   "metadata": {},
   "outputs": [],
   "source": [
    "# Let's set put the standard deviations of each column of X into an array:\n",
    "feature_std = np.array([1.964146, 826.402823,  5.046194,  13.464290 ])\n",
    "# If I arranged the columns correctly, this product \n",
    "print([\"Beak Depth (mm)\", \"Body Mass (g)\", \"Beak Length (mm)\", \"Flipper Length (mm)\"])\n",
    "\n",
    "reg4_1.coef_ * feature_std\n"
   ]
  },
  {
   "cell_type": "code",
   "execution_count": null,
   "metadata": {},
   "outputs": [],
   "source": [
    "# tells us a little more about which fields had more weight.  \n",
    "# Flipper length and Body mass aren't as weighted as two \n",
    "# beak measurements."
   ]
  },
  {
   "cell_type": "code",
   "execution_count": null,
   "metadata": {},
   "outputs": [],
   "source": []
  },
  {
   "cell_type": "code",
   "execution_count": null,
   "metadata": {},
   "outputs": [],
   "source": [
    "SP1PREDICT_train= np.dot( penguins_train[[\"Beak Depth (mm)\", \"Body Mass (g)\", 'Beak Length (mm)', \"Flipper Length (mm)\"]].values,reg4_1.coef_) + reg4_1.intercept_"
   ]
  },
  {
   "cell_type": "code",
   "execution_count": null,
   "metadata": {},
   "outputs": [],
   "source": [
    "penguins_train[\"SP1PREDICT\"] = SP1PREDICT_train > 0.5\n",
    "penguins_train[\"SP1LINEAR\"] = SP1PREDICT_train "
   ]
  },
  {
   "cell_type": "code",
   "execution_count": null,
   "metadata": {},
   "outputs": [],
   "source": [
    "SP1PREDICT_test= np.dot( penguins_test[[\"Beak Depth (mm)\", \"Body Mass (g)\", 'Beak Length (mm)', \"Flipper Length (mm)\"]].values,reg4_1.coef_) + reg4_1.intercept_"
   ]
  },
  {
   "cell_type": "code",
   "execution_count": null,
   "metadata": {},
   "outputs": [],
   "source": [
    "penguins_test[\"SP1PREDICT\"] = SP1PREDICT_test > 0.5\n",
    "penguins_test[\"SP1LINEAR\"] = SP1PREDICT_test "
   ]
  },
  {
   "cell_type": "code",
   "execution_count": null,
   "metadata": {},
   "outputs": [],
   "source": [
    "penguins_train.groupby([\"SP1PREDICT\", \"SP1\"]).SP1PREDICT.count()"
   ]
  },
  {
   "cell_type": "code",
   "execution_count": null,
   "metadata": {},
   "outputs": [],
   "source": [
    "len(penguins_train)"
   ]
  },
  {
   "cell_type": "code",
   "execution_count": null,
   "metadata": {},
   "outputs": [],
   "source": [
    "# On the training data, which is cheating,  \n",
    "# Out of 256 penguins, the four-dimensional linear classifier got 252 right\n",
    "# and 4 wrong on the \"is-it-an-Adelie\""
   ]
  },
  {
   "cell_type": "code",
   "execution_count": null,
   "metadata": {},
   "outputs": [],
   "source": [
    "penguins_test.groupby([\"SP1PREDICT\", \"SP1\"]).SP1PREDICT.count()"
   ]
  },
  {
   "cell_type": "code",
   "execution_count": null,
   "metadata": {},
   "outputs": [],
   "source": [
    "penguins_test.head()"
   ]
  },
  {
   "cell_type": "code",
   "execution_count": null,
   "metadata": {},
   "outputs": [],
   "source": [
    "# Since the scores for a binary classifier are in one dimension, \n",
    "# I can histogram them\n",
    "\n",
    "plt.hist(penguins_train.SP1LINEAR, bins=50)"
   ]
  },
  {
   "cell_type": "code",
   "execution_count": null,
   "metadata": {},
   "outputs": [],
   "source": [
    "# And they are nicely bimodal.\n",
    "# But this is emphatically NOT THE RIGHT MODEL.\n"
   ]
  },
  {
   "cell_type": "code",
   "execution_count": null,
   "metadata": {},
   "outputs": [],
   "source": [
    "penguinsM = penguins.query(\"Sex == 'MALE'\") \n",
    "penguinsF = penguins.query(\"Sex == 'FEMALE'\") \n",
    "\n",
    "#penguinsM[[\"Flipper Length (mm)\", \"Beak Length (mm)\"]].plot(\"Flipper Length (mm)\", \"Beak Length (mm)\", kind=\"scatter\", color = penguinsM.Species.map(colors))\n",
    "plt.scatter(penguinsF[\"Flipper Length (mm)\"], penguinsF[\"Beak Length (mm)\"],  color = penguinsF.Species.map(colors2))\n",
    "plt.scatter(penguinsM[\"Flipper Length (mm)\"], penguinsM[\"Beak Length (mm)\"],  color = penguinsM.Species.map(colors))\n",
    "plt.xlabel(\"Flipper Length (mm)\")\n",
    "plt.ylabel(\"Beak Length (mm)\")\n",
    "plt.savefig(\"PENGUIN.png\", dpi=300, bbox_inches=\"tight\")"
   ]
  },
  {
   "cell_type": "code",
   "execution_count": null,
   "metadata": {},
   "outputs": [],
   "source": []
  }
 ],
 "metadata": {
  "kernelspec": {
   "display_name": "scipy",
   "language": "python",
   "name": "scipy"
  },
  "language_info": {
   "codemirror_mode": {
    "name": "ipython",
    "version": 3
   },
   "file_extension": ".py",
   "mimetype": "text/x-python",
   "name": "python",
   "nbconvert_exporter": "python",
   "pygments_lexer": "ipython3",
   "version": "3.10.10"
  }
 },
 "nbformat": 4,
 "nbformat_minor": 4
}
