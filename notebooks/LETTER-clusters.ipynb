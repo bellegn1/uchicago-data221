{
 "cells": [
  {
   "cell_type": "code",
   "execution_count": null,
   "id": "6785cc17-6f77-499a-85bc-c15dc4902c16",
   "metadata": {},
   "outputs": [],
   "source": [
    "import matplotlib.pyplot as plt\n",
    "import numpy as np\n",
    "import pandas as pd\n",
    "import scipy.stats"
   ]
  },
  {
   "cell_type": "code",
   "execution_count": null,
   "id": "f2c2d850-f4c7-4f4e-aefd-977c923f81b2",
   "metadata": {},
   "outputs": [],
   "source": [
    "# madhouse-letters is a table of letter frequencies in a \n",
    "# 29k-word essay containing about 150k characters.\n",
    "\n",
    "freqs = pd.read_csv(\"../data/madhouse-letters.csv\")\n",
    "freqs = freqs.set_index(\"Unnamed: 0\")"
   ]
  },
  {
   "cell_type": "code",
   "execution_count": null,
   "id": "65a09a20-8992-4cd7-bfc2-a7aef9d624b1",
   "metadata": {},
   "outputs": [],
   "source": [
    "# This is a 27 x 27 histogram, where there are 26 latin letters\n",
    "# and one catchall for non-letter symbols.  \n",
    "freqs.sum().sum(), freqs.shape"
   ]
  },
  {
   "cell_type": "code",
   "execution_count": null,
   "id": "af650a82-bac2-4972-b50c-bb0251549120",
   "metadata": {},
   "outputs": [],
   "source": [
    "freqs.iloc[0:5, 0:5]"
   ]
  },
  {
   "cell_type": "code",
   "execution_count": null,
   "id": "81305491-798e-4e63-a0ec-f576daaa0387",
   "metadata": {},
   "outputs": [],
   "source": [
    "freqs.loc[\"Q\", \"U\"], freqs.loc[\"U\", \"Q\"]"
   ]
  },
  {
   "cell_type": "code",
   "execution_count": null,
   "id": "bbf2b2fa-654c-4c0e-9132-07ae0d674e7b",
   "metadata": {},
   "outputs": [],
   "source": []
  },
  {
   "cell_type": "code",
   "execution_count": null,
   "id": "69968883-7565-4983-ab75-834658cb0ffb",
   "metadata": {},
   "outputs": [],
   "source": [
    "plt.bar( np.arange(len(freqs.index)), freqs.sum(axis=0))\n"
   ]
  },
  {
   "cell_type": "code",
   "execution_count": null,
   "id": "c6621b60-2c0c-4380-83c7-cefce025c0d7",
   "metadata": {},
   "outputs": [],
   "source": [
    "plt.bar( np.arange(len(freqs.index)), freqs.sum(axis=0) )\n",
    "plt.xticks( range(len(freqs.index)), freqs.index)"
   ]
  },
  {
   "cell_type": "code",
   "execution_count": null,
   "id": "1a8fca88-ff6f-471d-9614-1f9ba9180fec",
   "metadata": {},
   "outputs": [],
   "source": [
    "freqs.sum()"
   ]
  },
  {
   "cell_type": "code",
   "execution_count": null,
   "id": "8b072d77-b3e5-4171-b6cc-e1e185c683c8",
   "metadata": {},
   "outputs": [],
   "source": [
    "plt.bar( np.arange(len(freqs.index)), 1/freqs.sum()*freqs.sum(axis=0) )\n",
    "plt.xticks( range(len(freqs.index)), freqs.index)"
   ]
  },
  {
   "cell_type": "code",
   "execution_count": null,
   "id": "b726ad07-bb23-4c73-82f3-07cc9271f2a8",
   "metadata": {},
   "outputs": [],
   "source": [
    "# Well this doesn't work "
   ]
  },
  {
   "cell_type": "code",
   "execution_count": null,
   "id": "8cf11302-ddd4-435e-8435-5d25f3d898f1",
   "metadata": {},
   "outputs": [],
   "source": [
    "percolumn = freqs / freqs.sum(axis=0)"
   ]
  },
  {
   "cell_type": "code",
   "execution_count": null,
   "id": "d7ad03f0-000e-4fc7-a89e-09ab367cbd2d",
   "metadata": {},
   "outputs": [],
   "source": [
    "perrow = (freqs.T / freqs.sum(axis=1) ).T"
   ]
  },
  {
   "cell_type": "code",
   "execution_count": null,
   "id": "19e89464-193d-454b-9f23-659111746293",
   "metadata": {},
   "outputs": [],
   "source": [
    "plt.subplot(131)\n",
    "plt.imshow(freqs)\n",
    "plt.subplot(132)\n",
    "plt.imshow(percolumn)\n",
    "plt.subplot(133)\n",
    "plt.imshow(perrow)\n"
   ]
  },
  {
   "cell_type": "code",
   "execution_count": null,
   "id": "7b2c084d-0738-47b3-abfa-4c40758d8543",
   "metadata": {},
   "outputs": [],
   "source": [
    "plt.subplot(131)\n",
    "plt.imshow(freqs)\n",
    "plt.xticks(np.arange(len(freqs.index)), freqs.index, fontsize=6)\n",
    "plt.yticks(np.arange(len(freqs.index)), freqs.index, fontsize=6)\n",
    "plt.subplot(132)\n",
    "plt.imshow(percolumn)\n",
    "plt.xticks(np.arange(len(freqs.index)), freqs.index, fontsize=6)\n",
    "plt.yticks(np.arange(len(freqs.index)), freqs.index, fontsize=6)\n",
    "plt.subplot(133)\n",
    "plt.imshow(perrow)\n",
    "plt.xticks(np.arange(len(freqs.index)), freqs.index, fontsize=6)\n",
    "plt.yticks(np.arange(len(freqs.index)), freqs.index, fontsize=6)"
   ]
  },
  {
   "cell_type": "code",
   "execution_count": null,
   "id": "12b772d1-d882-44d6-9496-a79cc6d8b6a0",
   "metadata": {},
   "outputs": [],
   "source": [
    "import seaborn as sns\n",
    "sns.clustermap(freqs)"
   ]
  },
  {
   "cell_type": "code",
   "execution_count": null,
   "id": "3b542e78-7d69-4b24-b7f5-ea8db6c0c324",
   "metadata": {},
   "outputs": [],
   "source": [
    "from scipy.cluster.hierarchy import dendrogram, linkage, fcluster "
   ]
  },
  {
   "cell_type": "code",
   "execution_count": null,
   "id": "2a5e68fe-8d3d-4466-914f-ef78b5758db6",
   "metadata": {},
   "outputs": [],
   "source": [
    "clust0 = linkage(freqs)\n",
    "plt.figure(figsize=(10, 7))  \n",
    "dendrogram(clust0,  \n",
    "            orientation='top',\n",
    "            labels=freqs.index,\n",
    "            distance_sort='descending')\n",
    "plt.show()  "
   ]
  },
  {
   "cell_type": "code",
   "execution_count": null,
   "id": "9512d4e3-c8a2-4a82-9655-8cbd73e2d05a",
   "metadata": {},
   "outputs": [],
   "source": [
    "clust1 = linkage(percolumn)\n",
    "plt.figure(figsize=(10, 7))  \n",
    "dendrogram(clust1,  \n",
    "            orientation='top',\n",
    "            labels=freqs.index,\n",
    "            distance_sort='descending')\n",
    "plt.show()  "
   ]
  },
  {
   "cell_type": "code",
   "execution_count": null,
   "id": "19ccf250-b1be-4382-b91a-f548d3eb9d02",
   "metadata": {},
   "outputs": [],
   "source": [
    "clust2 = linkage(perrow)\n",
    "plt.figure(figsize=(10, 7))  \n",
    "dendrogram(clust2,  \n",
    "            orientation='top',\n",
    "            labels=freqs.index,\n",
    "            distance_sort='descending')\n",
    "plt.show()  "
   ]
  },
  {
   "cell_type": "code",
   "execution_count": null,
   "id": "d51d4254-3cb6-44ec-b66d-5ee253d88c65",
   "metadata": {},
   "outputs": [],
   "source": [
    "import seaborn as sns\n",
    "sns.clustermap(perrow)"
   ]
  },
  {
   "cell_type": "code",
   "execution_count": null,
   "id": "6fd47ced-a6bd-43b8-a473-ee5f646bf7cb",
   "metadata": {},
   "outputs": [],
   "source": [
    "sns.clustermap(perrow, method=\"single\")\n",
    "plt.title(\"Single linkage\")"
   ]
  },
  {
   "cell_type": "code",
   "execution_count": null,
   "id": "81dd5563-67ae-4dd9-964d-56555ee75808",
   "metadata": {},
   "outputs": [],
   "source": [
    "plt.imshow(np.log(freqs) - np.log(freqs.sum(axis=1)) )"
   ]
  },
  {
   "cell_type": "code",
   "execution_count": null,
   "id": "35ecb189-4b00-44bc-9488-4d60855cba1c",
   "metadata": {},
   "outputs": [],
   "source": [
    "plt.imshow(np.log(freqs+.01) - .5 * np.log(freqs.sum(axis=1)) ) - 0.5 * np.log( ( freqs.T).sum(axis=1) .T) "
   ]
  },
  {
   "cell_type": "code",
   "execution_count": null,
   "id": "bccfb670-c5f4-4aa7-98c7-5078b55bbdd1",
   "metadata": {},
   "outputs": [],
   "source": [
    "plt.imshow(np.log(freqs+.01) - .5 * np.log(freqs.sum(axis=1))  - 0.5 * np.log( ( freqs.T).sum(axis=1) .T), cmap=\"bwr\") "
   ]
  },
  {
   "cell_type": "code",
   "execution_count": null,
   "id": "bd6a7ecf-3872-4ea4-97e6-26cd34956e3e",
   "metadata": {},
   "outputs": [],
   "source": []
  }
 ],
 "metadata": {
  "kernelspec": {
   "display_name": "Python (tf)",
   "language": "python",
   "name": "tf"
  },
  "language_info": {
   "codemirror_mode": {
    "name": "ipython",
    "version": 3
   },
   "file_extension": ".py",
   "mimetype": "text/x-python",
   "name": "python",
   "nbconvert_exporter": "python",
   "pygments_lexer": "ipython3",
   "version": "3.10.9"
  }
 },
 "nbformat": 4,
 "nbformat_minor": 5
}
