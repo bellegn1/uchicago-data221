{
 "cells": [
  {
   "cell_type": "code",
   "execution_count": 25,
   "metadata": {},
   "outputs": [],
   "source": [
    "import matplotlib.pyplot as plt\n",
    "import numpy as np\n",
    "import pandas as pd\n",
    "import scipy.stats\n",
    "import nltk"
   ]
  },
  {
   "cell_type": "code",
   "execution_count": 26,
   "metadata": {},
   "outputs": [
    {
     "ename": "UnicodeDecodeError",
     "evalue": "'utf-8' codec can't decode bytes in position 135-136: invalid continuation byte",
     "output_type": "error",
     "traceback": [
      "\u001b[0;31m---------------------------------------------------------------------------\u001b[0m",
      "\u001b[0;31mUnicodeDecodeError\u001b[0m                        Traceback (most recent call last)",
      "\u001b[0;32mpandas/_libs/parsers.pyx\u001b[0m in \u001b[0;36mpandas._libs.parsers.TextReader._convert_tokens\u001b[0;34m()\u001b[0m\n",
      "\u001b[0;32mpandas/_libs/parsers.pyx\u001b[0m in \u001b[0;36mpandas._libs.parsers.TextReader._convert_with_dtype\u001b[0;34m()\u001b[0m\n",
      "\u001b[0;32mpandas/_libs/parsers.pyx\u001b[0m in \u001b[0;36mpandas._libs.parsers.TextReader._string_convert\u001b[0;34m()\u001b[0m\n",
      "\u001b[0;32mpandas/_libs/parsers.pyx\u001b[0m in \u001b[0;36mpandas._libs.parsers._string_box_utf8\u001b[0;34m()\u001b[0m\n",
      "\u001b[0;31mUnicodeDecodeError\u001b[0m: 'utf-8' codec can't decode bytes in position 135-136: invalid continuation byte",
      "\nDuring handling of the above exception, another exception occurred:\n",
      "\u001b[0;31mUnicodeDecodeError\u001b[0m                        Traceback (most recent call last)",
      "\u001b[0;32m<ipython-input-26-4bbfa9d6ee1b>\u001b[0m in \u001b[0;36m<module>\u001b[0;34m\u001b[0m\n\u001b[0;32m----> 1\u001b[0;31m \u001b[0mspam\u001b[0m \u001b[0;34m=\u001b[0m\u001b[0mpd\u001b[0m\u001b[0;34m.\u001b[0m\u001b[0mread_csv\u001b[0m\u001b[0;34m(\u001b[0m\u001b[0;34m\"spam.csv\"\u001b[0m\u001b[0;34m)\u001b[0m\u001b[0;34m\u001b[0m\u001b[0;34m\u001b[0m\u001b[0m\n\u001b[0m",
      "\u001b[0;32m/Applications/anaconda3/lib/python3.8/site-packages/pandas/io/parsers.py\u001b[0m in \u001b[0;36mread_csv\u001b[0;34m(filepath_or_buffer, sep, delimiter, header, names, index_col, usecols, squeeze, prefix, mangle_dupe_cols, dtype, engine, converters, true_values, false_values, skipinitialspace, skiprows, skipfooter, nrows, na_values, keep_default_na, na_filter, verbose, skip_blank_lines, parse_dates, infer_datetime_format, keep_date_col, date_parser, dayfirst, cache_dates, iterator, chunksize, compression, thousands, decimal, lineterminator, quotechar, quoting, doublequote, escapechar, comment, encoding, dialect, error_bad_lines, warn_bad_lines, delim_whitespace, low_memory, memory_map, float_precision)\u001b[0m\n\u001b[1;32m    684\u001b[0m     )\n\u001b[1;32m    685\u001b[0m \u001b[0;34m\u001b[0m\u001b[0m\n\u001b[0;32m--> 686\u001b[0;31m     \u001b[0;32mreturn\u001b[0m \u001b[0m_read\u001b[0m\u001b[0;34m(\u001b[0m\u001b[0mfilepath_or_buffer\u001b[0m\u001b[0;34m,\u001b[0m \u001b[0mkwds\u001b[0m\u001b[0;34m)\u001b[0m\u001b[0;34m\u001b[0m\u001b[0;34m\u001b[0m\u001b[0m\n\u001b[0m\u001b[1;32m    687\u001b[0m \u001b[0;34m\u001b[0m\u001b[0m\n\u001b[1;32m    688\u001b[0m \u001b[0;34m\u001b[0m\u001b[0m\n",
      "\u001b[0;32m/Applications/anaconda3/lib/python3.8/site-packages/pandas/io/parsers.py\u001b[0m in \u001b[0;36m_read\u001b[0;34m(filepath_or_buffer, kwds)\u001b[0m\n\u001b[1;32m    456\u001b[0m \u001b[0;34m\u001b[0m\u001b[0m\n\u001b[1;32m    457\u001b[0m     \u001b[0;32mtry\u001b[0m\u001b[0;34m:\u001b[0m\u001b[0;34m\u001b[0m\u001b[0;34m\u001b[0m\u001b[0m\n\u001b[0;32m--> 458\u001b[0;31m         \u001b[0mdata\u001b[0m \u001b[0;34m=\u001b[0m \u001b[0mparser\u001b[0m\u001b[0;34m.\u001b[0m\u001b[0mread\u001b[0m\u001b[0;34m(\u001b[0m\u001b[0mnrows\u001b[0m\u001b[0;34m)\u001b[0m\u001b[0;34m\u001b[0m\u001b[0;34m\u001b[0m\u001b[0m\n\u001b[0m\u001b[1;32m    459\u001b[0m     \u001b[0;32mfinally\u001b[0m\u001b[0;34m:\u001b[0m\u001b[0;34m\u001b[0m\u001b[0;34m\u001b[0m\u001b[0m\n\u001b[1;32m    460\u001b[0m         \u001b[0mparser\u001b[0m\u001b[0;34m.\u001b[0m\u001b[0mclose\u001b[0m\u001b[0;34m(\u001b[0m\u001b[0;34m)\u001b[0m\u001b[0;34m\u001b[0m\u001b[0;34m\u001b[0m\u001b[0m\n",
      "\u001b[0;32m/Applications/anaconda3/lib/python3.8/site-packages/pandas/io/parsers.py\u001b[0m in \u001b[0;36mread\u001b[0;34m(self, nrows)\u001b[0m\n\u001b[1;32m   1194\u001b[0m     \u001b[0;32mdef\u001b[0m \u001b[0mread\u001b[0m\u001b[0;34m(\u001b[0m\u001b[0mself\u001b[0m\u001b[0;34m,\u001b[0m \u001b[0mnrows\u001b[0m\u001b[0;34m=\u001b[0m\u001b[0;32mNone\u001b[0m\u001b[0;34m)\u001b[0m\u001b[0;34m:\u001b[0m\u001b[0;34m\u001b[0m\u001b[0;34m\u001b[0m\u001b[0m\n\u001b[1;32m   1195\u001b[0m         \u001b[0mnrows\u001b[0m \u001b[0;34m=\u001b[0m \u001b[0m_validate_integer\u001b[0m\u001b[0;34m(\u001b[0m\u001b[0;34m\"nrows\"\u001b[0m\u001b[0;34m,\u001b[0m \u001b[0mnrows\u001b[0m\u001b[0;34m)\u001b[0m\u001b[0;34m\u001b[0m\u001b[0;34m\u001b[0m\u001b[0m\n\u001b[0;32m-> 1196\u001b[0;31m         \u001b[0mret\u001b[0m \u001b[0;34m=\u001b[0m \u001b[0mself\u001b[0m\u001b[0;34m.\u001b[0m\u001b[0m_engine\u001b[0m\u001b[0;34m.\u001b[0m\u001b[0mread\u001b[0m\u001b[0;34m(\u001b[0m\u001b[0mnrows\u001b[0m\u001b[0;34m)\u001b[0m\u001b[0;34m\u001b[0m\u001b[0;34m\u001b[0m\u001b[0m\n\u001b[0m\u001b[1;32m   1197\u001b[0m \u001b[0;34m\u001b[0m\u001b[0m\n\u001b[1;32m   1198\u001b[0m         \u001b[0;31m# May alter columns / col_dict\u001b[0m\u001b[0;34m\u001b[0m\u001b[0;34m\u001b[0m\u001b[0;34m\u001b[0m\u001b[0m\n",
      "\u001b[0;32m/Applications/anaconda3/lib/python3.8/site-packages/pandas/io/parsers.py\u001b[0m in \u001b[0;36mread\u001b[0;34m(self, nrows)\u001b[0m\n\u001b[1;32m   2153\u001b[0m     \u001b[0;32mdef\u001b[0m \u001b[0mread\u001b[0m\u001b[0;34m(\u001b[0m\u001b[0mself\u001b[0m\u001b[0;34m,\u001b[0m \u001b[0mnrows\u001b[0m\u001b[0;34m=\u001b[0m\u001b[0;32mNone\u001b[0m\u001b[0;34m)\u001b[0m\u001b[0;34m:\u001b[0m\u001b[0;34m\u001b[0m\u001b[0;34m\u001b[0m\u001b[0m\n\u001b[1;32m   2154\u001b[0m         \u001b[0;32mtry\u001b[0m\u001b[0;34m:\u001b[0m\u001b[0;34m\u001b[0m\u001b[0;34m\u001b[0m\u001b[0m\n\u001b[0;32m-> 2155\u001b[0;31m             \u001b[0mdata\u001b[0m \u001b[0;34m=\u001b[0m \u001b[0mself\u001b[0m\u001b[0;34m.\u001b[0m\u001b[0m_reader\u001b[0m\u001b[0;34m.\u001b[0m\u001b[0mread\u001b[0m\u001b[0;34m(\u001b[0m\u001b[0mnrows\u001b[0m\u001b[0;34m)\u001b[0m\u001b[0;34m\u001b[0m\u001b[0;34m\u001b[0m\u001b[0m\n\u001b[0m\u001b[1;32m   2156\u001b[0m         \u001b[0;32mexcept\u001b[0m \u001b[0mStopIteration\u001b[0m\u001b[0;34m:\u001b[0m\u001b[0;34m\u001b[0m\u001b[0;34m\u001b[0m\u001b[0m\n\u001b[1;32m   2157\u001b[0m             \u001b[0;32mif\u001b[0m \u001b[0mself\u001b[0m\u001b[0;34m.\u001b[0m\u001b[0m_first_chunk\u001b[0m\u001b[0;34m:\u001b[0m\u001b[0;34m\u001b[0m\u001b[0;34m\u001b[0m\u001b[0m\n",
      "\u001b[0;32mpandas/_libs/parsers.pyx\u001b[0m in \u001b[0;36mpandas._libs.parsers.TextReader.read\u001b[0;34m()\u001b[0m\n",
      "\u001b[0;32mpandas/_libs/parsers.pyx\u001b[0m in \u001b[0;36mpandas._libs.parsers.TextReader._read_low_memory\u001b[0;34m()\u001b[0m\n",
      "\u001b[0;32mpandas/_libs/parsers.pyx\u001b[0m in \u001b[0;36mpandas._libs.parsers.TextReader._read_rows\u001b[0;34m()\u001b[0m\n",
      "\u001b[0;32mpandas/_libs/parsers.pyx\u001b[0m in \u001b[0;36mpandas._libs.parsers.TextReader._convert_column_data\u001b[0;34m()\u001b[0m\n",
      "\u001b[0;32mpandas/_libs/parsers.pyx\u001b[0m in \u001b[0;36mpandas._libs.parsers.TextReader._convert_tokens\u001b[0;34m()\u001b[0m\n",
      "\u001b[0;32mpandas/_libs/parsers.pyx\u001b[0m in \u001b[0;36mpandas._libs.parsers.TextReader._convert_with_dtype\u001b[0;34m()\u001b[0m\n",
      "\u001b[0;32mpandas/_libs/parsers.pyx\u001b[0m in \u001b[0;36mpandas._libs.parsers.TextReader._string_convert\u001b[0;34m()\u001b[0m\n",
      "\u001b[0;32mpandas/_libs/parsers.pyx\u001b[0m in \u001b[0;36mpandas._libs.parsers._string_box_utf8\u001b[0;34m()\u001b[0m\n",
      "\u001b[0;31mUnicodeDecodeError\u001b[0m: 'utf-8' codec can't decode bytes in position 135-136: invalid continuation byte"
     ]
    }
   ],
   "source": [
    "spam =pd.read_csv(\"../data/spam.csv\")"
   ]
  },
  {
   "cell_type": "code",
   "execution_count": null,
   "metadata": {},
   "outputs": [],
   "source": [
    "# You might have seen this error message before; \n",
    "# there are symbols in the data file that are invalid \n",
    "# unicode characters.  Apparently this file isn't\n",
    "# in unicode. "
   ]
  },
  {
   "cell_type": "code",
   "execution_count": 28,
   "metadata": {},
   "outputs": [],
   "source": [
    "spam =pd.read_csv(\"../data/spam.csv\", encoding=\"latin-1\")"
   ]
  },
  {
   "cell_type": "code",
   "execution_count": 29,
   "metadata": {},
   "outputs": [
    {
     "data": {
      "text/html": [
       "<div>\n",
       "<style scoped>\n",
       "    .dataframe tbody tr th:only-of-type {\n",
       "        vertical-align: middle;\n",
       "    }\n",
       "\n",
       "    .dataframe tbody tr th {\n",
       "        vertical-align: top;\n",
       "    }\n",
       "\n",
       "    .dataframe thead th {\n",
       "        text-align: right;\n",
       "    }\n",
       "</style>\n",
       "<table border=\"1\" class=\"dataframe\">\n",
       "  <thead>\n",
       "    <tr style=\"text-align: right;\">\n",
       "      <th></th>\n",
       "      <th>v1</th>\n",
       "      <th>v2</th>\n",
       "      <th>Unnamed: 2</th>\n",
       "      <th>Unnamed: 3</th>\n",
       "      <th>Unnamed: 4</th>\n",
       "    </tr>\n",
       "  </thead>\n",
       "  <tbody>\n",
       "    <tr>\n",
       "      <th>0</th>\n",
       "      <td>ham</td>\n",
       "      <td>Go until jurong point, crazy.. Available only ...</td>\n",
       "      <td>NaN</td>\n",
       "      <td>NaN</td>\n",
       "      <td>NaN</td>\n",
       "    </tr>\n",
       "    <tr>\n",
       "      <th>1</th>\n",
       "      <td>ham</td>\n",
       "      <td>Ok lar... Joking wif u oni...</td>\n",
       "      <td>NaN</td>\n",
       "      <td>NaN</td>\n",
       "      <td>NaN</td>\n",
       "    </tr>\n",
       "    <tr>\n",
       "      <th>2</th>\n",
       "      <td>spam</td>\n",
       "      <td>Free entry in 2 a wkly comp to win FA Cup fina...</td>\n",
       "      <td>NaN</td>\n",
       "      <td>NaN</td>\n",
       "      <td>NaN</td>\n",
       "    </tr>\n",
       "    <tr>\n",
       "      <th>3</th>\n",
       "      <td>ham</td>\n",
       "      <td>U dun say so early hor... U c already then say...</td>\n",
       "      <td>NaN</td>\n",
       "      <td>NaN</td>\n",
       "      <td>NaN</td>\n",
       "    </tr>\n",
       "    <tr>\n",
       "      <th>4</th>\n",
       "      <td>ham</td>\n",
       "      <td>Nah I don't think he goes to usf, he lives aro...</td>\n",
       "      <td>NaN</td>\n",
       "      <td>NaN</td>\n",
       "      <td>NaN</td>\n",
       "    </tr>\n",
       "  </tbody>\n",
       "</table>\n",
       "</div>"
      ],
      "text/plain": [
       "     v1                                                 v2 Unnamed: 2  \\\n",
       "0   ham  Go until jurong point, crazy.. Available only ...        NaN   \n",
       "1   ham                      Ok lar... Joking wif u oni...        NaN   \n",
       "2  spam  Free entry in 2 a wkly comp to win FA Cup fina...        NaN   \n",
       "3   ham  U dun say so early hor... U c already then say...        NaN   \n",
       "4   ham  Nah I don't think he goes to usf, he lives aro...        NaN   \n",
       "\n",
       "  Unnamed: 3 Unnamed: 4  \n",
       "0        NaN        NaN  \n",
       "1        NaN        NaN  \n",
       "2        NaN        NaN  \n",
       "3        NaN        NaN  \n",
       "4        NaN        NaN  "
      ]
     },
     "execution_count": 29,
     "metadata": {},
     "output_type": "execute_result"
    }
   ],
   "source": [
    "spam.head()"
   ]
  },
  {
   "cell_type": "code",
   "execution_count": 30,
   "metadata": {},
   "outputs": [
    {
     "data": {
      "text/plain": [
       "GE                                            2\n",
       " MK17 92H. 450Ppw 16\"                         2\n",
       "U NO THECD ISV.IMPORTANT TOME 4 2MORO\\\"\"      1\n",
       " why to miss them                             1\n",
       "i wil tolerat.bcs ur my someone..... But      1\n",
       " \\\"OH No! COMPETITION\\\". Who knew             1\n",
       " ILLSPEAK 2 U2MORO WEN IM NOT ASLEEP...\\\"\"    1\n",
       "IåÕL CALL U\\\"\"                                1\n",
       " TX 4 FONIN HON                               1\n",
       "whoever is the KING\\\"!... Gud nyt\"            1\n",
       "Name: Unnamed: 3, dtype: int64"
      ]
     },
     "execution_count": 30,
     "metadata": {},
     "output_type": "execute_result"
    }
   ],
   "source": [
    "spam.iloc[:,3].value_counts()"
   ]
  },
  {
   "cell_type": "code",
   "execution_count": 31,
   "metadata": {},
   "outputs": [
    {
     "data": {
      "text/plain": [
       "v1                                                          ham\n",
       "v2            Go until jurong point, crazy.. Available only ...\n",
       "Unnamed: 2                                                  NaN\n",
       "Unnamed: 3                                                  NaN\n",
       "Unnamed: 4                                                  NaN\n",
       "Name: 0, dtype: object"
      ]
     },
     "execution_count": 31,
     "metadata": {},
     "output_type": "execute_result"
    }
   ],
   "source": [
    "spam.iloc[0]"
   ]
  },
  {
   "cell_type": "code",
   "execution_count": 32,
   "metadata": {},
   "outputs": [],
   "source": [
    "# Ok, I don't know what those last three columns are for, but I don't like them.\n",
    "spamclean = []\n",
    "for line in open(\"spam.csv\", encoding=\"latin-1\"):\n",
    "        a = line.find(\",\")\n",
    "        spamclean.append((line[0:a], line[a+1:]))"
   ]
  },
  {
   "cell_type": "code",
   "execution_count": 33,
   "metadata": {},
   "outputs": [],
   "source": [
    "spam = pd.DataFrame(spamclean)"
   ]
  },
  {
   "cell_type": "code",
   "execution_count": 34,
   "metadata": {},
   "outputs": [],
   "source": [
    "spam = spam.drop(labels=0, axis=0)  #only do this once"
   ]
  },
  {
   "cell_type": "code",
   "execution_count": 35,
   "metadata": {},
   "outputs": [],
   "source": [
    "spam =spam.rename({0: \"label\", 1:\"text\"}, axis=1)"
   ]
  },
  {
   "cell_type": "code",
   "execution_count": 36,
   "metadata": {},
   "outputs": [],
   "source": [
    "Y = spam.loc[:,\"label\"] == \"spam\""
   ]
  },
  {
   "cell_type": "code",
   "execution_count": 37,
   "metadata": {},
   "outputs": [],
   "source": [
    "Xtext = spam.loc[:,\"text\"]"
   ]
  },
  {
   "cell_type": "code",
   "execution_count": 38,
   "metadata": {},
   "outputs": [
    {
     "data": {
      "text/plain": [
       "(1    False\n",
       " 2    False\n",
       " Name: label, dtype: bool,\n",
       " 1    \"Go until jurong point, crazy.. Available only...\n",
       " 2                   Ok lar... Joking wif u oni...,,,\\n\n",
       " Name: text, dtype: object)"
      ]
     },
     "execution_count": 38,
     "metadata": {},
     "output_type": "execute_result"
    }
   ],
   "source": [
    "Y[0:2], Xtext[0:2]"
   ]
  },
  {
   "cell_type": "code",
   "execution_count": null,
   "metadata": {},
   "outputs": [],
   "source": []
  },
  {
   "cell_type": "code",
   "execution_count": 39,
   "metadata": {},
   "outputs": [],
   "source": [
    "# Create two dataframes.. \n",
    "s1 = spam.query(\"label == 'ham'\")\n",
    "s2 = spam.query(\"label == 'spam'\")"
   ]
  },
  {
   "cell_type": "code",
   "execution_count": 40,
   "metadata": {},
   "outputs": [],
   "source": [
    "# Create two giant strings... \n",
    "s1text = s1.text.str.cat()\n",
    "s2text = s2.text.str.cat()"
   ]
  },
  {
   "cell_type": "code",
   "execution_count": 41,
   "metadata": {},
   "outputs": [],
   "source": [
    "# tokenize the strings (proably split on whitespace)\n",
    "tok1 = nltk.word_tokenize(s1text)\n",
    "tok2 = nltk.word_tokenize(s2text)"
   ]
  },
  {
   "cell_type": "code",
   "execution_count": 42,
   "metadata": {},
   "outputs": [],
   "source": [
    "# And create frequency distribution objects.\n",
    "d1 = nltk.FreqDist(tok1)\n",
    "d2 = nltk.FreqDist(tok2)"
   ]
  },
  {
   "cell_type": "code",
   "execution_count": 43,
   "metadata": {},
   "outputs": [
    {
     "data": {
      "text/plain": [
       "FreqDist({',': 15969, '.': 2952, \"''\": 2550, 'I': 1917, 'you': 1688, 'to': 1546, '?': 1375, '...': 1139, 'the': 1032, 'a': 977, ...})"
      ]
     },
     "execution_count": 43,
     "metadata": {},
     "output_type": "execute_result"
    }
   ],
   "source": [
    "d1  # This will act like a dictionary."
   ]
  },
  {
   "cell_type": "code",
   "execution_count": 44,
   "metadata": {},
   "outputs": [
    {
     "data": {
      "text/plain": [
       "(100274, 23616)"
      ]
     },
     "execution_count": 44,
     "metadata": {},
     "output_type": "execute_result"
    }
   ],
   "source": [
    "# These methods look like number of token counts\n",
    "d1.N(), d2.N()  "
   ]
  },
  {
   "cell_type": "code",
   "execution_count": 45,
   "metadata": {},
   "outputs": [
    {
     "data": {
      "text/plain": [
       "(9524, 3756)"
      ]
     },
     "execution_count": 45,
     "metadata": {},
     "output_type": "execute_result"
    }
   ],
   "source": [
    "# and these look like the number of distinct tokens.\n",
    "len(d1.keys()), len(d2.keys()) "
   ]
  },
  {
   "cell_type": "code",
   "execution_count": 46,
   "metadata": {},
   "outputs": [],
   "source": [
    "# Ten thousand words.  This is reasonable.\n"
   ]
  },
  {
   "cell_type": "code",
   "execution_count": 47,
   "metadata": {},
   "outputs": [],
   "source": [
    "teststring = \"Hey, what's up rich?\"\n",
    "teststring2 = \"Do you want free airtime?\""
   ]
  },
  {
   "cell_type": "code",
   "execution_count": 48,
   "metadata": {},
   "outputs": [
    {
     "name": "stdout",
     "output_type": "stream",
     "text": [
      "Word\tham_occ\tham_tot\tspam_occ\tspam_tot\n",
      "Hey \t89 \t 100274 \t 5 \t 23616\n",
      ", \t15969 \t 100274 \t 2612 \t 23616\n",
      "what \t146 \t 100274 \t 14 \t 23616\n",
      "'s \t422 \t 100274 \t 68 \t 23616\n",
      "up \t260 \t 100274 \t 19 \t 23616\n",
      "rich \t3 \t 100274 \t 0 \t 23616\n",
      "? \t1375 \t 100274 \t 175 \t 23616\n"
     ]
    }
   ],
   "source": [
    "# here is the frequency data I need.\n",
    "# Word, ham_occur, ham_total, spam_occur, spam_total\n",
    "print(\"Word\\tham_occ\\tham_tot\\tspam_occ\\tspam_tot\")\n",
    "\n",
    "for token in nltk.word_tokenize(teststring):\n",
    "    print(token, '\\t', end=\"\" )\n",
    "    print(d1[token] , '\\t',  d1.N(),'\\t', d2[token], \n",
    "          '\\t', d2.N())"
   ]
  },
  {
   "cell_type": "code",
   "execution_count": 49,
   "metadata": {},
   "outputs": [],
   "source": [
    "DEBUG=0\n",
    "def score(utterance):\n",
    "    cumscore = 0\n",
    "    NHAM = d1.N()\n",
    "    NSPAM = d2.N()\n",
    "    MAXSCORE = np.log(20) / np.log(2)\n",
    "    for token in nltk.word_tokenize(utterance):\n",
    "        partialscore=0  # Catchall if a word has too few instances\n",
    "        if d1[token] != 0 and d2[token] != 0 and (d1[token]+d2[token]) >= 5:\n",
    "            partialscore = (np.log(d1[token]) - np.log(NHAM) -\n",
    "                            np.log(d2[token])  + np.log(NSPAM))/np.log(2) \n",
    "            partialscore = np.minimum(MAXSCORE, np.maximum(-MAXSCORE, partialscore))\n",
    "            if DEBUG: \n",
    "                print(partialscore, d1[token], d2[token])\n",
    "        if d1[token] == 0 and d2[token] >= 5 :\n",
    "            partialscore = -MAXSCORE\n",
    "        if d2[token] == 0 and d1[token] >= 5 :\n",
    "            partialscore = MAXSCORE\n",
    "#        if d2[token] + d1[token] <5:\n",
    "#            print(\"NOTENOUGH:\", token ,d1[token],d2[token])\n",
    "        cumscore = cumscore + partialscore\n",
    "    return(cumscore)"
   ]
  },
  {
   "cell_type": "code",
   "execution_count": 50,
   "metadata": {},
   "outputs": [
    {
     "data": {
      "text/plain": [
       "7.0137372990784455"
      ]
     },
     "execution_count": 50,
     "metadata": {},
     "output_type": "execute_result"
    }
   ],
   "source": [
    "score(teststring)"
   ]
  },
  {
   "cell_type": "code",
   "execution_count": 51,
   "metadata": {},
   "outputs": [
    {
     "data": {
      "text/plain": [
       "1.6606746682599063"
      ]
     },
     "execution_count": 51,
     "metadata": {},
     "output_type": "execute_result"
    }
   ],
   "source": [
    "score(teststring2)"
   ]
  },
  {
   "cell_type": "code",
   "execution_count": 52,
   "metadata": {},
   "outputs": [],
   "source": [
    "testset = [\"Hey there, I am Maya with GP Research. We're surveying IL residents. Can you respond to a few questions?\",\n",
    "           \"Headed down now.\",\n",
    "\"The banana chocolate bread is delicious! All that’s left is one small heel, which I will dunk in my coffee tomorrow.\",\n",
    "\"Hurry! For a limited time, add a FREE line to your account. Really, it's on us–no strings attached.\" ]\n"
   ]
  },
  {
   "cell_type": "code",
   "execution_count": 53,
   "metadata": {},
   "outputs": [
    {
     "name": "stdout",
     "output_type": "stream",
     "text": [
      "15.350093920559605\n",
      "1.8585810040798187\n",
      "28.089364526748795\n",
      "-2.7659561081069484\n"
     ]
    }
   ],
   "source": [
    "scores = []\n",
    "for t in testset:\n",
    "    print(score(t))\n",
    "    scores.append(score(t))"
   ]
  },
  {
   "cell_type": "code",
   "execution_count": 54,
   "metadata": {},
   "outputs": [
    {
     "data": {
      "text/plain": [
       "-2.766"
      ]
     },
     "execution_count": 54,
     "metadata": {},
     "output_type": "execute_result"
    }
   ],
   "source": [
    "15.35\n",
    "1.858\n",
    "28.08\n",
    "-2.766\n"
   ]
  },
  {
   "cell_type": "code",
   "execution_count": 55,
   "metadata": {},
   "outputs": [],
   "source": [
    "def p(odds):\n",
    "    return odds / (1+odds)"
   ]
  },
  {
   "cell_type": "code",
   "execution_count": 56,
   "metadata": {},
   "outputs": [
    {
     "name": "stdout",
     "output_type": "stream",
     "text": [
      "15.350093920559605 0.9999760585254013 Hey there, I am Maya\n",
      "1.8585810040798187 0.7838542557627787 Headed down now.\n",
      "28.089364526748795 0.999999996498463 The banana chocolate\n",
      "-2.7659561081069484 0.12817248798257333 Hurry! For a limited\n"
     ]
    }
   ],
   "source": [
    "for i,t  in enumerate(testset):\n",
    "    print(scores[i], p (np.power(2,scores[i])),  t[0:20])"
   ]
  },
  {
   "cell_type": "code",
   "execution_count": 57,
   "metadata": {},
   "outputs": [],
   "source": [
    "# Disappointingly, that \"GP Research\" SMS gets nailed as 10,000:1 in favor of ham.  "
   ]
  },
  {
   "cell_type": "code",
   "execution_count": 58,
   "metadata": {},
   "outputs": [
    {
     "name": "stdout",
     "output_type": "stream",
     "text": [
      "49.460913319335425\n",
      "24.83370567887723\n",
      "-64.75966435719417\n",
      "35.52755835323976\n",
      "45.29347741100416\n",
      "4.3025365456745845\n",
      "27.707288428200645\n",
      "13.155881658772532\n",
      "-62.972739287971365\n",
      "-70.19336231511043\n"
     ]
    }
   ],
   "source": [
    "scores = []\n",
    "for t in spam.text.values[0:10]:   # I don't want to print 5000 scores.\n",
    "    print(score(t))\n",
    "    scores.append(score(t))\n",
    "scores = []\n",
    "for t in spam.text.values:\n",
    "    scores.append(score(t))"
   ]
  },
  {
   "cell_type": "code",
   "execution_count": 59,
   "metadata": {},
   "outputs": [
    {
     "data": {
      "text/plain": [
       "(array([ 11.,  10.,  16.,  25.,  42.,  47.,  41.,  40.,  51.,  77.,  53.,\n",
       "         57.,  55.,  45.,  41.,  33.,  39.,  38., 194., 396., 667., 780.,\n",
       "        572., 471., 330., 286., 242., 171., 154., 129.,  95.,  88.,  63.,\n",
       "         54.,  39.,  17.,  15.,  18.,  12.,   6.,   6.,   3.,   3.,   6.,\n",
       "          4.,   4.,   2.,   5.,   1.,   5.,   2.,   1.,   2.,   0.,   0.,\n",
       "          2.,   1.,   0.,   0.,   1.,   0.,   1.,   0.,   0.,   0.,   0.,\n",
       "          0.,   0.,   1.,   0.,   0.,   0.,   0.,   0.,   0.,   0.,   0.,\n",
       "          0.,   0.,   1.,   2.,   0.,   0.,   0.,   0.,   0.,   0.,   0.,\n",
       "          0.,   0.,   0.,   0.,   0.,   0.,   0.,   0.,   0.,   0.,   0.,\n",
       "          1.]),\n",
       " array([-88.44761342, -83.57761887, -78.70762432, -73.83762977,\n",
       "        -68.96763522, -64.09764067, -59.22764612, -54.35765157,\n",
       "        -49.48765702, -44.61766248, -39.74766793, -34.87767338,\n",
       "        -30.00767883, -25.13768428, -20.26768973, -15.39769518,\n",
       "        -10.52770063,  -5.65770608,  -0.78771153,   4.08228302,\n",
       "          8.95227757,  13.82227212,  18.69226667,  23.56226121,\n",
       "         28.43225576,  33.30225031,  38.17224486,  43.04223941,\n",
       "         47.91223396,  52.78222851,  57.65222306,  62.52221761,\n",
       "         67.39221216,  72.26220671,  77.13220126,  82.00219581,\n",
       "         86.87219035,  91.7421849 ,  96.61217945, 101.482174  ,\n",
       "        106.35216855, 111.2221631 , 116.09215765, 120.9621522 ,\n",
       "        125.83214675, 130.7021413 , 135.57213585, 140.4421304 ,\n",
       "        145.31212495, 150.18211949, 155.05211404, 159.92210859,\n",
       "        164.79210314, 169.66209769, 174.53209224, 179.40208679,\n",
       "        184.27208134, 189.14207589, 194.01207044, 198.88206499,\n",
       "        203.75205954, 208.62205409, 213.49204863, 218.36204318,\n",
       "        223.23203773, 228.10203228, 232.97202683, 237.84202138,\n",
       "        242.71201593, 247.58201048, 252.45200503, 257.32199958,\n",
       "        262.19199413, 267.06198868, 271.93198323, 276.80197777,\n",
       "        281.67197232, 286.54196687, 291.41196142, 296.28195597,\n",
       "        301.15195052, 306.02194507, 310.89193962, 315.76193417,\n",
       "        320.63192872, 325.50192327, 330.37191782, 335.24191237,\n",
       "        340.11190692, 344.98190146, 349.85189601, 354.72189056,\n",
       "        359.59188511, 364.46187966, 369.33187421, 374.20186876,\n",
       "        379.07186331, 383.94185786, 388.81185241, 393.68184696,\n",
       "        398.55184151]),\n",
       " <BarContainer object of 100 artists>)"
      ]
     },
     "execution_count": 59,
     "metadata": {},
     "output_type": "execute_result"
    },
    {
     "data": {
      "image/png": "[encoded data removed]",
      "text/plain": [
       "<Figure size 432x288 with 1 Axes>"
      ]
     },
     "metadata": {
      "needs_background": "light"
     },
     "output_type": "display_data"
    }
   ],
   "source": [
    "plt.hist(scores, bins=100)"
   ]
  },
  {
   "cell_type": "code",
   "execution_count": 60,
   "metadata": {},
   "outputs": [],
   "source": [
    "# This would be a lot more interesting if it were class-conditional.\n",
    "scores_ham = []\n",
    "scores_spam = []\n",
    "for t in spam.query(\"label=='ham'\").text.values:\n",
    "    scores_ham.append(score(t))\n",
    "for t in spam.query(\"label=='spam'\").text.values:\n",
    "    scores_spam.append(score(t))"
   ]
  },
  {
   "cell_type": "code",
   "execution_count": 61,
   "metadata": {},
   "outputs": [
    {
     "name": "stderr",
     "output_type": "stream",
     "text": [
      "<ipython-input-61-0faab748659f>:6: MatplotlibDeprecationWarning: savefig() got unexpected keyword argument \"bbbox_inches\" which is no longer supported as of 3.3 and will become an error two minor releases later\n",
      "  plt.savefig(\"SPAMSPAMSPAMSPAM.png\", dpi=300, bbbox_inches=\"tight\")\n"
     ]
    },
    {
     "data": {
      "image/png": "[encoded data removed]",
      "text/plain": [
       "<Figure size 432x288 with 1 Axes>"
      ]
     },
     "metadata": {
      "needs_background": "light"
     },
     "output_type": "display_data"
    }
   ],
   "source": [
    "plt.hist(scores_ham, bins=100, color=\"blue\", alpha=0.5, label=\"Non-spam\")\n",
    "plt.hist(scores_spam, bins=40, color=\"red\", alpha=0.5, label=\"Spam\")\n",
    "plt.xlabel(\"Log-odds-score in favor of ham (bits)\")\n",
    "plt.xlim(-100, 150)\n",
    "plt.legend()\n",
    "plt.savefig(\"SPAMSPAMSPAMSPAM.png\", dpi=300, bbbox_inches=\"tight\")"
   ]
  },
  {
   "cell_type": "code",
   "execution_count": 62,
   "metadata": {},
   "outputs": [],
   "source": [
    "def logistic(x):\n",
    "    return 1 /( 1+ np.exp(-x))\n"
   ]
  },
  {
   "cell_type": "code",
   "execution_count": 63,
   "metadata": {},
   "outputs": [
    {
     "name": "stderr",
     "output_type": "stream",
     "text": [
      "<ipython-input-63-44d29878f791>:6: MatplotlibDeprecationWarning: savefig() got unexpected keyword argument \"bbbox_inches\" which is no longer supported as of 3.3 and will become an error two minor releases later\n",
      "  plt.savefig(\"PROBABILITYHAM.png\", dpi=300, bbbox_inches=\"tight\")\n"
     ]
    },
    {
     "data": {
      "image/png": "[encoded data removed]",
      "text/plain": [
       "<Figure size 432x288 with 1 Axes>"
      ]
     },
     "metadata": {
      "needs_background": "light"
     },
     "output_type": "display_data"
    }
   ],
   "source": [
    "plt.hist(logistic(np.array(scores_ham)), bins=40, color=\"blue\", alpha=0.5, label=\"Non-spam\")\n",
    "plt.hist(logistic(np.array(scores_spam)), bins=40, color=\"red\", alpha=0.5, label=\"Spam\")\n",
    "plt.xlabel(\"Probability of ham\")\n",
    "plt.xlim(-1, 1.2)\n",
    "plt.legend()\n",
    "plt.savefig(\"PROBABILITYHAM.png\", dpi=300, bbbox_inches=\"tight\")"
   ]
  },
  {
   "cell_type": "code",
   "execution_count": 70,
   "metadata": {},
   "outputs": [
    {
     "name": "stdout",
     "output_type": "stream",
     "text": [
      "4790 4825 0.9927461139896373\n",
      "706 747 0.9451137884872824\n"
     ]
    }
   ],
   "source": [
    "# I never got a crude accuracy from ham/spam in week2: \n",
    "# That's becuase I didn't articulate a threshold... \n",
    "\n",
    "hamcor = (np.array(scores_ham) > 0).sum()\n",
    "hamtot =  len(scores_ham)\n",
    "spamcor = (np.array(scores_spam) < 0).sum() \n",
    "spamtot = len(scores_spam)\n",
    "print(hamcor, hamtot, hamcor/ hamtot)\n",
    "print(spamcor, spamtot, spamcor/ spamtot)"
   ]
  },
  {
   "cell_type": "code",
   "execution_count": 71,
   "metadata": {},
   "outputs": [
    {
     "data": {
      "text/plain": [
       "0.9863603732950467"
      ]
     },
     "execution_count": 71,
     "metadata": {},
     "output_type": "execute_result"
    }
   ],
   "source": [
    "# Crude accuracy\n",
    "(hamcor+spamcor)/ (hamtot+spamtot)"
   ]
  },
  {
   "cell_type": "code",
   "execution_count": 76,
   "metadata": {},
   "outputs": [
    {
     "data": {
      "text/plain": [
       "[<matplotlib.lines.Line2D at 0x7f88fee2c940>]"
      ]
     },
     "execution_count": 76,
     "metadata": {},
     "output_type": "execute_result"
    },
    {
     "data": {
      "image/png": "[encoded data removed]",
      "text/plain": [
       "<Figure size 432x288 with 1 Axes>"
      ]
     },
     "metadata": {
      "needs_background": "light"
     },
     "output_type": "display_data"
    }
   ],
   "source": [
    "plt.plot(np.sort(scores_spam))\n",
    "plt.plot(np.sort(scores_ham))"
   ]
  },
  {
   "cell_type": "code",
   "execution_count": 77,
   "metadata": {},
   "outputs": [
    {
     "data": {
      "text/plain": [
       "[<matplotlib.lines.Line2D at 0x7f8901456f70>]"
      ]
     },
     "execution_count": 77,
     "metadata": {},
     "output_type": "execute_result"
    },
    {
     "data": {
      "image/png": "[encoded data removed]",
      "text/plain": [
       "<Figure size 432x288 with 1 Axes>"
      ]
     },
     "metadata": {
      "needs_background": "light"
     },
     "output_type": "display_data"
    }
   ],
   "source": [
    "plt.plot(np.arange(len(scores_spam)) / len(scores_spam), np.sort(scores_spam))\n",
    "plt.plot(np.arange(len(scores_ham)) / len(scores_ham), np.sort(scores_ham))"
   ]
  },
  {
   "cell_type": "code",
   "execution_count": 78,
   "metadata": {},
   "outputs": [],
   "source": [
    "roc = pd.DataFrame({ \"Hamscore\": scores_ham})"
   ]
  },
  {
   "cell_type": "code",
   "execution_count": 82,
   "metadata": {},
   "outputs": [],
   "source": [
    "roc[\"TPR\"] = roc.Hamscore.apply(lambda x: np.array( roc.Hamscore > x).sum() / len(roc.Hamscore))"
   ]
  },
  {
   "cell_type": "code",
   "execution_count": 87,
   "metadata": {},
   "outputs": [],
   "source": [
    "roc[\"TNR\"] = roc.Hamscore.apply(lambda x: (np.array( scores_spam )< x).sum() /len(scores_spam) )"
   ]
  },
  {
   "cell_type": "code",
   "execution_count": 88,
   "metadata": {},
   "outputs": [
    {
     "data": {
      "text/html": [
       "<div>\n",
       "<style scoped>\n",
       "    .dataframe tbody tr th:only-of-type {\n",
       "        vertical-align: middle;\n",
       "    }\n",
       "\n",
       "    .dataframe tbody tr th {\n",
       "        vertical-align: top;\n",
       "    }\n",
       "\n",
       "    .dataframe thead th {\n",
       "        text-align: right;\n",
       "    }\n",
       "</style>\n",
       "<table border=\"1\" class=\"dataframe\">\n",
       "  <thead>\n",
       "    <tr style=\"text-align: right;\">\n",
       "      <th></th>\n",
       "      <th>Hamscore</th>\n",
       "      <th>TPR</th>\n",
       "      <th>TNR</th>\n",
       "    </tr>\n",
       "  </thead>\n",
       "  <tbody>\n",
       "    <tr>\n",
       "      <th>0</th>\n",
       "      <td>49.460913</td>\n",
       "      <td>0.142798</td>\n",
       "      <td>1.000000</td>\n",
       "    </tr>\n",
       "    <tr>\n",
       "      <th>1</th>\n",
       "      <td>24.833706</td>\n",
       "      <td>0.437098</td>\n",
       "      <td>0.997323</td>\n",
       "    </tr>\n",
       "    <tr>\n",
       "      <th>2</th>\n",
       "      <td>35.527558</td>\n",
       "      <td>0.270466</td>\n",
       "      <td>1.000000</td>\n",
       "    </tr>\n",
       "    <tr>\n",
       "      <th>3</th>\n",
       "      <td>45.293477</td>\n",
       "      <td>0.170777</td>\n",
       "      <td>1.000000</td>\n",
       "    </tr>\n",
       "    <tr>\n",
       "      <th>4</th>\n",
       "      <td>27.707288</td>\n",
       "      <td>0.378238</td>\n",
       "      <td>0.997323</td>\n",
       "    </tr>\n",
       "    <tr>\n",
       "      <th>...</th>\n",
       "      <td>...</td>\n",
       "      <td>...</td>\n",
       "      <td>...</td>\n",
       "    </tr>\n",
       "    <tr>\n",
       "      <th>4820</th>\n",
       "      <td>18.865521</td>\n",
       "      <td>0.575959</td>\n",
       "      <td>0.987952</td>\n",
       "    </tr>\n",
       "    <tr>\n",
       "      <th>4821</th>\n",
       "      <td>21.652001</td>\n",
       "      <td>0.505699</td>\n",
       "      <td>0.994645</td>\n",
       "    </tr>\n",
       "    <tr>\n",
       "      <th>4822</th>\n",
       "      <td>22.748080</td>\n",
       "      <td>0.483109</td>\n",
       "      <td>0.995984</td>\n",
       "    </tr>\n",
       "    <tr>\n",
       "      <th>4823</th>\n",
       "      <td>50.763361</td>\n",
       "      <td>0.135130</td>\n",
       "      <td>1.000000</td>\n",
       "    </tr>\n",
       "    <tr>\n",
       "      <th>4824</th>\n",
       "      <td>6.477670</td>\n",
       "      <td>0.924145</td>\n",
       "      <td>0.969210</td>\n",
       "    </tr>\n",
       "  </tbody>\n",
       "</table>\n",
       "<p>4825 rows × 3 columns</p>\n",
       "</div>"
      ],
      "text/plain": [
       "       Hamscore       TPR       TNR\n",
       "0     49.460913  0.142798  1.000000\n",
       "1     24.833706  0.437098  0.997323\n",
       "2     35.527558  0.270466  1.000000\n",
       "3     45.293477  0.170777  1.000000\n",
       "4     27.707288  0.378238  0.997323\n",
       "...         ...       ...       ...\n",
       "4820  18.865521  0.575959  0.987952\n",
       "4821  21.652001  0.505699  0.994645\n",
       "4822  22.748080  0.483109  0.995984\n",
       "4823  50.763361  0.135130  1.000000\n",
       "4824   6.477670  0.924145  0.969210\n",
       "\n",
       "[4825 rows x 3 columns]"
      ]
     },
     "execution_count": 88,
     "metadata": {},
     "output_type": "execute_result"
    }
   ],
   "source": [
    "roc"
   ]
  },
  {
   "cell_type": "code",
   "execution_count": 90,
   "metadata": {},
   "outputs": [
    {
     "data": {
      "text/plain": [
       "Text(0, 0.5, 'TNR SPAM')"
      ]
     },
     "execution_count": 90,
     "metadata": {},
     "output_type": "execute_result"
    },
    {
     "data": {
      "image/png": "[encoded data removed]",
      "text/plain": [
       "<Figure size 432x288 with 1 Axes>"
      ]
     },
     "metadata": {
      "needs_background": "light"
     },
     "output_type": "display_data"
    }
   ],
   "source": [
    "plt.scatter(roc.TNR, roc.TPR)\n",
    "plt.xlabel(\"TPR HAM\")\n",
    "plt.ylabel(\"TNR SPAM\")"
   ]
  },
  {
   "cell_type": "code",
   "execution_count": null,
   "metadata": {},
   "outputs": [],
   "source": []
  }
 ],
 "metadata": {
  "kernelspec": {
   "display_name": "Python 3 (ipykernel)",
   "language": "python",
   "name": "python3"
  },
  "language_info": {
   "codemirror_mode": {
    "name": "ipython",
    "version": 3
   },
   "file_extension": ".py",
   "mimetype": "text/x-python",
   "name": "python",
   "nbconvert_exporter": "python",
   "pygments_lexer": "ipython3",
   "version": "3.9.12"
  }
 },
 "nbformat": 4,
 "nbformat_minor": 4
}
