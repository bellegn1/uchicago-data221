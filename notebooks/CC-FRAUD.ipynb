{
 "cells": [
  {
   "cell_type": "code",
   "execution_count": 1,
   "metadata": {},
   "outputs": [],
   "source": [
    "import matplotlib.pyplot as plt\n",
    "import numpy as np\n",
    "import pandas as pd\n",
    "import scipy.stats\n",
    "credit  = pd.read_csv(\"../data/creditcard.csv\")"
   ]
  },
  {
   "cell_type": "code",
   "execution_count": null,
   "metadata": {},
   "outputs": [],
   "source": [
    "# This notebook explores the kaggle \"Credit Card Fraud Detection\" dataset\n",
    "# https://www.kaggle.com/datasets/mlg-ulb/creditcardfraud\n",
    "# This dataset includes \"Time\", \"Amount\", and 28 feature vectors that,\n",
    "# to protect anonymity, have been effectively scrambled with PCA.\n",
    "# Each transaction is labeled with \"Class\" as fraud or not;\n",
    "# only 492 out of 284807 transactions were flagged as fraud.\n"
   ]
  },
  {
   "cell_type": "code",
   "execution_count": 2,
   "metadata": {},
   "outputs": [
    {
     "data": {
      "text/html": [
       "<div>\n",
       "<style scoped>\n",
       "    .dataframe tbody tr th:only-of-type {\n",
       "        vertical-align: middle;\n",
       "    }\n",
       "\n",
       "    .dataframe tbody tr th {\n",
       "        vertical-align: top;\n",
       "    }\n",
       "\n",
       "    .dataframe thead th {\n",
       "        text-align: right;\n",
       "    }\n",
       "</style>\n",
       "<table border=\"1\" class=\"dataframe\">\n",
       "  <thead>\n",
       "    <tr style=\"text-align: right;\">\n",
       "      <th></th>\n",
       "      <th>Time</th>\n",
       "      <th>V1</th>\n",
       "      <th>V2</th>\n",
       "      <th>V3</th>\n",
       "      <th>V4</th>\n",
       "      <th>V5</th>\n",
       "      <th>V6</th>\n",
       "      <th>V7</th>\n",
       "      <th>V8</th>\n",
       "      <th>V9</th>\n",
       "      <th>...</th>\n",
       "      <th>V21</th>\n",
       "      <th>V22</th>\n",
       "      <th>V23</th>\n",
       "      <th>V24</th>\n",
       "      <th>V25</th>\n",
       "      <th>V26</th>\n",
       "      <th>V27</th>\n",
       "      <th>V28</th>\n",
       "      <th>Amount</th>\n",
       "      <th>Class</th>\n",
       "    </tr>\n",
       "  </thead>\n",
       "  <tbody>\n",
       "    <tr>\n",
       "      <th>0</th>\n",
       "      <td>0.0</td>\n",
       "      <td>-1.359807</td>\n",
       "      <td>-0.072781</td>\n",
       "      <td>2.536347</td>\n",
       "      <td>1.378155</td>\n",
       "      <td>-0.338321</td>\n",
       "      <td>0.462388</td>\n",
       "      <td>0.239599</td>\n",
       "      <td>0.098698</td>\n",
       "      <td>0.363787</td>\n",
       "      <td>...</td>\n",
       "      <td>-0.018307</td>\n",
       "      <td>0.277838</td>\n",
       "      <td>-0.110474</td>\n",
       "      <td>0.066928</td>\n",
       "      <td>0.128539</td>\n",
       "      <td>-0.189115</td>\n",
       "      <td>0.133558</td>\n",
       "      <td>-0.021053</td>\n",
       "      <td>149.62</td>\n",
       "      <td>0</td>\n",
       "    </tr>\n",
       "    <tr>\n",
       "      <th>1</th>\n",
       "      <td>0.0</td>\n",
       "      <td>1.191857</td>\n",
       "      <td>0.266151</td>\n",
       "      <td>0.166480</td>\n",
       "      <td>0.448154</td>\n",
       "      <td>0.060018</td>\n",
       "      <td>-0.082361</td>\n",
       "      <td>-0.078803</td>\n",
       "      <td>0.085102</td>\n",
       "      <td>-0.255425</td>\n",
       "      <td>...</td>\n",
       "      <td>-0.225775</td>\n",
       "      <td>-0.638672</td>\n",
       "      <td>0.101288</td>\n",
       "      <td>-0.339846</td>\n",
       "      <td>0.167170</td>\n",
       "      <td>0.125895</td>\n",
       "      <td>-0.008983</td>\n",
       "      <td>0.014724</td>\n",
       "      <td>2.69</td>\n",
       "      <td>0</td>\n",
       "    </tr>\n",
       "    <tr>\n",
       "      <th>2</th>\n",
       "      <td>1.0</td>\n",
       "      <td>-1.358354</td>\n",
       "      <td>-1.340163</td>\n",
       "      <td>1.773209</td>\n",
       "      <td>0.379780</td>\n",
       "      <td>-0.503198</td>\n",
       "      <td>1.800499</td>\n",
       "      <td>0.791461</td>\n",
       "      <td>0.247676</td>\n",
       "      <td>-1.514654</td>\n",
       "      <td>...</td>\n",
       "      <td>0.247998</td>\n",
       "      <td>0.771679</td>\n",
       "      <td>0.909412</td>\n",
       "      <td>-0.689281</td>\n",
       "      <td>-0.327642</td>\n",
       "      <td>-0.139097</td>\n",
       "      <td>-0.055353</td>\n",
       "      <td>-0.059752</td>\n",
       "      <td>378.66</td>\n",
       "      <td>0</td>\n",
       "    </tr>\n",
       "    <tr>\n",
       "      <th>3</th>\n",
       "      <td>1.0</td>\n",
       "      <td>-0.966272</td>\n",
       "      <td>-0.185226</td>\n",
       "      <td>1.792993</td>\n",
       "      <td>-0.863291</td>\n",
       "      <td>-0.010309</td>\n",
       "      <td>1.247203</td>\n",
       "      <td>0.237609</td>\n",
       "      <td>0.377436</td>\n",
       "      <td>-1.387024</td>\n",
       "      <td>...</td>\n",
       "      <td>-0.108300</td>\n",
       "      <td>0.005274</td>\n",
       "      <td>-0.190321</td>\n",
       "      <td>-1.175575</td>\n",
       "      <td>0.647376</td>\n",
       "      <td>-0.221929</td>\n",
       "      <td>0.062723</td>\n",
       "      <td>0.061458</td>\n",
       "      <td>123.50</td>\n",
       "      <td>0</td>\n",
       "    </tr>\n",
       "    <tr>\n",
       "      <th>4</th>\n",
       "      <td>2.0</td>\n",
       "      <td>-1.158233</td>\n",
       "      <td>0.877737</td>\n",
       "      <td>1.548718</td>\n",
       "      <td>0.403034</td>\n",
       "      <td>-0.407193</td>\n",
       "      <td>0.095921</td>\n",
       "      <td>0.592941</td>\n",
       "      <td>-0.270533</td>\n",
       "      <td>0.817739</td>\n",
       "      <td>...</td>\n",
       "      <td>-0.009431</td>\n",
       "      <td>0.798278</td>\n",
       "      <td>-0.137458</td>\n",
       "      <td>0.141267</td>\n",
       "      <td>-0.206010</td>\n",
       "      <td>0.502292</td>\n",
       "      <td>0.219422</td>\n",
       "      <td>0.215153</td>\n",
       "      <td>69.99</td>\n",
       "      <td>0</td>\n",
       "    </tr>\n",
       "    <tr>\n",
       "      <th>...</th>\n",
       "      <td>...</td>\n",
       "      <td>...</td>\n",
       "      <td>...</td>\n",
       "      <td>...</td>\n",
       "      <td>...</td>\n",
       "      <td>...</td>\n",
       "      <td>...</td>\n",
       "      <td>...</td>\n",
       "      <td>...</td>\n",
       "      <td>...</td>\n",
       "      <td>...</td>\n",
       "      <td>...</td>\n",
       "      <td>...</td>\n",
       "      <td>...</td>\n",
       "      <td>...</td>\n",
       "      <td>...</td>\n",
       "      <td>...</td>\n",
       "      <td>...</td>\n",
       "      <td>...</td>\n",
       "      <td>...</td>\n",
       "      <td>...</td>\n",
       "    </tr>\n",
       "    <tr>\n",
       "      <th>284802</th>\n",
       "      <td>172786.0</td>\n",
       "      <td>-11.881118</td>\n",
       "      <td>10.071785</td>\n",
       "      <td>-9.834783</td>\n",
       "      <td>-2.066656</td>\n",
       "      <td>-5.364473</td>\n",
       "      <td>-2.606837</td>\n",
       "      <td>-4.918215</td>\n",
       "      <td>7.305334</td>\n",
       "      <td>1.914428</td>\n",
       "      <td>...</td>\n",
       "      <td>0.213454</td>\n",
       "      <td>0.111864</td>\n",
       "      <td>1.014480</td>\n",
       "      <td>-0.509348</td>\n",
       "      <td>1.436807</td>\n",
       "      <td>0.250034</td>\n",
       "      <td>0.943651</td>\n",
       "      <td>0.823731</td>\n",
       "      <td>0.77</td>\n",
       "      <td>0</td>\n",
       "    </tr>\n",
       "    <tr>\n",
       "      <th>284803</th>\n",
       "      <td>172787.0</td>\n",
       "      <td>-0.732789</td>\n",
       "      <td>-0.055080</td>\n",
       "      <td>2.035030</td>\n",
       "      <td>-0.738589</td>\n",
       "      <td>0.868229</td>\n",
       "      <td>1.058415</td>\n",
       "      <td>0.024330</td>\n",
       "      <td>0.294869</td>\n",
       "      <td>0.584800</td>\n",
       "      <td>...</td>\n",
       "      <td>0.214205</td>\n",
       "      <td>0.924384</td>\n",
       "      <td>0.012463</td>\n",
       "      <td>-1.016226</td>\n",
       "      <td>-0.606624</td>\n",
       "      <td>-0.395255</td>\n",
       "      <td>0.068472</td>\n",
       "      <td>-0.053527</td>\n",
       "      <td>24.79</td>\n",
       "      <td>0</td>\n",
       "    </tr>\n",
       "    <tr>\n",
       "      <th>284804</th>\n",
       "      <td>172788.0</td>\n",
       "      <td>1.919565</td>\n",
       "      <td>-0.301254</td>\n",
       "      <td>-3.249640</td>\n",
       "      <td>-0.557828</td>\n",
       "      <td>2.630515</td>\n",
       "      <td>3.031260</td>\n",
       "      <td>-0.296827</td>\n",
       "      <td>0.708417</td>\n",
       "      <td>0.432454</td>\n",
       "      <td>...</td>\n",
       "      <td>0.232045</td>\n",
       "      <td>0.578229</td>\n",
       "      <td>-0.037501</td>\n",
       "      <td>0.640134</td>\n",
       "      <td>0.265745</td>\n",
       "      <td>-0.087371</td>\n",
       "      <td>0.004455</td>\n",
       "      <td>-0.026561</td>\n",
       "      <td>67.88</td>\n",
       "      <td>0</td>\n",
       "    </tr>\n",
       "    <tr>\n",
       "      <th>284805</th>\n",
       "      <td>172788.0</td>\n",
       "      <td>-0.240440</td>\n",
       "      <td>0.530483</td>\n",
       "      <td>0.702510</td>\n",
       "      <td>0.689799</td>\n",
       "      <td>-0.377961</td>\n",
       "      <td>0.623708</td>\n",
       "      <td>-0.686180</td>\n",
       "      <td>0.679145</td>\n",
       "      <td>0.392087</td>\n",
       "      <td>...</td>\n",
       "      <td>0.265245</td>\n",
       "      <td>0.800049</td>\n",
       "      <td>-0.163298</td>\n",
       "      <td>0.123205</td>\n",
       "      <td>-0.569159</td>\n",
       "      <td>0.546668</td>\n",
       "      <td>0.108821</td>\n",
       "      <td>0.104533</td>\n",
       "      <td>10.00</td>\n",
       "      <td>0</td>\n",
       "    </tr>\n",
       "    <tr>\n",
       "      <th>284806</th>\n",
       "      <td>172792.0</td>\n",
       "      <td>-0.533413</td>\n",
       "      <td>-0.189733</td>\n",
       "      <td>0.703337</td>\n",
       "      <td>-0.506271</td>\n",
       "      <td>-0.012546</td>\n",
       "      <td>-0.649617</td>\n",
       "      <td>1.577006</td>\n",
       "      <td>-0.414650</td>\n",
       "      <td>0.486180</td>\n",
       "      <td>...</td>\n",
       "      <td>0.261057</td>\n",
       "      <td>0.643078</td>\n",
       "      <td>0.376777</td>\n",
       "      <td>0.008797</td>\n",
       "      <td>-0.473649</td>\n",
       "      <td>-0.818267</td>\n",
       "      <td>-0.002415</td>\n",
       "      <td>0.013649</td>\n",
       "      <td>217.00</td>\n",
       "      <td>0</td>\n",
       "    </tr>\n",
       "  </tbody>\n",
       "</table>\n",
       "<p>284807 rows × 31 columns</p>\n",
       "</div>"
      ],
      "text/plain": [
       "            Time         V1         V2        V3        V4        V5  \\\n",
       "0            0.0  -1.359807  -0.072781  2.536347  1.378155 -0.338321   \n",
       "1            0.0   1.191857   0.266151  0.166480  0.448154  0.060018   \n",
       "2            1.0  -1.358354  -1.340163  1.773209  0.379780 -0.503198   \n",
       "3            1.0  -0.966272  -0.185226  1.792993 -0.863291 -0.010309   \n",
       "4            2.0  -1.158233   0.877737  1.548718  0.403034 -0.407193   \n",
       "...          ...        ...        ...       ...       ...       ...   \n",
       "284802  172786.0 -11.881118  10.071785 -9.834783 -2.066656 -5.364473   \n",
       "284803  172787.0  -0.732789  -0.055080  2.035030 -0.738589  0.868229   \n",
       "284804  172788.0   1.919565  -0.301254 -3.249640 -0.557828  2.630515   \n",
       "284805  172788.0  -0.240440   0.530483  0.702510  0.689799 -0.377961   \n",
       "284806  172792.0  -0.533413  -0.189733  0.703337 -0.506271 -0.012546   \n",
       "\n",
       "              V6        V7        V8        V9  ...       V21       V22  \\\n",
       "0       0.462388  0.239599  0.098698  0.363787  ... -0.018307  0.277838   \n",
       "1      -0.082361 -0.078803  0.085102 -0.255425  ... -0.225775 -0.638672   \n",
       "2       1.800499  0.791461  0.247676 -1.514654  ...  0.247998  0.771679   \n",
       "3       1.247203  0.237609  0.377436 -1.387024  ... -0.108300  0.005274   \n",
       "4       0.095921  0.592941 -0.270533  0.817739  ... -0.009431  0.798278   \n",
       "...          ...       ...       ...       ...  ...       ...       ...   \n",
       "284802 -2.606837 -4.918215  7.305334  1.914428  ...  0.213454  0.111864   \n",
       "284803  1.058415  0.024330  0.294869  0.584800  ...  0.214205  0.924384   \n",
       "284804  3.031260 -0.296827  0.708417  0.432454  ...  0.232045  0.578229   \n",
       "284805  0.623708 -0.686180  0.679145  0.392087  ...  0.265245  0.800049   \n",
       "284806 -0.649617  1.577006 -0.414650  0.486180  ...  0.261057  0.643078   \n",
       "\n",
       "             V23       V24       V25       V26       V27       V28  Amount  \\\n",
       "0      -0.110474  0.066928  0.128539 -0.189115  0.133558 -0.021053  149.62   \n",
       "1       0.101288 -0.339846  0.167170  0.125895 -0.008983  0.014724    2.69   \n",
       "2       0.909412 -0.689281 -0.327642 -0.139097 -0.055353 -0.059752  378.66   \n",
       "3      -0.190321 -1.175575  0.647376 -0.221929  0.062723  0.061458  123.50   \n",
       "4      -0.137458  0.141267 -0.206010  0.502292  0.219422  0.215153   69.99   \n",
       "...          ...       ...       ...       ...       ...       ...     ...   \n",
       "284802  1.014480 -0.509348  1.436807  0.250034  0.943651  0.823731    0.77   \n",
       "284803  0.012463 -1.016226 -0.606624 -0.395255  0.068472 -0.053527   24.79   \n",
       "284804 -0.037501  0.640134  0.265745 -0.087371  0.004455 -0.026561   67.88   \n",
       "284805 -0.163298  0.123205 -0.569159  0.546668  0.108821  0.104533   10.00   \n",
       "284806  0.376777  0.008797 -0.473649 -0.818267 -0.002415  0.013649  217.00   \n",
       "\n",
       "        Class  \n",
       "0           0  \n",
       "1           0  \n",
       "2           0  \n",
       "3           0  \n",
       "4           0  \n",
       "...       ...  \n",
       "284802      0  \n",
       "284803      0  \n",
       "284804      0  \n",
       "284805      0  \n",
       "284806      0  \n",
       "\n",
       "[284807 rows x 31 columns]"
      ]
     },
     "execution_count": 2,
     "metadata": {},
     "output_type": "execute_result"
    }
   ],
   "source": [
    "credit\n"
   ]
  },
  {
   "cell_type": "code",
   "execution_count": 3,
   "metadata": {},
   "outputs": [
    {
     "data": {
      "text/plain": [
       "(array([254., 215., 219., 226., 200., 210., 216., 244., 231., 192., 149.,\n",
       "        147., 203., 136., 192., 156., 253., 198., 143., 105.,  90., 518.,\n",
       "        118.,  98., 118., 114., 104.,  92.,  79.,  84.,  98.,  88.,  81.,\n",
       "         78.,  84.,  63.,  74.,  69.,  66.,  72.,  69.,  71.,  76., 122.,\n",
       "         80.,  65.,  61.,  61.,  60.,  88.,  53.,  48.,  68., 121., 105.,\n",
       "         47.,  62.,  84.,  66.,  66.,  70.,  86., 112., 420., 154., 108.,\n",
       "         86.,  85.,  89.,  86.,  85.,  56.,  58.,  54.,  33.,  52.,  60.,\n",
       "         60.,  57.,  52.,  47.,  53.,  51., 275.,  88.,  36.,  43.,  46.,\n",
       "         58.,  43.,  37.,  26.,  43.,  38.,  32.,  32.,  39.,  40.,  26.,\n",
       "         44.,  39.,  35.,  38.,  32.,  63.,  54.,  57.,  58.,  73.,  64.,\n",
       "         77.,  72.,  76.,  70.,  71., 335.,  66.,  72.,  66.,  69.,  62.,\n",
       "         64.,  59.,  84.,  74.,  83., 116.,  84.,  92.,  84.,  81., 104.,\n",
       "        107.,  88.,  72.,  79.,  68.,  74.,  65., 109.,  93.,  98.,  94.,\n",
       "         66.,  79., 117., 126., 111., 113., 152., 127., 135., 134., 164.,\n",
       "        139., 168., 138., 156., 180., 205., 209., 184., 165., 181., 208.,\n",
       "        210., 304., 212., 204., 194., 187., 227., 219., 229., 221., 220.,\n",
       "        215., 228., 238., 235., 269., 278., 285., 291., 323., 293., 297.,\n",
       "        312., 373., 328., 392., 355., 390., 407., 504., 376., 388., 308.,\n",
       "        399., 366., 382., 363., 400., 341., 378., 378., 382., 381., 405.,\n",
       "        380., 411., 418., 359., 378., 429., 408., 402., 381., 386., 383.,\n",
       "        388., 416., 415., 409., 418., 397., 390., 415., 369., 384., 445.,\n",
       "        436., 389., 383., 385., 422., 417., 404., 428., 425., 416., 385.,\n",
       "        400., 452., 424., 389., 388., 404., 393., 401., 411., 405., 411.,\n",
       "        423., 399., 391., 410., 402., 370., 383., 339., 353., 321., 323.,\n",
       "        316., 352., 360., 385., 351., 344., 342., 353., 343., 387., 365.,\n",
       "        319., 376., 386., 336., 370., 384., 362., 399., 366., 341., 360.,\n",
       "        347., 328., 378., 380., 410., 372., 404., 357., 386., 446., 373.,\n",
       "        418., 370., 387., 374., 350., 364., 345., 386., 385., 373., 428.,\n",
       "        375., 371., 419., 374., 411., 383., 427., 428., 420., 435., 360.,\n",
       "        425., 374., 358., 361., 365., 333., 346., 341., 345., 373., 358.,\n",
       "        374., 336., 374., 339., 340., 379., 383., 359., 366., 363., 426.,\n",
       "        387., 351., 384., 389., 383., 342., 376., 410., 385., 379., 349.,\n",
       "        363., 382., 364., 376., 405., 379., 379., 394., 401., 383., 411.,\n",
       "        389., 379., 381., 387., 372., 376., 373., 345., 382., 331., 371.,\n",
       "        368., 407., 389., 414., 374., 382., 373., 344., 424., 367., 395.,\n",
       "        421., 386., 346., 387., 374., 566., 533., 537., 519., 369., 367.,\n",
       "        407., 387., 464., 366., 384., 387., 354., 400., 411., 365., 352.,\n",
       "        371., 340., 402., 365., 374., 349., 387., 396., 393., 429., 433.,\n",
       "        434., 370., 415., 420., 432., 425., 399., 427., 448., 449., 400.,\n",
       "        448., 405., 457., 443., 403., 456., 450., 484., 419., 503., 451.,\n",
       "        495., 471., 460., 478., 480., 433., 486., 472., 490., 445., 416.,\n",
       "        697., 487., 461., 416., 502., 472., 439., 658., 797., 564., 449.,\n",
       "        440., 448., 426., 415., 428., 368., 377., 413., 407., 361., 366.,\n",
       "        368., 377., 384., 358., 345., 305., 337., 393., 320., 302., 294.,\n",
       "        315., 264., 300., 287., 364., 558., 267., 295., 279., 254., 220.,\n",
       "        218., 228., 228., 219., 217., 235., 209., 174., 207., 289., 194.,\n",
       "        223., 295., 292., 207., 148., 109., 158., 141., 125., 129., 138.,\n",
       "        113., 123., 128., 117., 235., 194., 103.,  90.,  90.,  99.,  92.,\n",
       "         80.,  87.,  88.,  88.,  90.,  91.,  78.,  87.,  70.,  85.,  71.,\n",
       "         61.,  64.,  73.,  96.,  84., 204.,  62.,  69.,  50.,  54.,  54.,\n",
       "         49.,  42., 137., 146.,  45.,  63.,  77.,  89.,  93.,  76.,  83.,\n",
       "         90., 125., 410., 187.,  92., 102.,  58.,  58.,  52.,  46.,  37.,\n",
       "         35.,  58.,  64.,  46.,  48.,  54.,  87.,  47.,  32.,  48.,  33.,\n",
       "        262.,  97.,  51.,  57.,  52.,  53.,  39.,  43.,  39.,  36.,  40.,\n",
       "         47.,  40.,  25.,  42.,  25.,  45.,  41.,  36.,  31.,  29.,  54.,\n",
       "         57.,  64.,  54.,  71.,  68.,  64.,  61.,  64.,  57.,  62.,  67.,\n",
       "         45.,  61.,  78.,  54.,  60.,  63.,  81.,  60.,  68.,  91.,  72.,\n",
       "         79.,  66.,  67.,  93.,  78., 104.,  95.,  94., 226., 131.,  94.,\n",
       "        105., 120., 110., 102., 151., 197., 101., 118., 142., 107., 122.,\n",
       "        143., 263., 121., 138., 146., 386., 171., 243., 194., 254., 166.,\n",
       "        208., 173., 187., 161., 189., 211., 224., 229., 192., 195., 209.,\n",
       "        196., 251., 214., 211., 239., 213., 258., 262., 251., 256., 278.,\n",
       "        270., 248., 286., 310., 283., 308., 288., 374., 375., 374., 334.,\n",
       "        369., 352., 358., 370., 388., 350., 377., 430., 418., 482., 382.,\n",
       "        404., 417., 390., 419., 404., 400., 414., 428., 423., 358., 387.,\n",
       "        412., 366., 385., 373., 386., 368., 405., 397., 394., 406., 407.,\n",
       "        472., 407., 403., 376., 414., 387., 421., 386., 404., 386., 408.,\n",
       "        399., 385., 412., 382., 372., 448., 373., 406., 423., 416., 401.,\n",
       "        397., 393., 371., 393., 400., 399., 366., 382., 368., 374., 360.,\n",
       "        385., 401., 312., 362., 347., 363., 364., 370., 373., 357., 343.,\n",
       "        367., 371., 428., 365., 376., 396., 391., 359., 350., 340., 405.,\n",
       "        374., 342., 357., 396., 343., 373., 373., 404., 360., 374., 385.,\n",
       "        385., 397., 395., 389., 403., 418., 399., 420., 384., 380., 374.,\n",
       "        429., 460., 407., 425., 402., 412., 448., 425., 397., 458., 392.,\n",
       "        419., 457., 400., 401., 385., 441., 422., 370., 399., 452., 416.,\n",
       "        462., 398., 406., 434., 427., 422., 422., 362., 377., 417., 422.,\n",
       "        503., 331., 421., 421., 390., 381., 395., 418., 459., 428., 407.,\n",
       "        403., 406., 369., 425., 462., 411., 461., 436., 415., 435., 394.,\n",
       "        423., 392., 426., 415., 376., 402., 404., 402., 409., 389., 395.,\n",
       "        356., 335., 363., 417., 412., 369., 349., 396., 365., 409., 425.,\n",
       "        414., 399., 462., 410., 385., 429., 408., 405., 490., 511., 420.,\n",
       "        383., 365., 354., 366., 334., 333., 399., 406., 402., 364., 366.,\n",
       "        378., 411., 376., 322., 381., 335., 360., 346., 353., 403., 357.,\n",
       "        381., 370., 329., 364., 360., 367., 382., 374., 382., 423., 361.,\n",
       "        370., 377., 374., 394., 363., 344., 384., 359., 363., 364., 366.,\n",
       "        366., 399., 374., 388., 383., 432., 369., 384., 403., 361., 382.,\n",
       "        387., 505., 375., 357., 333., 355., 367., 322., 350., 318., 356.,\n",
       "        312., 506., 358., 343., 309., 342., 361., 307., 290., 318., 284.,\n",
       "        339., 303., 301., 295., 307., 311., 268., 248., 271., 258., 274.,\n",
       "        235., 273., 280., 279., 284., 223., 245., 225., 251., 241., 253.,\n",
       "        223., 255., 257., 221., 213., 189., 211., 189., 185., 181.]),\n",
       " array([     0.   ,    172.792,    345.584, ..., 172446.416, 172619.208,\n",
       "        172792.   ]),\n",
       " <BarContainer object of 1000 artists>)"
      ]
     },
     "execution_count": 3,
     "metadata": {},
     "output_type": "execute_result"
    },
    {
     "data": {
      "image/png": "[encoded data removed]",
      "text/plain": [
       "<Figure size 432x288 with 1 Axes>"
      ]
     },
     "metadata": {
      "needs_background": "light"
     },
     "output_type": "display_data"
    }
   ],
   "source": [
    "plt.hist(credit.Time, bins=1000)"
   ]
  },
  {
   "cell_type": "code",
   "execution_count": 5,
   "metadata": {},
   "outputs": [
    {
     "data": {
      "text/plain": [
       "(array([ 2.,  0.,  0.,  0.,  0.,  0.,  0.,  0.,  0.,  0.,  0.,  0.,  0.,\n",
       "         0.,  0.,  0.,  0.,  0.,  0.,  0.,  0.,  0.,  0.,  1.,  0.,  0.,\n",
       "         0.,  0.,  0.,  0.,  0.,  0.,  0.,  0.,  0.,  0.,  0.,  0.,  1.,\n",
       "         0.,  0.,  4.,  3.,  1.,  1.,  2.,  0.,  4.,  1.,  4.,  1.,  0.,\n",
       "         0.,  0.,  0.,  0.,  0.,  0.,  0.,  0.,  0.,  0.,  2.,  1.,  0.,\n",
       "         0.,  2.,  0.,  2.,  0.,  1.,  1.,  0.,  0.,  1.,  0.,  1.,  0.,\n",
       "         0.,  0.,  2.,  0.,  0.,  0.,  0.,  0.,  0.,  0.,  0.,  0.,  1.,\n",
       "         0.,  0.,  0.,  0.,  0.,  0.,  0.,  3.,  0.,  1.,  0.,  1.,  0.,\n",
       "         1.,  1.,  0.,  2.,  0.,  0.,  0.,  0.,  0.,  1.,  0.,  1.,  0.,\n",
       "         2.,  0.,  0.,  1.,  1.,  0.,  1.,  0.,  1.,  0.,  0.,  0.,  0.,\n",
       "         0.,  0.,  0.,  0.,  0.,  0.,  0.,  0.,  0.,  0.,  0.,  0.,  0.,\n",
       "         0.,  0.,  2.,  2.,  1.,  0.,  0.,  0.,  0.,  0.,  2.,  1.,  3.,\n",
       "         2.,  4.,  0.,  0.,  0.,  1.,  0.,  2.,  0.,  0.,  5.,  0.,  0.,\n",
       "         0.,  0.,  2.,  2.,  0.,  0.,  0.,  0.,  0.,  0.,  1.,  0.,  0.,\n",
       "         0.,  0.,  0.,  0.,  0.,  0.,  0.,  1.,  1.,  0.,  0.,  0.,  0.,\n",
       "         0.,  0.,  0.,  0.,  1.,  1.,  3.,  0.,  0.,  0.,  0.,  0.,  1.,\n",
       "         4.,  3.,  1.,  0.,  0.,  0.,  0.,  0.,  1.,  0.,  0.,  0.,  0.,\n",
       "         0.,  0.,  0.,  0.,  0.,  0.,  0.,  0.,  0.,  0.,  1.,  0.,  1.,\n",
       "         1.,  0.,  1.,  1.,  3.,  6., 13.,  3.,  3.,  4.,  1.,  0.,  1.,\n",
       "         1.,  0.,  0.,  3.,  0.,  1.,  1.,  0.,  0.,  0.,  0.,  1.,  1.,\n",
       "         0.,  0.,  0.,  0.,  0.,  3.,  0.,  0.,  1.,  1.,  0.,  0.,  0.,\n",
       "         1.,  0.,  0.,  0.,  1.,  0.,  3.,  0.,  0.,  1.,  1.,  0.,  1.,\n",
       "         0.,  0.,  0.,  0.,  0.,  1.,  0.,  0.,  0.,  1.,  1.,  0.,  3.,\n",
       "         0.,  0.,  0.,  0.,  0.,  0.,  0.,  0.,  0.,  1.,  3.,  0.,  0.,\n",
       "         1.,  2.,  1.,  0.,  0.,  0.,  0.,  0.,  1.,  0.,  1.,  1.,  2.,\n",
       "         1.,  0.,  1.,  0.,  0.,  2.,  1.,  1.,  3.,  0.,  0.,  0.,  0.,\n",
       "         0.,  2.,  3.,  0.,  1.,  1.,  1.,  0.,  0.,  1.,  1.,  2.,  0.,\n",
       "         0.,  1.,  0.,  0.,  0.,  0.,  1.,  0.,  0.,  1.,  0.,  2.,  0.,\n",
       "         2.,  1.,  0.,  0.,  0.,  0.,  0.,  1.,  0.,  0.,  1.,  0.,  2.,\n",
       "         1.,  1.,  0.,  0.,  0.,  2.,  0.,  1.,  1.,  1.,  0.,  0.,  0.,\n",
       "         0.,  0.,  1.,  0.,  0.,  1.,  1.,  0.,  6.,  1.,  0.,  0.,  0.,\n",
       "         0.,  0.,  1.,  0.,  0.,  0.,  1.,  1.,  1.,  1.,  0.,  1.,  1.,\n",
       "         0.,  0.,  0.,  0.,  0.,  0.,  0.,  1.,  0.,  0.,  1.,  0.,  0.,\n",
       "         1.,  0.,  0.,  0.,  1.,  1.,  0.,  0.,  0.,  0.,  1.,  0.,  0.,\n",
       "         2.,  1.,  1.,  0.,  0.,  0.,  1.,  5.,  0.,  4.,  0.,  0.,  1.,\n",
       "         0.,  0.,  0.,  0.,  0.,  1.,  0.,  0.,  0.,  0.,  1.,  0.,  0.,\n",
       "         0.,  0.,  0.,  0.,  0.,  0.,  0.,  0.,  1.,  0.,  0.,  0.,  0.,\n",
       "         1.,  0.,  0.,  0.,  0.,  0.,  0.,  0.,  0.,  0.,  1.,  0.,  4.,\n",
       "         0.,  1.,  1.,  0.,  1.,  4.,  0.,  2.,  2.,  0.,  0.,  1.,  0.,\n",
       "         0.,  0.,  0.,  1.,  0.,  0.,  0.,  1.,  0.,  0.,  0.,  0.,  2.,\n",
       "         0.,  0.,  0.,  0.,  0.,  0.,  0.,  0.,  0.,  0.,  0.,  1.,  0.,\n",
       "         1.,  0.,  1.,  3.,  0.,  0.,  2.,  0.,  0.,  0.,  0.,  0.,  0.,\n",
       "         0.,  0.,  0., 13.,  9.,  1.,  5.,  0.,  1.,  0.,  1.,  0.,  0.,\n",
       "         1.,  1.,  0.,  0.,  1.,  1.,  0.,  1.,  0.,  0.,  2.,  0.,  0.,\n",
       "         0.,  0.,  0.,  0.,  0.,  0.,  0.,  0.,  0.,  0.,  0.,  0.,  0.,\n",
       "         0.,  0.,  2.,  1.,  0.,  0.,  1.,  1.,  1.,  0.,  1.,  0.,  0.,\n",
       "         1.,  1.,  2.,  8.,  0.,  0.,  0.,  0.,  0.,  0.,  1.,  0.,  0.,\n",
       "         0.,  0.,  0.,  0.,  0.,  0.,  0.,  0.,  0.,  0.,  0.,  0.,  0.,\n",
       "         0.,  0.,  0.,  0.,  0.,  0.,  0.,  0.,  0.,  0.,  0.,  0.,  0.,\n",
       "         0.,  0.,  0.,  2.,  0.,  0.,  0.,  0.,  1.,  0.,  0.,  3.,  0.,\n",
       "         0.,  0.,  0.,  0.,  0.,  0.,  0.,  0.,  0.,  0.,  0.,  0.,  0.,\n",
       "         0.,  0.,  0.,  0.,  0.,  0.,  0.,  0.,  0.,  0.,  0.,  0.,  0.,\n",
       "         0.,  0.,  1.,  0.,  1.,  0.,  0.,  0.,  0.,  0.,  0.,  0.,  0.,\n",
       "         0.,  0.,  0.,  0.,  0.,  0.,  2.,  0.,  0.,  0.,  0.,  0.,  0.,\n",
       "         0.,  0.,  0.,  0.,  0.,  0.,  0.,  0.,  0.,  1.,  0.,  0.,  0.,\n",
       "         0.,  0.,  0.,  0.,  1.,  0.,  1.,  0.,  0.,  1.,  0.,  0.,  0.,\n",
       "         0.,  0.,  0.,  0.,  0.,  0.,  1.,  0.,  1.,  1.,  0.,  0.,  1.,\n",
       "         0.,  0.,  0.,  0.,  0.,  0.,  0.,  0.,  0.,  0.,  0.,  0.,  2.,\n",
       "         1.,  1.,  0.,  3.,  2.,  0.,  1.,  3.,  0.,  0.,  0.,  0.,  0.,\n",
       "         0.,  1.,  0.,  0.,  0.,  0.,  0.,  1.,  0.,  0.,  0.,  1.,  0.,\n",
       "         0.,  1.,  0.,  0.,  1.,  1.,  0.,  0.,  0.,  0.,  2.,  1.,  2.,\n",
       "         1.,  0.,  0.,  0.,  0.,  0.,  0.,  0.,  0.,  0.,  0.,  0.,  1.,\n",
       "         0.,  0.,  0.,  0.,  0.,  0.,  0.,  0.,  1.,  1.,  2.,  0.,  0.,\n",
       "         0.,  2.,  1.,  0.,  2.,  0.,  0.,  0.,  0.,  0.,  1.,  1.,  0.,\n",
       "         1.,  0.,  1.,  2.,  0.,  0.,  2.,  0.,  0.,  4.,  0.,  0.,  0.,\n",
       "         0.,  0.,  0.,  0.,  2.,  0.,  0.,  0.,  0.,  0.,  0.,  2.,  1.,\n",
       "         1.,  0.,  0.,  0.,  1.,  0.,  0.,  1.,  0.,  0.,  4.,  0.,  0.,\n",
       "         3.,  0.,  0.,  1.,  1.,  0.,  1.,  2.,  0.,  0.,  2.,  0.,  1.,\n",
       "         0.,  1.,  1.,  0.,  0.,  0.,  0.,  2.,  3.,  2.,  0.,  0.,  2.,\n",
       "         0.,  0.,  0.,  0.,  1.,  1.,  1.,  1.,  2.,  1.,  2.,  0.,  0.,\n",
       "         1.,  1.,  4.,  1.,  0.,  1.,  0.,  0.,  0.,  2.,  0.,  0.,  1.,\n",
       "         1.,  0.,  0.,  0.,  0.,  0.,  0.,  0.,  1.,  0.,  0.,  0.,  0.,\n",
       "         0.,  0.,  1.,  1.,  1.,  0.,  1.,  2.,  2.,  1.,  0.,  0.,  0.,\n",
       "         0.,  0.,  0.,  0.,  0.,  0.,  0.,  0.,  1.,  0.,  0.,  0.,  0.,\n",
       "         0.,  0.,  0.,  0.,  0.,  0.,  0.,  1.,  0.,  0.,  0.,  0.,  2.,\n",
       "         0.,  0.,  0.,  0.,  2.,  0.,  0.,  1.,  0.,  0.,  0.,  0.,  0.,\n",
       "         0.,  0.,  0.,  0.,  1.,  0.,  2.,  0.,  0.,  1.,  0.,  1.]),\n",
       " array([   406.   ,    575.942,    745.884, ..., 170008.116, 170178.058,\n",
       "        170348.   ]),\n",
       " <BarContainer object of 1000 artists>)"
      ]
     },
     "execution_count": 5,
     "metadata": {},
     "output_type": "execute_result"
    },
    {
     "data": {
      "image/png": "[encoded data removed]",
      "text/plain": [
       "<Figure size 432x288 with 1 Axes>"
      ]
     },
     "metadata": {
      "needs_background": "light"
     },
     "output_type": "display_data"
    }
   ],
   "source": [
    "plt.hist(credit.query(\"Class==1\").Time, bins=1000)"
   ]
  },
  {
   "cell_type": "code",
   "execution_count": 6,
   "metadata": {},
   "outputs": [
    {
     "data": {
      "image/png": "[encoded data removed]",
      "text/plain": [
       "<Figure size 432x288 with 1 Axes>"
      ]
     },
     "metadata": {
      "needs_background": "light"
     },
     "output_type": "display_data"
    }
   ],
   "source": [
    "plt.plot(np.sort(credit.Time) )\n",
    "fraud = credit.query(\"Class==1\")"
   ]
  },
  {
   "cell_type": "code",
   "execution_count": 7,
   "metadata": {},
   "outputs": [
    {
     "data": {
      "text/plain": [
       "[<matplotlib.lines.Line2D at 0x7f9e44ed37c0>]"
      ]
     },
     "execution_count": 7,
     "metadata": {},
     "output_type": "execute_result"
    },
    {
     "data": {
      "image/png": "[encoded data removed]",
      "text/plain": [
       "<Figure size 432x288 with 1 Axes>"
      ]
     },
     "metadata": {
      "needs_background": "light"
     },
     "output_type": "display_data"
    }
   ],
   "source": [
    "plt.plot(np.linspace(0,1,len(credit)), np.sort(credit.Time) )\n",
    "plt.plot(np.linspace(0,1,len(fraud)), np.sort(fraud.Time) )"
   ]
  },
  {
   "cell_type": "code",
   "execution_count": 8,
   "metadata": {},
   "outputs": [
    {
     "data": {
      "text/plain": [
       "[<matplotlib.lines.Line2D at 0x7f9e46e81250>]"
      ]
     },
     "execution_count": 8,
     "metadata": {},
     "output_type": "execute_result"
    },
    {
     "data": {
      "image/png": "[encoded data removed]",
      "text/plain": [
       "<Figure size 432x288 with 1 Axes>"
      ]
     },
     "metadata": {
      "needs_background": "light"
     },
     "output_type": "display_data"
    }
   ],
   "source": [
    "plt.plot(credit.V1, credit.V2, 'o')\n",
    "plt.plot(fraud.V1, fraud.V2, 'o')"
   ]
  },
  {
   "cell_type": "code",
   "execution_count": 9,
   "metadata": {},
   "outputs": [
    {
     "data": {
      "text/plain": [
       "[<matplotlib.lines.Line2D at 0x7f9e46ed0d00>]"
      ]
     },
     "execution_count": 9,
     "metadata": {},
     "output_type": "execute_result"
    },
    {
     "data": {
      "image/png": "[encoded data removed]",
      "text/plain": [
       "<Figure size 432x288 with 1 Axes>"
      ]
     },
     "metadata": {
      "needs_background": "light"
     },
     "output_type": "display_data"
    }
   ],
   "source": [
    "plt.plot(credit.V3, credit.V4, 'o')\n",
    "plt.plot(fraud.V3, fraud.V4, 'o')"
   ]
  },
  {
   "cell_type": "code",
   "execution_count": 10,
   "metadata": {},
   "outputs": [
    {
     "data": {
      "text/plain": [
       "(0.0, 5000.0)"
      ]
     },
     "execution_count": 10,
     "metadata": {},
     "output_type": "execute_result"
    },
    {
     "data": {
      "image/png": "[encoded data removed]",
      "text/plain": [
       "<Figure size 432x288 with 1 Axes>"
      ]
     },
     "metadata": {
      "needs_background": "light"
     },
     "output_type": "display_data"
    }
   ],
   "source": [
    "plt.plot(np.linspace(0,1,len(credit)), np.sort(credit.Amount) )\n",
    "plt.plot(np.linspace(0,1,len(fraud)), np.sort(fraud.Amount) )\n",
    "plt.ylim([0,5000])"
   ]
  },
  {
   "cell_type": "code",
   "execution_count": 12,
   "metadata": {},
   "outputs": [
    {
     "data": {
      "text/plain": [
       "(array([249.,  22.,   9.,  16.,  10.,   8.,   2.,   6.,   6.,  34.,  12.,\n",
       "          8.,   7.,   1.,   3.,   2.,   1.,   5.,   5.,   1.,   3.,   1.,\n",
       "          1.,   4.,   2.,   5.,   1.,   2.,   1.,   2.,   3.,   6.,   2.,\n",
       "          1.,   3.,   4.,   1.,   0.,   1.,   0.,   0.,   0.,   1.,   1.,\n",
       "          1.,   2.,   0.,   1.,   1.,   0.,   2.,   1.,   1.,   0.,   1.,\n",
       "          0.,   1.,   0.,   1.,   1.,   0.,   0.,   2.,   0.,   1.,   0.,\n",
       "          1.,   0.,   0.,   0.,   1.,   4.,   2.,   0.,   0.,   1.,   1.,\n",
       "          0.,   0.,   1.,   0.,   1.,   1.,   0.,   0.,   0.,   0.,   0.,\n",
       "          0.,   0.,   0.,   1.,   0.,   0.,   0.,   0.,   0.,   0.,   1.]),\n",
       " array([   0.        ,   10.1010101 ,   20.2020202 ,   30.3030303 ,\n",
       "          40.4040404 ,   50.50505051,   60.60606061,   70.70707071,\n",
       "          80.80808081,   90.90909091,  101.01010101,  111.11111111,\n",
       "         121.21212121,  131.31313131,  141.41414141,  151.51515152,\n",
       "         161.61616162,  171.71717172,  181.81818182,  191.91919192,\n",
       "         202.02020202,  212.12121212,  222.22222222,  232.32323232,\n",
       "         242.42424242,  252.52525253,  262.62626263,  272.72727273,\n",
       "         282.82828283,  292.92929293,  303.03030303,  313.13131313,\n",
       "         323.23232323,  333.33333333,  343.43434343,  353.53535354,\n",
       "         363.63636364,  373.73737374,  383.83838384,  393.93939394,\n",
       "         404.04040404,  414.14141414,  424.24242424,  434.34343434,\n",
       "         444.44444444,  454.54545455,  464.64646465,  474.74747475,\n",
       "         484.84848485,  494.94949495,  505.05050505,  515.15151515,\n",
       "         525.25252525,  535.35353535,  545.45454545,  555.55555556,\n",
       "         565.65656566,  575.75757576,  585.85858586,  595.95959596,\n",
       "         606.06060606,  616.16161616,  626.26262626,  636.36363636,\n",
       "         646.46464646,  656.56565657,  666.66666667,  676.76767677,\n",
       "         686.86868687,  696.96969697,  707.07070707,  717.17171717,\n",
       "         727.27272727,  737.37373737,  747.47474747,  757.57575758,\n",
       "         767.67676768,  777.77777778,  787.87878788,  797.97979798,\n",
       "         808.08080808,  818.18181818,  828.28282828,  838.38383838,\n",
       "         848.48484848,  858.58585859,  868.68686869,  878.78787879,\n",
       "         888.88888889,  898.98989899,  909.09090909,  919.19191919,\n",
       "         929.29292929,  939.39393939,  949.49494949,  959.5959596 ,\n",
       "         969.6969697 ,  979.7979798 ,  989.8989899 , 1000.        ]),\n",
       " <BarContainer object of 99 artists>)"
      ]
     },
     "execution_count": 12,
     "metadata": {},
     "output_type": "execute_result"
    },
    {
     "data": {
      "image/png": "[encoded data removed]",
      "text/plain": [
       "<Figure size 432x288 with 1 Axes>"
      ]
     },
     "metadata": {
      "needs_background": "light"
     },
     "output_type": "display_data"
    }
   ],
   "source": [
    "plt.hist( np.sort(credit.Amount), bins= np.linspace(0,1000, 100) )\n",
    "plt.hist( np.sort(fraud.Amount),bins= np.linspace(0,1000, 100)  )\n"
   ]
  },
  {
   "cell_type": "code",
   "execution_count": 13,
   "metadata": {},
   "outputs": [
    {
     "data": {
      "text/plain": [
       "(122.21132113821133, 492, 284807)"
      ]
     },
     "execution_count": 13,
     "metadata": {},
     "output_type": "execute_result"
    }
   ],
   "source": [
    "fraud.Amount.mean(), len(fraud), len(credit)"
   ]
  },
  {
   "cell_type": "code",
   "execution_count": 14,
   "metadata": {},
   "outputs": [],
   "source": [
    "randindex = np.random.permutation(len(fraud))\n",
    "fraud1 = fraud.iloc[randindex[0:250],:]\n",
    "fraud2 = fraud.iloc[randindex[250:],:]\n",
    "scramblecredit = credit.iloc[np.random.permutation(len(credit)),:]\n",
    "credit1 = scramblecredit.iloc[0:250,:]\n",
    "credit2 = scramblecredit.iloc[250:500,:]"
   ]
  },
  {
   "cell_type": "code",
   "execution_count": 15,
   "metadata": {},
   "outputs": [
    {
     "data": {
      "text/plain": [
       "((250, 31), (250, 31), (250, 31), (242, 31))"
      ]
     },
     "execution_count": 15,
     "metadata": {},
     "output_type": "execute_result"
    }
   ],
   "source": [
    "credit1.shape, credit2.shape, fraud1.shape, fraud2.shape"
   ]
  },
  {
   "cell_type": "code",
   "execution_count": 16,
   "metadata": {},
   "outputs": [
    {
     "data": {
      "text/plain": [
       "((500, 29), (500,))"
      ]
     },
     "execution_count": 16,
     "metadata": {},
     "output_type": "execute_result"
    }
   ],
   "source": [
    "X = np.vstack( [ credit1.iloc[:,1:-1], fraud1.iloc[:,1:-1]] ) \n",
    "Y = np.hstack( [ credit1[\"Class\"],    fraud1[\"Class\"]] ) \n",
    "X.shape, Y.shape"
   ]
  },
  {
   "cell_type": "code",
   "execution_count": 17,
   "metadata": {},
   "outputs": [
    {
     "data": {
      "text/plain": [
       "((492, 29), (492,))"
      ]
     },
     "execution_count": 17,
     "metadata": {},
     "output_type": "execute_result"
    }
   ],
   "source": [
    "Xtest = np.vstack( [ credit2.iloc[:,1:-1], fraud2.iloc[:,1:-1]] ) \n",
    "Ytest = np.hstack( [ credit2[\"Class\"],    fraud2[\"Class\"]] ) \n",
    "Xtest.shape, Ytest.shape"
   ]
  },
  {
   "cell_type": "code",
   "execution_count": 18,
   "metadata": {},
   "outputs": [
    {
     "data": {
      "text/html": [
       "<div>\n",
       "<style scoped>\n",
       "    .dataframe tbody tr th:only-of-type {\n",
       "        vertical-align: middle;\n",
       "    }\n",
       "\n",
       "    .dataframe tbody tr th {\n",
       "        vertical-align: top;\n",
       "    }\n",
       "\n",
       "    .dataframe thead th {\n",
       "        text-align: right;\n",
       "    }\n",
       "</style>\n",
       "<table border=\"1\" class=\"dataframe\">\n",
       "  <thead>\n",
       "    <tr style=\"text-align: right;\">\n",
       "      <th></th>\n",
       "      <th>V1</th>\n",
       "      <th>V2</th>\n",
       "      <th>V3</th>\n",
       "      <th>V4</th>\n",
       "      <th>V5</th>\n",
       "      <th>V6</th>\n",
       "      <th>V7</th>\n",
       "      <th>V8</th>\n",
       "      <th>V9</th>\n",
       "      <th>V10</th>\n",
       "      <th>...</th>\n",
       "      <th>V20</th>\n",
       "      <th>V21</th>\n",
       "      <th>V22</th>\n",
       "      <th>V23</th>\n",
       "      <th>V24</th>\n",
       "      <th>V25</th>\n",
       "      <th>V26</th>\n",
       "      <th>V27</th>\n",
       "      <th>V28</th>\n",
       "      <th>Amount</th>\n",
       "    </tr>\n",
       "  </thead>\n",
       "  <tbody>\n",
       "    <tr>\n",
       "      <th>16346</th>\n",
       "      <td>-0.535443</td>\n",
       "      <td>0.980806</td>\n",
       "      <td>-0.699260</td>\n",
       "      <td>-0.235883</td>\n",
       "      <td>2.235770</td>\n",
       "      <td>3.498574</td>\n",
       "      <td>0.000504</td>\n",
       "      <td>1.244938</td>\n",
       "      <td>-0.975094</td>\n",
       "      <td>-0.414112</td>\n",
       "      <td>...</td>\n",
       "      <td>0.082393</td>\n",
       "      <td>0.166711</td>\n",
       "      <td>0.191830</td>\n",
       "      <td>-0.066597</td>\n",
       "      <td>1.002846</td>\n",
       "      <td>-0.060892</td>\n",
       "      <td>-0.318083</td>\n",
       "      <td>0.038781</td>\n",
       "      <td>0.097633</td>\n",
       "      <td>42.81</td>\n",
       "    </tr>\n",
       "    <tr>\n",
       "      <th>54183</th>\n",
       "      <td>-0.539221</td>\n",
       "      <td>0.815376</td>\n",
       "      <td>2.117610</td>\n",
       "      <td>0.810810</td>\n",
       "      <td>-0.410259</td>\n",
       "      <td>-0.795325</td>\n",
       "      <td>0.541512</td>\n",
       "      <td>0.062450</td>\n",
       "      <td>0.061587</td>\n",
       "      <td>-0.596553</td>\n",
       "      <td>...</td>\n",
       "      <td>-0.215482</td>\n",
       "      <td>-0.148986</td>\n",
       "      <td>-0.375671</td>\n",
       "      <td>-0.069019</td>\n",
       "      <td>0.847446</td>\n",
       "      <td>-0.122210</td>\n",
       "      <td>-0.596294</td>\n",
       "      <td>0.123176</td>\n",
       "      <td>0.125446</td>\n",
       "      <td>2.21</td>\n",
       "    </tr>\n",
       "    <tr>\n",
       "      <th>66160</th>\n",
       "      <td>-0.712262</td>\n",
       "      <td>-0.138930</td>\n",
       "      <td>1.121518</td>\n",
       "      <td>1.440779</td>\n",
       "      <td>-1.045596</td>\n",
       "      <td>2.101437</td>\n",
       "      <td>-0.131996</td>\n",
       "      <td>0.971555</td>\n",
       "      <td>1.030777</td>\n",
       "      <td>-0.972274</td>\n",
       "      <td>...</td>\n",
       "      <td>0.254717</td>\n",
       "      <td>0.011854</td>\n",
       "      <td>0.021294</td>\n",
       "      <td>0.378097</td>\n",
       "      <td>-1.341812</td>\n",
       "      <td>-0.107794</td>\n",
       "      <td>-0.208829</td>\n",
       "      <td>-0.025228</td>\n",
       "      <td>-0.006428</td>\n",
       "      <td>227.08</td>\n",
       "    </tr>\n",
       "    <tr>\n",
       "      <th>268117</th>\n",
       "      <td>-1.799591</td>\n",
       "      <td>1.960331</td>\n",
       "      <td>0.083595</td>\n",
       "      <td>-0.778418</td>\n",
       "      <td>-0.619734</td>\n",
       "      <td>-0.626201</td>\n",
       "      <td>-0.523349</td>\n",
       "      <td>1.207929</td>\n",
       "      <td>-0.197832</td>\n",
       "      <td>-1.986318</td>\n",
       "      <td>...</td>\n",
       "      <td>-0.372732</td>\n",
       "      <td>0.013536</td>\n",
       "      <td>-0.443679</td>\n",
       "      <td>0.136444</td>\n",
       "      <td>0.978956</td>\n",
       "      <td>-0.305815</td>\n",
       "      <td>-0.364874</td>\n",
       "      <td>-0.651811</td>\n",
       "      <td>-0.015485</td>\n",
       "      <td>1.46</td>\n",
       "    </tr>\n",
       "    <tr>\n",
       "      <th>212111</th>\n",
       "      <td>2.113298</td>\n",
       "      <td>0.141402</td>\n",
       "      <td>-1.931879</td>\n",
       "      <td>0.290046</td>\n",
       "      <td>0.677771</td>\n",
       "      <td>-0.570291</td>\n",
       "      <td>0.171692</td>\n",
       "      <td>-0.199783</td>\n",
       "      <td>0.536439</td>\n",
       "      <td>-0.376394</td>\n",
       "      <td>...</td>\n",
       "      <td>-0.140416</td>\n",
       "      <td>-0.400806</td>\n",
       "      <td>-1.047744</td>\n",
       "      <td>0.272857</td>\n",
       "      <td>-0.010974</td>\n",
       "      <td>-0.186572</td>\n",
       "      <td>0.205541</td>\n",
       "      <td>-0.063637</td>\n",
       "      <td>-0.036043</td>\n",
       "      <td>1.79</td>\n",
       "    </tr>\n",
       "    <tr>\n",
       "      <th>...</th>\n",
       "      <td>...</td>\n",
       "      <td>...</td>\n",
       "      <td>...</td>\n",
       "      <td>...</td>\n",
       "      <td>...</td>\n",
       "      <td>...</td>\n",
       "      <td>...</td>\n",
       "      <td>...</td>\n",
       "      <td>...</td>\n",
       "      <td>...</td>\n",
       "      <td>...</td>\n",
       "      <td>...</td>\n",
       "      <td>...</td>\n",
       "      <td>...</td>\n",
       "      <td>...</td>\n",
       "      <td>...</td>\n",
       "      <td>...</td>\n",
       "      <td>...</td>\n",
       "      <td>...</td>\n",
       "      <td>...</td>\n",
       "      <td>...</td>\n",
       "    </tr>\n",
       "    <tr>\n",
       "      <th>206521</th>\n",
       "      <td>1.768253</td>\n",
       "      <td>-0.774983</td>\n",
       "      <td>-0.529064</td>\n",
       "      <td>1.626112</td>\n",
       "      <td>-0.518238</td>\n",
       "      <td>0.394008</td>\n",
       "      <td>-0.543246</td>\n",
       "      <td>0.097556</td>\n",
       "      <td>1.725025</td>\n",
       "      <td>-0.041120</td>\n",
       "      <td>...</td>\n",
       "      <td>-0.083814</td>\n",
       "      <td>0.253811</td>\n",
       "      <td>0.980563</td>\n",
       "      <td>-0.232216</td>\n",
       "      <td>-0.672204</td>\n",
       "      <td>0.338400</td>\n",
       "      <td>-0.254351</td>\n",
       "      <td>0.050451</td>\n",
       "      <td>-0.029860</td>\n",
       "      <td>113.40</td>\n",
       "    </tr>\n",
       "    <tr>\n",
       "      <th>172115</th>\n",
       "      <td>-2.004311</td>\n",
       "      <td>1.959506</td>\n",
       "      <td>-1.197268</td>\n",
       "      <td>-2.921854</td>\n",
       "      <td>0.464349</td>\n",
       "      <td>-0.352321</td>\n",
       "      <td>0.117544</td>\n",
       "      <td>1.298173</td>\n",
       "      <td>-0.400487</td>\n",
       "      <td>-1.144847</td>\n",
       "      <td>...</td>\n",
       "      <td>-0.032620</td>\n",
       "      <td>-0.226083</td>\n",
       "      <td>-0.878623</td>\n",
       "      <td>-0.068151</td>\n",
       "      <td>-0.325075</td>\n",
       "      <td>0.249399</td>\n",
       "      <td>0.396963</td>\n",
       "      <td>0.058808</td>\n",
       "      <td>0.085209</td>\n",
       "      <td>1.00</td>\n",
       "    </tr>\n",
       "    <tr>\n",
       "      <th>119841</th>\n",
       "      <td>-1.171518</td>\n",
       "      <td>0.333091</td>\n",
       "      <td>0.514236</td>\n",
       "      <td>-0.057486</td>\n",
       "      <td>1.126155</td>\n",
       "      <td>4.514310</td>\n",
       "      <td>-0.185707</td>\n",
       "      <td>1.529995</td>\n",
       "      <td>-0.446605</td>\n",
       "      <td>-0.864275</td>\n",
       "      <td>...</td>\n",
       "      <td>0.475815</td>\n",
       "      <td>0.148852</td>\n",
       "      <td>-0.058964</td>\n",
       "      <td>0.175202</td>\n",
       "      <td>0.980583</td>\n",
       "      <td>0.477209</td>\n",
       "      <td>-0.254667</td>\n",
       "      <td>-0.060257</td>\n",
       "      <td>0.037463</td>\n",
       "      <td>193.88</td>\n",
       "    </tr>\n",
       "    <tr>\n",
       "      <th>255099</th>\n",
       "      <td>-0.800695</td>\n",
       "      <td>0.559947</td>\n",
       "      <td>0.573908</td>\n",
       "      <td>-0.576410</td>\n",
       "      <td>0.475452</td>\n",
       "      <td>-1.021659</td>\n",
       "      <td>1.364686</td>\n",
       "      <td>-0.191811</td>\n",
       "      <td>0.126630</td>\n",
       "      <td>-1.254326</td>\n",
       "      <td>...</td>\n",
       "      <td>0.317200</td>\n",
       "      <td>-0.137112</td>\n",
       "      <td>-0.229311</td>\n",
       "      <td>0.032401</td>\n",
       "      <td>0.323779</td>\n",
       "      <td>0.007982</td>\n",
       "      <td>-0.147703</td>\n",
       "      <td>0.142166</td>\n",
       "      <td>0.001396</td>\n",
       "      <td>104.27</td>\n",
       "    </tr>\n",
       "    <tr>\n",
       "      <th>225546</th>\n",
       "      <td>-1.583370</td>\n",
       "      <td>0.503246</td>\n",
       "      <td>-1.523976</td>\n",
       "      <td>0.033004</td>\n",
       "      <td>-1.209251</td>\n",
       "      <td>0.500849</td>\n",
       "      <td>3.817064</td>\n",
       "      <td>-0.341576</td>\n",
       "      <td>-1.556445</td>\n",
       "      <td>-0.988149</td>\n",
       "      <td>...</td>\n",
       "      <td>0.024432</td>\n",
       "      <td>0.365196</td>\n",
       "      <td>0.994510</td>\n",
       "      <td>-0.396722</td>\n",
       "      <td>-0.303880</td>\n",
       "      <td>1.546206</td>\n",
       "      <td>0.431851</td>\n",
       "      <td>-0.039710</td>\n",
       "      <td>-0.218602</td>\n",
       "      <td>613.96</td>\n",
       "    </tr>\n",
       "  </tbody>\n",
       "</table>\n",
       "<p>250 rows × 29 columns</p>\n",
       "</div>"
      ],
      "text/plain": [
       "              V1        V2        V3        V4        V5        V6        V7  \\\n",
       "16346  -0.535443  0.980806 -0.699260 -0.235883  2.235770  3.498574  0.000504   \n",
       "54183  -0.539221  0.815376  2.117610  0.810810 -0.410259 -0.795325  0.541512   \n",
       "66160  -0.712262 -0.138930  1.121518  1.440779 -1.045596  2.101437 -0.131996   \n",
       "268117 -1.799591  1.960331  0.083595 -0.778418 -0.619734 -0.626201 -0.523349   \n",
       "212111  2.113298  0.141402 -1.931879  0.290046  0.677771 -0.570291  0.171692   \n",
       "...          ...       ...       ...       ...       ...       ...       ...   \n",
       "206521  1.768253 -0.774983 -0.529064  1.626112 -0.518238  0.394008 -0.543246   \n",
       "172115 -2.004311  1.959506 -1.197268 -2.921854  0.464349 -0.352321  0.117544   \n",
       "119841 -1.171518  0.333091  0.514236 -0.057486  1.126155  4.514310 -0.185707   \n",
       "255099 -0.800695  0.559947  0.573908 -0.576410  0.475452 -1.021659  1.364686   \n",
       "225546 -1.583370  0.503246 -1.523976  0.033004 -1.209251  0.500849  3.817064   \n",
       "\n",
       "              V8        V9       V10  ...       V20       V21       V22  \\\n",
       "16346   1.244938 -0.975094 -0.414112  ...  0.082393  0.166711  0.191830   \n",
       "54183   0.062450  0.061587 -0.596553  ... -0.215482 -0.148986 -0.375671   \n",
       "66160   0.971555  1.030777 -0.972274  ...  0.254717  0.011854  0.021294   \n",
       "268117  1.207929 -0.197832 -1.986318  ... -0.372732  0.013536 -0.443679   \n",
       "212111 -0.199783  0.536439 -0.376394  ... -0.140416 -0.400806 -1.047744   \n",
       "...          ...       ...       ...  ...       ...       ...       ...   \n",
       "206521  0.097556  1.725025 -0.041120  ... -0.083814  0.253811  0.980563   \n",
       "172115  1.298173 -0.400487 -1.144847  ... -0.032620 -0.226083 -0.878623   \n",
       "119841  1.529995 -0.446605 -0.864275  ...  0.475815  0.148852 -0.058964   \n",
       "255099 -0.191811  0.126630 -1.254326  ...  0.317200 -0.137112 -0.229311   \n",
       "225546 -0.341576 -1.556445 -0.988149  ...  0.024432  0.365196  0.994510   \n",
       "\n",
       "             V23       V24       V25       V26       V27       V28  Amount  \n",
       "16346  -0.066597  1.002846 -0.060892 -0.318083  0.038781  0.097633   42.81  \n",
       "54183  -0.069019  0.847446 -0.122210 -0.596294  0.123176  0.125446    2.21  \n",
       "66160   0.378097 -1.341812 -0.107794 -0.208829 -0.025228 -0.006428  227.08  \n",
       "268117  0.136444  0.978956 -0.305815 -0.364874 -0.651811 -0.015485    1.46  \n",
       "212111  0.272857 -0.010974 -0.186572  0.205541 -0.063637 -0.036043    1.79  \n",
       "...          ...       ...       ...       ...       ...       ...     ...  \n",
       "206521 -0.232216 -0.672204  0.338400 -0.254351  0.050451 -0.029860  113.40  \n",
       "172115 -0.068151 -0.325075  0.249399  0.396963  0.058808  0.085209    1.00  \n",
       "119841  0.175202  0.980583  0.477209 -0.254667 -0.060257  0.037463  193.88  \n",
       "255099  0.032401  0.323779  0.007982 -0.147703  0.142166  0.001396  104.27  \n",
       "225546 -0.396722 -0.303880  1.546206  0.431851 -0.039710 -0.218602  613.96  \n",
       "\n",
       "[250 rows x 29 columns]"
      ]
     },
     "execution_count": 18,
     "metadata": {},
     "output_type": "execute_result"
    }
   ],
   "source": [
    "\n",
    "credit2.iloc[:,1:-1]"
   ]
  },
  {
   "cell_type": "code",
   "execution_count": 19,
   "metadata": {},
   "outputs": [],
   "source": [
    "from sklearn.neighbors import KNeighborsClassifier\n",
    "\n",
    "V= np.cov(X.T)\n",
    "knn = KNeighborsClassifier(metric= 'mahalanobis', n_neighbors=5, \n",
    "            metric_params={'V': V} ).fit(X, Y)"
   ]
  },
  {
   "cell_type": "code",
   "execution_count": 20,
   "metadata": {},
   "outputs": [
    {
     "name": "stdout",
     "output_type": "stream",
     "text": [
      "CPU times: user 306 ms, sys: 9.78 ms, total: 316 ms\n",
      "Wall time: 453 ms\n"
     ]
    }
   ],
   "source": [
    "%%time\n",
    "Ypred = knn.predict(Xtest)"
   ]
  },
  {
   "cell_type": "code",
   "execution_count": 21,
   "metadata": {},
   "outputs": [
    {
     "data": {
      "text/plain": [
       "0.8495934959349594"
      ]
     },
     "execution_count": 21,
     "metadata": {},
     "output_type": "execute_result"
    }
   ],
   "source": [
    "np.sum(np.equal(Ypred, Ytest))/ len(Ytest)"
   ]
  },
  {
   "cell_type": "code",
   "execution_count": null,
   "metadata": {},
   "outputs": [],
   "source": []
  },
  {
   "cell_type": "code",
   "execution_count": 22,
   "metadata": {},
   "outputs": [
    {
     "data": {
      "text/plain": [
       "0     238\n",
       "11    180\n",
       "10     62\n",
       "1      12\n",
       "Name: i, dtype: int64"
      ]
     },
     "execution_count": 22,
     "metadata": {},
     "output_type": "execute_result"
    }
   ],
   "source": [
    "indicate = pd.DataFrame( {\"i\": 10*Ytest + Ypred}).i.value_counts()\n",
    "indicate"
   ]
  },
  {
   "cell_type": "code",
   "execution_count": 23,
   "metadata": {},
   "outputs": [],
   "source": [
    "TN = 234; TP = 189; FP = 16; FN = 53"
   ]
  },
  {
   "cell_type": "code",
   "execution_count": 24,
   "metadata": {},
   "outputs": [],
   "source": [
    "# Sensitivity and Specificity, true positive rate and true negative rate:\n",
    "SENS = TP / (TP + FN)\n",
    "SPEC = TN / (TN + FP)"
   ]
  },
  {
   "cell_type": "code",
   "execution_count": 25,
   "metadata": {},
   "outputs": [
    {
     "name": "stdout",
     "output_type": "stream",
     "text": [
      "Sensitivity 0.78099173553719 Specificity 0.936\n",
      "PPV 0.9219512195121952 NPV 0.8153310104529616\n"
     ]
    }
   ],
   "source": [
    "# PPV and NPV, the error rates conditional on the test result\n",
    "PPV = TP / (TP + FP)\n",
    "NPV = TN / (TN + FN)\n",
    "print(\"Sensitivity\", SENS, \"Specificity\", SPEC)\n",
    "print(\"PPV\", PPV, \"NPV\", NPV)"
   ]
  },
  {
   "cell_type": "code",
   "execution_count": null,
   "metadata": {},
   "outputs": [],
   "source": [
    "# This is not very.. satisfying?  It seems like it's working, but knn gives us no insight into what is happening."
   ]
  },
  {
   "cell_type": "code",
   "execution_count": 26,
   "metadata": {},
   "outputs": [
    {
     "name": "stderr",
     "output_type": "stream",
     "text": [
      "/Applications/anaconda3/lib/python3.8/site-packages/sklearn/linear_model/_logistic.py:762: ConvergenceWarning: lbfgs failed to converge (status=1):\n",
      "STOP: TOTAL NO. of ITERATIONS REACHED LIMIT.\n",
      "\n",
      "Increase the number of iterations (max_iter) or scale the data as shown in:\n",
      "    https://scikit-learn.org/stable/modules/preprocessing.html\n",
      "Please also refer to the documentation for alternative solver options:\n",
      "    https://scikit-learn.org/stable/modules/linear_model.html#logistic-regression\n",
      "  n_iter_i = _check_optimize_result(\n"
     ]
    }
   ],
   "source": [
    "from sklearn.linear_model import LogisticRegression\n",
    "lr = LogisticRegression().fit(X,Y)"
   ]
  },
  {
   "cell_type": "code",
   "execution_count": null,
   "metadata": {},
   "outputs": [],
   "source": [
    "# Here I get a warning ConvergenceWarning: lbfgs failed to converge (status=1): STOP: TOTAL NO. of ITERATIONS REACHED LIMIT.\n",
    "# With a pointer to the skikitlearn-documentation hinting that this is sometimes caused by\n",
    "# numerically poorly-distributed data, and that I should consider scaling or normalizing."
   ]
  },
  {
   "cell_type": "code",
   "execution_count": 28,
   "metadata": {},
   "outputs": [],
   "source": [
    "# This is easily accomplished with off-the-shelf scaling functions:\n",
    "from sklearn.preprocessing import StandardScaler\n",
    "Xsc = StandardScaler().fit_transform(X)\n",
    "lr = LogisticRegression().fit(Xsc,Y)"
   ]
  },
  {
   "cell_type": "code",
   "execution_count": 29,
   "metadata": {},
   "outputs": [
    {
     "data": {
      "text/plain": [
       "['C',\n",
       " '__class__',\n",
       " '__delattr__',\n",
       " '__dict__',\n",
       " '__dir__',\n",
       " '__doc__',\n",
       " '__eq__',\n",
       " '__format__',\n",
       " '__ge__',\n",
       " '__getattribute__',\n",
       " '__getstate__',\n",
       " '__gt__',\n",
       " '__hash__',\n",
       " '__init__',\n",
       " '__init_subclass__',\n",
       " '__le__',\n",
       " '__lt__',\n",
       " '__module__',\n",
       " '__ne__',\n",
       " '__new__',\n",
       " '__reduce__',\n",
       " '__reduce_ex__',\n",
       " '__repr__',\n",
       " '__setattr__',\n",
       " '__setstate__',\n",
       " '__sizeof__',\n",
       " '__str__',\n",
       " '__subclasshook__',\n",
       " '__weakref__',\n",
       " '_check_n_features',\n",
       " '_estimator_type',\n",
       " '_get_param_names',\n",
       " '_get_tags',\n",
       " '_more_tags',\n",
       " '_predict_proba_lr',\n",
       " '_repr_html_',\n",
       " '_repr_html_inner',\n",
       " '_repr_mimebundle_',\n",
       " '_validate_data',\n",
       " 'class_weight',\n",
       " 'classes_',\n",
       " 'coef_',\n",
       " 'decision_function',\n",
       " 'densify',\n",
       " 'dual',\n",
       " 'fit',\n",
       " 'fit_intercept',\n",
       " 'get_params',\n",
       " 'intercept_',\n",
       " 'intercept_scaling',\n",
       " 'l1_ratio',\n",
       " 'max_iter',\n",
       " 'multi_class',\n",
       " 'n_features_in_',\n",
       " 'n_iter_',\n",
       " 'n_jobs',\n",
       " 'penalty',\n",
       " 'predict',\n",
       " 'predict_log_proba',\n",
       " 'predict_proba',\n",
       " 'random_state',\n",
       " 'score',\n",
       " 'set_params',\n",
       " 'solver',\n",
       " 'sparsify',\n",
       " 'tol',\n",
       " 'verbose',\n",
       " 'warm_start']"
      ]
     },
     "execution_count": 29,
     "metadata": {},
     "output_type": "execute_result"
    }
   ],
   "source": [
    "dir(lr)"
   ]
  },
  {
   "cell_type": "code",
   "execution_count": 30,
   "metadata": {},
   "outputs": [
    {
     "data": {
      "text/plain": [
       "array([[ 0.16451675,  0.20771019, -1.1461558 ,  2.28937528,  0.40493469,\n",
       "        -0.44166729, -0.28296602, -1.69669636, -0.47562027, -1.06905119,\n",
       "         0.48351112, -1.28872585, -0.15865538, -3.05450063,  0.18975049,\n",
       "        -0.35327218,  0.50218101, -0.12676744,  0.18476878, -1.14890747,\n",
       "        -0.24461674,  0.4403318 ,  0.18428411, -0.05846579,  0.16565968,\n",
       "        -0.36796149,  0.39864274,  0.45824242,  0.806339  ]])"
      ]
     },
     "execution_count": 30,
     "metadata": {},
     "output_type": "execute_result"
    }
   ],
   "source": [
    "lr.coef_"
   ]
  },
  {
   "cell_type": "code",
   "execution_count": 31,
   "metadata": {},
   "outputs": [
    {
     "data": {
      "text/plain": [
       "[<matplotlib.lines.Line2D at 0x7f9e49f9d160>]"
      ]
     },
     "execution_count": 31,
     "metadata": {},
     "output_type": "execute_result"
    },
    {
     "data": {
      "image/png": "[encoded data removed]",
      "text/plain": [
       "<Figure size 432x288 with 1 Axes>"
      ]
     },
     "metadata": {
      "needs_background": "light"
     },
     "output_type": "display_data"
    }
   ],
   "source": [
    "plt.plot(np.abs(lr.coef_)[0])"
   ]
  },
  {
   "cell_type": "code",
   "execution_count": 32,
   "metadata": {},
   "outputs": [
    {
     "data": {
      "text/plain": [
       "[<matplotlib.lines.Line2D at 0x7f9e4afda340>]"
      ]
     },
     "execution_count": 32,
     "metadata": {},
     "output_type": "execute_result"
    },
    {
     "data": {
      "image/png": "[encoded data removed]",
      "text/plain": [
       "<Figure size 432x288 with 1 Axes>"
      ]
     },
     "metadata": {
      "needs_background": "light"
     },
     "output_type": "display_data"
    }
   ],
   "source": [
    "# Looks like V3 and V14??\n",
    "plt.plot(credit.V3, credit.V14, 'o')\n",
    "plt.plot(fraud.V3, fraud.V14, 'o')"
   ]
  },
  {
   "cell_type": "code",
   "execution_count": 33,
   "metadata": {},
   "outputs": [
    {
     "data": {
      "text/plain": [
       "(array([ 3.,  5.,  1., 10., 22., 22., 19., 26., 38., 45., 54., 49., 64.,\n",
       "        43., 19., 22., 28., 17.,  4.,  1.]),\n",
       " array([-19.21432549, -18.08148812, -16.94865074, -15.81581337,\n",
       "        -14.68297599, -13.55013862, -12.41730124, -11.28446387,\n",
       "        -10.1516265 ,  -9.01878912,  -7.88595175,  -6.75311437,\n",
       "         -5.620277  ,  -4.48743962,  -3.35460225,  -2.22176488,\n",
       "         -1.0889275 ,   0.04390987,   1.17674725,   2.30958462,\n",
       "          3.442422  ]),\n",
       " <BarContainer object of 20 artists>)"
      ]
     },
     "execution_count": 33,
     "metadata": {},
     "output_type": "execute_result"
    },
    {
     "data": {
      "image/png": "[encoded data removed]",
      "text/plain": [
       "<Figure size 432x288 with 4 Axes>"
      ]
     },
     "metadata": {
      "needs_background": "light"
     },
     "output_type": "display_data"
    }
   ],
   "source": [
    "plt.subplot(221)\n",
    "plt.hist(credit.V3, bins=300)\n",
    "plt.subplot(222)\n",
    "plt.hist(credit.V14, bins=300)\n",
    "plt.subplot(223)\n",
    "plt.hist(fraud.V3,  bins=20, color=\"orange\")\n",
    "plt.subplot(224)\n",
    "plt.hist(fraud.V14,  bins=20, color=\"orange\")"
   ]
  },
  {
   "cell_type": "code",
   "execution_count": null,
   "metadata": {},
   "outputs": [],
   "source": [
    "# I can conclude that fraud has much larger variance than the non-fraud cases on\n",
    "# these two dimensions. "
   ]
  },
  {
   "cell_type": "code",
   "execution_count": null,
   "metadata": {},
   "outputs": [],
   "source": []
  }
 ],
 "metadata": {
  "kernelspec": {
   "display_name": "Python 3 (ipykernel)",
   "language": "python",
   "name": "python3"
  },
  "language_info": {
   "codemirror_mode": {
    "name": "ipython",
    "version": 3
   },
   "file_extension": ".py",
   "mimetype": "text/x-python",
   "name": "python",
   "nbconvert_exporter": "python",
   "pygments_lexer": "ipython3",
   "version": "3.10.9"
  }
 },
 "nbformat": 4,
 "nbformat_minor": 4
}
