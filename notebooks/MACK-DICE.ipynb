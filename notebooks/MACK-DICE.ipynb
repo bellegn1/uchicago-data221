{
 "cells": [
  {
   "cell_type": "code",
   "execution_count": 1,
   "metadata": {},
   "outputs": [],
   "source": [
    "import matplotlib.pyplot as plt\n",
    "import numpy as np\n",
    "import pandas as pd\n",
    "import scipy.stats"
   ]
  },
  {
   "cell_type": "code",
   "execution_count": 2,
   "metadata": {},
   "outputs": [],
   "source": [
    "PA=np.array([ 6,4,3,2,1,1,1,1,1,0])\n",
    "PB=np.array( [3,3,2,2,2,2,2,2,1,1])\n",
    "PE=np.array( [1,1,1,1,1,1,1,1,1,1])"
   ]
  },
  {
   "cell_type": "code",
   "execution_count": 3,
   "metadata": {},
   "outputs": [],
   "source": [
    "obs = np.array( [ 5,3,9,3,8,4,7]) -1  # observation indices"
   ]
  },
  {
   "cell_type": "code",
   "execution_count": 4,
   "metadata": {},
   "outputs": [
    {
     "data": {
      "text/plain": [
       "(array([0.3 , 0.2 , 0.15, 0.1 , 0.05, 0.05, 0.05, 0.05, 0.05, 0.  ]),\n",
       " array([0.15, 0.15, 0.1 , 0.1 , 0.1 , 0.1 , 0.1 , 0.1 , 0.05, 0.05]),\n",
       " array([0.1, 0.1, 0.1, 0.1, 0.1, 0.1, 0.1, 0.1, 0.1, 0.1]))"
      ]
     },
     "execution_count": 4,
     "metadata": {},
     "output_type": "execute_result"
    }
   ],
   "source": [
    "pA = PA / PA.sum()\n",
    "pB = PB / PB.sum()\n",
    "pE = PE / PE.sum()\n",
    "\n",
    "pA, pB, pE"
   ]
  },
  {
   "cell_type": "code",
   "execution_count": 5,
   "metadata": {},
   "outputs": [
    {
     "name": "stdout",
     "output_type": "stream",
     "text": [
      "[ 0.5849625  0.5849625  0.         0.         0.         0.\n",
      "  0.         0.        -1.        -1.       ]\n"
     ]
    },
    {
     "name": "stderr",
     "output_type": "stream",
     "text": [
      "<ipython-input-5-9620a84cb650>:1: RuntimeWarning: divide by zero encountered in log\n",
      "  log_AB = np.log(pA)/np.log(2) - np.log(pB)/np.log(2)\n"
     ]
    }
   ],
   "source": [
    "log_AB = np.log(pA)/np.log(2) - np.log(pB)/np.log(2)\n",
    "log_BE = np.log(pB)/np.log(2) - np.log(pE)/np.log(2)\n",
    "print(log_BE)"
   ]
  },
  {
   "cell_type": "code",
   "execution_count": 6,
   "metadata": {},
   "outputs": [
    {
     "data": {
      "text/plain": [
       "-1.8300749985576892"
      ]
     },
     "execution_count": 6,
     "metadata": {},
     "output_type": "execute_result"
    }
   ],
   "source": [
    "np.sum(log_AB[obs])"
   ]
  },
  {
   "cell_type": "code",
   "execution_count": 7,
   "metadata": {},
   "outputs": [
    {
     "data": {
      "text/plain": [
       "0.2812499999999997"
      ]
     },
     "execution_count": 7,
     "metadata": {},
     "output_type": "execute_result"
    }
   ],
   "source": [
    "# So if this is the log-odds, the odds is:\n",
    "np.power(2,-1.8300749985576892 )"
   ]
  },
  {
   "cell_type": "code",
   "execution_count": 8,
   "metadata": {},
   "outputs": [
    {
     "data": {
      "text/plain": [
       "0.28125"
      ]
     },
     "execution_count": 8,
     "metadata": {},
     "output_type": "execute_result"
    }
   ],
   "source": [
    "# Make sure this gives me the same number \n",
    "odds = (1.5* 1.5 * 1 * 1/2 * 1/2 * 1 * 1/2)\n",
    "odds"
   ]
  },
  {
   "cell_type": "code",
   "execution_count": 9,
   "metadata": {},
   "outputs": [
    {
     "data": {
      "text/plain": [
       "0.5625"
      ]
     },
     "execution_count": 9,
     "metadata": {},
     "output_type": "execute_result"
    }
   ],
   "source": [
    "# so probability is \n",
    "pApost = odds / 1+odds \n",
    "pApost"
   ]
  },
  {
   "cell_type": "code",
   "execution_count": 10,
   "metadata": {},
   "outputs": [
    {
     "data": {
      "text/plain": [
       "(0.5625, 0.4375, 0)"
      ]
     },
     "execution_count": 10,
     "metadata": {},
     "output_type": "execute_result"
    }
   ],
   "source": [
    "# So P(A, B, E) is \n",
    "(0.5625, 1-0.5625, 0 )  #(There was a 0 in the prior for E)"
   ]
  },
  {
   "cell_type": "code",
   "execution_count": 11,
   "metadata": {},
   "outputs": [
    {
     "name": "stdout",
     "output_type": "stream",
     "text": [
      "0.07548875021634678 -0.08300749985576887\n",
      "-0.003759374819711045\n"
     ]
    }
   ],
   "source": [
    "# In problem 4, we have seen a 10, so \n",
    "# postprobA = 0 \n",
    "\n",
    "avg_BEgB = np.dot(log_BE, pB)\n",
    "avg_BEgE = np.dot(log_BE, pE)\n",
    "print(avg_BEgB ,avg_BEgE)\n",
    "print((avg_BEgB +avg_BEgE )/ 2)"
   ]
  },
  {
   "cell_type": "code",
   "execution_count": 12,
   "metadata": {},
   "outputs": [
    {
     "data": {
      "text/plain": [
       "6.6293566200796095"
      ]
     },
     "execution_count": 12,
     "metadata": {},
     "output_type": "execute_result"
    }
   ],
   "source": [
    "threshold = np.log(99) / np.log(2) # How many bits in 99:1 ?\n",
    "threshold"
   ]
  },
  {
   "cell_type": "code",
   "execution_count": 13,
   "metadata": {},
   "outputs": [
    {
     "data": {
      "text/plain": [
       "(87.81913332887646, 79.86454996956375)"
      ]
     },
     "execution_count": 13,
     "metadata": {},
     "output_type": "execute_result"
    }
   ],
   "source": [
    "# How many rolls (if B)\n",
    "threshold  / 0.07548875021634678, -threshold/-0.08300749985576887 "
   ]
  },
  {
   "cell_type": "code",
   "execution_count": 14,
   "metadata": {},
   "outputs": [],
   "source": [
    "# So if B is true, it will take me an average of \n",
    "# 87.8 rolls; if E is true I will know it on average\n",
    "# after 79.9 rolls\n"
   ]
  },
  {
   "cell_type": "code",
   "execution_count": 15,
   "metadata": {},
   "outputs": [],
   "source": [
    "# The -infinity here is becuase the roll of 10 completely \n",
    "# rules out dice A.  P(10 | A ) is zero."
   ]
  },
  {
   "cell_type": "code",
   "execution_count": null,
   "metadata": {},
   "outputs": [],
   "source": []
  },
  {
   "cell_type": "code",
   "execution_count": null,
   "metadata": {},
   "outputs": [],
   "source": []
  },
  {
   "cell_type": "code",
   "execution_count": 16,
   "metadata": {},
   "outputs": [],
   "source": [
    "# 25% chance of dice B after the above set of 8 rolls\n"
   ]
  },
  {
   "cell_type": "code",
   "execution_count": 19,
   "metadata": {},
   "outputs": [
    {
     "data": {
      "text/plain": [
       "9.133837522355835"
      ]
     },
     "execution_count": 19,
     "metadata": {},
     "output_type": "execute_result"
    }
   ],
   "source": [
    "# halfhearted simulation\n",
    "s = []\n",
    "n=100\n",
    "for h in range(1000):\n",
    "    # Generate n random rolls from weighted pB distribution\n",
    "    rolls = [np.where(np.random.multinomial(1,pB))[0][0] for i in range(n)]\n",
    "    score = log_BE[rolls].sum() \n",
    "    s.append(score)\n",
    "score"
   ]
  },
  {
   "cell_type": "code",
   "execution_count": 20,
   "metadata": {},
   "outputs": [
    {
     "data": {
      "text/plain": [
       "Text(0.5, 1.0, 'After 100 rolls..')"
      ]
     },
     "execution_count": 20,
     "metadata": {},
     "output_type": "execute_result"
    },
    {
     "data": {
      "image/png": "[encoded data removed]",
      "text/plain": [
       "<Figure size 432x288 with 1 Axes>"
      ]
     },
     "metadata": {
      "needs_background": "light"
     },
     "output_type": "display_data"
    }
   ],
   "source": [
    "plt.hist(s, bins=30)\n",
    "plt.xlabel(\"Log-odds B:E (bits)\")\n",
    "plt.ylabel(\"Number of simulations\")\n",
    "plt.title(\"After 100 rolls..\")"
   ]
  },
  {
   "cell_type": "code",
   "execution_count": null,
   "metadata": {},
   "outputs": [],
   "source": [
    "# What?  This has a mode around 8, after 100\n",
    "# rolls, that's only .08 bits per roll... \n",
    "\n",
    "# Wait, that's the right answer.\n",
    "# I am surprised that such a large fraciton \n",
    "# of the time the result will still be\n",
    "# ambiguous after 100 rolls."
   ]
  },
  {
   "cell_type": "code",
   "execution_count": 21,
   "metadata": {},
   "outputs": [
    {
     "data": {
      "text/plain": [
       "100.94288773293337"
      ]
     },
     "execution_count": 21,
     "metadata": {},
     "output_type": "execute_result"
    }
   ],
   "source": [
    "# halfhearted setup of simulation\n",
    "s2 = []\n",
    "n=1000\n",
    "for h in range(1000):\n",
    "    rolls = [np.where(np.random.multinomial(1,pB))[0][0] for i in range(n)]\n",
    "    score = log_BE[rolls].sum() \n",
    "    s2.append(score)\n",
    "score"
   ]
  },
  {
   "cell_type": "code",
   "execution_count": 23,
   "metadata": {},
   "outputs": [
    {
     "data": {
      "text/plain": [
       "Text(0.5, 1.0, 'After 1000 rolls, the CLT destroys everything')"
      ]
     },
     "execution_count": 23,
     "metadata": {},
     "output_type": "execute_result"
    },
    {
     "data": {
      "image/png": "[encoded data removed]",
      "text/plain": [
       "<Figure size 432x288 with 1 Axes>"
      ]
     },
     "metadata": {
      "needs_background": "light"
     },
     "output_type": "display_data"
    }
   ],
   "source": [
    "plt.hist(s2, bins=30)\n",
    "plt.xlabel(\"Log-odds B:E (bits)\")\n",
    "plt.ylabel(\"Number of simulations\")\n",
    "plt.title(\"After 1000 rolls, the CLT destroys everything\")"
   ]
  },
  {
   "cell_type": "code",
   "execution_count": null,
   "metadata": {},
   "outputs": [],
   "source": []
  }
 ],
 "metadata": {
  "kernelspec": {
   "display_name": "Python 3",
   "language": "python",
   "name": "python3"
  },
  "language_info": {
   "codemirror_mode": {
    "name": "ipython",
    "version": 3
   },
   "file_extension": ".py",
   "mimetype": "text/x-python",
   "name": "python",
   "nbconvert_exporter": "python",
   "pygments_lexer": "ipython3",
   "version": "3.8.5"
  }
 },
 "nbformat": 4,
 "nbformat_minor": 4
}
