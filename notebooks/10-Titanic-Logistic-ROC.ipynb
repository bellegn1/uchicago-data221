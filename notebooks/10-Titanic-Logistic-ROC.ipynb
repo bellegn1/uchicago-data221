{
 "cells": [
  {
   "cell_type": "code",
   "execution_count": 1,
   "id": "db502686-218d-49f3-a9ed-b6d7b370d9c3",
   "metadata": {},
   "outputs": [],
   "source": [
    "import pandas as pd\n",
    "import numpy as np\n",
    "%matplotlib inline\n",
    "import matplotlib.pyplot as plt\n",
    "plt.style.use('fivethirtyeight')"
   ]
  },
  {
   "cell_type": "code",
   "execution_count": null,
   "id": "e6904216-61eb-4169-9a49-9265f0f9e04d",
   "metadata": {},
   "outputs": [],
   "source": [
    "# This workbook throws sklearn.linear_model.LogisiticRegression at\n",
    "# the 2016 version of the titanic survivors dataset containing the\n",
    "# crew as well as the passengers.\n",
    "\n",
    "# LogisticRegression, confusion matrices, and ROC curves.\n"
   ]
  },
  {
   "cell_type": "code",
   "execution_count": null,
   "id": "c0011c86-88a7-4b90-8569-af5fd2b38625",
   "metadata": {},
   "outputs": [],
   "source": [
    "# This dataset was included in the R package DALEX; it appears to date to \n",
    "# 2016, where it was created by augmenting an older titanic3 dataset with the crew fates.\n",
    "\n",
    "# Since the authors of DALEX were not trying to improve on the recordkeeping\n",
    "# of early-20th-century ocean liners, I am unsure who precisely to credit the\n",
    "# compilation of the dataset to.\n",
    "\n",
    "# https://cran.r-project.org/web/packages/DALEX/index.html\n",
    "\n",
    "# https://modeloriented.github.io/EIX/reference/titanic_data.html"
   ]
  },
  {
   "cell_type": "code",
   "execution_count": null,
   "id": "08dac3b1-a03d-4172-ad11-ff4006508496",
   "metadata": {},
   "outputs": [],
   "source": [
    "# I've taken some inspiration from the linkedin / blog post by Murilo Gustineli\n",
    "#  Murilo Gustineli  \"What I learned analyzing the famous Titanic dataset\"  Nov 9, 2020.\n",
    "\n",
    "# https://www.linkedin.com/pulse/what-i-learned-analyzing-famous-titanic-dateset-murilo-gustineli \n"
   ]
  },
  {
   "cell_type": "code",
   "execution_count": 3,
   "id": "2b3901c4-024d-44db-ab95-2b7a1fa2c72d",
   "metadata": {},
   "outputs": [
    {
     "data": {
      "text/html": [
       "<div>\n",
       "<style scoped>\n",
       "    .dataframe tbody tr th:only-of-type {\n",
       "        vertical-align: middle;\n",
       "    }\n",
       "\n",
       "    .dataframe tbody tr th {\n",
       "        vertical-align: top;\n",
       "    }\n",
       "\n",
       "    .dataframe thead th {\n",
       "        text-align: right;\n",
       "    }\n",
       "</style>\n",
       "<table border=\"1\" class=\"dataframe\">\n",
       "  <thead>\n",
       "    <tr style=\"text-align: right;\">\n",
       "      <th></th>\n",
       "      <th>Unnamed: 0</th>\n",
       "      <th>gender</th>\n",
       "      <th>age</th>\n",
       "      <th>class</th>\n",
       "      <th>embarked</th>\n",
       "      <th>country</th>\n",
       "      <th>fare</th>\n",
       "      <th>sibsp</th>\n",
       "      <th>parch</th>\n",
       "      <th>survived</th>\n",
       "    </tr>\n",
       "  </thead>\n",
       "  <tbody>\n",
       "    <tr>\n",
       "      <th>0</th>\n",
       "      <td>1</td>\n",
       "      <td>male</td>\n",
       "      <td>42.0</td>\n",
       "      <td>3rd</td>\n",
       "      <td>Southampton</td>\n",
       "      <td>United States</td>\n",
       "      <td>7.11</td>\n",
       "      <td>0.0</td>\n",
       "      <td>0.0</td>\n",
       "      <td>no</td>\n",
       "    </tr>\n",
       "    <tr>\n",
       "      <th>1</th>\n",
       "      <td>2</td>\n",
       "      <td>male</td>\n",
       "      <td>13.0</td>\n",
       "      <td>3rd</td>\n",
       "      <td>Southampton</td>\n",
       "      <td>United States</td>\n",
       "      <td>20.05</td>\n",
       "      <td>0.0</td>\n",
       "      <td>2.0</td>\n",
       "      <td>no</td>\n",
       "    </tr>\n",
       "    <tr>\n",
       "      <th>2</th>\n",
       "      <td>3</td>\n",
       "      <td>male</td>\n",
       "      <td>16.0</td>\n",
       "      <td>3rd</td>\n",
       "      <td>Southampton</td>\n",
       "      <td>United States</td>\n",
       "      <td>20.05</td>\n",
       "      <td>1.0</td>\n",
       "      <td>1.0</td>\n",
       "      <td>no</td>\n",
       "    </tr>\n",
       "    <tr>\n",
       "      <th>3</th>\n",
       "      <td>4</td>\n",
       "      <td>female</td>\n",
       "      <td>39.0</td>\n",
       "      <td>3rd</td>\n",
       "      <td>Southampton</td>\n",
       "      <td>England</td>\n",
       "      <td>20.05</td>\n",
       "      <td>1.0</td>\n",
       "      <td>1.0</td>\n",
       "      <td>yes</td>\n",
       "    </tr>\n",
       "    <tr>\n",
       "      <th>4</th>\n",
       "      <td>5</td>\n",
       "      <td>female</td>\n",
       "      <td>16.0</td>\n",
       "      <td>3rd</td>\n",
       "      <td>Southampton</td>\n",
       "      <td>Norway</td>\n",
       "      <td>7.13</td>\n",
       "      <td>0.0</td>\n",
       "      <td>0.0</td>\n",
       "      <td>yes</td>\n",
       "    </tr>\n",
       "    <tr>\n",
       "      <th>...</th>\n",
       "      <td>...</td>\n",
       "      <td>...</td>\n",
       "      <td>...</td>\n",
       "      <td>...</td>\n",
       "      <td>...</td>\n",
       "      <td>...</td>\n",
       "      <td>...</td>\n",
       "      <td>...</td>\n",
       "      <td>...</td>\n",
       "      <td>...</td>\n",
       "    </tr>\n",
       "    <tr>\n",
       "      <th>2202</th>\n",
       "      <td>2203</td>\n",
       "      <td>male</td>\n",
       "      <td>41.0</td>\n",
       "      <td>deck crew</td>\n",
       "      <td>Belfast</td>\n",
       "      <td>England</td>\n",
       "      <td>0.00</td>\n",
       "      <td>0.0</td>\n",
       "      <td>0.0</td>\n",
       "      <td>yes</td>\n",
       "    </tr>\n",
       "    <tr>\n",
       "      <th>2203</th>\n",
       "      <td>2204</td>\n",
       "      <td>male</td>\n",
       "      <td>40.0</td>\n",
       "      <td>victualling crew</td>\n",
       "      <td>Southampton</td>\n",
       "      <td>England</td>\n",
       "      <td>0.00</td>\n",
       "      <td>0.0</td>\n",
       "      <td>0.0</td>\n",
       "      <td>yes</td>\n",
       "    </tr>\n",
       "    <tr>\n",
       "      <th>2204</th>\n",
       "      <td>2205</td>\n",
       "      <td>male</td>\n",
       "      <td>32.0</td>\n",
       "      <td>engineering crew</td>\n",
       "      <td>Southampton</td>\n",
       "      <td>England</td>\n",
       "      <td>0.00</td>\n",
       "      <td>0.0</td>\n",
       "      <td>0.0</td>\n",
       "      <td>no</td>\n",
       "    </tr>\n",
       "    <tr>\n",
       "      <th>2205</th>\n",
       "      <td>2206</td>\n",
       "      <td>male</td>\n",
       "      <td>20.0</td>\n",
       "      <td>restaurant staff</td>\n",
       "      <td>Southampton</td>\n",
       "      <td>England</td>\n",
       "      <td>0.00</td>\n",
       "      <td>0.0</td>\n",
       "      <td>0.0</td>\n",
       "      <td>no</td>\n",
       "    </tr>\n",
       "    <tr>\n",
       "      <th>2206</th>\n",
       "      <td>2207</td>\n",
       "      <td>male</td>\n",
       "      <td>26.0</td>\n",
       "      <td>restaurant staff</td>\n",
       "      <td>Southampton</td>\n",
       "      <td>England</td>\n",
       "      <td>0.00</td>\n",
       "      <td>0.0</td>\n",
       "      <td>0.0</td>\n",
       "      <td>no</td>\n",
       "    </tr>\n",
       "  </tbody>\n",
       "</table>\n",
       "<p>2207 rows × 10 columns</p>\n",
       "</div>"
      ],
      "text/plain": [
       "      Unnamed: 0  gender   age             class     embarked        country  \\\n",
       "0              1    male  42.0               3rd  Southampton  United States   \n",
       "1              2    male  13.0               3rd  Southampton  United States   \n",
       "2              3    male  16.0               3rd  Southampton  United States   \n",
       "3              4  female  39.0               3rd  Southampton        England   \n",
       "4              5  female  16.0               3rd  Southampton         Norway   \n",
       "...          ...     ...   ...               ...          ...            ...   \n",
       "2202        2203    male  41.0         deck crew      Belfast        England   \n",
       "2203        2204    male  40.0  victualling crew  Southampton        England   \n",
       "2204        2205    male  32.0  engineering crew  Southampton        England   \n",
       "2205        2206    male  20.0  restaurant staff  Southampton        England   \n",
       "2206        2207    male  26.0  restaurant staff  Southampton        England   \n",
       "\n",
       "       fare  sibsp  parch survived  \n",
       "0      7.11    0.0    0.0       no  \n",
       "1     20.05    0.0    2.0       no  \n",
       "2     20.05    1.0    1.0       no  \n",
       "3     20.05    1.0    1.0      yes  \n",
       "4      7.13    0.0    0.0      yes  \n",
       "...     ...    ...    ...      ...  \n",
       "2202   0.00    0.0    0.0      yes  \n",
       "2203   0.00    0.0    0.0      yes  \n",
       "2204   0.00    0.0    0.0       no  \n",
       "2205   0.00    0.0    0.0       no  \n",
       "2206   0.00    0.0    0.0       no  \n",
       "\n",
       "[2207 rows x 10 columns]"
      ]
     },
     "execution_count": 3,
     "metadata": {},
     "output_type": "execute_result"
    }
   ],
   "source": [
    "titanic=pd.read_csv(\"../data/titanic_data.csv\")\n",
    "titanic"
   ]
  },
  {
   "cell_type": "code",
   "execution_count": 4,
   "id": "fd0b5593-ce77-4eff-b5d3-f4090ecd59ec",
   "metadata": {},
   "outputs": [
    {
     "data": {
      "text/html": [
       "<div>\n",
       "<style scoped>\n",
       "    .dataframe tbody tr th:only-of-type {\n",
       "        vertical-align: middle;\n",
       "    }\n",
       "\n",
       "    .dataframe tbody tr th {\n",
       "        vertical-align: top;\n",
       "    }\n",
       "\n",
       "    .dataframe thead th {\n",
       "        text-align: right;\n",
       "    }\n",
       "</style>\n",
       "<table border=\"1\" class=\"dataframe\">\n",
       "  <thead>\n",
       "    <tr style=\"text-align: right;\">\n",
       "      <th></th>\n",
       "      <th>Unnamed: 0</th>\n",
       "      <th>gender</th>\n",
       "      <th>age</th>\n",
       "      <th>embarked</th>\n",
       "      <th>country</th>\n",
       "      <th>fare</th>\n",
       "      <th>sibsp</th>\n",
       "      <th>parch</th>\n",
       "      <th>survived</th>\n",
       "      <th>Class</th>\n",
       "    </tr>\n",
       "  </thead>\n",
       "  <tbody>\n",
       "    <tr>\n",
       "      <th>0</th>\n",
       "      <td>1</td>\n",
       "      <td>male</td>\n",
       "      <td>42.0</td>\n",
       "      <td>Southampton</td>\n",
       "      <td>United States</td>\n",
       "      <td>7.11</td>\n",
       "      <td>0.0</td>\n",
       "      <td>0.0</td>\n",
       "      <td>no</td>\n",
       "      <td>3rd</td>\n",
       "    </tr>\n",
       "  </tbody>\n",
       "</table>\n",
       "</div>"
      ],
      "text/plain": [
       "   Unnamed: 0 gender   age     embarked        country  fare  sibsp  parch  \\\n",
       "0           1   male  42.0  Southampton  United States  7.11    0.0    0.0   \n",
       "\n",
       "  survived Class  \n",
       "0       no   3rd  "
      ]
     },
     "execution_count": 4,
     "metadata": {},
     "output_type": "execute_result"
    }
   ],
   "source": [
    "# A field named lower-case class is not going to play nicely \n",
    "# with python attribute syntax:\n",
    "titanic[\"Class\"] = titanic[\"class\"]\n",
    "titanic = titanic.drop(\"class\", axis=1)\n",
    "titanic.head(1)"
   ]
  },
  {
   "cell_type": "code",
   "execution_count": 5,
   "id": "c7382cc9-189a-4e9b-9b6c-7d8c91e965d6",
   "metadata": {},
   "outputs": [],
   "source": [
    "#convert gender into a number.\n",
    "titanic[\"Gender\" ] = (titanic [\"gender\"] == \"male\") * 1.0\n",
    "titanic = titanic.drop(\"gender\", axis=1 )"
   ]
  },
  {
   "cell_type": "code",
   "execution_count": 6,
   "id": "0810a070-a5d9-44d3-9a74-3d9379abc590",
   "metadata": {},
   "outputs": [
    {
     "data": {
      "text/html": [
       "<div>\n",
       "<style scoped>\n",
       "    .dataframe tbody tr th:only-of-type {\n",
       "        vertical-align: middle;\n",
       "    }\n",
       "\n",
       "    .dataframe tbody tr th {\n",
       "        vertical-align: top;\n",
       "    }\n",
       "\n",
       "    .dataframe thead th {\n",
       "        text-align: right;\n",
       "    }\n",
       "</style>\n",
       "<table border=\"1\" class=\"dataframe\">\n",
       "  <thead>\n",
       "    <tr style=\"text-align: right;\">\n",
       "      <th></th>\n",
       "      <th>Unnamed: 0</th>\n",
       "      <th>age</th>\n",
       "      <th>embarked</th>\n",
       "      <th>country</th>\n",
       "      <th>fare</th>\n",
       "      <th>sibsp</th>\n",
       "      <th>parch</th>\n",
       "      <th>survived</th>\n",
       "      <th>Class</th>\n",
       "      <th>Gender</th>\n",
       "    </tr>\n",
       "  </thead>\n",
       "  <tbody>\n",
       "    <tr>\n",
       "      <th>0</th>\n",
       "      <td>1</td>\n",
       "      <td>42.0</td>\n",
       "      <td>Southampton</td>\n",
       "      <td>United States</td>\n",
       "      <td>7.11</td>\n",
       "      <td>0.0</td>\n",
       "      <td>0.0</td>\n",
       "      <td>no</td>\n",
       "      <td>3rd</td>\n",
       "      <td>1.0</td>\n",
       "    </tr>\n",
       "  </tbody>\n",
       "</table>\n",
       "</div>"
      ],
      "text/plain": [
       "   Unnamed: 0   age     embarked        country  fare  sibsp  parch survived  \\\n",
       "0           1  42.0  Southampton  United States  7.11    0.0    0.0       no   \n",
       "\n",
       "  Class  Gender  \n",
       "0   3rd     1.0  "
      ]
     },
     "execution_count": 6,
     "metadata": {},
     "output_type": "execute_result"
    }
   ],
   "source": [
    "titanic.head(1)"
   ]
  },
  {
   "cell_type": "code",
   "execution_count": 7,
   "id": "73168668-dd38-431c-95ff-d65a80e6cb1e",
   "metadata": {},
   "outputs": [],
   "source": [
    "# remove nuisance index\n",
    "titanic=titanic.drop(\"Unnamed: 0\", axis=1)"
   ]
  },
  {
   "cell_type": "code",
   "execution_count": 8,
   "id": "fd46cc01-5ae5-40b9-b5b1-2a5b58d9e5b4",
   "metadata": {},
   "outputs": [],
   "source": [
    "# convert survived into a number\n",
    "titanic[\"Survived\"] = (titanic.survived == \"yes\" )*1.0\n",
    "titanic = titanic.drop(\"survived\", axis=1)"
   ]
  },
  {
   "cell_type": "code",
   "execution_count": 9,
   "id": "9f256a9d-57d3-4267-b336-8bf0240d802d",
   "metadata": {},
   "outputs": [
    {
     "data": {
      "text/plain": [
       "0.0    1496\n",
       "1.0     711\n",
       "Name: Survived, dtype: int64"
      ]
     },
     "execution_count": 9,
     "metadata": {},
     "output_type": "execute_result"
    }
   ],
   "source": [
    "titanic.Survived.value_counts()"
   ]
  },
  {
   "cell_type": "code",
   "execution_count": 10,
   "id": "1610f5cd-323f-407d-a41f-ebf055fa3816",
   "metadata": {},
   "outputs": [
    {
     "data": {
      "text/plain": [
       "3rd                 709\n",
       "victualling crew    431\n",
       "1st                 324\n",
       "engineering crew    324\n",
       "2nd                 284\n",
       "restaurant staff     69\n",
       "deck crew            66\n",
       "Name: Class, dtype: int64"
      ]
     },
     "execution_count": 10,
     "metadata": {},
     "output_type": "execute_result"
    }
   ],
   "source": [
    "titanic[\"Class\"].value_counts()"
   ]
  },
  {
   "cell_type": "code",
   "execution_count": 11,
   "id": "992024ca-2b5b-4fb7-bf45-29cb582a588d",
   "metadata": {},
   "outputs": [
    {
     "data": {
      "text/plain": [
       "Class             Survived\n",
       "1st               0.0         123\n",
       "                  1.0         201\n",
       "2nd               0.0         166\n",
       "                  1.0         118\n",
       "3rd               0.0         528\n",
       "                  1.0         181\n",
       "deck crew         0.0          23\n",
       "                  1.0          43\n",
       "engineering crew  0.0         253\n",
       "                  1.0          71\n",
       "restaurant staff  0.0          66\n",
       "                  1.0           3\n",
       "victualling crew  0.0         337\n",
       "                  1.0          94\n",
       "Name: Survived, dtype: int64"
      ]
     },
     "execution_count": 11,
     "metadata": {},
     "output_type": "execute_result"
    }
   ],
   "source": [
    "titanic.groupby([\"Class\", \"Survived\"]).Survived.count()"
   ]
  },
  {
   "cell_type": "code",
   "execution_count": 12,
   "id": "deb5372c-4fdb-430d-b7cc-50e2135107e0",
   "metadata": {},
   "outputs": [
    {
     "data": {
      "text/html": [
       "<div>\n",
       "<style scoped>\n",
       "    .dataframe tbody tr th:only-of-type {\n",
       "        vertical-align: middle;\n",
       "    }\n",
       "\n",
       "    .dataframe tbody tr th {\n",
       "        vertical-align: top;\n",
       "    }\n",
       "\n",
       "    .dataframe thead th {\n",
       "        text-align: right;\n",
       "    }\n",
       "</style>\n",
       "<table border=\"1\" class=\"dataframe\">\n",
       "  <thead>\n",
       "    <tr style=\"text-align: right;\">\n",
       "      <th></th>\n",
       "      <th>age</th>\n",
       "      <th>fare</th>\n",
       "      <th>sibsp</th>\n",
       "      <th>parch</th>\n",
       "      <th>Gender</th>\n",
       "      <th>Survived</th>\n",
       "    </tr>\n",
       "  </thead>\n",
       "  <tbody>\n",
       "    <tr>\n",
       "      <th>count</th>\n",
       "      <td>2205.000000</td>\n",
       "      <td>2181.000000</td>\n",
       "      <td>2197.000000</td>\n",
       "      <td>2197.000000</td>\n",
       "      <td>2207.000000</td>\n",
       "      <td>2207.000000</td>\n",
       "    </tr>\n",
       "    <tr>\n",
       "      <th>mean</th>\n",
       "      <td>30.436735</td>\n",
       "      <td>19.773290</td>\n",
       "      <td>0.297223</td>\n",
       "      <td>0.229404</td>\n",
       "      <td>0.778432</td>\n",
       "      <td>0.322157</td>\n",
       "    </tr>\n",
       "    <tr>\n",
       "      <th>std</th>\n",
       "      <td>12.159677</td>\n",
       "      <td>43.402454</td>\n",
       "      <td>0.840384</td>\n",
       "      <td>0.694232</td>\n",
       "      <td>0.415396</td>\n",
       "      <td>0.467409</td>\n",
       "    </tr>\n",
       "    <tr>\n",
       "      <th>min</th>\n",
       "      <td>0.166667</td>\n",
       "      <td>0.000000</td>\n",
       "      <td>0.000000</td>\n",
       "      <td>0.000000</td>\n",
       "      <td>0.000000</td>\n",
       "      <td>0.000000</td>\n",
       "    </tr>\n",
       "    <tr>\n",
       "      <th>25%</th>\n",
       "      <td>22.000000</td>\n",
       "      <td>0.000000</td>\n",
       "      <td>0.000000</td>\n",
       "      <td>0.000000</td>\n",
       "      <td>1.000000</td>\n",
       "      <td>0.000000</td>\n",
       "    </tr>\n",
       "    <tr>\n",
       "      <th>50%</th>\n",
       "      <td>29.000000</td>\n",
       "      <td>7.150600</td>\n",
       "      <td>0.000000</td>\n",
       "      <td>0.000000</td>\n",
       "      <td>1.000000</td>\n",
       "      <td>0.000000</td>\n",
       "    </tr>\n",
       "    <tr>\n",
       "      <th>75%</th>\n",
       "      <td>38.000000</td>\n",
       "      <td>20.110600</td>\n",
       "      <td>0.000000</td>\n",
       "      <td>0.000000</td>\n",
       "      <td>1.000000</td>\n",
       "      <td>1.000000</td>\n",
       "    </tr>\n",
       "    <tr>\n",
       "      <th>max</th>\n",
       "      <td>74.000000</td>\n",
       "      <td>512.060700</td>\n",
       "      <td>8.000000</td>\n",
       "      <td>9.000000</td>\n",
       "      <td>1.000000</td>\n",
       "      <td>1.000000</td>\n",
       "    </tr>\n",
       "  </tbody>\n",
       "</table>\n",
       "</div>"
      ],
      "text/plain": [
       "               age         fare        sibsp        parch       Gender  \\\n",
       "count  2205.000000  2181.000000  2197.000000  2197.000000  2207.000000   \n",
       "mean     30.436735    19.773290     0.297223     0.229404     0.778432   \n",
       "std      12.159677    43.402454     0.840384     0.694232     0.415396   \n",
       "min       0.166667     0.000000     0.000000     0.000000     0.000000   \n",
       "25%      22.000000     0.000000     0.000000     0.000000     1.000000   \n",
       "50%      29.000000     7.150600     0.000000     0.000000     1.000000   \n",
       "75%      38.000000    20.110600     0.000000     0.000000     1.000000   \n",
       "max      74.000000   512.060700     8.000000     9.000000     1.000000   \n",
       "\n",
       "          Survived  \n",
       "count  2207.000000  \n",
       "mean      0.322157  \n",
       "std       0.467409  \n",
       "min       0.000000  \n",
       "25%       0.000000  \n",
       "50%       0.000000  \n",
       "75%       1.000000  \n",
       "max       1.000000  "
      ]
     },
     "execution_count": 12,
     "metadata": {},
     "output_type": "execute_result"
    }
   ],
   "source": [
    "titanic.describe()"
   ]
  },
  {
   "cell_type": "code",
   "execution_count": 14,
   "id": "0a07d93f-9822-405b-bde9-441799f7d8f2",
   "metadata": {},
   "outputs": [
    {
     "data": {
      "text/html": [
       "<div>\n",
       "<style scoped>\n",
       "    .dataframe tbody tr th:only-of-type {\n",
       "        vertical-align: middle;\n",
       "    }\n",
       "\n",
       "    .dataframe tbody tr th {\n",
       "        vertical-align: top;\n",
       "    }\n",
       "\n",
       "    .dataframe thead th {\n",
       "        text-align: right;\n",
       "    }\n",
       "</style>\n",
       "<table border=\"1\" class=\"dataframe\">\n",
       "  <thead>\n",
       "    <tr style=\"text-align: right;\">\n",
       "      <th></th>\n",
       "      <th>age</th>\n",
       "      <th>embarked</th>\n",
       "      <th>country</th>\n",
       "      <th>fare</th>\n",
       "      <th>sibsp</th>\n",
       "      <th>parch</th>\n",
       "      <th>Class</th>\n",
       "      <th>Gender</th>\n",
       "      <th>Survived</th>\n",
       "    </tr>\n",
       "  </thead>\n",
       "  <tbody>\n",
       "    <tr>\n",
       "      <th>0</th>\n",
       "      <td>False</td>\n",
       "      <td>False</td>\n",
       "      <td>False</td>\n",
       "      <td>False</td>\n",
       "      <td>False</td>\n",
       "      <td>False</td>\n",
       "      <td>False</td>\n",
       "      <td>False</td>\n",
       "      <td>False</td>\n",
       "    </tr>\n",
       "    <tr>\n",
       "      <th>1</th>\n",
       "      <td>False</td>\n",
       "      <td>False</td>\n",
       "      <td>False</td>\n",
       "      <td>False</td>\n",
       "      <td>False</td>\n",
       "      <td>False</td>\n",
       "      <td>False</td>\n",
       "      <td>False</td>\n",
       "      <td>False</td>\n",
       "    </tr>\n",
       "    <tr>\n",
       "      <th>2</th>\n",
       "      <td>False</td>\n",
       "      <td>False</td>\n",
       "      <td>False</td>\n",
       "      <td>False</td>\n",
       "      <td>False</td>\n",
       "      <td>False</td>\n",
       "      <td>False</td>\n",
       "      <td>False</td>\n",
       "      <td>False</td>\n",
       "    </tr>\n",
       "    <tr>\n",
       "      <th>3</th>\n",
       "      <td>False</td>\n",
       "      <td>False</td>\n",
       "      <td>False</td>\n",
       "      <td>False</td>\n",
       "      <td>False</td>\n",
       "      <td>False</td>\n",
       "      <td>False</td>\n",
       "      <td>False</td>\n",
       "      <td>False</td>\n",
       "    </tr>\n",
       "    <tr>\n",
       "      <th>4</th>\n",
       "      <td>False</td>\n",
       "      <td>False</td>\n",
       "      <td>False</td>\n",
       "      <td>False</td>\n",
       "      <td>False</td>\n",
       "      <td>False</td>\n",
       "      <td>False</td>\n",
       "      <td>False</td>\n",
       "      <td>False</td>\n",
       "    </tr>\n",
       "    <tr>\n",
       "      <th>...</th>\n",
       "      <td>...</td>\n",
       "      <td>...</td>\n",
       "      <td>...</td>\n",
       "      <td>...</td>\n",
       "      <td>...</td>\n",
       "      <td>...</td>\n",
       "      <td>...</td>\n",
       "      <td>...</td>\n",
       "      <td>...</td>\n",
       "    </tr>\n",
       "    <tr>\n",
       "      <th>2202</th>\n",
       "      <td>False</td>\n",
       "      <td>False</td>\n",
       "      <td>False</td>\n",
       "      <td>False</td>\n",
       "      <td>False</td>\n",
       "      <td>False</td>\n",
       "      <td>False</td>\n",
       "      <td>False</td>\n",
       "      <td>False</td>\n",
       "    </tr>\n",
       "    <tr>\n",
       "      <th>2203</th>\n",
       "      <td>False</td>\n",
       "      <td>False</td>\n",
       "      <td>False</td>\n",
       "      <td>False</td>\n",
       "      <td>False</td>\n",
       "      <td>False</td>\n",
       "      <td>False</td>\n",
       "      <td>False</td>\n",
       "      <td>False</td>\n",
       "    </tr>\n",
       "    <tr>\n",
       "      <th>2204</th>\n",
       "      <td>False</td>\n",
       "      <td>False</td>\n",
       "      <td>False</td>\n",
       "      <td>False</td>\n",
       "      <td>False</td>\n",
       "      <td>False</td>\n",
       "      <td>False</td>\n",
       "      <td>False</td>\n",
       "      <td>False</td>\n",
       "    </tr>\n",
       "    <tr>\n",
       "      <th>2205</th>\n",
       "      <td>False</td>\n",
       "      <td>False</td>\n",
       "      <td>False</td>\n",
       "      <td>False</td>\n",
       "      <td>False</td>\n",
       "      <td>False</td>\n",
       "      <td>False</td>\n",
       "      <td>False</td>\n",
       "      <td>False</td>\n",
       "    </tr>\n",
       "    <tr>\n",
       "      <th>2206</th>\n",
       "      <td>False</td>\n",
       "      <td>False</td>\n",
       "      <td>False</td>\n",
       "      <td>False</td>\n",
       "      <td>False</td>\n",
       "      <td>False</td>\n",
       "      <td>False</td>\n",
       "      <td>False</td>\n",
       "      <td>False</td>\n",
       "    </tr>\n",
       "  </tbody>\n",
       "</table>\n",
       "<p>2207 rows × 9 columns</p>\n",
       "</div>"
      ],
      "text/plain": [
       "        age  embarked  country   fare  sibsp  parch  Class  Gender  Survived\n",
       "0     False     False    False  False  False  False  False   False     False\n",
       "1     False     False    False  False  False  False  False   False     False\n",
       "2     False     False    False  False  False  False  False   False     False\n",
       "3     False     False    False  False  False  False  False   False     False\n",
       "4     False     False    False  False  False  False  False   False     False\n",
       "...     ...       ...      ...    ...    ...    ...    ...     ...       ...\n",
       "2202  False     False    False  False  False  False  False   False     False\n",
       "2203  False     False    False  False  False  False  False   False     False\n",
       "2204  False     False    False  False  False  False  False   False     False\n",
       "2205  False     False    False  False  False  False  False   False     False\n",
       "2206  False     False    False  False  False  False  False   False     False\n",
       "\n",
       "[2207 rows x 9 columns]"
      ]
     },
     "execution_count": 14,
     "metadata": {},
     "output_type": "execute_result"
    }
   ],
   "source": [
    "titanic.isnull()"
   ]
  },
  {
   "cell_type": "code",
   "execution_count": 13,
   "id": "35a774a2-c2db-46ac-8cd1-1c6875274cea",
   "metadata": {},
   "outputs": [
    {
     "data": {
      "text/plain": [
       "0    2099\n",
       "1      98\n",
       "3       9\n",
       "4       1\n",
       "dtype: int64"
      ]
     },
     "execution_count": 13,
     "metadata": {},
     "output_type": "execute_result"
    }
   ],
   "source": [
    "(titanic.isnull().sum(axis=1)).value_counts()"
   ]
  },
  {
   "cell_type": "code",
   "execution_count": 15,
   "id": "1a303b2f-f233-44af-9f16-fa91d2f8c7f0",
   "metadata": {},
   "outputs": [
    {
     "data": {
      "text/html": [
       "<div>\n",
       "<style scoped>\n",
       "    .dataframe tbody tr th:only-of-type {\n",
       "        vertical-align: middle;\n",
       "    }\n",
       "\n",
       "    .dataframe tbody tr th {\n",
       "        vertical-align: top;\n",
       "    }\n",
       "\n",
       "    .dataframe thead th {\n",
       "        text-align: right;\n",
       "    }\n",
       "</style>\n",
       "<table border=\"1\" class=\"dataframe\">\n",
       "  <thead>\n",
       "    <tr style=\"text-align: right;\">\n",
       "      <th></th>\n",
       "      <th>age</th>\n",
       "      <th>embarked</th>\n",
       "      <th>country</th>\n",
       "      <th>fare</th>\n",
       "      <th>sibsp</th>\n",
       "      <th>parch</th>\n",
       "      <th>Class</th>\n",
       "      <th>Gender</th>\n",
       "      <th>Survived</th>\n",
       "    </tr>\n",
       "  </thead>\n",
       "  <tbody>\n",
       "    <tr>\n",
       "      <th>144</th>\n",
       "      <td>24.0</td>\n",
       "      <td>Southampton</td>\n",
       "      <td>England</td>\n",
       "      <td>NaN</td>\n",
       "      <td>NaN</td>\n",
       "      <td>NaN</td>\n",
       "      <td>2nd</td>\n",
       "      <td>1.0</td>\n",
       "      <td>0.0</td>\n",
       "    </tr>\n",
       "    <tr>\n",
       "      <th>150</th>\n",
       "      <td>20.0</td>\n",
       "      <td>Southampton</td>\n",
       "      <td>France</td>\n",
       "      <td>NaN</td>\n",
       "      <td>NaN</td>\n",
       "      <td>NaN</td>\n",
       "      <td>2nd</td>\n",
       "      <td>1.0</td>\n",
       "      <td>0.0</td>\n",
       "    </tr>\n",
       "    <tr>\n",
       "      <th>237</th>\n",
       "      <td>28.0</td>\n",
       "      <td>Southampton</td>\n",
       "      <td>England</td>\n",
       "      <td>NaN</td>\n",
       "      <td>NaN</td>\n",
       "      <td>NaN</td>\n",
       "      <td>2nd</td>\n",
       "      <td>1.0</td>\n",
       "      <td>0.0</td>\n",
       "    </tr>\n",
       "    <tr>\n",
       "      <th>516</th>\n",
       "      <td>33.0</td>\n",
       "      <td>Southampton</td>\n",
       "      <td>England</td>\n",
       "      <td>NaN</td>\n",
       "      <td>NaN</td>\n",
       "      <td>NaN</td>\n",
       "      <td>2nd</td>\n",
       "      <td>1.0</td>\n",
       "      <td>0.0</td>\n",
       "    </tr>\n",
       "    <tr>\n",
       "      <th>576</th>\n",
       "      <td>21.0</td>\n",
       "      <td>Southampton</td>\n",
       "      <td>NaN</td>\n",
       "      <td>NaN</td>\n",
       "      <td>NaN</td>\n",
       "      <td>NaN</td>\n",
       "      <td>2nd</td>\n",
       "      <td>1.0</td>\n",
       "      <td>0.0</td>\n",
       "    </tr>\n",
       "    <tr>\n",
       "      <th>615</th>\n",
       "      <td>49.0</td>\n",
       "      <td>Southampton</td>\n",
       "      <td>United States</td>\n",
       "      <td>NaN</td>\n",
       "      <td>NaN</td>\n",
       "      <td>NaN</td>\n",
       "      <td>3rd</td>\n",
       "      <td>1.0</td>\n",
       "      <td>0.0</td>\n",
       "    </tr>\n",
       "    <tr>\n",
       "      <th>680</th>\n",
       "      <td>23.0</td>\n",
       "      <td>Southampton</td>\n",
       "      <td>England</td>\n",
       "      <td>NaN</td>\n",
       "      <td>NaN</td>\n",
       "      <td>NaN</td>\n",
       "      <td>2nd</td>\n",
       "      <td>1.0</td>\n",
       "      <td>0.0</td>\n",
       "    </tr>\n",
       "    <tr>\n",
       "      <th>1094</th>\n",
       "      <td>35.0</td>\n",
       "      <td>Southampton</td>\n",
       "      <td>Ireland</td>\n",
       "      <td>NaN</td>\n",
       "      <td>NaN</td>\n",
       "      <td>NaN</td>\n",
       "      <td>3rd</td>\n",
       "      <td>1.0</td>\n",
       "      <td>0.0</td>\n",
       "    </tr>\n",
       "    <tr>\n",
       "      <th>1189</th>\n",
       "      <td>40.0</td>\n",
       "      <td>Southampton</td>\n",
       "      <td>England</td>\n",
       "      <td>NaN</td>\n",
       "      <td>NaN</td>\n",
       "      <td>NaN</td>\n",
       "      <td>2nd</td>\n",
       "      <td>1.0</td>\n",
       "      <td>0.0</td>\n",
       "    </tr>\n",
       "    <tr>\n",
       "      <th>1304</th>\n",
       "      <td>32.0</td>\n",
       "      <td>Southampton</td>\n",
       "      <td>England</td>\n",
       "      <td>NaN</td>\n",
       "      <td>NaN</td>\n",
       "      <td>NaN</td>\n",
       "      <td>2nd</td>\n",
       "      <td>1.0</td>\n",
       "      <td>0.0</td>\n",
       "    </tr>\n",
       "  </tbody>\n",
       "</table>\n",
       "</div>"
      ],
      "text/plain": [
       "       age     embarked        country  fare  sibsp  parch Class  Gender  \\\n",
       "144   24.0  Southampton        England   NaN    NaN    NaN   2nd     1.0   \n",
       "150   20.0  Southampton         France   NaN    NaN    NaN   2nd     1.0   \n",
       "237   28.0  Southampton        England   NaN    NaN    NaN   2nd     1.0   \n",
       "516   33.0  Southampton        England   NaN    NaN    NaN   2nd     1.0   \n",
       "576   21.0  Southampton            NaN   NaN    NaN    NaN   2nd     1.0   \n",
       "615   49.0  Southampton  United States   NaN    NaN    NaN   3rd     1.0   \n",
       "680   23.0  Southampton        England   NaN    NaN    NaN   2nd     1.0   \n",
       "1094  35.0  Southampton        Ireland   NaN    NaN    NaN   3rd     1.0   \n",
       "1189  40.0  Southampton        England   NaN    NaN    NaN   2nd     1.0   \n",
       "1304  32.0  Southampton        England   NaN    NaN    NaN   2nd     1.0   \n",
       "\n",
       "      Survived  \n",
       "144        0.0  \n",
       "150        0.0  \n",
       "237        0.0  \n",
       "516        0.0  \n",
       "576        0.0  \n",
       "615        0.0  \n",
       "680        0.0  \n",
       "1094       0.0  \n",
       "1189       0.0  \n",
       "1304       0.0  "
      ]
     },
     "execution_count": 15,
     "metadata": {},
     "output_type": "execute_result"
    }
   ],
   "source": [
    "# There are only a handful of rows with three missing values\n",
    "\n",
    "titanic.loc[titanic.isnull().sum(axis=1)>1,:]"
   ]
  },
  {
   "cell_type": "code",
   "execution_count": 16,
   "id": "6d708888-1910-4edd-b3ff-04083e18d2e7",
   "metadata": {},
   "outputs": [
    {
     "data": {
      "text/html": [
       "<div>\n",
       "<style scoped>\n",
       "    .dataframe tbody tr th:only-of-type {\n",
       "        vertical-align: middle;\n",
       "    }\n",
       "\n",
       "    .dataframe tbody tr th {\n",
       "        vertical-align: top;\n",
       "    }\n",
       "\n",
       "    .dataframe thead th {\n",
       "        text-align: right;\n",
       "    }\n",
       "</style>\n",
       "<table border=\"1\" class=\"dataframe\">\n",
       "  <thead>\n",
       "    <tr style=\"text-align: right;\">\n",
       "      <th></th>\n",
       "      <th>age</th>\n",
       "      <th>embarked</th>\n",
       "      <th>country</th>\n",
       "      <th>fare</th>\n",
       "      <th>sibsp</th>\n",
       "      <th>parch</th>\n",
       "      <th>Class</th>\n",
       "      <th>Gender</th>\n",
       "      <th>Survived</th>\n",
       "    </tr>\n",
       "  </thead>\n",
       "  <tbody>\n",
       "    <tr>\n",
       "      <th>870</th>\n",
       "      <td>22.0</td>\n",
       "      <td>Southampton</td>\n",
       "      <td>NaN</td>\n",
       "      <td>7.1711</td>\n",
       "      <td>0.0</td>\n",
       "      <td>0.0</td>\n",
       "      <td>3rd</td>\n",
       "      <td>1.0</td>\n",
       "      <td>0.0</td>\n",
       "    </tr>\n",
       "    <tr>\n",
       "      <th>131</th>\n",
       "      <td>26.0</td>\n",
       "      <td>Southampton</td>\n",
       "      <td>NaN</td>\n",
       "      <td>7.1711</td>\n",
       "      <td>0.0</td>\n",
       "      <td>0.0</td>\n",
       "      <td>3rd</td>\n",
       "      <td>1.0</td>\n",
       "      <td>0.0</td>\n",
       "    </tr>\n",
       "    <tr>\n",
       "      <th>613</th>\n",
       "      <td>4.0</td>\n",
       "      <td>Southampton</td>\n",
       "      <td>NaN</td>\n",
       "      <td>11.0208</td>\n",
       "      <td>1.0</td>\n",
       "      <td>1.0</td>\n",
       "      <td>3rd</td>\n",
       "      <td>1.0</td>\n",
       "      <td>1.0</td>\n",
       "    </tr>\n",
       "    <tr>\n",
       "      <th>591</th>\n",
       "      <td>19.0</td>\n",
       "      <td>Cherbourg</td>\n",
       "      <td>NaN</td>\n",
       "      <td>14.0901</td>\n",
       "      <td>1.0</td>\n",
       "      <td>0.0</td>\n",
       "      <td>3rd</td>\n",
       "      <td>0.0</td>\n",
       "      <td>0.0</td>\n",
       "    </tr>\n",
       "    <tr>\n",
       "      <th>1830</th>\n",
       "      <td>23.0</td>\n",
       "      <td>Southampton</td>\n",
       "      <td>NaN</td>\n",
       "      <td>0.0000</td>\n",
       "      <td>0.0</td>\n",
       "      <td>0.0</td>\n",
       "      <td>engineering crew</td>\n",
       "      <td>1.0</td>\n",
       "      <td>0.0</td>\n",
       "    </tr>\n",
       "  </tbody>\n",
       "</table>\n",
       "</div>"
      ],
      "text/plain": [
       "       age     embarked country     fare  sibsp  parch             Class  \\\n",
       "870   22.0  Southampton     NaN   7.1711    0.0    0.0               3rd   \n",
       "131   26.0  Southampton     NaN   7.1711    0.0    0.0               3rd   \n",
       "613    4.0  Southampton     NaN  11.0208    1.0    1.0               3rd   \n",
       "591   19.0    Cherbourg     NaN  14.0901    1.0    0.0               3rd   \n",
       "1830  23.0  Southampton     NaN   0.0000    0.0    0.0  engineering crew   \n",
       "\n",
       "      Gender  Survived  \n",
       "870      1.0       0.0  \n",
       "131      1.0       0.0  \n",
       "613      1.0       1.0  \n",
       "591      0.0       0.0  \n",
       "1830     1.0       0.0  "
      ]
     },
     "execution_count": 16,
     "metadata": {},
     "output_type": "execute_result"
    }
   ],
   "source": [
    "# I know that I can't look at all 200 one-value-missing rows, \n",
    "# so I'll take a subset of them to examine:\n",
    "titanic.loc[titanic.isnull().sum(axis=1)==1,:].sample(5)"
   ]
  },
  {
   "cell_type": "code",
   "execution_count": null,
   "id": "62685c63-5fab-44ca-8aeb-c93be0ed72e5",
   "metadata": {},
   "outputs": [],
   "source": [
    "# I wasn't planning on using nationality anyway."
   ]
  },
  {
   "cell_type": "code",
   "execution_count": 17,
   "id": "abb160be-9a1e-4644-9d0b-4c80da403afb",
   "metadata": {},
   "outputs": [],
   "source": [
    "titanic[\"fare\"] = titanic.fare.fillna(0)\n",
    "titanic[\"sibsp\"] = titanic.sibsp.fillna(0)\n",
    "titanic[\"parch\"] = titanic.parch.fillna(0)\n"
   ]
  },
  {
   "cell_type": "code",
   "execution_count": 18,
   "id": "afacba50-9576-4fbf-8be4-6f59b5e0e487",
   "metadata": {},
   "outputs": [],
   "source": [
    "from sklearn.linear_model import LogisticRegression"
   ]
  },
  {
   "cell_type": "code",
   "execution_count": 19,
   "id": "7d33dbf8-a3e4-411e-85f5-76d277bddfa4",
   "metadata": {},
   "outputs": [
    {
     "data": {
      "text/plain": [
       "array([[42.,  1.,  0.,  0.],\n",
       "       [13.,  1.,  0.,  2.],\n",
       "       [16.,  1.,  1.,  1.],\n",
       "       ...,\n",
       "       [32.,  1.,  0.,  0.],\n",
       "       [20.,  1.,  0.,  0.],\n",
       "       [26.,  1.,  0.,  0.]])"
      ]
     },
     "execution_count": 19,
     "metadata": {},
     "output_type": "execute_result"
    }
   ],
   "source": [
    "X = titanic[[\"age\", \"Gender\", \"sibsp\", \"parch\" ]].values\n",
    "X"
   ]
  },
  {
   "cell_type": "code",
   "execution_count": 21,
   "id": "7c964ee9-4abc-47cd-94f4-a8f11f56f3e8",
   "metadata": {},
   "outputs": [
    {
     "data": {
      "text/plain": [
       "array([0., 0., 0., ..., 0., 0., 0.])"
      ]
     },
     "execution_count": 21,
     "metadata": {},
     "output_type": "execute_result"
    }
   ],
   "source": [
    "Y = titanic.Survived.values\n",
    "Y"
   ]
  },
  {
   "cell_type": "code",
   "execution_count": 22,
   "id": "6e22dbf6-4dfb-43f2-bc1b-494bf905da8a",
   "metadata": {},
   "outputs": [
    {
     "ename": "ValueError",
     "evalue": "Input contains NaN, infinity or a value too large for dtype('float64').",
     "output_type": "error",
     "traceback": [
      "\u001b[0;31m---------------------------------------------------------------------------\u001b[0m",
      "\u001b[0;31mValueError\u001b[0m                                Traceback (most recent call last)",
      "Cell \u001b[0;32mIn[22], line 1\u001b[0m\n\u001b[0;32m----> 1\u001b[0m lrfit \u001b[38;5;241m=\u001b[39m \u001b[43mLogisticRegression\u001b[49m\u001b[43m(\u001b[49m\u001b[43m)\u001b[49m\u001b[38;5;241;43m.\u001b[39;49m\u001b[43mfit\u001b[49m\u001b[43m \u001b[49m\u001b[43m(\u001b[49m\u001b[43mX\u001b[49m\u001b[43m,\u001b[49m\u001b[43m \u001b[49m\u001b[43mY\u001b[49m\u001b[43m)\u001b[49m\n",
      "File \u001b[0;32m/Users/Shared/anaconda3/lib/python3.9/site-packages/sklearn/linear_model/_logistic.py:1508\u001b[0m, in \u001b[0;36mLogisticRegression.fit\u001b[0;34m(self, X, y, sample_weight)\u001b[0m\n\u001b[1;32m   1505\u001b[0m \u001b[38;5;28;01melse\u001b[39;00m:\n\u001b[1;32m   1506\u001b[0m     _dtype \u001b[38;5;241m=\u001b[39m [np\u001b[38;5;241m.\u001b[39mfloat64, np\u001b[38;5;241m.\u001b[39mfloat32]\n\u001b[0;32m-> 1508\u001b[0m X, y \u001b[38;5;241m=\u001b[39m \u001b[38;5;28;43mself\u001b[39;49m\u001b[38;5;241;43m.\u001b[39;49m\u001b[43m_validate_data\u001b[49m\u001b[43m(\u001b[49m\n\u001b[1;32m   1509\u001b[0m \u001b[43m    \u001b[49m\u001b[43mX\u001b[49m\u001b[43m,\u001b[49m\n\u001b[1;32m   1510\u001b[0m \u001b[43m    \u001b[49m\u001b[43my\u001b[49m\u001b[43m,\u001b[49m\n\u001b[1;32m   1511\u001b[0m \u001b[43m    \u001b[49m\u001b[43maccept_sparse\u001b[49m\u001b[38;5;241;43m=\u001b[39;49m\u001b[38;5;124;43m\"\u001b[39;49m\u001b[38;5;124;43mcsr\u001b[39;49m\u001b[38;5;124;43m\"\u001b[39;49m\u001b[43m,\u001b[49m\n\u001b[1;32m   1512\u001b[0m \u001b[43m    \u001b[49m\u001b[43mdtype\u001b[49m\u001b[38;5;241;43m=\u001b[39;49m\u001b[43m_dtype\u001b[49m\u001b[43m,\u001b[49m\n\u001b[1;32m   1513\u001b[0m \u001b[43m    \u001b[49m\u001b[43morder\u001b[49m\u001b[38;5;241;43m=\u001b[39;49m\u001b[38;5;124;43m\"\u001b[39;49m\u001b[38;5;124;43mC\u001b[39;49m\u001b[38;5;124;43m\"\u001b[39;49m\u001b[43m,\u001b[49m\n\u001b[1;32m   1514\u001b[0m \u001b[43m    \u001b[49m\u001b[43maccept_large_sparse\u001b[49m\u001b[38;5;241;43m=\u001b[39;49m\u001b[43msolver\u001b[49m\u001b[43m \u001b[49m\u001b[38;5;129;43;01mnot\u001b[39;49;00m\u001b[43m \u001b[49m\u001b[38;5;129;43;01min\u001b[39;49;00m\u001b[43m \u001b[49m\u001b[43m[\u001b[49m\u001b[38;5;124;43m\"\u001b[39;49m\u001b[38;5;124;43mliblinear\u001b[39;49m\u001b[38;5;124;43m\"\u001b[39;49m\u001b[43m,\u001b[49m\u001b[43m \u001b[49m\u001b[38;5;124;43m\"\u001b[39;49m\u001b[38;5;124;43msag\u001b[39;49m\u001b[38;5;124;43m\"\u001b[39;49m\u001b[43m,\u001b[49m\u001b[43m \u001b[49m\u001b[38;5;124;43m\"\u001b[39;49m\u001b[38;5;124;43msaga\u001b[39;49m\u001b[38;5;124;43m\"\u001b[39;49m\u001b[43m]\u001b[49m\u001b[43m,\u001b[49m\n\u001b[1;32m   1515\u001b[0m \u001b[43m\u001b[49m\u001b[43m)\u001b[49m\n\u001b[1;32m   1516\u001b[0m check_classification_targets(y)\n\u001b[1;32m   1517\u001b[0m \u001b[38;5;28mself\u001b[39m\u001b[38;5;241m.\u001b[39mclasses_ \u001b[38;5;241m=\u001b[39m np\u001b[38;5;241m.\u001b[39munique(y)\n",
      "File \u001b[0;32m/Users/Shared/anaconda3/lib/python3.9/site-packages/sklearn/base.py:581\u001b[0m, in \u001b[0;36mBaseEstimator._validate_data\u001b[0;34m(self, X, y, reset, validate_separately, **check_params)\u001b[0m\n\u001b[1;32m    579\u001b[0m         y \u001b[38;5;241m=\u001b[39m check_array(y, \u001b[38;5;241m*\u001b[39m\u001b[38;5;241m*\u001b[39mcheck_y_params)\n\u001b[1;32m    580\u001b[0m     \u001b[38;5;28;01melse\u001b[39;00m:\n\u001b[0;32m--> 581\u001b[0m         X, y \u001b[38;5;241m=\u001b[39m \u001b[43mcheck_X_y\u001b[49m\u001b[43m(\u001b[49m\u001b[43mX\u001b[49m\u001b[43m,\u001b[49m\u001b[43m \u001b[49m\u001b[43my\u001b[49m\u001b[43m,\u001b[49m\u001b[43m \u001b[49m\u001b[38;5;241;43m*\u001b[39;49m\u001b[38;5;241;43m*\u001b[39;49m\u001b[43mcheck_params\u001b[49m\u001b[43m)\u001b[49m\n\u001b[1;32m    582\u001b[0m     out \u001b[38;5;241m=\u001b[39m X, y\n\u001b[1;32m    584\u001b[0m \u001b[38;5;28;01mif\u001b[39;00m \u001b[38;5;129;01mnot\u001b[39;00m no_val_X \u001b[38;5;129;01mand\u001b[39;00m check_params\u001b[38;5;241m.\u001b[39mget(\u001b[38;5;124m\"\u001b[39m\u001b[38;5;124mensure_2d\u001b[39m\u001b[38;5;124m\"\u001b[39m, \u001b[38;5;28;01mTrue\u001b[39;00m):\n",
      "File \u001b[0;32m/Users/Shared/anaconda3/lib/python3.9/site-packages/sklearn/utils/validation.py:964\u001b[0m, in \u001b[0;36mcheck_X_y\u001b[0;34m(X, y, accept_sparse, accept_large_sparse, dtype, order, copy, force_all_finite, ensure_2d, allow_nd, multi_output, ensure_min_samples, ensure_min_features, y_numeric, estimator)\u001b[0m\n\u001b[1;32m    961\u001b[0m \u001b[38;5;28;01mif\u001b[39;00m y \u001b[38;5;129;01mis\u001b[39;00m \u001b[38;5;28;01mNone\u001b[39;00m:\n\u001b[1;32m    962\u001b[0m     \u001b[38;5;28;01mraise\u001b[39;00m \u001b[38;5;167;01mValueError\u001b[39;00m(\u001b[38;5;124m\"\u001b[39m\u001b[38;5;124my cannot be None\u001b[39m\u001b[38;5;124m\"\u001b[39m)\n\u001b[0;32m--> 964\u001b[0m X \u001b[38;5;241m=\u001b[39m \u001b[43mcheck_array\u001b[49m\u001b[43m(\u001b[49m\n\u001b[1;32m    965\u001b[0m \u001b[43m    \u001b[49m\u001b[43mX\u001b[49m\u001b[43m,\u001b[49m\n\u001b[1;32m    966\u001b[0m \u001b[43m    \u001b[49m\u001b[43maccept_sparse\u001b[49m\u001b[38;5;241;43m=\u001b[39;49m\u001b[43maccept_sparse\u001b[49m\u001b[43m,\u001b[49m\n\u001b[1;32m    967\u001b[0m \u001b[43m    \u001b[49m\u001b[43maccept_large_sparse\u001b[49m\u001b[38;5;241;43m=\u001b[39;49m\u001b[43maccept_large_sparse\u001b[49m\u001b[43m,\u001b[49m\n\u001b[1;32m    968\u001b[0m \u001b[43m    \u001b[49m\u001b[43mdtype\u001b[49m\u001b[38;5;241;43m=\u001b[39;49m\u001b[43mdtype\u001b[49m\u001b[43m,\u001b[49m\n\u001b[1;32m    969\u001b[0m \u001b[43m    \u001b[49m\u001b[43morder\u001b[49m\u001b[38;5;241;43m=\u001b[39;49m\u001b[43morder\u001b[49m\u001b[43m,\u001b[49m\n\u001b[1;32m    970\u001b[0m \u001b[43m    \u001b[49m\u001b[43mcopy\u001b[49m\u001b[38;5;241;43m=\u001b[39;49m\u001b[43mcopy\u001b[49m\u001b[43m,\u001b[49m\n\u001b[1;32m    971\u001b[0m \u001b[43m    \u001b[49m\u001b[43mforce_all_finite\u001b[49m\u001b[38;5;241;43m=\u001b[39;49m\u001b[43mforce_all_finite\u001b[49m\u001b[43m,\u001b[49m\n\u001b[1;32m    972\u001b[0m \u001b[43m    \u001b[49m\u001b[43mensure_2d\u001b[49m\u001b[38;5;241;43m=\u001b[39;49m\u001b[43mensure_2d\u001b[49m\u001b[43m,\u001b[49m\n\u001b[1;32m    973\u001b[0m \u001b[43m    \u001b[49m\u001b[43mallow_nd\u001b[49m\u001b[38;5;241;43m=\u001b[39;49m\u001b[43mallow_nd\u001b[49m\u001b[43m,\u001b[49m\n\u001b[1;32m    974\u001b[0m \u001b[43m    \u001b[49m\u001b[43mensure_min_samples\u001b[49m\u001b[38;5;241;43m=\u001b[39;49m\u001b[43mensure_min_samples\u001b[49m\u001b[43m,\u001b[49m\n\u001b[1;32m    975\u001b[0m \u001b[43m    \u001b[49m\u001b[43mensure_min_features\u001b[49m\u001b[38;5;241;43m=\u001b[39;49m\u001b[43mensure_min_features\u001b[49m\u001b[43m,\u001b[49m\n\u001b[1;32m    976\u001b[0m \u001b[43m    \u001b[49m\u001b[43mestimator\u001b[49m\u001b[38;5;241;43m=\u001b[39;49m\u001b[43mestimator\u001b[49m\u001b[43m,\u001b[49m\n\u001b[1;32m    977\u001b[0m \u001b[43m\u001b[49m\u001b[43m)\u001b[49m\n\u001b[1;32m    979\u001b[0m y \u001b[38;5;241m=\u001b[39m _check_y(y, multi_output\u001b[38;5;241m=\u001b[39mmulti_output, y_numeric\u001b[38;5;241m=\u001b[39my_numeric)\n\u001b[1;32m    981\u001b[0m check_consistent_length(X, y)\n",
      "File \u001b[0;32m/Users/Shared/anaconda3/lib/python3.9/site-packages/sklearn/utils/validation.py:800\u001b[0m, in \u001b[0;36mcheck_array\u001b[0;34m(array, accept_sparse, accept_large_sparse, dtype, order, copy, force_all_finite, ensure_2d, allow_nd, ensure_min_samples, ensure_min_features, estimator)\u001b[0m\n\u001b[1;32m    794\u001b[0m         \u001b[38;5;28;01mraise\u001b[39;00m \u001b[38;5;167;01mValueError\u001b[39;00m(\n\u001b[1;32m    795\u001b[0m             \u001b[38;5;124m\"\u001b[39m\u001b[38;5;124mFound array with dim \u001b[39m\u001b[38;5;132;01m%d\u001b[39;00m\u001b[38;5;124m. \u001b[39m\u001b[38;5;132;01m%s\u001b[39;00m\u001b[38;5;124m expected <= 2.\u001b[39m\u001b[38;5;124m\"\u001b[39m\n\u001b[1;32m    796\u001b[0m             \u001b[38;5;241m%\u001b[39m (array\u001b[38;5;241m.\u001b[39mndim, estimator_name)\n\u001b[1;32m    797\u001b[0m         )\n\u001b[1;32m    799\u001b[0m     \u001b[38;5;28;01mif\u001b[39;00m force_all_finite:\n\u001b[0;32m--> 800\u001b[0m         \u001b[43m_assert_all_finite\u001b[49m\u001b[43m(\u001b[49m\u001b[43marray\u001b[49m\u001b[43m,\u001b[49m\u001b[43m \u001b[49m\u001b[43mallow_nan\u001b[49m\u001b[38;5;241;43m=\u001b[39;49m\u001b[43mforce_all_finite\u001b[49m\u001b[43m \u001b[49m\u001b[38;5;241;43m==\u001b[39;49m\u001b[43m \u001b[49m\u001b[38;5;124;43m\"\u001b[39;49m\u001b[38;5;124;43mallow-nan\u001b[39;49m\u001b[38;5;124;43m\"\u001b[39;49m\u001b[43m)\u001b[49m\n\u001b[1;32m    802\u001b[0m \u001b[38;5;28;01mif\u001b[39;00m ensure_min_samples \u001b[38;5;241m>\u001b[39m \u001b[38;5;241m0\u001b[39m:\n\u001b[1;32m    803\u001b[0m     n_samples \u001b[38;5;241m=\u001b[39m _num_samples(array)\n",
      "File \u001b[0;32m/Users/Shared/anaconda3/lib/python3.9/site-packages/sklearn/utils/validation.py:114\u001b[0m, in \u001b[0;36m_assert_all_finite\u001b[0;34m(X, allow_nan, msg_dtype)\u001b[0m\n\u001b[1;32m    107\u001b[0m     \u001b[38;5;28;01mif\u001b[39;00m (\n\u001b[1;32m    108\u001b[0m         allow_nan\n\u001b[1;32m    109\u001b[0m         \u001b[38;5;129;01mand\u001b[39;00m np\u001b[38;5;241m.\u001b[39misinf(X)\u001b[38;5;241m.\u001b[39many()\n\u001b[1;32m    110\u001b[0m         \u001b[38;5;129;01mor\u001b[39;00m \u001b[38;5;129;01mnot\u001b[39;00m allow_nan\n\u001b[1;32m    111\u001b[0m         \u001b[38;5;129;01mand\u001b[39;00m \u001b[38;5;129;01mnot\u001b[39;00m np\u001b[38;5;241m.\u001b[39misfinite(X)\u001b[38;5;241m.\u001b[39mall()\n\u001b[1;32m    112\u001b[0m     ):\n\u001b[1;32m    113\u001b[0m         type_err \u001b[38;5;241m=\u001b[39m \u001b[38;5;124m\"\u001b[39m\u001b[38;5;124minfinity\u001b[39m\u001b[38;5;124m\"\u001b[39m \u001b[38;5;28;01mif\u001b[39;00m allow_nan \u001b[38;5;28;01melse\u001b[39;00m \u001b[38;5;124m\"\u001b[39m\u001b[38;5;124mNaN, infinity\u001b[39m\u001b[38;5;124m\"\u001b[39m\n\u001b[0;32m--> 114\u001b[0m         \u001b[38;5;28;01mraise\u001b[39;00m \u001b[38;5;167;01mValueError\u001b[39;00m(\n\u001b[1;32m    115\u001b[0m             msg_err\u001b[38;5;241m.\u001b[39mformat(\n\u001b[1;32m    116\u001b[0m                 type_err, msg_dtype \u001b[38;5;28;01mif\u001b[39;00m msg_dtype \u001b[38;5;129;01mis\u001b[39;00m \u001b[38;5;129;01mnot\u001b[39;00m \u001b[38;5;28;01mNone\u001b[39;00m \u001b[38;5;28;01melse\u001b[39;00m X\u001b[38;5;241m.\u001b[39mdtype\n\u001b[1;32m    117\u001b[0m             )\n\u001b[1;32m    118\u001b[0m         )\n\u001b[1;32m    119\u001b[0m \u001b[38;5;66;03m# for object dtype data, we only check for NaNs (GH-13254)\u001b[39;00m\n\u001b[1;32m    120\u001b[0m \u001b[38;5;28;01melif\u001b[39;00m X\u001b[38;5;241m.\u001b[39mdtype \u001b[38;5;241m==\u001b[39m np\u001b[38;5;241m.\u001b[39mdtype(\u001b[38;5;124m\"\u001b[39m\u001b[38;5;124mobject\u001b[39m\u001b[38;5;124m\"\u001b[39m) \u001b[38;5;129;01mand\u001b[39;00m \u001b[38;5;129;01mnot\u001b[39;00m allow_nan:\n",
      "\u001b[0;31mValueError\u001b[0m: Input contains NaN, infinity or a value too large for dtype('float64')."
     ]
    }
   ],
   "source": [
    "lrfit = LogisticRegression().fit (X, Y)"
   ]
  },
  {
   "cell_type": "code",
   "execution_count": null,
   "id": "f6d956a5-fc93-4421-86f5-55899f71c947",
   "metadata": {},
   "outputs": [],
   "source": [
    "# ValueError: Input contains NaN, infinity or a value too large for dtype('float64')."
   ]
  },
  {
   "cell_type": "code",
   "execution_count": 23,
   "id": "fcc2288e-2964-45c9-abc9-fd65122b62a5",
   "metadata": {},
   "outputs": [
    {
     "data": {
      "text/plain": [
       "age       2\n",
       "Gender    0\n",
       "sibsp     0\n",
       "parch     0\n",
       "dtype: int64"
      ]
     },
     "execution_count": 23,
     "metadata": {},
     "output_type": "execute_result"
    }
   ],
   "source": [
    "titanic[[\"age\", \"Gender\", \"sibsp\", \"parch\" ]].isnull().sum(axis=0)"
   ]
  },
  {
   "cell_type": "code",
   "execution_count": 24,
   "id": "bdd101a1-64e4-4e83-8afc-1504441b02a7",
   "metadata": {},
   "outputs": [
    {
     "data": {
      "text/html": [
       "<div>\n",
       "<style scoped>\n",
       "    .dataframe tbody tr th:only-of-type {\n",
       "        vertical-align: middle;\n",
       "    }\n",
       "\n",
       "    .dataframe tbody tr th {\n",
       "        vertical-align: top;\n",
       "    }\n",
       "\n",
       "    .dataframe thead th {\n",
       "        text-align: right;\n",
       "    }\n",
       "</style>\n",
       "<table border=\"1\" class=\"dataframe\">\n",
       "  <thead>\n",
       "    <tr style=\"text-align: right;\">\n",
       "      <th></th>\n",
       "      <th>age</th>\n",
       "      <th>embarked</th>\n",
       "      <th>country</th>\n",
       "      <th>fare</th>\n",
       "      <th>sibsp</th>\n",
       "      <th>parch</th>\n",
       "      <th>Class</th>\n",
       "      <th>Gender</th>\n",
       "      <th>Survived</th>\n",
       "    </tr>\n",
       "  </thead>\n",
       "  <tbody>\n",
       "    <tr>\n",
       "      <th>439</th>\n",
       "      <td>NaN</td>\n",
       "      <td>Cherbourg</td>\n",
       "      <td>Bulgaria</td>\n",
       "      <td>7.1711</td>\n",
       "      <td>0.0</td>\n",
       "      <td>0.0</td>\n",
       "      <td>3rd</td>\n",
       "      <td>1.0</td>\n",
       "      <td>0.0</td>\n",
       "    </tr>\n",
       "    <tr>\n",
       "      <th>677</th>\n",
       "      <td>NaN</td>\n",
       "      <td>Cherbourg</td>\n",
       "      <td>Bulgaria</td>\n",
       "      <td>7.1711</td>\n",
       "      <td>0.0</td>\n",
       "      <td>0.0</td>\n",
       "      <td>3rd</td>\n",
       "      <td>1.0</td>\n",
       "      <td>0.0</td>\n",
       "    </tr>\n",
       "  </tbody>\n",
       "</table>\n",
       "</div>"
      ],
      "text/plain": [
       "     age   embarked   country    fare  sibsp  parch Class  Gender  Survived\n",
       "439  NaN  Cherbourg  Bulgaria  7.1711    0.0    0.0   3rd     1.0       0.0\n",
       "677  NaN  Cherbourg  Bulgaria  7.1711    0.0    0.0   3rd     1.0       0.0"
      ]
     },
     "execution_count": 24,
     "metadata": {},
     "output_type": "execute_result"
    }
   ],
   "source": [
    "titanic.loc[ titanic.age.isnull()]"
   ]
  },
  {
   "cell_type": "code",
   "execution_count": 26,
   "id": "37d48f29-c422-4cc0-8229-05857d7e0f7a",
   "metadata": {},
   "outputs": [
    {
     "data": {
      "text/html": [
       "<div>\n",
       "<style scoped>\n",
       "    .dataframe tbody tr th:only-of-type {\n",
       "        vertical-align: middle;\n",
       "    }\n",
       "\n",
       "    .dataframe tbody tr th {\n",
       "        vertical-align: top;\n",
       "    }\n",
       "\n",
       "    .dataframe thead th {\n",
       "        text-align: right;\n",
       "    }\n",
       "</style>\n",
       "<table border=\"1\" class=\"dataframe\">\n",
       "  <thead>\n",
       "    <tr style=\"text-align: right;\">\n",
       "      <th></th>\n",
       "      <th>age</th>\n",
       "      <th>embarked</th>\n",
       "      <th>country</th>\n",
       "      <th>fare</th>\n",
       "      <th>sibsp</th>\n",
       "      <th>parch</th>\n",
       "      <th>Class</th>\n",
       "      <th>Gender</th>\n",
       "      <th>Survived</th>\n",
       "    </tr>\n",
       "  </thead>\n",
       "  <tbody>\n",
       "    <tr>\n",
       "      <th>46</th>\n",
       "      <td>26.0</td>\n",
       "      <td>Southampton</td>\n",
       "      <td>Bulgaria</td>\n",
       "      <td>7.1711</td>\n",
       "      <td>0.0</td>\n",
       "      <td>0.0</td>\n",
       "      <td>3rd</td>\n",
       "      <td>1.0</td>\n",
       "      <td>0.0</td>\n",
       "    </tr>\n",
       "    <tr>\n",
       "      <th>95</th>\n",
       "      <td>23.0</td>\n",
       "      <td>Southampton</td>\n",
       "      <td>Bulgaria</td>\n",
       "      <td>7.1711</td>\n",
       "      <td>0.0</td>\n",
       "      <td>0.0</td>\n",
       "      <td>3rd</td>\n",
       "      <td>1.0</td>\n",
       "      <td>0.0</td>\n",
       "    </tr>\n",
       "    <tr>\n",
       "      <th>246</th>\n",
       "      <td>24.0</td>\n",
       "      <td>Southampton</td>\n",
       "      <td>Bulgaria</td>\n",
       "      <td>7.1711</td>\n",
       "      <td>0.0</td>\n",
       "      <td>0.0</td>\n",
       "      <td>3rd</td>\n",
       "      <td>1.0</td>\n",
       "      <td>0.0</td>\n",
       "    </tr>\n",
       "    <tr>\n",
       "      <th>254</th>\n",
       "      <td>36.0</td>\n",
       "      <td>Southampton</td>\n",
       "      <td>Bulgaria</td>\n",
       "      <td>7.1711</td>\n",
       "      <td>0.0</td>\n",
       "      <td>0.0</td>\n",
       "      <td>3rd</td>\n",
       "      <td>1.0</td>\n",
       "      <td>0.0</td>\n",
       "    </tr>\n",
       "    <tr>\n",
       "      <th>439</th>\n",
       "      <td>NaN</td>\n",
       "      <td>Cherbourg</td>\n",
       "      <td>Bulgaria</td>\n",
       "      <td>7.1711</td>\n",
       "      <td>0.0</td>\n",
       "      <td>0.0</td>\n",
       "      <td>3rd</td>\n",
       "      <td>1.0</td>\n",
       "      <td>0.0</td>\n",
       "    </tr>\n",
       "    <tr>\n",
       "      <th>589</th>\n",
       "      <td>20.0</td>\n",
       "      <td>Southampton</td>\n",
       "      <td>Bulgaria</td>\n",
       "      <td>7.1711</td>\n",
       "      <td>0.0</td>\n",
       "      <td>0.0</td>\n",
       "      <td>3rd</td>\n",
       "      <td>1.0</td>\n",
       "      <td>0.0</td>\n",
       "    </tr>\n",
       "    <tr>\n",
       "      <th>624</th>\n",
       "      <td>23.0</td>\n",
       "      <td>Southampton</td>\n",
       "      <td>Bulgaria</td>\n",
       "      <td>7.1711</td>\n",
       "      <td>0.0</td>\n",
       "      <td>0.0</td>\n",
       "      <td>3rd</td>\n",
       "      <td>1.0</td>\n",
       "      <td>0.0</td>\n",
       "    </tr>\n",
       "    <tr>\n",
       "      <th>677</th>\n",
       "      <td>NaN</td>\n",
       "      <td>Cherbourg</td>\n",
       "      <td>Bulgaria</td>\n",
       "      <td>7.1711</td>\n",
       "      <td>0.0</td>\n",
       "      <td>0.0</td>\n",
       "      <td>3rd</td>\n",
       "      <td>1.0</td>\n",
       "      <td>0.0</td>\n",
       "    </tr>\n",
       "    <tr>\n",
       "      <th>771</th>\n",
       "      <td>35.0</td>\n",
       "      <td>Southampton</td>\n",
       "      <td>Bulgaria</td>\n",
       "      <td>7.1711</td>\n",
       "      <td>0.0</td>\n",
       "      <td>0.0</td>\n",
       "      <td>3rd</td>\n",
       "      <td>1.0</td>\n",
       "      <td>0.0</td>\n",
       "    </tr>\n",
       "    <tr>\n",
       "      <th>775</th>\n",
       "      <td>30.0</td>\n",
       "      <td>Cherbourg</td>\n",
       "      <td>Bulgaria</td>\n",
       "      <td>7.1711</td>\n",
       "      <td>0.0</td>\n",
       "      <td>0.0</td>\n",
       "      <td>3rd</td>\n",
       "      <td>1.0</td>\n",
       "      <td>0.0</td>\n",
       "    </tr>\n",
       "    <tr>\n",
       "      <th>811</th>\n",
       "      <td>28.0</td>\n",
       "      <td>Southampton</td>\n",
       "      <td>Bulgaria</td>\n",
       "      <td>7.1711</td>\n",
       "      <td>0.0</td>\n",
       "      <td>0.0</td>\n",
       "      <td>3rd</td>\n",
       "      <td>1.0</td>\n",
       "      <td>0.0</td>\n",
       "    </tr>\n",
       "    <tr>\n",
       "      <th>819</th>\n",
       "      <td>21.0</td>\n",
       "      <td>Southampton</td>\n",
       "      <td>Bulgaria</td>\n",
       "      <td>7.1711</td>\n",
       "      <td>0.0</td>\n",
       "      <td>0.0</td>\n",
       "      <td>3rd</td>\n",
       "      <td>1.0</td>\n",
       "      <td>0.0</td>\n",
       "    </tr>\n",
       "    <tr>\n",
       "      <th>853</th>\n",
       "      <td>22.0</td>\n",
       "      <td>Southampton</td>\n",
       "      <td>Bulgaria</td>\n",
       "      <td>7.1711</td>\n",
       "      <td>0.0</td>\n",
       "      <td>0.0</td>\n",
       "      <td>3rd</td>\n",
       "      <td>1.0</td>\n",
       "      <td>0.0</td>\n",
       "    </tr>\n",
       "    <tr>\n",
       "      <th>971</th>\n",
       "      <td>19.0</td>\n",
       "      <td>Southampton</td>\n",
       "      <td>Bulgaria</td>\n",
       "      <td>7.1711</td>\n",
       "      <td>0.0</td>\n",
       "      <td>0.0</td>\n",
       "      <td>3rd</td>\n",
       "      <td>1.0</td>\n",
       "      <td>0.0</td>\n",
       "    </tr>\n",
       "    <tr>\n",
       "      <th>972</th>\n",
       "      <td>29.0</td>\n",
       "      <td>Southampton</td>\n",
       "      <td>Bulgaria</td>\n",
       "      <td>7.1711</td>\n",
       "      <td>0.0</td>\n",
       "      <td>0.0</td>\n",
       "      <td>3rd</td>\n",
       "      <td>1.0</td>\n",
       "      <td>0.0</td>\n",
       "    </tr>\n",
       "    <tr>\n",
       "      <th>1151</th>\n",
       "      <td>23.0</td>\n",
       "      <td>Southampton</td>\n",
       "      <td>Bulgaria</td>\n",
       "      <td>7.1711</td>\n",
       "      <td>0.0</td>\n",
       "      <td>0.0</td>\n",
       "      <td>3rd</td>\n",
       "      <td>1.0</td>\n",
       "      <td>0.0</td>\n",
       "    </tr>\n",
       "    <tr>\n",
       "      <th>1164</th>\n",
       "      <td>19.0</td>\n",
       "      <td>Southampton</td>\n",
       "      <td>Bulgaria</td>\n",
       "      <td>7.1711</td>\n",
       "      <td>0.0</td>\n",
       "      <td>0.0</td>\n",
       "      <td>3rd</td>\n",
       "      <td>1.0</td>\n",
       "      <td>0.0</td>\n",
       "    </tr>\n",
       "    <tr>\n",
       "      <th>1204</th>\n",
       "      <td>23.0</td>\n",
       "      <td>Southampton</td>\n",
       "      <td>Bulgaria</td>\n",
       "      <td>7.1711</td>\n",
       "      <td>0.0</td>\n",
       "      <td>0.0</td>\n",
       "      <td>3rd</td>\n",
       "      <td>1.0</td>\n",
       "      <td>0.0</td>\n",
       "    </tr>\n",
       "    <tr>\n",
       "      <th>1210</th>\n",
       "      <td>25.0</td>\n",
       "      <td>Southampton</td>\n",
       "      <td>Bulgaria</td>\n",
       "      <td>7.1711</td>\n",
       "      <td>0.0</td>\n",
       "      <td>0.0</td>\n",
       "      <td>3rd</td>\n",
       "      <td>1.0</td>\n",
       "      <td>0.0</td>\n",
       "    </tr>\n",
       "  </tbody>\n",
       "</table>\n",
       "</div>"
      ],
      "text/plain": [
       "       age     embarked   country    fare  sibsp  parch Class  Gender  \\\n",
       "46    26.0  Southampton  Bulgaria  7.1711    0.0    0.0   3rd     1.0   \n",
       "95    23.0  Southampton  Bulgaria  7.1711    0.0    0.0   3rd     1.0   \n",
       "246   24.0  Southampton  Bulgaria  7.1711    0.0    0.0   3rd     1.0   \n",
       "254   36.0  Southampton  Bulgaria  7.1711    0.0    0.0   3rd     1.0   \n",
       "439    NaN    Cherbourg  Bulgaria  7.1711    0.0    0.0   3rd     1.0   \n",
       "589   20.0  Southampton  Bulgaria  7.1711    0.0    0.0   3rd     1.0   \n",
       "624   23.0  Southampton  Bulgaria  7.1711    0.0    0.0   3rd     1.0   \n",
       "677    NaN    Cherbourg  Bulgaria  7.1711    0.0    0.0   3rd     1.0   \n",
       "771   35.0  Southampton  Bulgaria  7.1711    0.0    0.0   3rd     1.0   \n",
       "775   30.0    Cherbourg  Bulgaria  7.1711    0.0    0.0   3rd     1.0   \n",
       "811   28.0  Southampton  Bulgaria  7.1711    0.0    0.0   3rd     1.0   \n",
       "819   21.0  Southampton  Bulgaria  7.1711    0.0    0.0   3rd     1.0   \n",
       "853   22.0  Southampton  Bulgaria  7.1711    0.0    0.0   3rd     1.0   \n",
       "971   19.0  Southampton  Bulgaria  7.1711    0.0    0.0   3rd     1.0   \n",
       "972   29.0  Southampton  Bulgaria  7.1711    0.0    0.0   3rd     1.0   \n",
       "1151  23.0  Southampton  Bulgaria  7.1711    0.0    0.0   3rd     1.0   \n",
       "1164  19.0  Southampton  Bulgaria  7.1711    0.0    0.0   3rd     1.0   \n",
       "1204  23.0  Southampton  Bulgaria  7.1711    0.0    0.0   3rd     1.0   \n",
       "1210  25.0  Southampton  Bulgaria  7.1711    0.0    0.0   3rd     1.0   \n",
       "\n",
       "      Survived  \n",
       "46         0.0  \n",
       "95         0.0  \n",
       "246        0.0  \n",
       "254        0.0  \n",
       "439        0.0  \n",
       "589        0.0  \n",
       "624        0.0  \n",
       "677        0.0  \n",
       "771        0.0  \n",
       "775        0.0  \n",
       "811        0.0  \n",
       "819        0.0  \n",
       "853        0.0  \n",
       "971        0.0  \n",
       "972        0.0  \n",
       "1151       0.0  \n",
       "1164       0.0  \n",
       "1204       0.0  \n",
       "1210       0.0  "
      ]
     },
     "execution_count": 26,
     "metadata": {},
     "output_type": "execute_result"
    }
   ],
   "source": [
    "titanic.loc[ titanic.country== \"Bulgaria\"]"
   ]
  },
  {
   "cell_type": "code",
   "execution_count": 25,
   "id": "10c4aa92-ee59-480b-b887-41441a72ed81",
   "metadata": {},
   "outputs": [
    {
     "data": {
      "text/plain": [
       "25.058823529411764"
      ]
     },
     "execution_count": 25,
     "metadata": {},
     "output_type": "execute_result"
    }
   ],
   "source": [
    "titanic.loc[ titanic.country== \"Bulgaria\"].dropna().age.mean()"
   ]
  },
  {
   "cell_type": "code",
   "execution_count": 27,
   "id": "cd133ebf-97a2-467b-a545-6d546c13ae6c",
   "metadata": {},
   "outputs": [],
   "source": [
    "titanic[\"age\"] = titanic.age.fillna(\"25\")\n"
   ]
  },
  {
   "cell_type": "code",
   "execution_count": 28,
   "id": "93f4fbcd-15c0-4ebf-be35-11952d7ae6b8",
   "metadata": {},
   "outputs": [],
   "source": [
    "X = titanic[[\"age\", \"Gender\", \"sibsp\", \"parch\" ]].values\n",
    "Y = titanic.Survived.values"
   ]
  },
  {
   "cell_type": "code",
   "execution_count": 29,
   "id": "a987be33-6c57-410c-a24c-e95e034ba846",
   "metadata": {},
   "outputs": [],
   "source": [
    "lrfit = LogisticRegression().fit(X, Y)"
   ]
  },
  {
   "cell_type": "code",
   "execution_count": 31,
   "id": "d8e40b0b-6000-435c-a071-5429b2f48a2f",
   "metadata": {},
   "outputs": [],
   "source": [
    "#help(lrfit)"
   ]
  },
  {
   "cell_type": "code",
   "execution_count": null,
   "id": "b0e7128a-3378-4e54-8f2d-e667db19dee4",
   "metadata": {},
   "outputs": [],
   "source": [
    "#dir(lrfit)"
   ]
  },
  {
   "cell_type": "code",
   "execution_count": 32,
   "id": "793d975d-844e-4e12-92f0-e0f9b5c82796",
   "metadata": {},
   "outputs": [
    {
     "data": {
      "text/plain": [
       "array([[-0.00840796, -2.48067048, -0.29642154, -0.00980207]])"
      ]
     },
     "execution_count": 32,
     "metadata": {},
     "output_type": "execute_result"
    }
   ],
   "source": [
    "lrfit.coef_"
   ]
  },
  {
   "cell_type": "code",
   "execution_count": 33,
   "id": "8bd867db-fc4f-4df5-ae4f-1baf3160664c",
   "metadata": {},
   "outputs": [
    {
     "data": {
      "text/plain": [
       "array([12.15251085,  0.41530167,  0.8385243 ,  0.69267132])"
      ]
     },
     "execution_count": 33,
     "metadata": {},
     "output_type": "execute_result"
    }
   ],
   "source": [
    "np.std(X.astype(\"float\"), axis=0)"
   ]
  },
  {
   "cell_type": "code",
   "execution_count": 34,
   "id": "4080419a-4f73-48c4-b6b0-b7e68aeedb51",
   "metadata": {},
   "outputs": [
    {
     "data": {
      "text/plain": [
       "array([-0.10217777, -1.03022659, -0.24855666, -0.00678961])"
      ]
     },
     "execution_count": 34,
     "metadata": {},
     "output_type": "execute_result"
    }
   ],
   "source": [
    "np.multiply( lrfit.coef_[0] , np.std(X.astype(\"float\"), axis=0))"
   ]
  },
  {
   "cell_type": "code",
   "execution_count": null,
   "id": "82f1eaaf-5c96-46fc-8c5d-4b937caaf976",
   "metadata": {},
   "outputs": [],
   "source": [
    "#help(lrfit)"
   ]
  },
  {
   "cell_type": "code",
   "execution_count": null,
   "id": "ba840fb2-c9dc-4ae1-9471-89d159c9e403",
   "metadata": {},
   "outputs": [],
   "source": [
    "# X = titanic[[\"age\", \"Gender\", \"sibsp\", \"parch\" ]].values"
   ]
  },
  {
   "cell_type": "markdown",
   "id": "4cabf131-c69c-417a-ac71-5389628cd01b",
   "metadata": {},
   "source": [
    "Eyeballing these scaled-coefficient values, Gender and presence of siblings \n",
    "seem to be most important, but we don't yet use class / employee status"
   ]
  },
  {
   "cell_type": "code",
   "execution_count": 35,
   "id": "0472c30d-d5de-4742-8844-c876377dba51",
   "metadata": {},
   "outputs": [
    {
     "data": {
      "text/plain": [
       "array([[1373,  123],\n",
       "       [ 352,  359]])"
      ]
     },
     "execution_count": 35,
     "metadata": {},
     "output_type": "execute_result"
    }
   ],
   "source": [
    "# sklearn has a convenience function to collate the confusion matrix.\n",
    "# This is a binary problem.. \n",
    "\n",
    "from sklearn.metrics import confusion_matrix\n",
    "confusion_matrix(Y, lrfit.predict(X))"
   ]
  },
  {
   "cell_type": "code",
   "execution_count": 36,
   "id": "6d196420-fc9b-4380-8f91-daa05f1df4f4",
   "metadata": {},
   "outputs": [
    {
     "data": {
      "text/plain": [
       "0.7847757136384232"
      ]
     },
     "execution_count": 36,
     "metadata": {},
     "output_type": "execute_result"
    }
   ],
   "source": [
    "np.trace(confusion_matrix(Y, lrfit.predict(X))) / np.sum(confusion_matrix(Y, lrfit.predict(X)))"
   ]
  },
  {
   "cell_type": "code",
   "execution_count": 39,
   "id": "d4e42421-7ada-4cc1-a4ab-89f1226a96b2",
   "metadata": {},
   "outputs": [
    {
     "data": {
      "text/plain": [
       "(array([[-0.00840796, -2.48067048, -0.29642154, -0.00980207]]),\n",
       " array([1.44128572]))"
      ]
     },
     "execution_count": 39,
     "metadata": {},
     "output_type": "execute_result"
    }
   ],
   "source": [
    "lrfit.coef_, lrfit.intercept_"
   ]
  },
  {
   "cell_type": "code",
   "execution_count": null,
   "id": "55749313-5015-4f59-916b-a8d7021fd41e",
   "metadata": {},
   "outputs": [],
   "source": []
  },
  {
   "cell_type": "code",
   "execution_count": 37,
   "id": "db3c6e13-b2b9-4d82-a1e8-7406516b39ea",
   "metadata": {},
   "outputs": [
    {
     "data": {
      "text/plain": [
       "0.6778432260987766"
      ]
     },
     "execution_count": 37,
     "metadata": {},
     "output_type": "execute_result"
    }
   ],
   "source": [
    "1-titanic.Survived.mean()"
   ]
  },
  {
   "cell_type": "code",
   "execution_count": null,
   "id": "ea74ce79-56ce-423f-8ff0-2cbfb986394b",
   "metadata": {},
   "outputs": [],
   "source": [
    "# If we predicted \"Everybody dies\" we would have 1 - 0.322 = 0.678   accuracy."
   ]
  },
  {
   "cell_type": "code",
   "execution_count": 42,
   "id": "370ff20a-e734-4958-aaa5-b3aeee929d62",
   "metadata": {},
   "outputs": [
    {
     "data": {
      "text/plain": [
       "3rd                 709\n",
       "victualling crew    431\n",
       "1st                 324\n",
       "engineering crew    324\n",
       "2nd                 284\n",
       "restaurant staff     69\n",
       "deck crew            66\n",
       "Name: Class, dtype: int64"
      ]
     },
     "execution_count": 42,
     "metadata": {},
     "output_type": "execute_result"
    }
   ],
   "source": [
    "titanic.Class.value_counts()"
   ]
  },
  {
   "cell_type": "code",
   "execution_count": 43,
   "id": "c358fed5-b4d5-4527-990f-f1f8eeedf06c",
   "metadata": {},
   "outputs": [],
   "source": [
    "from sklearn.preprocessing import OneHotEncoder"
   ]
  },
  {
   "cell_type": "code",
   "execution_count": 44,
   "id": "24f98cf1-b0b0-4a43-a1fd-6479e134496e",
   "metadata": {},
   "outputs": [
    {
     "ename": "ValueError",
     "evalue": "Expected 2D array, got 1D array instead:\narray=['3rd' '3rd' '3rd' ... 'engineering crew' 'restaurant staff'\n 'restaurant staff'].\nReshape your data either using array.reshape(-1, 1) if your data has a single feature or array.reshape(1, -1) if it contains a single sample.",
     "output_type": "error",
     "traceback": [
      "\u001b[0;31m---------------------------------------------------------------------------\u001b[0m",
      "\u001b[0;31mValueError\u001b[0m                                Traceback (most recent call last)",
      "Cell \u001b[0;32mIn[44], line 1\u001b[0m\n\u001b[0;32m----> 1\u001b[0m CLASSX \u001b[38;5;241m=\u001b[39m \u001b[43mOneHotEncoder\u001b[49m\u001b[43m(\u001b[49m\u001b[43m)\u001b[49m\u001b[38;5;241;43m.\u001b[39;49m\u001b[43mfit\u001b[49m\u001b[43m(\u001b[49m\u001b[43mtitanic\u001b[49m\u001b[38;5;241;43m.\u001b[39;49m\u001b[43mClass\u001b[49m\u001b[43m)\u001b[49m\n",
      "File \u001b[0;32m/Users/Shared/anaconda3/lib/python3.9/site-packages/sklearn/preprocessing/_encoders.py:461\u001b[0m, in \u001b[0;36mOneHotEncoder.fit\u001b[0;34m(self, X, y)\u001b[0m\n\u001b[1;32m    443\u001b[0m \u001b[38;5;124;03m\"\"\"\u001b[39;00m\n\u001b[1;32m    444\u001b[0m \u001b[38;5;124;03mFit OneHotEncoder to X.\u001b[39;00m\n\u001b[1;32m    445\u001b[0m \n\u001b[0;32m   (...)\u001b[0m\n\u001b[1;32m    458\u001b[0m \u001b[38;5;124;03m    Fitted encoder.\u001b[39;00m\n\u001b[1;32m    459\u001b[0m \u001b[38;5;124;03m\"\"\"\u001b[39;00m\n\u001b[1;32m    460\u001b[0m \u001b[38;5;28mself\u001b[39m\u001b[38;5;241m.\u001b[39m_validate_keywords()\n\u001b[0;32m--> 461\u001b[0m \u001b[38;5;28;43mself\u001b[39;49m\u001b[38;5;241;43m.\u001b[39;49m\u001b[43m_fit\u001b[49m\u001b[43m(\u001b[49m\u001b[43mX\u001b[49m\u001b[43m,\u001b[49m\u001b[43m \u001b[49m\u001b[43mhandle_unknown\u001b[49m\u001b[38;5;241;43m=\u001b[39;49m\u001b[38;5;28;43mself\u001b[39;49m\u001b[38;5;241;43m.\u001b[39;49m\u001b[43mhandle_unknown\u001b[49m\u001b[43m,\u001b[49m\u001b[43m \u001b[49m\u001b[43mforce_all_finite\u001b[49m\u001b[38;5;241;43m=\u001b[39;49m\u001b[38;5;124;43m\"\u001b[39;49m\u001b[38;5;124;43mallow-nan\u001b[39;49m\u001b[38;5;124;43m\"\u001b[39;49m\u001b[43m)\u001b[49m\n\u001b[1;32m    462\u001b[0m \u001b[38;5;28mself\u001b[39m\u001b[38;5;241m.\u001b[39mdrop_idx_ \u001b[38;5;241m=\u001b[39m \u001b[38;5;28mself\u001b[39m\u001b[38;5;241m.\u001b[39m_compute_drop_idx()\n\u001b[1;32m    463\u001b[0m \u001b[38;5;28;01mreturn\u001b[39;00m \u001b[38;5;28mself\u001b[39m\n",
      "File \u001b[0;32m/Users/Shared/anaconda3/lib/python3.9/site-packages/sklearn/preprocessing/_encoders.py:77\u001b[0m, in \u001b[0;36m_BaseEncoder._fit\u001b[0;34m(self, X, handle_unknown, force_all_finite)\u001b[0m\n\u001b[1;32m     75\u001b[0m \u001b[38;5;28mself\u001b[39m\u001b[38;5;241m.\u001b[39m_check_n_features(X, reset\u001b[38;5;241m=\u001b[39m\u001b[38;5;28;01mTrue\u001b[39;00m)\n\u001b[1;32m     76\u001b[0m \u001b[38;5;28mself\u001b[39m\u001b[38;5;241m.\u001b[39m_check_feature_names(X, reset\u001b[38;5;241m=\u001b[39m\u001b[38;5;28;01mTrue\u001b[39;00m)\n\u001b[0;32m---> 77\u001b[0m X_list, n_samples, n_features \u001b[38;5;241m=\u001b[39m \u001b[38;5;28;43mself\u001b[39;49m\u001b[38;5;241;43m.\u001b[39;49m\u001b[43m_check_X\u001b[49m\u001b[43m(\u001b[49m\n\u001b[1;32m     78\u001b[0m \u001b[43m    \u001b[49m\u001b[43mX\u001b[49m\u001b[43m,\u001b[49m\u001b[43m \u001b[49m\u001b[43mforce_all_finite\u001b[49m\u001b[38;5;241;43m=\u001b[39;49m\u001b[43mforce_all_finite\u001b[49m\n\u001b[1;32m     79\u001b[0m \u001b[43m\u001b[49m\u001b[43m)\u001b[49m\n\u001b[1;32m     80\u001b[0m \u001b[38;5;28mself\u001b[39m\u001b[38;5;241m.\u001b[39mn_features_in_ \u001b[38;5;241m=\u001b[39m n_features\n\u001b[1;32m     82\u001b[0m \u001b[38;5;28;01mif\u001b[39;00m \u001b[38;5;28mself\u001b[39m\u001b[38;5;241m.\u001b[39mcategories \u001b[38;5;241m!=\u001b[39m \u001b[38;5;124m\"\u001b[39m\u001b[38;5;124mauto\u001b[39m\u001b[38;5;124m\"\u001b[39m:\n",
      "File \u001b[0;32m/Users/Shared/anaconda3/lib/python3.9/site-packages/sklearn/preprocessing/_encoders.py:44\u001b[0m, in \u001b[0;36m_BaseEncoder._check_X\u001b[0;34m(self, X, force_all_finite)\u001b[0m\n\u001b[1;32m     31\u001b[0m \u001b[38;5;124;03m\"\"\"\u001b[39;00m\n\u001b[1;32m     32\u001b[0m \u001b[38;5;124;03mPerform custom check_array:\u001b[39;00m\n\u001b[1;32m     33\u001b[0m \u001b[38;5;124;03m- convert list of strings to object dtype\u001b[39;00m\n\u001b[0;32m   (...)\u001b[0m\n\u001b[1;32m     40\u001b[0m \n\u001b[1;32m     41\u001b[0m \u001b[38;5;124;03m\"\"\"\u001b[39;00m\n\u001b[1;32m     42\u001b[0m \u001b[38;5;28;01mif\u001b[39;00m \u001b[38;5;129;01mnot\u001b[39;00m (\u001b[38;5;28mhasattr\u001b[39m(X, \u001b[38;5;124m\"\u001b[39m\u001b[38;5;124miloc\u001b[39m\u001b[38;5;124m\"\u001b[39m) \u001b[38;5;129;01mand\u001b[39;00m \u001b[38;5;28mgetattr\u001b[39m(X, \u001b[38;5;124m\"\u001b[39m\u001b[38;5;124mndim\u001b[39m\u001b[38;5;124m\"\u001b[39m, \u001b[38;5;241m0\u001b[39m) \u001b[38;5;241m==\u001b[39m \u001b[38;5;241m2\u001b[39m):\n\u001b[1;32m     43\u001b[0m     \u001b[38;5;66;03m# if not a dataframe, do normal check_array validation\u001b[39;00m\n\u001b[0;32m---> 44\u001b[0m     X_temp \u001b[38;5;241m=\u001b[39m \u001b[43mcheck_array\u001b[49m\u001b[43m(\u001b[49m\u001b[43mX\u001b[49m\u001b[43m,\u001b[49m\u001b[43m \u001b[49m\u001b[43mdtype\u001b[49m\u001b[38;5;241;43m=\u001b[39;49m\u001b[38;5;28;43;01mNone\u001b[39;49;00m\u001b[43m,\u001b[49m\u001b[43m \u001b[49m\u001b[43mforce_all_finite\u001b[49m\u001b[38;5;241;43m=\u001b[39;49m\u001b[43mforce_all_finite\u001b[49m\u001b[43m)\u001b[49m\n\u001b[1;32m     45\u001b[0m     \u001b[38;5;28;01mif\u001b[39;00m \u001b[38;5;129;01mnot\u001b[39;00m \u001b[38;5;28mhasattr\u001b[39m(X, \u001b[38;5;124m\"\u001b[39m\u001b[38;5;124mdtype\u001b[39m\u001b[38;5;124m\"\u001b[39m) \u001b[38;5;129;01mand\u001b[39;00m np\u001b[38;5;241m.\u001b[39missubdtype(X_temp\u001b[38;5;241m.\u001b[39mdtype, np\u001b[38;5;241m.\u001b[39mstr_):\n\u001b[1;32m     46\u001b[0m         X \u001b[38;5;241m=\u001b[39m check_array(X, dtype\u001b[38;5;241m=\u001b[39m\u001b[38;5;28mobject\u001b[39m, force_all_finite\u001b[38;5;241m=\u001b[39mforce_all_finite)\n",
      "File \u001b[0;32m/Users/Shared/anaconda3/lib/python3.9/site-packages/sklearn/utils/validation.py:769\u001b[0m, in \u001b[0;36mcheck_array\u001b[0;34m(array, accept_sparse, accept_large_sparse, dtype, order, copy, force_all_finite, ensure_2d, allow_nd, ensure_min_samples, ensure_min_features, estimator)\u001b[0m\n\u001b[1;32m    767\u001b[0m     \u001b[38;5;66;03m# If input is 1D raise error\u001b[39;00m\n\u001b[1;32m    768\u001b[0m     \u001b[38;5;28;01mif\u001b[39;00m array\u001b[38;5;241m.\u001b[39mndim \u001b[38;5;241m==\u001b[39m \u001b[38;5;241m1\u001b[39m:\n\u001b[0;32m--> 769\u001b[0m         \u001b[38;5;28;01mraise\u001b[39;00m \u001b[38;5;167;01mValueError\u001b[39;00m(\n\u001b[1;32m    770\u001b[0m             \u001b[38;5;124m\"\u001b[39m\u001b[38;5;124mExpected 2D array, got 1D array instead:\u001b[39m\u001b[38;5;130;01m\\n\u001b[39;00m\u001b[38;5;124marray=\u001b[39m\u001b[38;5;132;01m{}\u001b[39;00m\u001b[38;5;124m.\u001b[39m\u001b[38;5;130;01m\\n\u001b[39;00m\u001b[38;5;124m\"\u001b[39m\n\u001b[1;32m    771\u001b[0m             \u001b[38;5;124m\"\u001b[39m\u001b[38;5;124mReshape your data either using array.reshape(-1, 1) if \u001b[39m\u001b[38;5;124m\"\u001b[39m\n\u001b[1;32m    772\u001b[0m             \u001b[38;5;124m\"\u001b[39m\u001b[38;5;124myour data has a single feature or array.reshape(1, -1) \u001b[39m\u001b[38;5;124m\"\u001b[39m\n\u001b[1;32m    773\u001b[0m             \u001b[38;5;124m\"\u001b[39m\u001b[38;5;124mif it contains a single sample.\u001b[39m\u001b[38;5;124m\"\u001b[39m\u001b[38;5;241m.\u001b[39mformat(array)\n\u001b[1;32m    774\u001b[0m         )\n\u001b[1;32m    776\u001b[0m \u001b[38;5;66;03m# make sure we actually converted to numeric:\u001b[39;00m\n\u001b[1;32m    777\u001b[0m \u001b[38;5;28;01mif\u001b[39;00m dtype_numeric \u001b[38;5;129;01mand\u001b[39;00m array\u001b[38;5;241m.\u001b[39mdtype\u001b[38;5;241m.\u001b[39mkind \u001b[38;5;129;01min\u001b[39;00m \u001b[38;5;124m\"\u001b[39m\u001b[38;5;124mOUSV\u001b[39m\u001b[38;5;124m\"\u001b[39m:\n",
      "\u001b[0;31mValueError\u001b[0m: Expected 2D array, got 1D array instead:\narray=['3rd' '3rd' '3rd' ... 'engineering crew' 'restaurant staff'\n 'restaurant staff'].\nReshape your data either using array.reshape(-1, 1) if your data has a single feature or array.reshape(1, -1) if it contains a single sample."
     ]
    }
   ],
   "source": [
    "CLASSX = OneHotEncoder().fit(titanic.Class)"
   ]
  },
  {
   "cell_type": "code",
   "execution_count": 45,
   "id": "862accfa-3cb8-483b-a649-aa3713da38a0",
   "metadata": {},
   "outputs": [
    {
     "data": {
      "text/plain": [
       "<2207x7 sparse matrix of type '<class 'numpy.float64'>'\n",
       "\twith 2207 stored elements in Compressed Sparse Row format>"
      ]
     },
     "execution_count": 45,
     "metadata": {},
     "output_type": "execute_result"
    }
   ],
   "source": [
    "encoder = OneHotEncoder().fit(titanic.Class.values.reshape(-1, 1))\n",
    "encoder.transform(titanic.Class.values.reshape(-1, 1))"
   ]
  },
  {
   "cell_type": "code",
   "execution_count": null,
   "id": "041fc68f-c281-4809-9e0a-656f6bec9191",
   "metadata": {},
   "outputs": [],
   "source": [
    "# This has a sparse output .. this might cause something downstream to \n",
    "# have indigestion.. \n",
    "# Documentation says https://scikit-learn.org/stable/modules/generated/sklearn.preprocessing.OneHotEncoder.html \n",
    "# OneHotEncoder() takes sparse_output=False option..."
   ]
  },
  {
   "cell_type": "code",
   "execution_count": 46,
   "id": "b09739fa-9ecf-477d-9b95-1974f864d1b1",
   "metadata": {},
   "outputs": [
    {
     "ename": "TypeError",
     "evalue": "__init__() got an unexpected keyword argument 'sparse_output'",
     "output_type": "error",
     "traceback": [
      "\u001b[0;31m---------------------------------------------------------------------------\u001b[0m",
      "\u001b[0;31mTypeError\u001b[0m                                 Traceback (most recent call last)",
      "Cell \u001b[0;32mIn[46], line 1\u001b[0m\n\u001b[0;32m----> 1\u001b[0m encoder \u001b[38;5;241m=\u001b[39m \u001b[43mOneHotEncoder\u001b[49m\u001b[43m(\u001b[49m\u001b[43msparse_output\u001b[49m\u001b[38;5;241;43m=\u001b[39;49m\u001b[38;5;28;43;01mFalse\u001b[39;49;00m\u001b[43m)\u001b[49m\u001b[38;5;241m.\u001b[39mfit(titanic\u001b[38;5;241m.\u001b[39mClass\u001b[38;5;241m.\u001b[39mvalues\u001b[38;5;241m.\u001b[39mreshape(\u001b[38;5;241m-\u001b[39m\u001b[38;5;241m1\u001b[39m, \u001b[38;5;241m1\u001b[39m))\n\u001b[1;32m      2\u001b[0m encoder\u001b[38;5;241m.\u001b[39mtransform(titanic\u001b[38;5;241m.\u001b[39mClass\u001b[38;5;241m.\u001b[39mvalues\u001b[38;5;241m.\u001b[39mreshape(\u001b[38;5;241m-\u001b[39m\u001b[38;5;241m1\u001b[39m, \u001b[38;5;241m1\u001b[39m))\n",
      "\u001b[0;31mTypeError\u001b[0m: __init__() got an unexpected keyword argument 'sparse_output'"
     ]
    }
   ],
   "source": [
    "encoder = OneHotEncoder(sparse_output=False).fit(titanic.Class.values.reshape(-1, 1))\n",
    "encoder.transform(titanic.Class.values.reshape(-1, 1))"
   ]
  },
  {
   "cell_type": "code",
   "execution_count": 47,
   "id": "700c3673-dd21-4983-9e70-257322249146",
   "metadata": {},
   "outputs": [
    {
     "data": {
      "text/plain": [
       "array([[0., 0., 1., ..., 0., 0., 0.],\n",
       "       [0., 0., 1., ..., 0., 0., 0.],\n",
       "       [0., 0., 1., ..., 0., 0., 0.],\n",
       "       ...,\n",
       "       [0., 0., 0., ..., 1., 0., 0.],\n",
       "       [0., 0., 0., ..., 0., 1., 0.],\n",
       "       [0., 0., 0., ..., 0., 1., 0.]])"
      ]
     },
     "execution_count": 47,
     "metadata": {},
     "output_type": "execute_result"
    }
   ],
   "source": [
    "# My version of sklearn does not match the documentation...\n",
    "encoder = OneHotEncoder(sparse=False).fit(titanic.Class.values.reshape(-1, 1))\n",
    "CLASSX = encoder.transform(titanic.Class.values.reshape(-1, 1))\n",
    "CLASSX"
   ]
  },
  {
   "cell_type": "code",
   "execution_count": 50,
   "id": "883896d3-4055-4de6-9adb-cc36f3e6ddec",
   "metadata": {},
   "outputs": [
    {
     "data": {
      "text/plain": [
       "(2207, 7)"
      ]
     },
     "execution_count": 50,
     "metadata": {},
     "output_type": "execute_result"
    }
   ],
   "source": [
    "CLASSX.shape"
   ]
  },
  {
   "cell_type": "code",
   "execution_count": 48,
   "id": "3a29ee91-1841-4506-a722-2313cfee5bc5",
   "metadata": {},
   "outputs": [
    {
     "data": {
      "text/plain": [
       "[array(['1st', '2nd', '3rd', 'deck crew', 'engineering crew',\n",
       "        'restaurant staff', 'victualling crew'], dtype=object)]"
      ]
     },
     "execution_count": 48,
     "metadata": {},
     "output_type": "execute_result"
    }
   ],
   "source": [
    "# I can't use this without more information...  uh.. \n",
    "# OneHotEncoder().categories_\n",
    "encoder.categories_"
   ]
  },
  {
   "cell_type": "code",
   "execution_count": 49,
   "id": "5cc16e00-4761-4560-a476-ae97dbe42eda",
   "metadata": {},
   "outputs": [],
   "source": [
    "XAUGMENTED = np.hstack([X, CLASSX])"
   ]
  },
  {
   "cell_type": "code",
   "execution_count": null,
   "id": "39a368fc-5933-427d-8d35-8a8b0959aa61",
   "metadata": {},
   "outputs": [],
   "source": [
    "XAUGMENTED.shape"
   ]
  },
  {
   "cell_type": "code",
   "execution_count": 52,
   "id": "d2dc796f-c1ec-4164-bf06-eed8901bb396",
   "metadata": {},
   "outputs": [
    {
     "data": {
      "text/plain": [
       "['age',\n",
       " 'Gender',\n",
       " 'sibsp',\n",
       " 'parch',\n",
       " '1st',\n",
       " '2nd',\n",
       " '3rd',\n",
       " 'deck crew',\n",
       " 'engineering crew',\n",
       " 'restaurant staff',\n",
       " 'victualling crew']"
      ]
     },
     "execution_count": 52,
     "metadata": {},
     "output_type": "execute_result"
    }
   ],
   "source": [
    "# For my sanity, keep track of labels:\n",
    "XLABELS = [\"age\", \"Gender\", \"sibsp\", \"parch\"] + list(encoder.categories_[0])\n",
    "XLABELS"
   ]
  },
  {
   "cell_type": "code",
   "execution_count": 53,
   "id": "c36e53ab-5f79-4ce4-b249-8965c3626bad",
   "metadata": {},
   "outputs": [
    {
     "name": "stderr",
     "output_type": "stream",
     "text": [
      "/Users/Shared/anaconda3/lib/python3.9/site-packages/sklearn/linear_model/_logistic.py:814: ConvergenceWarning: lbfgs failed to converge (status=1):\n",
      "STOP: TOTAL NO. of ITERATIONS REACHED LIMIT.\n",
      "\n",
      "Increase the number of iterations (max_iter) or scale the data as shown in:\n",
      "    https://scikit-learn.org/stable/modules/preprocessing.html\n",
      "Please also refer to the documentation for alternative solver options:\n",
      "    https://scikit-learn.org/stable/modules/linear_model.html#logistic-regression\n",
      "  n_iter_i = _check_optimize_result(\n"
     ]
    }
   ],
   "source": [
    "lrfit2 = LogisticRegression().fit (XAUGMENTED, Y)"
   ]
  },
  {
   "cell_type": "code",
   "execution_count": 54,
   "id": "f5a74d82-9e20-4183-b40a-50e4df9f4312",
   "metadata": {},
   "outputs": [
    {
     "data": {
      "text/plain": [
       "array([[-0.03627946, -2.62126151, -0.35030629,  0.01681492,  1.50274916,\n",
       "         0.17621622, -0.7564625 ,  2.07022422,  0.18050892, -1.50395538,\n",
       "         0.05974128]])"
      ]
     },
     "execution_count": 54,
     "metadata": {},
     "output_type": "execute_result"
    }
   ],
   "source": [
    "lrfit2.coef_"
   ]
  },
  {
   "cell_type": "code",
   "execution_count": 55,
   "id": "02d3659f-6537-47a7-b17f-a87f933f3dc9",
   "metadata": {},
   "outputs": [
    {
     "data": {
      "text/plain": [
       "array([12.15251085,  0.41530167,  0.8385243 ,  0.69267132,  0.35391204,\n",
       "        0.33484705,  0.46695679,  0.17032483,  0.35391204,  0.17403078,\n",
       "        0.39642203])"
      ]
     },
     "execution_count": 55,
     "metadata": {},
     "output_type": "execute_result"
    }
   ],
   "source": [
    "np.std(XAUGMENTED.astype(\"float\"), axis=0)"
   ]
  },
  {
   "cell_type": "code",
   "execution_count": 56,
   "id": "b0ae7ca9-f6b3-45f6-b83d-1a650702003d",
   "metadata": {},
   "outputs": [
    {
     "name": "stdout",
     "output_type": "stream",
     "text": [
      "['age', 'Gender', 'sibsp', 'parch', '1st', '2nd', '3rd', 'deck crew', 'engineering crew', 'restaurant staff', 'victualling crew']\n"
     ]
    },
    {
     "data": {
      "text/plain": [
       "array([[-0.44088654, -1.08861428, -0.29374034,  0.01164722,  0.53184101,\n",
       "         0.05900548, -0.3532353 ,  0.35261059,  0.06388428, -0.26173453,\n",
       "         0.02368276]])"
      ]
     },
     "execution_count": 56,
     "metadata": {},
     "output_type": "execute_result"
    }
   ],
   "source": [
    "print(XLABELS)\n",
    "np.multiply (np.std(XAUGMENTED.astype(\"float\"), axis=0), lrfit2.coef_)\n"
   ]
  },
  {
   "cell_type": "code",
   "execution_count": 57,
   "id": "cd3f2b70-a704-47d5-a9eb-49174168fd27",
   "metadata": {},
   "outputs": [
    {
     "data": {
      "text/html": [
       "<div>\n",
       "<style scoped>\n",
       "    .dataframe tbody tr th:only-of-type {\n",
       "        vertical-align: middle;\n",
       "    }\n",
       "\n",
       "    .dataframe tbody tr th {\n",
       "        vertical-align: top;\n",
       "    }\n",
       "\n",
       "    .dataframe thead th {\n",
       "        text-align: right;\n",
       "    }\n",
       "</style>\n",
       "<table border=\"1\" class=\"dataframe\">\n",
       "  <thead>\n",
       "    <tr style=\"text-align: right;\">\n",
       "      <th></th>\n",
       "      <th>age</th>\n",
       "      <th>Gender</th>\n",
       "      <th>sibsp</th>\n",
       "      <th>parch</th>\n",
       "      <th>1st</th>\n",
       "      <th>2nd</th>\n",
       "      <th>3rd</th>\n",
       "      <th>deck crew</th>\n",
       "      <th>engineering crew</th>\n",
       "      <th>restaurant staff</th>\n",
       "      <th>victualling crew</th>\n",
       "    </tr>\n",
       "  </thead>\n",
       "  <tbody>\n",
       "    <tr>\n",
       "      <th>0</th>\n",
       "      <td>-0.440887</td>\n",
       "      <td>-1.088614</td>\n",
       "      <td>-0.29374</td>\n",
       "      <td>0.011647</td>\n",
       "      <td>0.531841</td>\n",
       "      <td>0.059005</td>\n",
       "      <td>-0.353235</td>\n",
       "      <td>0.352611</td>\n",
       "      <td>0.063884</td>\n",
       "      <td>-0.261735</td>\n",
       "      <td>0.023683</td>\n",
       "    </tr>\n",
       "  </tbody>\n",
       "</table>\n",
       "</div>"
      ],
      "text/plain": [
       "        age    Gender    sibsp     parch       1st       2nd       3rd  \\\n",
       "0 -0.440887 -1.088614 -0.29374  0.011647  0.531841  0.059005 -0.353235   \n",
       "\n",
       "   deck crew  engineering crew  restaurant staff  victualling crew  \n",
       "0   0.352611          0.063884         -0.261735          0.023683  "
      ]
     },
     "execution_count": 57,
     "metadata": {},
     "output_type": "execute_result"
    }
   ],
   "source": [
    "coefficients = pd.DataFrame( np.multiply (np.std(XAUGMENTED.astype(\"float\"), axis=0), lrfit2.coef_)\n",
    " , columns = XLABELS) \n",
    "coefficients"
   ]
  },
  {
   "cell_type": "code",
   "execution_count": 58,
   "id": "64480ab9-28d0-45b1-b4b4-1c8224c724ad",
   "metadata": {},
   "outputs": [
    {
     "data": {
      "text/plain": [
       "array([[1356,  140],\n",
       "       [ 308,  403]])"
      ]
     },
     "execution_count": 58,
     "metadata": {},
     "output_type": "execute_result"
    }
   ],
   "source": [
    "confusion_matrix( Y , lrfit2.predict(XAUGMENTED) ) "
   ]
  },
  {
   "cell_type": "code",
   "execution_count": 59,
   "id": "6bd14cbc-e501-40e1-8bbe-04607ce725fa",
   "metadata": {},
   "outputs": [
    {
     "data": {
      "text/plain": [
       "0.797009515178976"
      ]
     },
     "execution_count": 59,
     "metadata": {},
     "output_type": "execute_result"
    }
   ],
   "source": [
    "np.trace(confusion_matrix( Y , lrfit2.predict(XAUGMENTED) ) ) / len(titanic)"
   ]
  },
  {
   "cell_type": "code",
   "execution_count": null,
   "id": "47097f64-8144-4536-8982-c73362c16f2a",
   "metadata": {},
   "outputs": [],
   "source": [
    "# Adding class has brought the accuracy from 79 to 80 % \n"
   ]
  },
  {
   "cell_type": "code",
   "execution_count": null,
   "id": "de793ba8-17ad-43bb-a863-052ec15a6f8b",
   "metadata": {},
   "outputs": [],
   "source": [
    "# But we are cheating; we are evaluating on the same data that \n",
    "# we trained on.    sklearn has methods to handle out-of-bag evaluation\n",
    "# for us, lest we mislead ourselves:\n",
    "\n"
   ]
  },
  {
   "cell_type": "code",
   "execution_count": 60,
   "id": "8b90464c-3c9e-45a0-8b28-e01e11bfe6d2",
   "metadata": {},
   "outputs": [],
   "source": [
    "#  https://scikit-learn.org/stable/modules/generated/sklearn.model_selection.cross_val_score.html\n",
    "\n",
    "from sklearn.model_selection import cross_val_score\n",
    "# cross_val_score(<model>, x, y, cv=<fold>) "
   ]
  },
  {
   "cell_type": "code",
   "execution_count": 61,
   "id": "691c857c-6b62-4b42-b671-d74a0102caa3",
   "metadata": {},
   "outputs": [
    {
     "data": {
      "text/plain": [
       "array([0.79891304, 0.79347826, 0.8442029 , 0.70235935])"
      ]
     },
     "execution_count": 61,
     "metadata": {},
     "output_type": "execute_result"
    }
   ],
   "source": [
    "cross_val_score(lrfit, X, Y, cv=4)"
   ]
  },
  {
   "cell_type": "code",
   "execution_count": null,
   "id": "1bbc47af-4b83-405a-9902-84ece3f9ce95",
   "metadata": {},
   "outputs": [],
   "source": [
    "# And I think this must be the results of the four (random) partitions?"
   ]
  },
  {
   "cell_type": "code",
   "execution_count": null,
   "id": "ed5d8d96-e209-46d6-a3b5-7f1d028e9432",
   "metadata": {},
   "outputs": [],
   "source": [
    "# And I think this must be the results of the four (random) partitions?"
   ]
  },
  {
   "cell_type": "code",
   "execution_count": 62,
   "id": "f182865b-180a-4576-b818-ce74ad5fbc02",
   "metadata": {},
   "outputs": [
    {
     "data": {
      "text/plain": [
       "array([0.76582278, 0.82278481, 0.80379747, 0.77848101, 0.78481013,\n",
       "       0.77848101, 0.84177215, 0.83544304, 0.87341772, 0.87898089,\n",
       "       0.70700637, 0.7133758 , 0.70700637, 0.69426752])"
      ]
     },
     "execution_count": 62,
     "metadata": {},
     "output_type": "execute_result"
    }
   ],
   "source": [
    "lr14 = cross_val_score(lrfit, X, Y, cv=14)\n",
    "lr14"
   ]
  },
  {
   "cell_type": "code",
   "execution_count": 63,
   "id": "b9137d97-f9ae-401b-96ab-8e1072494ee6",
   "metadata": {},
   "outputs": [
    {
     "data": {
      "text/plain": [
       "0.7846747906612456"
      ]
     },
     "execution_count": 63,
     "metadata": {},
     "output_type": "execute_result"
    }
   ],
   "source": [
    "lr14.mean()"
   ]
  },
  {
   "cell_type": "code",
   "execution_count": 64,
   "id": "cd09e372-848c-49c1-abfa-1a9433c0a747",
   "metadata": {},
   "outputs": [
    {
     "name": "stderr",
     "output_type": "stream",
     "text": [
      "/Users/Shared/anaconda3/lib/python3.9/site-packages/sklearn/linear_model/_logistic.py:814: ConvergenceWarning: lbfgs failed to converge (status=1):\n",
      "STOP: TOTAL NO. of ITERATIONS REACHED LIMIT.\n",
      "\n",
      "Increase the number of iterations (max_iter) or scale the data as shown in:\n",
      "    https://scikit-learn.org/stable/modules/preprocessing.html\n",
      "Please also refer to the documentation for alternative solver options:\n",
      "    https://scikit-learn.org/stable/modules/linear_model.html#logistic-regression\n",
      "  n_iter_i = _check_optimize_result(\n",
      "/Users/Shared/anaconda3/lib/python3.9/site-packages/sklearn/linear_model/_logistic.py:814: ConvergenceWarning: lbfgs failed to converge (status=1):\n",
      "STOP: TOTAL NO. of ITERATIONS REACHED LIMIT.\n",
      "\n",
      "Increase the number of iterations (max_iter) or scale the data as shown in:\n",
      "    https://scikit-learn.org/stable/modules/preprocessing.html\n",
      "Please also refer to the documentation for alternative solver options:\n",
      "    https://scikit-learn.org/stable/modules/linear_model.html#logistic-regression\n",
      "  n_iter_i = _check_optimize_result(\n",
      "/Users/Shared/anaconda3/lib/python3.9/site-packages/sklearn/linear_model/_logistic.py:814: ConvergenceWarning: lbfgs failed to converge (status=1):\n",
      "STOP: TOTAL NO. of ITERATIONS REACHED LIMIT.\n",
      "\n",
      "Increase the number of iterations (max_iter) or scale the data as shown in:\n",
      "    https://scikit-learn.org/stable/modules/preprocessing.html\n",
      "Please also refer to the documentation for alternative solver options:\n",
      "    https://scikit-learn.org/stable/modules/linear_model.html#logistic-regression\n",
      "  n_iter_i = _check_optimize_result(\n",
      "/Users/Shared/anaconda3/lib/python3.9/site-packages/sklearn/linear_model/_logistic.py:814: ConvergenceWarning: lbfgs failed to converge (status=1):\n",
      "STOP: TOTAL NO. of ITERATIONS REACHED LIMIT.\n",
      "\n",
      "Increase the number of iterations (max_iter) or scale the data as shown in:\n",
      "    https://scikit-learn.org/stable/modules/preprocessing.html\n",
      "Please also refer to the documentation for alternative solver options:\n",
      "    https://scikit-learn.org/stable/modules/linear_model.html#logistic-regression\n",
      "  n_iter_i = _check_optimize_result(\n",
      "/Users/Shared/anaconda3/lib/python3.9/site-packages/sklearn/linear_model/_logistic.py:814: ConvergenceWarning: lbfgs failed to converge (status=1):\n",
      "STOP: TOTAL NO. of ITERATIONS REACHED LIMIT.\n",
      "\n",
      "Increase the number of iterations (max_iter) or scale the data as shown in:\n",
      "    https://scikit-learn.org/stable/modules/preprocessing.html\n",
      "Please also refer to the documentation for alternative solver options:\n",
      "    https://scikit-learn.org/stable/modules/linear_model.html#logistic-regression\n",
      "  n_iter_i = _check_optimize_result(\n",
      "/Users/Shared/anaconda3/lib/python3.9/site-packages/sklearn/linear_model/_logistic.py:814: ConvergenceWarning: lbfgs failed to converge (status=1):\n",
      "STOP: TOTAL NO. of ITERATIONS REACHED LIMIT.\n",
      "\n",
      "Increase the number of iterations (max_iter) or scale the data as shown in:\n",
      "    https://scikit-learn.org/stable/modules/preprocessing.html\n",
      "Please also refer to the documentation for alternative solver options:\n",
      "    https://scikit-learn.org/stable/modules/linear_model.html#logistic-regression\n",
      "  n_iter_i = _check_optimize_result(\n",
      "/Users/Shared/anaconda3/lib/python3.9/site-packages/sklearn/linear_model/_logistic.py:814: ConvergenceWarning: lbfgs failed to converge (status=1):\n",
      "STOP: TOTAL NO. of ITERATIONS REACHED LIMIT.\n",
      "\n",
      "Increase the number of iterations (max_iter) or scale the data as shown in:\n",
      "    https://scikit-learn.org/stable/modules/preprocessing.html\n",
      "Please also refer to the documentation for alternative solver options:\n",
      "    https://scikit-learn.org/stable/modules/linear_model.html#logistic-regression\n",
      "  n_iter_i = _check_optimize_result(\n",
      "/Users/Shared/anaconda3/lib/python3.9/site-packages/sklearn/linear_model/_logistic.py:814: ConvergenceWarning: lbfgs failed to converge (status=1):\n",
      "STOP: TOTAL NO. of ITERATIONS REACHED LIMIT.\n",
      "\n",
      "Increase the number of iterations (max_iter) or scale the data as shown in:\n",
      "    https://scikit-learn.org/stable/modules/preprocessing.html\n",
      "Please also refer to the documentation for alternative solver options:\n",
      "    https://scikit-learn.org/stable/modules/linear_model.html#logistic-regression\n",
      "  n_iter_i = _check_optimize_result(\n",
      "/Users/Shared/anaconda3/lib/python3.9/site-packages/sklearn/linear_model/_logistic.py:814: ConvergenceWarning: lbfgs failed to converge (status=1):\n",
      "STOP: TOTAL NO. of ITERATIONS REACHED LIMIT.\n",
      "\n",
      "Increase the number of iterations (max_iter) or scale the data as shown in:\n",
      "    https://scikit-learn.org/stable/modules/preprocessing.html\n",
      "Please also refer to the documentation for alternative solver options:\n",
      "    https://scikit-learn.org/stable/modules/linear_model.html#logistic-regression\n",
      "  n_iter_i = _check_optimize_result(\n",
      "/Users/Shared/anaconda3/lib/python3.9/site-packages/sklearn/linear_model/_logistic.py:814: ConvergenceWarning: lbfgs failed to converge (status=1):\n",
      "STOP: TOTAL NO. of ITERATIONS REACHED LIMIT.\n",
      "\n",
      "Increase the number of iterations (max_iter) or scale the data as shown in:\n",
      "    https://scikit-learn.org/stable/modules/preprocessing.html\n",
      "Please also refer to the documentation for alternative solver options:\n",
      "    https://scikit-learn.org/stable/modules/linear_model.html#logistic-regression\n",
      "  n_iter_i = _check_optimize_result(\n",
      "/Users/Shared/anaconda3/lib/python3.9/site-packages/sklearn/linear_model/_logistic.py:814: ConvergenceWarning: lbfgs failed to converge (status=1):\n",
      "STOP: TOTAL NO. of ITERATIONS REACHED LIMIT.\n",
      "\n",
      "Increase the number of iterations (max_iter) or scale the data as shown in:\n",
      "    https://scikit-learn.org/stable/modules/preprocessing.html\n",
      "Please also refer to the documentation for alternative solver options:\n",
      "    https://scikit-learn.org/stable/modules/linear_model.html#logistic-regression\n",
      "  n_iter_i = _check_optimize_result(\n",
      "/Users/Shared/anaconda3/lib/python3.9/site-packages/sklearn/linear_model/_logistic.py:814: ConvergenceWarning: lbfgs failed to converge (status=1):\n",
      "STOP: TOTAL NO. of ITERATIONS REACHED LIMIT.\n",
      "\n",
      "Increase the number of iterations (max_iter) or scale the data as shown in:\n",
      "    https://scikit-learn.org/stable/modules/preprocessing.html\n",
      "Please also refer to the documentation for alternative solver options:\n",
      "    https://scikit-learn.org/stable/modules/linear_model.html#logistic-regression\n",
      "  n_iter_i = _check_optimize_result(\n",
      "/Users/Shared/anaconda3/lib/python3.9/site-packages/sklearn/linear_model/_logistic.py:814: ConvergenceWarning: lbfgs failed to converge (status=1):\n",
      "STOP: TOTAL NO. of ITERATIONS REACHED LIMIT.\n",
      "\n",
      "Increase the number of iterations (max_iter) or scale the data as shown in:\n",
      "    https://scikit-learn.org/stable/modules/preprocessing.html\n",
      "Please also refer to the documentation for alternative solver options:\n",
      "    https://scikit-learn.org/stable/modules/linear_model.html#logistic-regression\n",
      "  n_iter_i = _check_optimize_result(\n",
      "/Users/Shared/anaconda3/lib/python3.9/site-packages/sklearn/linear_model/_logistic.py:814: ConvergenceWarning: lbfgs failed to converge (status=1):\n",
      "STOP: TOTAL NO. of ITERATIONS REACHED LIMIT.\n",
      "\n",
      "Increase the number of iterations (max_iter) or scale the data as shown in:\n",
      "    https://scikit-learn.org/stable/modules/preprocessing.html\n",
      "Please also refer to the documentation for alternative solver options:\n",
      "    https://scikit-learn.org/stable/modules/linear_model.html#logistic-regression\n",
      "  n_iter_i = _check_optimize_result(\n"
     ]
    },
    {
     "data": {
      "text/plain": [
       "0.7928669331152601"
      ]
     },
     "execution_count": 64,
     "metadata": {},
     "output_type": "execute_result"
    }
   ],
   "source": [
    "lr2_14 = cross_val_score(lrfit2, XAUGMENTED, Y, cv=14)\n",
    "lr2_14.mean()"
   ]
  },
  {
   "cell_type": "code",
   "execution_count": null,
   "id": "6da43ac6-d533-4027-93bd-cad62a37eec0",
   "metadata": {},
   "outputs": [],
   "source": [
    "# Just a tiny bit, 1% of overoptimism."
   ]
  },
  {
   "cell_type": "code",
   "execution_count": null,
   "id": "bb226199-28cc-4d94-b75b-a3ca0d8f1ccb",
   "metadata": {},
   "outputs": [],
   "source": [
    "# This is optimized for some loss function built into LogisticRegression.  \n",
    "# Can I change the balance between false positives and false negatives? \n",
    "# You bet!"
   ]
  },
  {
   "cell_type": "code",
   "execution_count": 65,
   "id": "23c5c03a-6a93-471f-92a6-d3369ed416d8",
   "metadata": {},
   "outputs": [
    {
     "data": {
      "text/plain": [
       "array([[1356,  140],\n",
       "       [ 308,  403]])"
      ]
     },
     "execution_count": 65,
     "metadata": {},
     "output_type": "execute_result"
    }
   ],
   "source": [
    "conf = confusion_matrix( Y , lrfit2.predict(XAUGMENTED) ) \n",
    "conf"
   ]
  },
  {
   "cell_type": "code",
   "execution_count": null,
   "id": "627f8652-9834-48b8-aafa-9c47568ad40a",
   "metadata": {},
   "outputs": [],
   "source": [
    "conf.sum(axis=1), conf.sum(axis=0)"
   ]
  },
  {
   "cell_type": "code",
   "execution_count": null,
   "id": "d04314f4-b25b-4e9f-9729-047c29c57e19",
   "metadata": {},
   "outputs": [],
   "source": [
    "sum(titanic.Survived)"
   ]
  },
  {
   "cell_type": "code",
   "execution_count": null,
   "id": "d9865d8d-413a-47aa-928a-46dfd07afe6a",
   "metadata": {},
   "outputs": [],
   "source": [
    "# So it's sum along rows that is the truth (Survived) and \n",
    "# columns is model prediciton."
   ]
  },
  {
   "cell_type": "markdown",
   "id": "4780a331-d6b8-46e5-b57c-281755a22e37",
   "metadata": {},
   "source": [
    "How do I change the false positive / false negative balance?"
   ]
  },
  {
   "cell_type": "code",
   "execution_count": null,
   "id": "dafa4e0b-fa68-4dc8-a021-069341eea449",
   "metadata": {},
   "outputs": [],
   "source": [
    "\n",
    "\n",
    "\n",
    "\n",
    "\n",
    "\n",
    "\n",
    "\n",
    "\n",
    "\n",
    "\n",
    "\n",
    "\n"
   ]
  },
  {
   "cell_type": "code",
   "execution_count": null,
   "id": "7439b3e3-2a9f-4ad3-8cba-7c25bbad6d50",
   "metadata": {},
   "outputs": [],
   "source": [
    "# (Answer I'm fishing for: we have to get a number out of LogisticRegression \n",
    "# that gives its \"confidence\" for each of the predictions."
   ]
  },
  {
   "cell_type": "code",
   "execution_count": 66,
   "id": "cdc50a0a-d89a-4fcc-80dc-9b4e14875437",
   "metadata": {},
   "outputs": [
    {
     "data": {
      "text/plain": [
       "array([0., 0., 0., ..., 0., 0., 0.])"
      ]
     },
     "execution_count": 66,
     "metadata": {},
     "output_type": "execute_result"
    }
   ],
   "source": [
    "lrfit2.predict(XAUGMENTED)"
   ]
  },
  {
   "cell_type": "code",
   "execution_count": 67,
   "id": "8435a1e9-3185-48d5-b7ea-5f5faae05028",
   "metadata": {},
   "outputs": [
    {
     "data": {
      "text/plain": [
       "Counter({0.0: 1664, 1.0: 543})"
      ]
     },
     "execution_count": 67,
     "metadata": {},
     "output_type": "execute_result"
    }
   ],
   "source": [
    "from collections import Counter\n",
    "\n",
    "Counter(lrfit2.predict(XAUGMENTED))"
   ]
  },
  {
   "cell_type": "code",
   "execution_count": 68,
   "id": "4ac77158-63d8-44a7-9b83-5bea50264986",
   "metadata": {},
   "outputs": [
    {
     "data": {
      "text/plain": [
       "array([[0.93276144, 0.06723856],\n",
       "       [0.82406986, 0.17593014],\n",
       "       [0.88289424, 0.11710576],\n",
       "       ...,\n",
       "       [0.79086322, 0.20913678],\n",
       "       [0.92951397, 0.07048603],\n",
       "       [0.94250938, 0.05749062]])"
      ]
     },
     "execution_count": 68,
     "metadata": {},
     "output_type": "execute_result"
    }
   ],
   "source": [
    "# Search-engining \"sklearn LogisticRegression predict probabilities\"\n",
    "# Not on the main sklearn documentation page, but\n",
    "# https://stackoverflow.com/questions/36681449/scikit-learn-return-value-of-logisticregression-predict-proba\n",
    "# points to .predict_proba() \n",
    "\n",
    "lrfit2.predict_proba(XAUGMENTED)"
   ]
  },
  {
   "cell_type": "code",
   "execution_count": 69,
   "id": "f9d8bbf7-a631-42d1-8992-9acd491b9a5e",
   "metadata": {},
   "outputs": [
    {
     "data": {
      "text/plain": [
       "array([1., 1., 1., ..., 1., 1., 1.])"
      ]
     },
     "execution_count": 69,
     "metadata": {},
     "output_type": "execute_result"
    }
   ],
   "source": [
    "# Someone has done us the convenience of preparing both p and (1-p) for us.\n",
    "lrfit2.predict_proba(XAUGMENTED).sum(axis=1)"
   ]
  },
  {
   "cell_type": "code",
   "execution_count": 70,
   "id": "5df9c28e-06c4-4ca8-85d0-b363c4003e09",
   "metadata": {},
   "outputs": [],
   "source": [
    "titanic[\"lrfit2_prob\"] = lrfit2.predict_proba(XAUGMENTED)[:,0] "
   ]
  },
  {
   "cell_type": "code",
   "execution_count": 71,
   "id": "a70344d7-3438-4157-afd6-ff3fd0898e12",
   "metadata": {},
   "outputs": [
    {
     "data": {
      "text/html": [
       "<div>\n",
       "<style scoped>\n",
       "    .dataframe tbody tr th:only-of-type {\n",
       "        vertical-align: middle;\n",
       "    }\n",
       "\n",
       "    .dataframe tbody tr th {\n",
       "        vertical-align: top;\n",
       "    }\n",
       "\n",
       "    .dataframe thead th {\n",
       "        text-align: right;\n",
       "    }\n",
       "</style>\n",
       "<table border=\"1\" class=\"dataframe\">\n",
       "  <thead>\n",
       "    <tr style=\"text-align: right;\">\n",
       "      <th></th>\n",
       "      <th>age</th>\n",
       "      <th>embarked</th>\n",
       "      <th>country</th>\n",
       "      <th>fare</th>\n",
       "      <th>sibsp</th>\n",
       "      <th>parch</th>\n",
       "      <th>Class</th>\n",
       "      <th>Gender</th>\n",
       "      <th>Survived</th>\n",
       "      <th>lrfit2_prob</th>\n",
       "    </tr>\n",
       "  </thead>\n",
       "  <tbody>\n",
       "    <tr>\n",
       "      <th>1607</th>\n",
       "      <td>26.0</td>\n",
       "      <td>Southampton</td>\n",
       "      <td>England</td>\n",
       "      <td>0.00</td>\n",
       "      <td>0.0</td>\n",
       "      <td>0.0</td>\n",
       "      <td>engineering crew</td>\n",
       "      <td>1.0</td>\n",
       "      <td>0.0</td>\n",
       "      <td>0.752587</td>\n",
       "    </tr>\n",
       "    <tr>\n",
       "      <th>520</th>\n",
       "      <td>48.0</td>\n",
       "      <td>Southampton</td>\n",
       "      <td>England</td>\n",
       "      <td>26.05</td>\n",
       "      <td>1.0</td>\n",
       "      <td>1.0</td>\n",
       "      <td>2nd</td>\n",
       "      <td>0.0</td>\n",
       "      <td>1.0</td>\n",
       "      <td>0.407848</td>\n",
       "    </tr>\n",
       "    <tr>\n",
       "      <th>1822</th>\n",
       "      <td>30.0</td>\n",
       "      <td>Belfast</td>\n",
       "      <td>England</td>\n",
       "      <td>0.00</td>\n",
       "      <td>0.0</td>\n",
       "      <td>0.0</td>\n",
       "      <td>deck crew</td>\n",
       "      <td>1.0</td>\n",
       "      <td>0.0</td>\n",
       "      <td>0.347026</td>\n",
       "    </tr>\n",
       "    <tr>\n",
       "      <th>1029</th>\n",
       "      <td>30.0</td>\n",
       "      <td>Southampton</td>\n",
       "      <td>Wales</td>\n",
       "      <td>8.01</td>\n",
       "      <td>0.0</td>\n",
       "      <td>0.0</td>\n",
       "      <td>3rd</td>\n",
       "      <td>1.0</td>\n",
       "      <td>0.0</td>\n",
       "      <td>0.899759</td>\n",
       "    </tr>\n",
       "  </tbody>\n",
       "</table>\n",
       "</div>"
      ],
      "text/plain": [
       "       age     embarked  country   fare  sibsp  parch             Class  \\\n",
       "1607  26.0  Southampton  England   0.00    0.0    0.0  engineering crew   \n",
       "520   48.0  Southampton  England  26.05    1.0    1.0               2nd   \n",
       "1822  30.0      Belfast  England   0.00    0.0    0.0         deck crew   \n",
       "1029  30.0  Southampton    Wales   8.01    0.0    0.0               3rd   \n",
       "\n",
       "      Gender  Survived  lrfit2_prob  \n",
       "1607     1.0       0.0     0.752587  \n",
       "520      0.0       1.0     0.407848  \n",
       "1822     1.0       0.0     0.347026  \n",
       "1029     1.0       0.0     0.899759  "
      ]
     },
     "execution_count": 71,
     "metadata": {},
     "output_type": "execute_result"
    }
   ],
   "source": [
    "titanic.sample(4)"
   ]
  },
  {
   "cell_type": "code",
   "execution_count": 72,
   "id": "261df44b-b434-4af8-83e5-83e9567fed38",
   "metadata": {},
   "outputs": [
    {
     "data": {
      "text/plain": [
       "(array([ 34.,  40.,  42.,  29.,  31.,  27.,  31.,  31.,  47.,  67.,  48.,\n",
       "         33.,  28.,  34.,  30.,  29.,  29.,  17.,  33.,  17.,  36., 145.,\n",
       "        165., 182., 190., 243., 236., 171., 134.,  28.]),\n",
       " array([0.03276525, 0.06467487, 0.09658449, 0.12849411, 0.16040373,\n",
       "        0.19231336, 0.22422298, 0.2561326 , 0.28804222, 0.31995184,\n",
       "        0.35186146, 0.38377108, 0.4156807 , 0.44759032, 0.47949994,\n",
       "        0.51140956, 0.54331918, 0.5752288 , 0.60713842, 0.63904804,\n",
       "        0.67095766, 0.70286728, 0.7347769 , 0.76668652, 0.79859614,\n",
       "        0.83050576, 0.86241538, 0.894325  , 0.92623462, 0.95814424,\n",
       "        0.99005386]),\n",
       " <BarContainer object of 30 artists>)"
      ]
     },
     "execution_count": 72,
     "metadata": {},
     "output_type": "execute_result"
    },
    {
     "data": {
      "image/png": "[encoded data removed]",
      "text/plain": [
       "<Figure size 640x480 with 1 Axes>"
      ]
     },
     "metadata": {},
     "output_type": "display_data"
    }
   ],
   "source": [
    "plt.hist(titanic.lrfit2_prob, bins=30)"
   ]
  },
  {
   "cell_type": "code",
   "execution_count": 73,
   "id": "a4d45546-296f-40d6-afaf-fa564bf55a43",
   "metadata": {},
   "outputs": [
    {
     "name": "stdout",
     "output_type": "stream",
     "text": [
      "0.01 \t 1496.0 0.0 711.0 0.0\n",
      "0.11 \t 1493.0 91.0 620.0 3.0\n",
      "0.21000000000000002 \t 1486.0 179.0 532.0 10.0\n",
      "0.31000000000000005 \t 1463.0 266.0 445.0 33.0\n",
      "0.41000000000000003 \t 1404.0 362.0 349.0 92.0\n",
      "0.51 \t 1353.0 406.0 305.0 143.0\n",
      "0.6100000000000001 \t 1305.0 437.0 274.0 191.0\n",
      "0.7100000000000001 \t 1231.0 471.0 240.0 265.0\n",
      "0.81 \t 820.0 594.0 117.0 676.0\n",
      "0.91 \t 224.0 695.0 16.0 1272.0\n"
     ]
    }
   ],
   "source": [
    "# And I'm going to repeat \"We are predicting death\" a few times so\n",
    "# I don't make a mistake constructing all these ... \n",
    "cutoff = np.arange(0.01, .99, .1)\n",
    "FPR = []\n",
    "TPR = []\n",
    "SURVIVE = titanic.Survived \n",
    "PERISH = 1 - SURVIVE\n",
    "for c in cutoff:\n",
    "    PRED_SURV = titanic.lrfit2_prob  < c\n",
    "    PRED_PRSH = (1- PRED_SURV)\n",
    "    TP = sum( PERISH  * PRED_PRSH) \n",
    "    TN = sum(SURVIVE *  PRED_SURV)\n",
    "    FP = sum(SURVIVE *  PRED_PRSH)\n",
    "    FN = sum( PERISH * PRED_SURV)\n",
    "    print( c,\"\\t\", TP, TN, FP, FN)\n",
    "    "
   ]
  },
  {
   "cell_type": "code",
   "execution_count": null,
   "id": "0e957f18-7d81-4e30-907b-6a3fb547520c",
   "metadata": {},
   "outputs": [],
   "source": [
    "# Still with me?"
   ]
  },
  {
   "cell_type": "code",
   "execution_count": 74,
   "id": "75d88b41-ceca-42af-b13e-470773460ffa",
   "metadata": {},
   "outputs": [],
   "source": [
    "cutoff = np.arange(0.01, .99, .01)\n",
    "TNR = []\n",
    "TPR = []\n",
    "FPR = []\n",
    "FNR = []\n",
    "SURVIVE = titanic.Survived \n",
    "PERISH = 1 - SURVIVE\n",
    "for c in cutoff:\n",
    "    PRED_SURV = titanic.lrfit2_prob  < c\n",
    "    PRED_PRSH = (1- PRED_SURV)\n",
    "    TP = sum( PERISH  * PERISH) \n",
    "    TN = sum(SURVIVE *  PRED_SURV)\n",
    "    FP = sum(SURVIVE *  PRED_PRSH)\n",
    "    FN = sum( PERISH * PRED_SURV)\n",
    "    TPR.append( TP / (TP + FN + 0.001) )\n",
    "    TNR.append( TN / (TN + FP + 0.001) ) \n",
    "    FPR.append( FP / (TP + FP + 0.001)  ) \n",
    "    FNR.append( FN / (TN + FN + 0.001) ) \n",
    "\n",
    "TPR = np.array(TPR)\n",
    "TNR = np.array(TNR)\n",
    "FPR = np.array(FPR)\n",
    "FNR = np.array(FNR)\n"
   ]
  },
  {
   "cell_type": "code",
   "execution_count": 75,
   "id": "fbe0390d-449f-44b2-b408-0929593c104d",
   "metadata": {},
   "outputs": [
    {
     "data": {
      "text/plain": [
       "<matplotlib.legend.Legend at 0x7f814d9adbb0>"
      ]
     },
     "execution_count": 75,
     "metadata": {},
     "output_type": "execute_result"
    },
    {
     "data": {
      "image/png": "[encoded data removed]",
      "text/plain": [
       "<Figure size 640x480 with 1 Axes>"
      ]
     },
     "metadata": {},
     "output_type": "display_data"
    }
   ],
   "source": [
    "plt.plot( cutoff, TNR, label=\"TNR\")\n",
    "plt.plot( cutoff, TPR, label=\"TPR\")\n",
    "plt.legend()"
   ]
  },
  {
   "cell_type": "code",
   "execution_count": 76,
   "id": "42722ded-3697-4740-98f9-bb546536ee60",
   "metadata": {},
   "outputs": [
    {
     "data": {
      "text/plain": [
       "[<matplotlib.lines.Line2D at 0x7f814da3ba00>]"
      ]
     },
     "execution_count": 76,
     "metadata": {},
     "output_type": "execute_result"
    },
    {
     "data": {
      "image/png": "[encoded data removed]",
      "text/plain": [
       "<Figure size 640x480 with 1 Axes>"
      ]
     },
     "metadata": {},
     "output_type": "display_data"
    }
   ],
   "source": [
    "plt.plot( TNR, TPR)"
   ]
  },
  {
   "cell_type": "code",
   "execution_count": 77,
   "id": "bf59a902-2ddd-4533-a794-c6ae3885cbe5",
   "metadata": {},
   "outputs": [
    {
     "data": {
      "text/plain": [
       "(0.0, 1.0)"
      ]
     },
     "execution_count": 77,
     "metadata": {},
     "output_type": "execute_result"
    },
    {
     "data": {
      "image/png": "[encoded data removed]",
      "text/plain": [
       "<Figure size 640x480 with 1 Axes>"
      ]
     },
     "metadata": {},
     "output_type": "display_data"
    }
   ],
   "source": [
    "plt.plot( FPR, TPR)\n",
    "plt.xlabel(\"FPR\")\n",
    "plt.ylabel(\"TPR\")\n",
    "plt.xlim([0,1])\n",
    "# This gives us the frontier of error rates that are achievable \n",
    "# (by selecting different values of cutoff).  Our optimium will \n",
    "# minimize Loss ( expected FPR, expected FNR )\n",
    "\n",
    "# Good is up to the left on this graph.\n"
   ]
  },
  {
   "cell_type": "code",
   "execution_count": null,
   "id": "0c98ba23-2259-4e30-866f-39002cc59805",
   "metadata": {},
   "outputs": [],
   "source": [
    "# Note the upper-right corner of this graph is to predict \"Everybody dies\"\n",
    "# and get a True Postitive rate of 100% and a False Positive Rate of 34%.\n"
   ]
  },
  {
   "cell_type": "code",
   "execution_count": 79,
   "id": "d134fc64-f604-4112-bde5-867c3ab1e170",
   "metadata": {},
   "outputs": [
    {
     "data": {
      "text/plain": [
       "<matplotlib.legend.Legend at 0x7f8151b67dc0>"
      ]
     },
     "execution_count": 79,
     "metadata": {},
     "output_type": "execute_result"
    },
    {
     "data": {
      "image/png": "[encoded data removed]",
      "text/plain": [
       "<Figure size 640x480 with 1 Axes>"
      ]
     },
     "metadata": {},
     "output_type": "display_data"
    }
   ],
   "source": [
    "plt.plot( cutoff, FPR* 2/3 , label=\"FPR\")\n",
    "plt.plot( cutoff, FNR * 1/3, label = \"FNR\")\n",
    "plt.xlabel(\"cutoff\")\n",
    "plt.legend()\n",
    "# Another way to show the (one-dimensional) true positive / false positive\n",
    "# tradeoff is in one dimension.\n",
    "# If you had a particular ratio of FPR to FNR in mind you could set it here.\n"
   ]
  },
  {
   "cell_type": "code",
   "execution_count": null,
   "id": "ced09767-5376-4bfb-97a6-a3f53577a43e",
   "metadata": {},
   "outputs": [],
   "source": []
  }
 ],
 "metadata": {
  "kernelspec": {
   "display_name": "Python 3 (ipykernel)",
   "language": "python",
   "name": "python3"
  },
  "language_info": {
   "codemirror_mode": {
    "name": "ipython",
    "version": 3
   },
   "file_extension": ".py",
   "mimetype": "text/x-python",
   "name": "python",
   "nbconvert_exporter": "python",
   "pygments_lexer": "ipython3",
   "version": "3.9.16"
  }
 },
 "nbformat": 4,
 "nbformat_minor": 5
}
