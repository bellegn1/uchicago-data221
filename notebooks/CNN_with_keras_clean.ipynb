{
 "cells": [
  {
   "cell_type": "code",
   "execution_count": null,
   "metadata": {
    "id": "53maM2bIA5m_"
   },
   "outputs": [],
   "source": [
    "\n",
    "# convolutional neural network from\n",
    "\n",
    "# Nitish_Gangwar     06 Oct, 2021 \n",
    "# Applying Convolutional Neural Network on mnist dataset\n",
    "# https://www.geeksforgeeks.org/applying-convolutional-neural-network-on-mnist-dataset/\n",
    "\n",
    "\n",
    "# multilayer perceptron example from:\n",
    "# https://valueml.com/multi-layer-perceptron-by-keras-with-example/\n",
    "# Value ML    Riya Thakore  \n",
    "\n",
    "\n",
    "import numpy as np\n",
    "import keras\n",
    "from keras.datasets import mnist\n",
    "from keras.models import Model\n",
    "from keras.layers import Dense, Input\n",
    "from keras.layers import Conv2D, MaxPooling2D, Dropout, Flatten\n",
    "from keras.utils import np_utils\n",
    "from keras import backend as k\n",
    "\n",
    "# Load MNIST data from keras, try an elaborate convolutional neural network,\n",
    "# fall back on single-layer neural network from a different example when\n",
    "# the loss function doesn't evaluate correctly.\n"
   ]
  },
  {
   "cell_type": "code",
   "execution_count": null,
   "metadata": {
    "id": "t5JEh1C7BVYQ"
   },
   "outputs": [],
   "source": [
    "(x_train, y_train), (x_test, y_test) = mnist.load_data()"
   ]
  },
  {
   "cell_type": "code",
   "execution_count": null,
   "metadata": {
    "id": "L7cwrxZnBs0c"
   },
   "outputs": [],
   "source": [
    "img_rows, img_cols=28, 28\n",
    " \n",
    "if k.image_data_format() == 'channels_first':\n",
    "   print(\"channels first\")\n",
    "   x_train = x_train.reshape(x_train.shape[0], 1, img_rows, img_cols)\n",
    "   x_test = x_test.reshape(x_test.shape[0], 1, img_rows, img_cols)\n",
    "   inpsize = (1, img_rows, img_cols)\n",
    " \n",
    "else:\n",
    "   x_train = x_train.reshape(x_train.shape[0], img_rows, img_cols, 1)\n",
    "   x_test = x_test.reshape(x_test.shape[0], img_rows, img_cols, 1)\n",
    "   inpsize = (img_rows, img_cols, 1)\n",
    " \n",
    "x_train = x_train.astype('float32')\n",
    "x_test  = x_test.astype('float32')\n",
    "x_train = (x_train/255) \n",
    "x_test  = (x_test/255) \n",
    "Xflat = x_train.reshape((-1,28*28))\n",
    "Xflat_test = x_test.reshape((-1,28*28))"
   ]
  },
  {
   "cell_type": "code",
   "execution_count": null,
   "metadata": {
    "colab": {
     "base_uri": "https://localhost:8080/"
    },
    "id": "2FqWonl0I6I8",
    "outputId": "82291bb2-b090-4985-f99f-d254175faf7b"
   },
   "outputs": [],
   "source": [
    "x_train.shape, Xflat.shape"
   ]
  },
  {
   "cell_type": "code",
   "execution_count": null,
   "metadata": {
    "id": "5xiAAY-9ByJY"
   },
   "outputs": [],
   "source": [
    "y_train_hot = keras.utils.np_utils.to_categorical(y_train)\n",
    "y_test_hot = keras.utils.np_utils.to_categorical(y_test)"
   ]
  },
  {
   "cell_type": "code",
   "execution_count": null,
   "metadata": {
    "id": "q8kr5AGUB0gB"
   },
   "outputs": [],
   "source": [
    "inpx = Input(shape=inpsize)\n",
    "layer1 = Conv2D(32, kernel_size=(3, 3), activation='relu')(inpx)\n",
    "layer2 = Conv2D(64, (3, 3), activation='relu')(layer1)\n",
    "layer3 = MaxPooling2D(pool_size=(3, 3))(layer2)\n",
    "layer4 = Dropout(0.5)(layer3)\n",
    "layer5 = Flatten()(layer4)\n",
    "layer6 = Dense(250, activation='sigmoid')(layer5)\n",
    "layer7 = Dense(10, activation='softmax')(layer6)"
   ]
  },
  {
   "cell_type": "code",
   "execution_count": null,
   "metadata": {
    "colab": {
     "base_uri": "https://localhost:8080/"
    },
    "id": "IuPIhYKcPBFN",
    "outputId": "965f34c2-f041-42c0-d227-f082c6bb0332"
   },
   "outputs": [],
   "source": [
    "x_train.shape, y_train_hot.shape\n"
   ]
  },
  {
   "cell_type": "code",
   "execution_count": null,
   "metadata": {
    "colab": {
     "base_uri": "https://localhost:8080/"
    },
    "id": "nhwz6aQzen5D",
    "outputId": "1fc2aaf9-ad83-425b-d440-209c70502e0a"
   },
   "outputs": [],
   "source": [
    "y_train_hot[0:10]"
   ]
  },
  {
   "cell_type": "code",
   "execution_count": null,
   "metadata": {
    "colab": {
     "base_uri": "https://localhost:8080/",
     "height": 379
    },
    "id": "LqmsR9RDCMIH",
    "outputId": "9de096ba-e975-467b-8115-774840277951"
   },
   "outputs": [],
   "source": [
    "model = Model([inpx], layer7)\n",
    "model.compile(optimizer=\"Adadelta\",\n",
    "              loss=\"categorical_crossentropy\",\n",
    "              metrics=['accuracy'])\n",
    " \n",
    "model.fit(x_train, y_train_hot, epochs=1, batch_size=500)"
   ]
  },
  {
   "cell_type": "code",
   "execution_count": null,
   "metadata": {
    "colab": {
     "base_uri": "https://localhost:8080/"
    },
    "id": "qdNeMTjNkYJE",
    "outputId": "3277bf79-5e7c-48f4-cba6-b2d5e66996a0"
   },
   "outputs": [],
   "source": [
    "ypred = model.predict(x_test)\n",
    "ypred"
   ]
  },
  {
   "cell_type": "code",
   "execution_count": null,
   "metadata": {
    "colab": {
     "base_uri": "https://localhost:8080/",
     "height": 284
    },
    "id": "znUhM9N8kkMu",
    "outputId": "9e796389-2348-4c2e-8111-9aec38473a26"
   },
   "outputs": [],
   "source": [
    "import matplotlib.pyplot as plt\n",
    "plt.imshow(ypred[0:30,0:10])"
   ]
  },
  {
   "cell_type": "code",
   "execution_count": null,
   "metadata": {
    "colab": {
     "base_uri": "https://localhost:8080/",
     "height": 361
    },
    "id": "ZLaj0xiECP0V",
    "outputId": "cb3fa7a4-1aa5-4c67-d64b-32bfc6745138"
   },
   "outputs": [],
   "source": [
    "score = model.evaluate(x_test, y_test_hot, verbose=0)\n",
    "print('loss=', score[0])\n",
    "print('accuracy=', score[1])"
   ]
  },
  {
   "cell_type": "code",
   "execution_count": null,
   "metadata": {
    "id": "D2qmnZY2IS1m"
   },
   "outputs": [],
   "source": [
    "inpx = Input(shape=x_train.shape[1:])\n",
    "layer1 = Conv2D(32, kernel_size=(3, 3), activation='relu')(inpx)\n",
    "layer2 = Conv2D(64, (3, 3), activation='relu')(layer1)\n",
    "layer3 = MaxPooling2D(pool_size=(3, 3))(layer2)\n",
    "layer4 = Dropout(0.5)(layer3)\n",
    "layer5 = Flatten()(layer4)\n",
    "layer6 = Dense(250, activation='sigmoid')(layer5)\n",
    "layer7 = Dense(10, activation='softmax')(layer6)"
   ]
  },
  {
   "cell_type": "code",
   "execution_count": null,
   "metadata": {
    "colab": {
     "base_uri": "https://localhost:8080/",
     "height": 379
    },
    "id": "g1W1rX3BGKp4",
    "outputId": "7ac5763e-00fc-46d7-a4b4-eaeddb194370"
   },
   "outputs": [],
   "source": [
    "model = Model([inpx], layer7)\n",
    "model.compile(optimizer=\"Adadelta\",\n",
    "              loss=\"categorical_crossentropy\",\n",
    "              metrics=['accuracy'])\n",
    " \n",
    "model.fit(x_train, y_train_hot, epochs=1, batch_size=500)"
   ]
  },
  {
   "cell_type": "code",
   "execution_count": null,
   "metadata": {
    "colab": {
     "base_uri": "https://localhost:8080/"
    },
    "id": "Mg_8JlnlGVxz",
    "outputId": "802d6f30-155f-4a60-c188-720780971b02"
   },
   "outputs": [],
   "source": [
    "y_train_hot.shape"
   ]
  },
  {
   "cell_type": "code",
   "execution_count": null,
   "metadata": {
    "colab": {
     "base_uri": "https://localhost:8080/"
    },
    "id": "quuS0WNaIIo6",
    "outputId": "1c3dad8f-5145-4342-8bca-19a2ff7c1bc5"
   },
   "outputs": [],
   "source": [
    "Xflat.shape"
   ]
  },
  {
   "cell_type": "code",
   "execution_count": null,
   "metadata": {
    "id": "zvdC4zUuLubT"
   },
   "outputs": [],
   "source": [
    "# https://valueml.com/multi-layer-perceptron-by-keras-with-example/\n",
    "# Value ML    Riya Thakore  \n",
    "from keras.models import Sequential"
   ]
  },
  {
   "cell_type": "code",
   "execution_count": null,
   "metadata": {
    "id": "STX4KuCSLudl"
   },
   "outputs": [],
   "source": [
    "modelsimple = Sequential()\n",
    "modelsimple.add(Dense(512, input_shape=(Xflat.shape[1],), activation='relu'))\n",
    "modelsimple.add(Dense(768, activation='relu'))\n",
    "modelsimple.add(Dense(10, activation='softmax'))"
   ]
  },
  {
   "cell_type": "code",
   "execution_count": null,
   "metadata": {
    "colab": {
     "base_uri": "https://localhost:8080/"
    },
    "id": "hi3zxrKTQfZZ",
    "outputId": "552a52e3-cb6e-4c37-c419-41dd14e4041f"
   },
   "outputs": [],
   "source": [
    "x_train.shape, y_train.shape"
   ]
  },
  {
   "cell_type": "code",
   "execution_count": null,
   "metadata": {
    "colab": {
     "base_uri": "https://localhost:8080/"
    },
    "id": "vzqJG5ZsQfic",
    "outputId": "9a3e88db-0eeb-4118-c785-bf2344ea0034"
   },
   "outputs": [],
   "source": [
    "Xflat.shape, Xflat_test.shape"
   ]
  },
  {
   "cell_type": "code",
   "execution_count": null,
   "metadata": {
    "colab": {
     "base_uri": "https://localhost:8080/"
    },
    "id": "EvnaKajVVn6L",
    "outputId": "e5609dcc-ed9f-4694-da2a-ec63fde7f4b2"
   },
   "outputs": [],
   "source": [
    "Xflat.shape, y_train_hot.shape"
   ]
  },
  {
   "cell_type": "code",
   "execution_count": null,
   "metadata": {
    "colab": {
     "base_uri": "https://localhost:8080/"
    },
    "id": "5hDPff_uLutY",
    "outputId": "01a26a30-8007-4445-9cde-d6758529627f"
   },
   "outputs": [],
   "source": [
    "modelsimple.compile(optimizer='adam',loss=\"categorical_crossentropy\" , metrics=['accuracy'])\n",
    "modelsimple.fit(Xflat, y_train_hot, epochs=1)"
   ]
  },
  {
   "cell_type": "code",
   "execution_count": null,
   "metadata": {
    "id": "kS-lcVSBYa2C"
   },
   "outputs": [],
   "source": []
  },
  {
   "cell_type": "code",
   "execution_count": null,
   "metadata": {
    "colab": {
     "base_uri": "https://localhost:8080/"
    },
    "id": "CFbKcCY_MNjs",
    "outputId": "2118db72-ffc3-42ca-8251-092960a8fe8d"
   },
   "outputs": [],
   "source": [
    "predictsimple = modelsimple.predict(Xflat_test)\n",
    "predictsimple.shape"
   ]
  },
  {
   "cell_type": "code",
   "execution_count": null,
   "metadata": {
    "colab": {
     "base_uri": "https://localhost:8080/"
    },
    "id": "el9LsgA1TfIq",
    "outputId": "194b2fa7-e58e-4e38-c186-63a0db89e1fe"
   },
   "outputs": [],
   "source": [
    "predictsimple[0,:]"
   ]
  },
  {
   "cell_type": "code",
   "execution_count": null,
   "metadata": {
    "colab": {
     "base_uri": "https://localhost:8080/"
    },
    "id": "NSejKrK8VtwO",
    "outputId": "6e6a045a-c95c-4bbc-9eef-a56d19559cae"
   },
   "outputs": [],
   "source": [
    "Xflat_test.shape, y_test_hot.shape, predictsimple.shape"
   ]
  },
  {
   "cell_type": "code",
   "execution_count": null,
   "metadata": {
    "colab": {
     "base_uri": "https://localhost:8080/"
    },
    "id": "ay5bM9BSN4Mw",
    "outputId": "820b3e49-cdcb-45b9-d5f7-db7fa403e737"
   },
   "outputs": [],
   "source": [
    "scoresimple = modelsimple.evaluate(Xflat_test, y_test_hot, verbose=1)\n",
    "scoresimple"
   ]
  },
  {
   "cell_type": "code",
   "execution_count": null,
   "metadata": {
    "colab": {
     "base_uri": "https://localhost:8080/",
     "height": 361
    },
    "id": "SjWfYX0lUpRM",
    "outputId": "31487833-3a14-4716-ffaf-84f74f717b29"
   },
   "outputs": [],
   "source": [
    "from sklearn.metrics import confusion_matrix\n",
    "\n",
    "confusion_matrix(predictsimple, y_test_hot)"
   ]
  },
  {
   "cell_type": "code",
   "execution_count": null,
   "metadata": {
    "colab": {
     "base_uri": "https://localhost:8080/"
    },
    "id": "cDbWpGKEm_fy",
    "outputId": "76ddc46c-0505-475e-d1b8-0d23c028819d"
   },
   "outputs": [],
   "source": [
    "predictsimple"
   ]
  },
  {
   "cell_type": "code",
   "execution_count": null,
   "metadata": {
    "colab": {
     "base_uri": "https://localhost:8080/"
    },
    "id": "1MPYI0m8nScm",
    "outputId": "d7baede3-ddc5-45c4-afbc-3ba35f5db258"
   },
   "outputs": [],
   "source": [
    "call = np.equal(predictsimple ,np.dot(np.ones((10,1)) , predictsimple.max(axis=1)[np.newaxis,:] ).T )\n",
    "call"
   ]
  },
  {
   "cell_type": "code",
   "execution_count": null,
   "metadata": {
    "colab": {
     "base_uri": "https://localhost:8080/",
     "height": 300
    },
    "id": "PbmGjSWwn71B",
    "outputId": "477256f4-a6de-4b84-b302-806aae6f0f46"
   },
   "outputs": [],
   "source": [
    "confusion_matrix(call, y_test_hot)"
   ]
  },
  {
   "cell_type": "code",
   "execution_count": null,
   "metadata": {
    "colab": {
     "base_uri": "https://localhost:8080/"
    },
    "id": "h_hew8v7oGm_",
    "outputId": "9a55d205-1ed6-446f-d87b-ccae81463b4d"
   },
   "outputs": [],
   "source": [
    "# Stackoverflow....\n",
    "# https://stackoverflow.com/questions/46953967/multilabel-indicator-is-not-supported-for-confusion-matrix\n",
    "confusion_matrix(call.argmax(axis=1), y_test_hot.argmax(axis=1))"
   ]
  },
  {
   "cell_type": "code",
   "execution_count": null,
   "metadata": {
    "colab": {
     "base_uri": "https://localhost:8080/"
    },
    "id": "Nm_xCkMbnDzM",
    "outputId": "274fe017-c41b-481c-b919-9fb5befa49a3"
   },
   "outputs": [],
   "source": [
    "y_test_hot"
   ]
  },
  {
   "cell_type": "code",
   "execution_count": null,
   "metadata": {
    "colab": {
     "base_uri": "https://localhost:8080/"
    },
    "id": "wnw6VdGNSU7N",
    "outputId": "12966bed-9bae-48f8-e213-85f39ec2852b"
   },
   "outputs": [],
   "source": [
    "scoresimple"
   ]
  },
  {
   "cell_type": "code",
   "execution_count": null,
   "metadata": {
    "colab": {
     "base_uri": "https://localhost:8080/",
     "height": 283
    },
    "id": "JKbo0bDOSZMr",
    "outputId": "2655aeb4-16bc-4051-8249-cf98db90eaa2"
   },
   "outputs": [],
   "source": [
    "import matplotlib.pyplot as plt\n",
    "plt.imshow(x_train[0,:,:,0])"
   ]
  },
  {
   "cell_type": "code",
   "execution_count": null,
   "metadata": {
    "id": "sQEa4U3VSc1l"
   },
   "outputs": [],
   "source": []
  }
 ],
 "metadata": {
  "colab": {
   "name": "CNN-with-keras.ipynb",
   "provenance": []
  },
  "kernelspec": {
   "display_name": "Python 3",
   "language": "python",
   "name": "python3"
  },
  "language_info": {
   "codemirror_mode": {
    "name": "ipython",
    "version": 3
   },
   "file_extension": ".py",
   "mimetype": "text/x-python",
   "name": "python",
   "nbconvert_exporter": "python",
   "pygments_lexer": "ipython3",
   "version": "3.8.5"
  }
 },
 "nbformat": 4,
 "nbformat_minor": 4
}
