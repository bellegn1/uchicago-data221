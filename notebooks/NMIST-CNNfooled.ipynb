{
 "cells": [
  {
   "cell_type": "code",
   "execution_count": 46,
   "metadata": {},
   "outputs": [],
   "source": [
    "# This notebook plays with the MNIST digits dataset, for which I use the\n",
    "# parser https://pypi.org/project/python-mnist/\n",
    "# and the official data source http://www.itl.nist.gov/iaui/vip/cs_links/EMNIST/gzip.zip\n",
    "import pandas as pd\n",
    "import numpy as np\n",
    "import matplotlib.pyplot as plt\n",
    "\n",
    "\n",
    "#from mnist import MNIST\n",
    "#mndata = MNIST('/Users/wltrimbl/git/python-mnist/data')\n",
    "#images, labels = mndata.load_training()\n",
    "#testX, testY = mndata.load_testing()\n",
    "\n",
    "from keras.datasets import mnist\n",
    "(images, labels), (testX, testY) = mnist.load_data()\n",
    "\n",
    "images = np.array(images).astype(\"float\") / 255\n",
    "labels = np.array(labels)\n",
    "X = images\n",
    "Y = labels\n",
    "testX = np.array(testX).astype(\"float\") / 255\n",
    "testY= np.array(testY)"
   ]
  },
  {
   "cell_type": "code",
   "execution_count": 47,
   "metadata": {},
   "outputs": [
    {
     "data": {
      "text/plain": [
       "((10000, 28, 28), (10000,))"
      ]
     },
     "execution_count": 47,
     "metadata": {},
     "output_type": "execute_result"
    }
   ],
   "source": [
    "testX.shape, testY.shape"
   ]
  },
  {
   "cell_type": "code",
   "execution_count": null,
   "metadata": {},
   "outputs": [],
   "source": [
    "# 0.890   perceptron, 0 hidden layers.\n",
    "# 0.8966  linear 1-layer classifier\n",
    "# 0.952   for default MLPClassifier, hidden = (100,) \n",
    "# 0.9659   MLP  hidden= (400,) logistic \n",
    "# 0.973   2-layer MLP  hidden = (400,200) default relu activation\n",
    "\n"
   ]
  },
  {
   "cell_type": "code",
   "execution_count": 48,
   "metadata": {},
   "outputs": [],
   "source": [
    "# Nitish_Gangwar     06 Oct, 2021 \n",
    "# Applying Convolutional Neural Network on mnist dataset\n",
    "# https://www.geeksforgeeks.org/applying-convolutional-neural-network-on-mnist-dataset/\n",
    "    \n",
    "import numpy as np\n",
    "import keras\n",
    "#from keras.datasets import mnist\n",
    "from keras.models import Model\n",
    "from keras.layers import Dense, Input\n",
    "from keras.layers import Conv2D, MaxPooling2D, Dropout, Flatten\n",
    "from keras import backend as k"
   ]
  },
  {
   "cell_type": "code",
   "execution_count": 49,
   "metadata": {},
   "outputs": [],
   "source": [
    "# This is a method to perform one-hot encoding...\n",
    "y_train = keras.utils.to_categorical(Y)\n",
    "y_test = keras.utils.to_categorical(testY)"
   ]
  },
  {
   "cell_type": "code",
   "execution_count": 50,
   "metadata": {},
   "outputs": [],
   "source": [
    "inpx = X.reshape((60000,28,28,-1))"
   ]
  },
  {
   "cell_type": "code",
   "execution_count": null,
   "metadata": {},
   "outputs": [],
   "source": [
    "# The keras documentation https://keras.io/api/models/model/ \n",
    "# waxes poetic about the \"functional\" API -- a way to \n",
    "# define a model by chaining layer functions together.\n",
    "\n",
    "# WT couldn't get this chain of functions to model.compile()\n",
    "\n",
    "# Fortunately, MNIST is the example case in the keras docs.\n",
    "\n",
    "# inpx = Input(shape=(28,28,1))\n",
    "# layer1 = Conv2D(32, kernel_size=(3, 3), activation='relu')(inpx)\n",
    "# layer2 = Conv2D(64, (3, 3), activation='relu')(layer1)\n",
    "# layer3 = MaxPooling2D(pool_size=(3, 3))(layer2)\n",
    "# layer4 = Dropout(0.5)(layer3)\n",
    "# layer5 = Flatten()(layer4)\n",
    "# layer6 = Dense(250, activation='sigmoid')(layer5)\n",
    "# layer7 = Dense(10, activation='softmax')(layer6)"
   ]
  },
  {
   "cell_type": "code",
   "execution_count": null,
   "metadata": {},
   "outputs": [],
   "source": []
  },
  {
   "cell_type": "code",
   "execution_count": null,
   "metadata": {},
   "outputs": [],
   "source": [
    "from keras.models import Sequential\n",
    "from keras.layers import Dense\n",
    "model = Sequential()\n",
    "model.add(Conv2D(32, kernel_size=(3, 3), activation='relu'))\n",
    "model.add(Conv2D(64, (3, 3), activation='relu'))\n",
    "model.add(MaxPooling2D(pool_size=(3, 3)))\n",
    "model.add(Dropout(0.5))\n",
    "model.add(Flatten() )\n",
    "model.add(Dense(250, activation='sigmoid') ) \n",
    "model.add(Dense(10, activation='softmax') ) "
   ]
  },
  {
   "cell_type": "code",
   "execution_count": null,
   "metadata": {},
   "outputs": [],
   "source": [
    "model.compile(optimizer=keras.optimizers.Adadelta(),\n",
    "              loss=keras.losses.categorical_crossentropy,\n",
    "              metrics=['accuracy'])\n",
    " \n",
    "model.fit(inpx, y_train, epochs=12, batch_size=500)"
   ]
  },
  {
   "cell_type": "code",
   "execution_count": 52,
   "metadata": {},
   "outputs": [
    {
     "data": {
      "text/plain": [
       "(60000, 28, 28, 1)"
      ]
     },
     "execution_count": 52,
     "metadata": {},
     "output_type": "execute_result"
    }
   ],
   "source": [
    "inpx.shape"
   ]
  },
  {
   "cell_type": "code",
   "execution_count": 59,
   "metadata": {},
   "outputs": [
    {
     "name": "stdout",
     "output_type": "stream",
     "text": [
      "Epoch 1/12\n",
      "600/600 [==============================] - 3s 4ms/step - loss: 0.6208 - accuracy: 0.8487\n",
      "Epoch 2/12\n",
      "600/600 [==============================] - 2s 3ms/step - loss: 0.3453 - accuracy: 0.9063\n",
      "Epoch 3/12\n",
      "600/600 [==============================] - 2s 3ms/step - loss: 0.3090 - accuracy: 0.9139\n",
      "Epoch 4/12\n",
      "600/600 [==============================] - 2s 3ms/step - loss: 0.2921 - accuracy: 0.9188\n",
      "Epoch 5/12\n",
      "600/600 [==============================] - 2s 3ms/step - loss: 0.2819 - accuracy: 0.9212\n",
      "Epoch 6/12\n",
      "600/600 [==============================] - 2s 3ms/step - loss: 0.2744 - accuracy: 0.9237\n",
      "Epoch 7/12\n",
      "600/600 [==============================] - 2s 3ms/step - loss: 0.2692 - accuracy: 0.9249\n",
      "Epoch 8/12\n",
      "600/600 [==============================] - 2s 3ms/step - loss: 0.2654 - accuracy: 0.9260\n",
      "Epoch 9/12\n",
      "600/600 [==============================] - 3s 6ms/step - loss: 0.2618 - accuracy: 0.9273\n",
      "Epoch 10/12\n",
      "600/600 [==============================] - 2s 4ms/step - loss: 0.2589 - accuracy: 0.9279\n",
      "Epoch 11/12\n",
      "600/600 [==============================] - 3s 4ms/step - loss: 0.2566 - accuracy: 0.9282\n",
      "Epoch 12/12\n",
      "600/600 [==============================] - 3s 5ms/step - loss: 0.2544 - accuracy: 0.9294\n"
     ]
    },
    {
     "data": {
      "text/plain": [
       "<keras.callbacks.History at 0x7fe092f9bc70>"
      ]
     },
     "execution_count": 59,
     "metadata": {},
     "output_type": "execute_result"
    }
   ],
   "source": [
    "# Can we hack this to make a simpler model?\n",
    "model = Sequential()\n",
    "model.add(Flatten() )\n",
    "# model.add(Dense(40, activation='sigmoid') ) \n",
    "model.add(Dense(10, activation='softmax') ) \n",
    "model.compile(optimizer=keras.optimizers.Adam(),\n",
    "              loss=keras.losses.categorical_crossentropy,\n",
    "              metrics=['accuracy'])\n",
    " \n",
    "model.fit(inpx[0:60000,:,:,:], y_train[0:60000,:], epochs=12, batch_size=100)"
   ]
  },
  {
   "cell_type": "code",
   "execution_count": 60,
   "metadata": {},
   "outputs": [
    {
     "name": "stdout",
     "output_type": "stream",
     "text": [
      "Epoch 1/12\n",
      "600/600 [==============================] - 4s 4ms/step - loss: 0.7767 - accuracy: 0.8369\n",
      "Epoch 2/12\n",
      "600/600 [==============================] - 3s 5ms/step - loss: 0.3284 - accuracy: 0.9143\n",
      "Epoch 3/12\n",
      "600/600 [==============================] - 2s 4ms/step - loss: 0.2595 - accuracy: 0.9289\n",
      "Epoch 4/12\n",
      "600/600 [==============================] - 2s 4ms/step - loss: 0.2235 - accuracy: 0.9370\n",
      "Epoch 5/12\n",
      "600/600 [==============================] - 2s 4ms/step - loss: 0.1986 - accuracy: 0.9438\n",
      "Epoch 6/12\n",
      "600/600 [==============================] - 2s 4ms/step - loss: 0.1797 - accuracy: 0.9491\n",
      "Epoch 7/12\n",
      "600/600 [==============================] - 3s 6ms/step - loss: 0.1646 - accuracy: 0.9535\n",
      "Epoch 8/12\n",
      "600/600 [==============================] - 3s 5ms/step - loss: 0.1519 - accuracy: 0.9576\n",
      "Epoch 9/12\n",
      "600/600 [==============================] - 3s 5ms/step - loss: 0.1411 - accuracy: 0.9603\n",
      "Epoch 10/12\n",
      "600/600 [==============================] - 3s 6ms/step - loss: 0.1317 - accuracy: 0.9632\n",
      "Epoch 11/12\n",
      "600/600 [==============================] - 3s 4ms/step - loss: 0.1239 - accuracy: 0.9655\n",
      "Epoch 12/12\n",
      "600/600 [==============================] - 3s 5ms/step - loss: 0.1167 - accuracy: 0.9672\n"
     ]
    },
    {
     "data": {
      "text/plain": [
       "<keras.callbacks.History at 0x7fe092fd3df0>"
      ]
     },
     "execution_count": 60,
     "metadata": {},
     "output_type": "execute_result"
    }
   ],
   "source": [
    "# Can we hack this to make a simpler model?\n",
    "model = Sequential()\n",
    "model.add(Flatten() )\n",
    "model.add(Dense(40, activation='sigmoid') ) \n",
    "model.add(Dense(10, activation='softmax') ) \n",
    "model.compile(optimizer=keras.optimizers.Adam(),\n",
    "              loss=keras.losses.categorical_crossentropy,\n",
    "              metrics=['accuracy'])\n",
    " \n",
    "model.fit(inpx[0:60000,:,:,:], y_train[0:60000,:], epochs=12, batch_size=100)"
   ]
  },
  {
   "cell_type": "code",
   "execution_count": 61,
   "metadata": {},
   "outputs": [],
   "source": [
    "model = Sequential()\n",
    "model.add(Conv2D(32, kernel_size=(3, 3), activation='relu'))\n",
    "model.add(Conv2D(64, (3, 3), activation='relu'))\n",
    "model.add(MaxPooling2D(pool_size=(3, 3)))\n",
    "model.add(Dropout(0.5))\n",
    "model.add(Flatten() )\n",
    "model.add(Dense(250, activation='sigmoid') ) \n",
    "model.add(Dense(10, activation='softmax') ) "
   ]
  },
  {
   "cell_type": "code",
   "execution_count": 62,
   "metadata": {},
   "outputs": [
    {
     "name": "stdout",
     "output_type": "stream",
     "text": [
      "Epoch 1/12\n",
      "600/600 [==============================] - 147s 245ms/step - loss: 0.2231 - accuracy: 0.9333\n",
      "Epoch 2/12\n",
      "600/600 [==============================] - 136s 227ms/step - loss: 0.0656 - accuracy: 0.9799\n",
      "Epoch 3/12\n",
      "600/600 [==============================] - 199s 331ms/step - loss: 0.0462 - accuracy: 0.9862\n",
      "Epoch 4/12\n",
      "600/600 [==============================] - 222s 371ms/step - loss: 0.0369 - accuracy: 0.9885\n",
      "Epoch 5/12\n",
      "600/600 [==============================] - 169s 282ms/step - loss: 0.0315 - accuracy: 0.9901\n",
      "Epoch 6/12\n",
      "600/600 [==============================] - 93s 155ms/step - loss: 0.0262 - accuracy: 0.9918\n",
      "Epoch 7/12\n",
      "600/600 [==============================] - 93s 155ms/step - loss: 0.0239 - accuracy: 0.9927\n",
      "Epoch 8/12\n",
      "600/600 [==============================] - 101s 168ms/step - loss: 0.0191 - accuracy: 0.9940\n",
      "Epoch 9/12\n",
      "600/600 [==============================] - 102s 171ms/step - loss: 0.0165 - accuracy: 0.9953\n",
      "Epoch 10/12\n",
      "600/600 [==============================] - 107s 178ms/step - loss: 0.0154 - accuracy: 0.9955\n",
      "Epoch 11/12\n",
      "600/600 [==============================] - 106s 177ms/step - loss: 0.0154 - accuracy: 0.9951\n",
      "Epoch 12/12\n",
      "600/600 [==============================] - 123s 206ms/step - loss: 0.0130 - accuracy: 0.9961\n"
     ]
    },
    {
     "data": {
      "text/plain": [
       "<keras.callbacks.History at 0x7fe0a1935180>"
      ]
     },
     "execution_count": 62,
     "metadata": {},
     "output_type": "execute_result"
    }
   ],
   "source": [
    "model.compile(optimizer=keras.optimizers.Adam(),\n",
    "              loss=keras.losses.categorical_crossentropy,\n",
    "              metrics=['accuracy'])\n",
    " \n",
    "model.fit(inpx[0:60000,:,:,:], y_train[0:60000,:], epochs=12, batch_size=100)"
   ]
  },
  {
   "cell_type": "code",
   "execution_count": 64,
   "metadata": {},
   "outputs": [
    {
     "name": "stdout",
     "output_type": "stream",
     "text": [
      "313/313 [==============================] - 5s 17ms/step - loss: 0.0087 - accuracy: 0.3169\n",
      "Test score: 0.008711183443665504\n",
      "Test accuracy: 0.31693291664123535\n"
     ]
    }
   ],
   "source": [
    "score, acc = model.evaluate(testX, y_test,\n",
    "                            )\n",
    "print('Test score:', score)\n",
    "print('Test accuracy:', acc)"
   ]
  },
  {
   "cell_type": "code",
   "execution_count": 71,
   "metadata": {},
   "outputs": [
    {
     "name": "stdout",
     "output_type": "stream",
     "text": [
      "Epoch 1/4\n",
      "600/600 [==============================] - 1062s 2s/step - loss: 0.0087 - accuracy: 0.9973\n",
      "Epoch 2/4\n",
      "600/600 [==============================] - 530s 884ms/step - loss: 0.0082 - accuracy: 0.9973\n",
      "Epoch 3/4\n",
      "600/600 [==============================] - 1220s 2s/step - loss: 0.0075 - accuracy: 0.9975\n",
      "Epoch 4/4\n",
      "600/600 [==============================] - 102s 170ms/step - loss: 0.0072 - accuracy: 0.9978\n"
     ]
    },
    {
     "data": {
      "text/plain": [
       "<keras.callbacks.History at 0x7fe06471c820>"
      ]
     },
     "execution_count": 71,
     "metadata": {},
     "output_type": "execute_result"
    }
   ],
   "source": [
    "model.compile(optimizer=keras.optimizers.Adam(),\n",
    "              loss=keras.losses.categorical_crossentropy,\n",
    "              metrics=['accuracy'])\n",
    " \n",
    "model.fit(inpx[0:60000,:,:,:], y_train[0:60000,:], epochs=4, batch_size=100)"
   ]
  },
  {
   "cell_type": "code",
   "execution_count": 72,
   "metadata": {},
   "outputs": [
    {
     "name": "stdout",
     "output_type": "stream",
     "text": [
      "313/313 [==============================] - 6s 17ms/step - loss: 0.0093 - accuracy: 0.3167\n",
      "Test score: 0.00934638548642397\n",
      "Test accuracy: 0.3167412281036377\n"
     ]
    }
   ],
   "source": [
    "score, acc = model.evaluate(testX, y_test,\n",
    "                            )\n",
    "print('Test score:', score)\n",
    "print('Test accuracy:', acc)"
   ]
  },
  {
   "cell_type": "code",
   "execution_count": 74,
   "metadata": {},
   "outputs": [
    {
     "name": "stdout",
     "output_type": "stream",
     "text": [
      "313/313 [==============================] - 6s 17ms/step\n"
     ]
    }
   ],
   "source": [
    "from sklearn.metrics import confusion_matrix\n",
    "matrix = confusion_matrix(y_test.argmax(axis=1), model.predict(testX).argmax(axis=1))\n",
    "matrix"
   ]
  },
  {
   "cell_type": "code",
   "execution_count": 77,
   "metadata": {},
   "outputs": [
    {
     "data": {
      "text/plain": [
       "(array([[ 979,    0,    0,    0,    0,    0,    0,    1,    0,    0],\n",
       "        [   0, 1133,    0,    1,    0,    0,    1,    0,    0,    0],\n",
       "        [   3,    2, 1019,    0,    1,    0,    1,    6,    0,    0],\n",
       "        [   1,    0,    1, 1001,    0,    3,    0,    1,    3,    0],\n",
       "        [   0,    0,    0,    0,  979,    0,    1,    0,    1,    1],\n",
       "        [   2,    0,    0,    5,    0,  883,    1,    0,    1,    0],\n",
       "        [   3,    3,    0,    0,    1,    2,  948,    0,    1,    0],\n",
       "        [   1,    1,    3,    0,    1,    0,    0, 1018,    1,    3],\n",
       "        [   5,    0,    1,    1,    0,    0,    1,    1,  963,    2],\n",
       "        [   1,    1,    0,    1,    8,    2,    0,    2,    3,  991]]),\n",
       " 0.9914)"
      ]
     },
     "execution_count": 77,
     "metadata": {},
     "output_type": "execute_result"
    }
   ],
   "source": [
    "matrix, matrix.trace() / matrix.sum()"
   ]
  },
  {
   "cell_type": "code",
   "execution_count": 76,
   "metadata": {},
   "outputs": [
    {
     "data": {
      "text/plain": [
       "((10000, 28, 28), (10000, 10))"
      ]
     },
     "execution_count": 76,
     "metadata": {},
     "output_type": "execute_result"
    }
   ],
   "source": [
    "testX.shape, y_test.shape"
   ]
  },
  {
   "cell_type": "code",
   "execution_count": null,
   "metadata": {},
   "outputs": [],
   "source": []
  }
 ],
 "metadata": {
  "kernelspec": {
   "display_name": "Python (tf)",
   "language": "python",
   "name": "tf"
  },
  "language_info": {
   "codemirror_mode": {
    "name": "ipython",
    "version": 3
   },
   "file_extension": ".py",
   "mimetype": "text/x-python",
   "name": "python",
   "nbconvert_exporter": "python",
   "pygments_lexer": "ipython3",
   "version": "3.10.9"
  }
 },
 "nbformat": 4,
 "nbformat_minor": 4
}
